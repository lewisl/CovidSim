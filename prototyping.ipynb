{
 "cells": [
  {
   "cell_type": "code",
   "execution_count": 1,
   "metadata": {},
   "outputs": [
    {
     "name": "stderr",
     "output_type": "stream",
     "text": [
      "┌ Info: Precompiling DataFrames [a93c6f00-e57d-5684-b7b6-d8193f3e46c0]\n",
      "└ @ Base loading.jl:1273\n",
      "┌ Info: Precompiling PyPlot [d330b81b-6aea-500a-939a-2ce795aea3ee]\n",
      "└ @ Base loading.jl:1273\n"
     ]
    }
   ],
   "source": [
    "using DataFrames\n",
    "using Distributions\n",
    "using PyPlot"
   ]
  },
  {
   "cell_type": "code",
   "execution_count": 2,
   "metadata": {},
   "outputs": [
    {
     "data": {
      "text/html": [
       "<table class=\"data-frame\"><thead><tr><th></th><th>id</th><th>localetype</th><th>totalpop</th><th>demos_1_unexposed</th><th>demos_1_exposed</th><th>demos_2_unexposed</th></tr><tr><th></th><th>Int64</th><th>Int64</th><th>Int64</th><th>Int64</th><th>Int64</th><th>Int64</th></tr></thead><tbody><p>1 rows × 13 columns (omitted printing of 7 columns)</p><tr><th>1</th><td>1</td><td>3</td><td>50000</td><td>12500</td><td>0</td><td>13000</td></tr></tbody></table>"
      ],
      "text/latex": [
       "\\begin{tabular}{r|ccccccc}\n",
       "\t& id & localetype & totalpop & demos\\_1\\_unexposed & demos\\_1\\_exposed & demos\\_2\\_unexposed & \\\\\n",
       "\t\\hline\n",
       "\t& Int64 & Int64 & Int64 & Int64 & Int64 & Int64 & \\\\\n",
       "\t\\hline\n",
       "\t1 & 1 & 3 & 50000 & 12500 & 0 & 13000 & $\\dots$ \\\\\n",
       "\\end{tabular}\n"
      ],
      "text/plain": [
       "1×13 DataFrame. Omitted printing of 8 columns\n",
       "│ Row │ id    │ localetype │ totalpop │ demos_1_unexposed │ demos_1_exposed │\n",
       "│     │ \u001b[90mInt64\u001b[39m │ \u001b[90mInt64\u001b[39m      │ \u001b[90mInt64\u001b[39m    │ \u001b[90mInt64\u001b[39m             │ \u001b[90mInt64\u001b[39m           │\n",
       "├─────┼───────┼────────────┼──────────┼───────────────────┼─────────────────┤\n",
       "│ 1   │ 1     │ 3          │ 50000    │ 12500             │ 0               │"
      ]
     },
     "execution_count": 2,
     "metadata": {},
     "output_type": "execute_result"
    }
   ],
   "source": [
    "df = DataFrame(\n",
    "id = [1],\n",
    "localetype=[3],\n",
    "totalpop=[50000],\n",
    "demos_1_unexposed = [12500]   ,\n",
    "demos_1_exposed  = [0]  ,\n",
    "demos_2_unexposed = [13000],\n",
    "demos_2_exposed = [0],\n",
    "demos_3_unexposed = [13000],\n",
    "demos_3_exposed   =[0] ,\n",
    "demos_4_unexposed    =  [7500],\n",
    "demos_4_exposed    = [0],\n",
    "demos_5_unexposed   = [4000], \n",
    "demos_5_exposed    = [0]\n",
    ")"
   ]
  },
  {
   "cell_type": "code",
   "execution_count": 3,
   "metadata": {},
   "outputs": [
    {
     "data": {
      "text/plain": [
       "50000"
      ]
     },
     "execution_count": 3,
     "metadata": {},
     "output_type": "execute_result"
    }
   ],
   "source": [
    "sum(df[1,4:13])"
   ]
  },
  {
   "cell_type": "code",
   "execution_count": 4,
   "metadata": {},
   "outputs": [
    {
     "data": {
      "text/html": [
       "<table class=\"data-frame\"><thead><tr><th></th><th>id</th><th>localetype</th><th>totalpop</th><th>demos_1_unexposed</th><th>demos_1_exposed</th><th>demos_2_unexposed</th></tr><tr><th></th><th>Int64</th><th>Int64</th><th>Int64</th><th>Int64</th><th>Int64</th><th>Int64</th></tr></thead><tbody><p>1 rows × 13 columns (omitted printing of 7 columns)</p><tr><th>1</th><td>1</td><td>3</td><td>50000</td><td>12500</td><td>0</td><td>13000</td></tr></tbody></table>"
      ],
      "text/latex": [
       "\\begin{tabular}{r|ccccccc}\n",
       "\t& id & localetype & totalpop & demos\\_1\\_unexposed & demos\\_1\\_exposed & demos\\_2\\_unexposed & \\\\\n",
       "\t\\hline\n",
       "\t& Int64 & Int64 & Int64 & Int64 & Int64 & Int64 & \\\\\n",
       "\t\\hline\n",
       "\t1 & 1 & 3 & 50000 & 12500 & 0 & 13000 & $\\dots$ \\\\\n",
       "\\end{tabular}\n"
      ],
      "text/plain": [
       "1×13 DataFrame. Omitted printing of 8 columns\n",
       "│ Row │ id    │ localetype │ totalpop │ demos_1_unexposed │ demos_1_exposed │\n",
       "│     │ \u001b[90mInt64\u001b[39m │ \u001b[90mInt64\u001b[39m      │ \u001b[90mInt64\u001b[39m    │ \u001b[90mInt64\u001b[39m             │ \u001b[90mInt64\u001b[39m           │\n",
       "├─────┼───────┼────────────┼──────────┼───────────────────┼─────────────────┤\n",
       "│ 1   │ 1     │ 3          │ 50000    │ 12500             │ 0               │"
      ]
     },
     "execution_count": 4,
     "metadata": {},
     "output_type": "execute_result"
    }
   ],
   "source": [
    "df"
   ]
  },
  {
   "cell_type": "code",
   "execution_count": 5,
   "metadata": {},
   "outputs": [
    {
     "data": {
      "text/plain": [
       "1×13 Array{Int64,2}:\n",
       " 1  3  50000  12500  0  13000  0  13000  0  7500  0  4000  0"
      ]
     },
     "execution_count": 5,
     "metadata": {},
     "output_type": "execute_result"
    }
   ],
   "source": [
    "foo = Matrix(df)"
   ]
  },
  {
   "cell_type": "code",
   "execution_count": 6,
   "metadata": {},
   "outputs": [
    {
     "data": {
      "text/plain": [
       "13×1 LinearAlgebra.Adjoint{Int64,Array{Int64,2}}:\n",
       "     1\n",
       "     3\n",
       " 50000\n",
       " 12500\n",
       "     0\n",
       " 13000\n",
       "     0\n",
       " 13000\n",
       "     0\n",
       "  7500\n",
       "     0\n",
       "  4000\n",
       "     0"
      ]
     },
     "execution_count": 6,
     "metadata": {},
     "output_type": "execute_result"
    }
   ],
   "source": [
    "foo'"
   ]
  },
  {
   "cell_type": "markdown",
   "metadata": {},
   "source": [
    "### Figuring out what distribution and paramaters to use; how to apply to events"
   ]
  },
  {
   "cell_type": "code",
   "execution_count": 26,
   "metadata": {},
   "outputs": [
    {
     "data": {
      "image/png": "[encoded data removed]",
      "text/plain": [
       "Figure(PyObject <Figure size 640x480 with 1 Axes>)"
      ]
     },
     "metadata": {},
     "output_type": "display_data"
    },
    {
     "name": "stdout",
     "output_type": "stream",
     "text": [
      "100.59\n",
      "[3.0, 4.0, 5.0, 13.0, 6.0, 9.0, 8.0, 13.0, 10.0, 9.0, 4.0, 3.0, 4.0, 2.0, 2.0, 3.0, 1.0, 0.0, 0.0, 0.0, 0.0, 1.0]\n",
      "[85.0, 87.13636363636364, 89.27272727272727, 91.4090909090909, 93.54545454545455, 95.68181818181819, 97.81818181818181, 99.95454545454545, 102.0909090909091, 104.22727272727272, 106.36363636363636, 108.5, 110.63636363636363, 112.77272727272727, 114.9090909090909, 117.04545454545455, 119.18181818181819, 121.31818181818181, 123.45454545454545, 125.5909090909091, 127.72727272727272, 129.86363636363637, 132.0]\n"
     ]
    }
   ],
   "source": [
    "dbin = Binomial(1000,0.1)\n",
    "x = rand(dbin,100);\n",
    "println(mean(x))\n",
    "hh = hist(x,22);\n",
    "println(hh[1])\n",
    "println(hh[2])"
   ]
  },
  {
   "cell_type": "code",
   "execution_count": 90,
   "metadata": {},
   "outputs": [
    {
     "data": {
      "image/png": "[encoded data removed]",
      "text/plain": [
       "Figure(PyObject <Figure size 640x480 with 1 Axes>)"
      ]
     },
     "metadata": {},
     "output_type": "display_data"
    },
    {
     "name": "stdout",
     "output_type": "stream",
     "text": [
      "33.0\n"
     ]
    },
    {
     "data": {
      "text/plain": [
       "([1.0, 7.0, 3.0, 0.0, 2.0, 11.0, 11.0, 0.0, 10.0, 12.0  …  8.0, 8.0, 0.0, 3.0, 3.0, 2.0, 0.0, 4.0, 1.0, 1.0], [26.0, 26.727272727272727, 27.454545454545453, 28.18181818181818, 28.90909090909091, 29.636363636363637, 30.363636363636363, 31.09090909090909, 31.81818181818182, 32.54545454545455  …  35.45454545454545, 36.18181818181818, 36.90909090909091, 37.63636363636364, 38.36363636363636, 39.09090909090909, 39.81818181818182, 40.54545454545455, 41.27272727272727, 42.0], PyCall.PyObject[PyObject <matplotlib.patches.Rectangle object at 0x13a316df0>, PyObject <matplotlib.patches.Rectangle object at 0x13a316c10>, PyObject <matplotlib.patches.Rectangle object at 0x13a2e9310>, PyObject <matplotlib.patches.Rectangle object at 0x13a2e95e0>, PyObject <matplotlib.patches.Rectangle object at 0x13a2e98b0>, PyObject <matplotlib.patches.Rectangle object at 0x13a2e9b80>, PyObject <matplotlib.patches.Rectangle object at 0x13a2e9e50>, PyObject <matplotlib.patches.Rectangle object at 0x13a2fe160>, PyObject <matplotlib.patches.Rectangle object at 0x13a2fe430>, PyObject <matplotlib.patches.Rectangle object at 0x13a2fe700>  …  PyObject <matplotlib.patches.Rectangle object at 0x13a2fef70>, PyObject <matplotlib.patches.Rectangle object at 0x13a309280>, PyObject <matplotlib.patches.Rectangle object at 0x13a309550>, PyObject <matplotlib.patches.Rectangle object at 0x13a309820>, PyObject <matplotlib.patches.Rectangle object at 0x13a309af0>, PyObject <matplotlib.patches.Rectangle object at 0x13a309dc0>, PyObject <matplotlib.patches.Rectangle object at 0x13a3070d0>, PyObject <matplotlib.patches.Rectangle object at 0x13a3073a0>, PyObject <matplotlib.patches.Rectangle object at 0x13a307670>, PyObject <matplotlib.patches.Rectangle object at 0x13a307940>])"
      ]
     },
     "execution_count": 90,
     "metadata": {},
     "output_type": "execute_result"
    }
   ],
   "source": [
    "dhypergeo = Hypergeometric(100,200,100) # successes, failures, draws\n",
    "x = rand(dhypergeo,100)\n",
    "println(mean(x))\n",
    "hist(x,22)"
   ]
  },
  {
   "cell_type": "code",
   "execution_count": 38,
   "metadata": {},
   "outputs": [
    {
     "data": {
      "image/png": "[encoded data removed]",
      "text/plain": [
       "Figure(PyObject <Figure size 640x480 with 1 Axes>)"
      ]
     },
     "metadata": {},
     "output_type": "display_data"
    },
    {
     "name": "stdout",
     "output_type": "stream",
     "text": [
      "1.02\n"
     ]
    }
   ],
   "source": [
    "dpoiss = Poisson(1)\n",
    "x = rand(dpoiss, 1000)\n",
    "println(mean(x))\n",
    "hist(x,22);"
   ]
  },
  {
   "cell_type": "code",
   "execution_count": 23,
   "metadata": {},
   "outputs": [
    {
     "data": {
      "image/png": "[encoded data removed]",
      "text/plain": [
       "Figure(PyObject <Figure size 640x480 with 1 Axes>)"
      ]
     },
     "metadata": {},
     "output_type": "display_data"
    },
    {
     "name": "stdout",
     "output_type": "stream",
     "text": [
      "781.0\n"
     ]
    }
   ],
   "source": [
    "dgamma = Gamma(1.2,6)  #shape, scale\n",
    "x = rand(dgamma,100);\n",
    "hh = hist(x,20);\n",
    "println(ceil(sum(hh[1] .* hh[2][2:end])))"
   ]
  },
  {
   "cell_type": "code",
   "execution_count": 16,
   "metadata": {},
   "outputs": [
    {
     "data": {
      "text/plain": [
       "20-element Array{Float64,1}:\n",
       " 22.0\n",
       " 19.0\n",
       "  8.0\n",
       " 11.0\n",
       "  9.0\n",
       "  6.0\n",
       "  8.0\n",
       "  3.0\n",
       "  0.0\n",
       "  4.0\n",
       "  3.0\n",
       "  0.0\n",
       "  2.0\n",
       "  0.0\n",
       "  1.0\n",
       "  1.0\n",
       "  0.0\n",
       "  1.0\n",
       "  0.0\n",
       "  2.0"
      ]
     },
     "execution_count": 16,
     "metadata": {},
     "output_type": "execute_result"
    }
   ],
   "source": [
    "hh[1]"
   ]
  },
  {
   "cell_type": "code",
   "execution_count": 36,
   "metadata": {},
   "outputs": [
    {
     "data": {
      "image/png": "[encoded data removed]",
      "text/plain": [
       "Figure(PyObject <Figure size 640x480 with 1 Axes>)"
      ]
     },
     "metadata": {},
     "output_type": "display_data"
    },
    {
     "name": "stdout",
     "output_type": "stream",
     "text": [
      "5.374664894554204\n"
     ]
    }
   ],
   "source": [
    "derlang = Erlang(1,5)  # integer shape, scale\n",
    "x = rand(derlang,1000);\n",
    "println(mean(x))\n",
    "hist(x,22);"
   ]
  },
  {
   "cell_type": "code",
   "execution_count": 11,
   "metadata": {},
   "outputs": [
    {
     "data": {
      "image/png": "[encoded data removed]",
      "text/plain": [
       "Figure(PyObject <Figure size 640x480 with 1 Axes>)"
      ]
     },
     "metadata": {},
     "output_type": "display_data"
    },
    {
     "name": "stdout",
     "output_type": "stream",
     "text": [
      "[66.0, 0.0, 0.0, 0.0, 25.0, 9.0]\n",
      "[1.0, 1.5, 2.0, 2.5, 3.0, 3.5, 4.0]\n"
     ]
    }
   ],
   "source": [
    "nilprobs = [.6, 0.0, .3, .1, 0.0, 0.0]\n",
    "\n",
    "dcat = Categorical(nilprobs)\n",
    "x = rand(dcat,100)\n",
    "hh = hist(x,6);\n",
    "println(hh[1])\n",
    "println(hh[2])"
   ]
  },
  {
   "cell_type": "code",
   "execution_count": 22,
   "metadata": {},
   "outputs": [
    {
     "name": "stdout",
     "output_type": "stream",
     "text": [
      "[0.5, 0.0, 0.375, 0.125, 0.0, 0.0] 1.0\n"
     ]
    },
    {
     "data": {
      "image/png": "[encoded data removed]",
      "text/plain": [
       "Figure(PyObject <Figure size 640x480 with 1 Axes>)"
      ]
     },
     "metadata": {},
     "output_type": "display_data"
    },
    {
     "name": "stdout",
     "output_type": "stream",
     "text": [
      "[54.0, 0.0, 0.0, 0.0, 38.0, 8.0]\n",
      "[1.0, 1.5, 2.0, 2.5, 3.0, 3.5, 4.0]\n"
     ]
    }
   ],
   "source": [
    "snorm(arr) = arr ./ (sum(arr))\n",
    "\n",
    "age_amplify = Dict(1=>(1.3,.7), 2=>(1.1,.9), 3=>(1.0, 1.0), 4=>(0.9,1.1), 5=>(.8,1.2))\n",
    "nilprobs = [.6, 0.0, .3, .1, 0.0, 0.0]\n",
    "# do we amplify the probs or the outcomes?\n",
    "# probs\n",
    "nilprobs = snorm(nilprobs .* [0.8, 0.0, 1.2, 1.2, 0.0, 0.0])\n",
    "\n",
    "println(nilprobs, \" \", sum(nilprobs))\n",
    "\n",
    "dcat = Categorical(nilprobs)\n",
    "x = rand(dcat,100)\n",
    "hh = hist(x,6);\n",
    "println(hh[1])\n",
    "println(hh[2])"
   ]
  },
  {
   "cell_type": "code",
   "execution_count": 15,
   "metadata": {},
   "outputs": [
    {
     "data": {
      "image/png": "[encoded data removed]",
      "text/plain": [
       "Figure(PyObject <Figure size 640x480 with 1 Axes>)"
      ]
     },
     "metadata": {},
     "output_type": "display_data"
    }
   ],
   "source": [
    "dbin1 = Binomial(100,0.6)\n",
    "dbin3 = Binomial(100, 0.3)\n",
    "dbin4 = Binomial(100, 0.1)\n",
    "x1 = rand(dbin1, 1)\n",
    "x3 = rand(dbin3, 1)\n",
    "x4 = rand(dbin4, 1)\n",
    "hist(x1);\n",
    "hist(x3);\n",
    "hist(x4);"
   ]
  },
  {
   "cell_type": "code",
   "execution_count": null,
   "metadata": {},
   "outputs": [],
   "source": []
  }
 ],
 "metadata": {
  "@webio": {
   "lastCommId": null,
   "lastKernelId": null
  },
  "hide_input": false,
  "kernelspec": {
   "display_name": "Julia 1.3.0",
   "language": "julia",
   "name": "julia-1.3"
  },
  "language_info": {
   "file_extension": ".jl",
   "mimetype": "application/julia",
   "name": "julia",
   "version": "1.3.0"
  }
 },
 "nbformat": 4,
 "nbformat_minor": 4
}
