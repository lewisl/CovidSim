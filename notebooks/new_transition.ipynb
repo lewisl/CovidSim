{
 "cells": [
  {
   "cell_type": "code",
   "execution_count": 1,
   "metadata": {},
   "outputs": [
    {
     "name": "stderr",
     "output_type": "stream",
     "text": [
      "┌ Info: Precompiling CovidSim_ilm [top-level]\n",
      "└ @ Base loading.jl:1278\n"
     ]
    }
   ],
   "source": [
    "using CovidSim_ilm"
   ]
  },
  {
   "cell_type": "code",
   "execution_count": 120,
   "metadata": {},
   "outputs": [],
   "source": [
    "using BenchmarkTools\n",
    "using Distributions"
   ]
  },
  {
   "cell_type": "markdown",
   "metadata": {},
   "source": [
    "This was a good start on a new approach to transition. A few details had to be changed, combined\n",
    "but it did work first time algorithmically."
   ]
  },
  {
   "cell_type": "markdown",
   "metadata": {},
   "source": [
    "# Grab a population matrix after 80 days"
   ]
  },
  {
   "cell_type": "code",
   "execution_count": 274,
   "metadata": {},
   "outputs": [
    {
     "data": {
      "text/plain": [
       "(::CovidSim_ilm.var\"#scase#64\"{Int64,Array{Int64,1},Int64,Int64,UnitRange{Int64}}) (generic function with 1 method)"
      ]
     },
     "execution_count": 274,
     "metadata": {},
     "output_type": "execute_result"
    }
   ],
   "source": [
    "seed_1_6 = seed_case_gen(1, [0,3,3,0,0], 1, nil, agegrps)"
   ]
  },
  {
   "cell_type": "code",
   "execution_count": 275,
   "metadata": {},
   "outputs": [
    {
     "name": "stdout",
     "output_type": "stream",
     "text": [
      "*** seed day 1 locale 38015....\n",
      "(sptime, trtime) = (0.24795550200000002, 1.3013469130000002)\n"
     ]
    }
   ],
   "source": [
    "alldict, env, series = run_a_sim(80, 38015, showr0=false, silent=true, spreadcases=[], runcases=[seed_1_6]);"
   ]
  },
  {
   "cell_type": "code",
   "execution_count": 276,
   "metadata": {},
   "outputs": [],
   "source": [
    "locdat = alldict[\"dat\"][\"openmx\"][38015];"
   ]
  },
  {
   "cell_type": "code",
   "execution_count": 277,
   "metadata": {},
   "outputs": [
    {
     "data": {
      "text/plain": [
       "20×4 Array{Int64,2}:\n",
       " 1  1  0  0\n",
       " 2  1  5  2\n",
       " 1  1  0  0\n",
       " 1  1  0  0\n",
       " 1  1  0  0\n",
       " 1  1  0  0\n",
       " 1  1  0  0\n",
       " 2  1  6  8\n",
       " 1  1  0  0\n",
       " 1  1  0  0\n",
       " 1  1  0  0\n",
       " 1  1  0  0\n",
       " 1  1  0  0\n",
       " 1  1  0  0\n",
       " 1  1  0  0\n",
       " 1  1  0  0\n",
       " 1  1  0  0\n",
       " 1  1  0  0\n",
       " 1  1  0  0\n",
       " 1  1  0  0"
      ]
     },
     "execution_count": 277,
     "metadata": {},
     "output_type": "execute_result"
    }
   ],
   "source": [
    "locdat[1:20,1:4]"
   ]
  },
  {
   "cell_type": "code",
   "execution_count": 278,
   "metadata": {},
   "outputs": [
    {
     "data": {
      "text/plain": [
       "Dict{Any,Any} with 5 entries:\n",
       "  4 => Dict{Any,Any}([9, 5]=>Dict{String,Array{T,1} where T}(\"probs\"=>[0.62, 0.…\n",
       "  2 => Dict{Any,Any}([9, 5]=>Dict{String,Array{T,1} where T}(\"probs\"=>[0.85, 0.…\n",
       "  3 => Dict{Any,Any}([9, 5]=>Dict{String,Array{T,1} where T}(\"probs\"=>[0.9, 0.1…\n",
       "  5 => Dict{Any,Any}([9, 5]=>Dict{String,Array{T,1} where T}(\"probs\"=>[0.5, 0.5…\n",
       "  1 => Dict{Any,Any}([9, 5]=>Dict{String,Array{T,1} where T}(\"probs\"=>[0.9, 0.1…"
      ]
     },
     "execution_count": 278,
     "metadata": {},
     "output_type": "execute_result"
    }
   ],
   "source": [
    "dt = alldict[\"dt\"]"
   ]
  },
  {
   "cell_type": "code",
   "execution_count": 279,
   "metadata": {},
   "outputs": [
    {
     "data": {
      "text/plain": [
       "Dict{String,Array{T,1} where T} with 3 entries:\n",
       "  \"probs\"    => [0.9, 0.1]\n",
       "  \"branches\" => Dict{Any,Any}[Dict(\"tocond\"=>3,\"next\"=>[0, 0],\"pr\"=>0.9), Dict(…\n",
       "  \"outcomes\" => [3, 7]"
      ]
     },
     "execution_count": 279,
     "metadata": {},
     "output_type": "execute_result"
    }
   ],
   "source": [
    "dt[1][[9,5]]"
   ]
  },
  {
   "cell_type": "code",
   "execution_count": 280,
   "metadata": {},
   "outputs": [
    {
     "data": {
      "text/plain": [
       "Dict{Int64,OrderedCollections.OrderedDict{Any,Any}} with 5 entries:\n",
       "  4 => OrderedCollections.OrderedDict{Any,Any}([25, 8]=>Dict{String,Array{T,1} …\n",
       "  2 => OrderedCollections.OrderedDict{Any,Any}([25, 8]=>Dict{String,Array{T,1} …\n",
       "  3 => OrderedCollections.OrderedDict{Any,Any}([25, 8]=>Dict{String,Array{T,1} …\n",
       "  5 => OrderedCollections.OrderedDict{Any,Any}([25, 8]=>Dict{String,Array{T,1} …\n",
       "  1 => OrderedCollections.OrderedDict{Any,Any}([25, 8]=>Dict{String,Array{T,1} …"
      ]
     },
     "execution_count": 280,
     "metadata": {},
     "output_type": "execute_result"
    }
   ],
   "source": [
    "dts = Dict(i=>sort(alldict[\"dt\"][i], rev=true) for i in 1:5) "
   ]
  },
  {
   "cell_type": "code",
   "execution_count": 281,
   "metadata": {},
   "outputs": [
    {
     "data": {
      "text/plain": [
       "10-element Array{Any,1}:\n",
       " [25, 8]\n",
       " [25, 7]\n",
       " [19, 8]\n",
       " [14, 8]\n",
       " [14, 7]\n",
       " [14, 6]\n",
       " [9, 7]\n",
       " [9, 6]\n",
       " [9, 5]\n",
       " [5, 5]"
      ]
     },
     "execution_count": 281,
     "metadata": {},
     "output_type": "execute_result"
    }
   ],
   "source": [
    "collect(keys(dts[4]))"
   ]
  },
  {
   "cell_type": "code",
   "execution_count": 282,
   "metadata": {},
   "outputs": [
    {
     "data": {
      "text/plain": [
       "Dict{Int64,Array{Int64,1}} with 5 entries:\n",
       "  4 => [25, 25, 19, 14, 14, 14, 9, 9, 9, 5]\n",
       "  2 => [25, 25, 19, 14, 14, 14, 9, 9, 9, 5]\n",
       "  3 => [25, 25, 19, 14, 14, 14, 9, 9, 9, 5]\n",
       "  5 => [25, 25, 19, 14, 14, 14, 9, 9, 9, 5]\n",
       "  1 => [25, 25, 19, 14, 14, 14, 9, 9, 9, 5]"
      ]
     },
     "metadata": {},
     "output_type": "display_data"
    },
    {
     "data": {
      "text/plain": [
       "Dict{Int64,Array{Int64,1}} with 5 entries:\n",
       "  4 => [8, 7, 8, 8, 7, 6, 7, 6, 5, 5]\n",
       "  2 => [8, 7, 8, 8, 7, 6, 7, 6, 5, 5]\n",
       "  3 => [8, 7, 8, 8, 7, 6, 7, 6, 5, 5]\n",
       "  5 => [8, 7, 8, 8, 7, 6, 7, 6, 5, 5]\n",
       "  1 => [8, 7, 8, 8, 7, 6, 7, 6, 5, 5]"
      ]
     },
     "metadata": {},
     "output_type": "display_data"
    }
   ],
   "source": [
    "lags_by_age = Dict{Int,Array{Int,1}}()  # empty\n",
    "fromconds_by_age = Dict{Int,Array{Int,1}}()  # empty\n",
    "for i in 1:5\n",
    "    lags_by_age[i] = [k[1] for k in collect(keys(dts[i]))]\n",
    "    fromconds_by_age[i] = [k[2] for k in collect(keys(dts[i]))]\n",
    "end\n",
    "display(lags_by_age)\n",
    "display(fromconds_by_age)"
   ]
  },
  {
   "cell_type": "code",
   "execution_count": 283,
   "metadata": {},
   "outputs": [],
   "source": [
    "infected_idx = findall(locdat[:,1] .== 2);\n",
    "sorted_by_lag = sortperm(locdat[infected_idx,4], rev=true);"
   ]
  },
  {
   "cell_type": "code",
   "execution_count": 284,
   "metadata": {},
   "outputs": [
    {
     "data": {
      "text/plain": [
       "0.177589041"
      ]
     },
     "execution_count": 284,
     "metadata": {},
     "output_type": "execute_result"
    }
   ],
   "source": [
    "@elapsed for p in infected_idx[sorted_by_lag]  # p is the index to the person\n",
    "    (pstat, page, plag, pcond) = locdat[p,[cpop_status, cpop_agegrp, cpop_lag, cpop_cond]]\n",
    "\n",
    "    lagfound = findall(x->x==plag, lags_by_age[page])\n",
    "    if isempty(lagfound)  # person's lag doesn't match any decision point lag\n",
    "        # test against laglim, then increment\n",
    "        if plag == laglim\n",
    "            @error \"person made it to end of laglim and was not removed\"\n",
    "        else\n",
    "            locdat[p,cpop_lag] += 1\n",
    "        end\n",
    "    else\n",
    "        condfound = findall(x->x==pcond, fromconds_by_age[page][lagfound])\n",
    "        if isempty(condfound)\n",
    "            if plag == laglim\n",
    "                @error \"person made it to end of laglim and was not removed\"\n",
    "            else\n",
    "                locdat[p,cpop_lag] += 1\n",
    "            end\n",
    "        else\n",
    "            # do the transition for lag and from cond and the probabilities of all outcomes at this branch\n",
    "            dtkey = [plag, pcond]\n",
    "            probs = dts[page][dtkey][\"probs\"]\n",
    "            outcomes = dts[page][dtkey][\"outcomes\"]\n",
    "            choice = rand(Categorical(probs), 1)\n",
    "            tocond = outcomes[choice][]\n",
    "            if tocond in [dead, recovered]  # change status, leave cond and lag as last state before death or recovery\n",
    "                locdat[p, cpop_status] = tocond\n",
    "            else   # change disease condition\n",
    "                locdat[p, cpop_cond] = tocond\n",
    "                locdat[p, cpop_lag] += 1  \n",
    "            end                      \n",
    "        end\n",
    "    end    \n",
    "end"
   ]
  },
  {
   "cell_type": "code",
   "execution_count": 285,
   "metadata": {},
   "outputs": [
    {
     "data": {
      "text/plain": [
       "4-element Array{Int64,1}:\n",
       " 1\n",
       " 5\n",
       " 0\n",
       " 0"
      ]
     },
     "execution_count": 285,
     "metadata": {},
     "output_type": "execute_result"
    }
   ],
   "source": [
    "locdat[95515,1:4]"
   ]
  }
 ],
 "metadata": {
  "kernelspec": {
   "display_name": "Julia 1.5.1",
   "language": "julia",
   "name": "julia-1.5"
  },
  "language_info": {
   "file_extension": ".jl",
   "mimetype": "application/julia",
   "name": "julia",
   "version": "1.5.2"
  }
 },
 "nbformat": 4,
 "nbformat_minor": 4
}
