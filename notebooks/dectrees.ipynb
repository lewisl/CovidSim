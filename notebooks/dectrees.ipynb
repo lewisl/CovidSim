{
 "cells": [
  {
   "cell_type": "code",
   "execution_count": 88,
   "metadata": {},
   "outputs": [],
   "source": [
    "using CovidSim"
   ]
  },
  {
   "cell_type": "code",
   "execution_count": 99,
   "metadata": {},
   "outputs": [],
   "source": [
    "dt = setup_dt(\"../parameters/dec_tree_all_25.csv\");"
   ]
  },
  {
   "cell_type": "code",
   "execution_count": 100,
   "metadata": {},
   "outputs": [
    {
     "data": {
      "text/plain": [
       "5×4 Array{Float64,2}:\n",
       " 1.0  1.0  0.998918  0.001082\n",
       " 2.0  1.0  0.997925  0.0020752\n",
       " 3.0  1.0  0.99103   0.0089702\n",
       " 4.0  1.0  0.980871  0.0191293\n",
       " 5.0  1.0  0.8024    0.1976"
      ]
     },
     "execution_count": 100,
     "metadata": {},
     "output_type": "execute_result"
    }
   ],
   "source": [
    "res = CovidSim.sanity_test_all(dt)"
   ]
  },
  {
   "cell_type": "code",
   "execution_count": 101,
   "metadata": {},
   "outputs": [
    {
     "data": {
      "text/plain": [
       "5-element Array{Float64,1}:\n",
       " 0.251\n",
       " 0.271\n",
       " 0.255\n",
       " 0.184\n",
       " 0.039"
      ]
     },
     "execution_count": 101,
     "metadata": {},
     "output_type": "execute_result"
    }
   ],
   "source": [
    "age_dist"
   ]
  },
  {
   "cell_type": "code",
   "execution_count": 102,
   "metadata": {},
   "outputs": [
    {
     "data": {
      "text/plain": [
       "5-element Array{Float64,1}:\n",
       " 0.00027158200000000003\n",
       " 0.0005623792000000002\n",
       " 0.0022874009999999992\n",
       " 0.003519782\n",
       " 0.007706400000000002"
      ]
     },
     "execution_count": 102,
     "metadata": {},
     "output_type": "execute_result"
    }
   ],
   "source": [
    "wgt_deaths = age_dist .* res[:,4]"
   ]
  },
  {
   "cell_type": "code",
   "execution_count": 103,
   "metadata": {},
   "outputs": [
    {
     "data": {
      "text/plain": [
       "5-element Array{Float64,1}:\n",
       " 0.018928814312347615\n",
       " 0.039196896148959076\n",
       " 0.15942805041158187\n",
       " 0.2453229591723439\n",
       " 0.5371232799547676"
      ]
     },
     "execution_count": 103,
     "metadata": {},
     "output_type": "execute_result"
    }
   ],
   "source": [
    "deathpct_by_age = wgt_deaths ./ sum(wgt_deaths)"
   ]
  },
  {
   "cell_type": "markdown",
   "metadata": {},
   "source": [
    " ```\n",
    " \"0-20\"    27  0.039\n",
    " \"20-40\"  101  0.147\n",
    " \"40-60\"  222  0.322\n",
    " \"60-80\"  257  0.373\n",
    " \"80+\"     82  0.119\n",
    " \"Total\"  689  1.0\n",
    " ```"
   ]
  },
  {
   "cell_type": "code",
   "execution_count": 104,
   "metadata": {},
   "outputs": [
    {
     "data": {
      "text/plain": [
       "1.0"
      ]
     },
     "execution_count": 104,
     "metadata": {},
     "output_type": "execute_result"
    }
   ],
   "source": [
    "sum(deathpct_by_age)"
   ]
  },
  {
   "cell_type": "code",
   "execution_count": null,
   "metadata": {},
   "outputs": [],
   "source": []
  }
 ],
 "metadata": {
  "kernelspec": {
   "display_name": "Julia 1.4.0",
   "language": "julia",
   "name": "julia-1.4"
  },
  "language_info": {
   "file_extension": ".jl",
   "mimetype": "application/julia",
   "name": "julia",
   "version": "1.4.0"
  }
 },
 "nbformat": 4,
 "nbformat_minor": 4
}
