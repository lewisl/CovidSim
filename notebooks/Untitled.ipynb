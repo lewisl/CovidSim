{
 "cells": [
  {
   "cell_type": "code",
   "execution_count": 2,
   "metadata": {},
   "outputs": [
    {
     "name": "stderr",
     "output_type": "stream",
     "text": [
      "┌ Info: Precompiling CovidSim [top-level]\n",
      "└ @ Base loading.jl:1278\n"
     ]
    }
   ],
   "source": [
    "using CovidSim"
   ]
  },
  {
   "cell_type": "code",
   "execution_count": 3,
   "metadata": {},
   "outputs": [],
   "source": [
    "using StatsBase\n",
    "using DelimitedFiles"
   ]
  },
  {
   "cell_type": "code",
   "execution_count": 4,
   "metadata": {},
   "outputs": [
    {
     "data": {
      "text/plain": [
       "160000×4 Array{Int64,2}:\n",
       " 1  2  0   0\n",
       " 1  3  0   0\n",
       " 1  4  0   0\n",
       " 1  5  0   0\n",
       " 2  1  5   2\n",
       " 2  2  5   9\n",
       " 2  3  6   2\n",
       " 2  4  6   9\n",
       " 2  5  7   2\n",
       " 2  1  7   9\n",
       " 2  2  8   2\n",
       " 2  3  8   9\n",
       " 3  4  6   9\n",
       " ⋮        \n",
       " 2  1  5   2\n",
       " 2  2  5   9\n",
       " 2  3  6   2\n",
       " 2  4  6   9\n",
       " 2  5  7   2\n",
       " 2  1  7   9\n",
       " 2  2  8   2\n",
       " 2  3  8   9\n",
       " 3  4  6   9\n",
       " 3  5  6  15\n",
       " 4  3  8  15\n",
       " 4  4  8  19"
      ]
     },
     "execution_count": 4,
     "metadata": {},
     "output_type": "execute_result"
    }
   ],
   "source": [
    "ilmat = readdlm(\"../data/ilmtestdata.csv\", ',',Int, header=true)[1]\n",
    "ilmat = repeat(ilmat, 10_000)\n",
    "r"
   ]
  }
 ],
 "metadata": {
  "kernelspec": {
   "display_name": "Julia 1.5.0",
   "language": "julia",
   "name": "julia-1.5.0-1.5"
  },
  "language_info": {
   "file_extension": ".jl",
   "mimetype": "application/julia",
   "name": "julia",
   "version": "1.5.0"
  }
 },
 "nbformat": 4,
 "nbformat_minor": 4
}
