{
 "cells": [
  {
   "cell_type": "markdown",
   "metadata": {},
   "source": [
    "# New approach to decision trees for transition"
   ]
  },
  {
   "cell_type": "code",
   "execution_count": 1,
   "metadata": {},
   "outputs": [
    {
     "name": "stderr",
     "output_type": "stream",
     "text": [
      "┌ Info: Precompiling CovidSim [top-level]\n",
      "└ @ Base loading.jl:1278\n"
     ]
    }
   ],
   "source": [
    "using CovidSim"
   ]
  },
  {
   "cell_type": "code",
   "execution_count": 2,
   "metadata": {},
   "outputs": [],
   "source": [
    "using StatsBase\n",
    "using DelimitedFiles\n",
    "using Distributions"
   ]
  },
  {
   "cell_type": "code",
   "execution_count": 3,
   "metadata": {},
   "outputs": [
    {
     "data": {
      "text/plain": [
       "160000×4 Array{Int64,2}:\n",
       " 1  2  0   0\n",
       " 1  3  0   0\n",
       " 1  4  0   0\n",
       " 1  5  0   0\n",
       " 2  1  5   2\n",
       " 2  2  5   9\n",
       " 2  3  6   2\n",
       " 2  4  6   9\n",
       " 2  5  7   2\n",
       " 2  1  7   9\n",
       " 2  2  8   2\n",
       " 2  3  8   9\n",
       " 3  4  6   9\n",
       " ⋮        \n",
       " 2  1  5   2\n",
       " 2  2  5   9\n",
       " 2  3  6   2\n",
       " 2  4  6   9\n",
       " 2  5  7   2\n",
       " 2  1  7   9\n",
       " 2  2  8   2\n",
       " 2  3  8   9\n",
       " 3  4  6   9\n",
       " 3  5  6  15\n",
       " 4  3  8  15\n",
       " 4  4  8  19"
      ]
     },
     "execution_count": 3,
     "metadata": {},
     "output_type": "execute_result"
    }
   ],
   "source": [
    "ilmat = readdlm(\"../data/ilmtestdata.csv\", ',',Int, header=true)[1]\n",
    "ilmat = repeat(ilmat, 10_000)\n",
    "refresh = copy(ilmat)"
   ]
  },
  {
   "cell_type": "markdown",
   "metadata": {},
   "source": [
    "## New Approach to Decision Trees"
   ]
  },
  {
   "cell_type": "code",
   "execution_count": 4,
   "metadata": {},
   "outputs": [
    {
     "data": {
      "text/plain": [
       "\"../parameters/dec_tree_all_25.csv\""
      ]
     },
     "execution_count": 4,
     "metadata": {},
     "output_type": "execute_result"
    }
   ],
   "source": [
    "dectreefilename=\"../parameters/dec_tree_all_25.csv\""
   ]
  },
  {
   "cell_type": "code",
   "execution_count": 5,
   "metadata": {},
   "outputs": [],
   "source": [
    "using JSON\n",
    "using Pkg.TOML\n",
    "using YAML"
   ]
  },
  {
   "cell_type": "code",
   "execution_count": 6,
   "metadata": {},
   "outputs": [
    {
     "data": {
      "text/plain": [
       "(Any[(dec_points = Dict(9 => [(2, 1), (2, 2), (2, 3)],14 => [(3, 2), (3, 3), (3, 4)],25 => [(5, 3), (5, 4)],19 => [(4, 4)],5 => [(1, 1)]), tree = Dict{Tuple{Int64,Int64},Array{Any,1}}((2, 3) => [CovidSim.Branch(7, 7, 0.95, (3, 3), \"sick\", \"sick\"), CovidSim.Branch(7, 8, 0.05, (3, 4), \"sick\", \"severe\")],(3, 2) => [CovidSim.Branch(6, 3, 1.0, (0, 0), \"mild\", \"recovered\")],(3, 3) => [CovidSim.Branch(7, 3, 0.85, (0, 0), \"sick\", \"recovered\"), CovidSim.Branch(7, 7, 0.12, (5, 3), \"sick\", \"sick\"), CovidSim.Branch(7, 8, 0.03, (4, 4), \"sick\", \"severe\")],(2, 2) => [CovidSim.Branch(6, 6, 1.0, (3, 2), \"mild\", \"mild\")],(1, 1) => [CovidSim.Branch(5, 5, 0.4, (2, 1), \"nil\", \"nil\"), CovidSim.Branch(5, 6, 0.5, (2, 2), \"nil\", \"mild\"), CovidSim.Branch(5, 7, 0.1, (2, 3), \"nil\", \"sick\")],(4, 4) => [CovidSim.Branch(8, 3, 0.891, (0, 0), \"severe\", \"recovered\"), CovidSim.Branch(8, 8, 0.106, (5, 4), \"severe\", \"severe\"), CovidSim.Branch(8, 4, 0.003, (0, 5), \"severe\", \"dead\")],(5, 3) => [CovidSim.Branch(7, 3, 0.976, (0, 0), \"sick\", \"recovered\"), CovidSim.Branch(7, 4, 0.024, (0, 5), \"sick\", \"dead\")],(5, 4) => [CovidSim.Branch(8, 3, 0.91, (0, 0), \"severe\", \"recovered\"), CovidSim.Branch(8, 4, 0.09, (0, 5), \"severe\", \"dead\")],(2, 1) => [CovidSim.Branch(5, 3, 0.9, (0, 0), \"nil\", \"recovered\"), CovidSim.Branch(5, 7, 0.1, (3, 3), \"nil\", \"sick\")],(3, 4) => [CovidSim.Branch(8, 3, 0.692, (0, 0), \"severe\", \"recovered\"), CovidSim.Branch(8, 8, 0.302, (4, 4), \"severe\", \"severe\"), CovidSim.Branch(8, 4, 0.006, (0, 5), \"severe\", \"dead\")]…)), (dec_points = Dict(9 => [(2, 1), (2, 2), (2, 3)],14 => [(3, 2), (3, 3), (3, 4)],25 => [(5, 3), (5, 4)],19 => [(4, 4)],5 => [(1, 1)]), tree = Dict{Tuple{Int64,Int64},Array{Any,1}}((2, 3) => [CovidSim.Branch(7, 7, 0.9, (3, 3), \"sick\", \"sick\"), CovidSim.Branch(7, 8, 0.1, (3, 4), \"sick\", \"severe\")],(3, 2) => [CovidSim.Branch(6, 3, 1.0, (0, 0), \"mild\", \"recovered\")],(3, 3) => [CovidSim.Branch(7, 3, 0.83, (0, 0), \"sick\", \"recovered\"), CovidSim.Branch(7, 7, 0.1, (5, 3), \"sick\", \"sick\"), CovidSim.Branch(7, 8, 0.07, (4, 4), \"sick\", \"severe\")],(2, 2) => [CovidSim.Branch(6, 6, 1.0, (3, 2), \"mild\", \"mild\")],(1, 1) => [CovidSim.Branch(5, 5, 0.2, (2, 1), \"nil\", \"nil\"), CovidSim.Branch(5, 6, 0.7, (2, 2), \"nil\", \"mild\"), CovidSim.Branch(5, 7, 0.1, (2, 3), \"nil\", \"sick\")],(4, 4) => [CovidSim.Branch(8, 3, 0.922, (0, 0), \"severe\", \"recovered\"), CovidSim.Branch(8, 8, 0.072, (5, 4), \"severe\", \"severe\"), CovidSim.Branch(8, 4, 0.006, (0, 5), \"severe\", \"dead\")],(5, 3) => [CovidSim.Branch(7, 3, 0.964, (0, 0), \"sick\", \"recovered\"), CovidSim.Branch(7, 4, 0.036, (0, 5), \"sick\", \"dead\")],(5, 4) => [CovidSim.Branch(8, 3, 0.964, (0, 0), \"severe\", \"recovered\"), CovidSim.Branch(8, 4, 0.036, (0, 5), \"severe\", \"dead\")],(2, 1) => [CovidSim.Branch(5, 3, 0.85, (0, 0), \"nil\", \"recovered\"), CovidSim.Branch(5, 7, 0.15, (3, 3), \"nil\", \"sick\")],(3, 4) => [CovidSim.Branch(8, 3, 0.474, (0, 0), \"severe\", \"recovered\"), CovidSim.Branch(8, 8, 0.514, (4, 4), \"severe\", \"severe\"), CovidSim.Branch(8, 4, 0.012, (0, 5), \"severe\", \"dead\")]…)), (dec_points = Dict(9 => [(2, 1), (2, 2), (2, 3)],14 => [(3, 2), (3, 3), (3, 4)],25 => [(5, 3), (5, 4)],19 => [(4, 4)],5 => [(1, 1)]), tree = Dict{Tuple{Int64,Int64},Array{Any,1}}((2, 3) => [CovidSim.Branch(7, 7, 0.9, (3, 3), \"sick\", \"sick\"), CovidSim.Branch(7, 8, 0.1, (3, 4), \"sick\", \"severe\")],(3, 2) => [CovidSim.Branch(6, 3, 0.9, (0, 0), \"mild\", \"recovered\"), CovidSim.Branch(6, 7, 0.1, (5, 3), \"mild\", \"sick\")],(3, 3) => [CovidSim.Branch(7, 3, 0.85, (0, 0), \"sick\", \"recovered\"), CovidSim.Branch(7, 7, 0.14, (5, 3), \"sick\", \"sick\"), CovidSim.Branch(7, 8, 0.01, (4, 4), \"sick\", \"severe\")],(2, 2) => [CovidSim.Branch(6, 6, 1.0, (3, 2), \"mild\", \"mild\")],(1, 1) => [CovidSim.Branch(5, 5, 0.2, (2, 1), \"nil\", \"nil\"), CovidSim.Branch(5, 6, 0.7, (2, 2), \"nil\", \"mild\"), CovidSim.Branch(5, 7, 0.1, (2, 3), \"nil\", \"sick\")],(4, 4) => [CovidSim.Branch(8, 3, 0.856, (0, 0), \"severe\", \"recovered\"), CovidSim.Branch(8, 8, 0.126, (5, 4), \"severe\", \"severe\"), CovidSim.Branch(8, 4, 0.018, (0, 5), \"severe\", \"dead\")],(5, 3) => [CovidSim.Branch(7, 3, 0.958, (0, 0), \"sick\", \"recovered\"), CovidSim.Branch(7, 4, 0.042, (0, 5), \"sick\", \"dead\")],(5, 4) => [CovidSim.Branch(8, 3, 0.958, (0, 0), \"severe\", \"recovered\"), CovidSim.Branch(8, 4, 0.042, (0, 5), \"severe\", \"dead\")],(2, 1) => [CovidSim.Branch(5, 3, 0.9, (0, 0), \"nil\", \"recovered\"), CovidSim.Branch(5, 7, 0.1, (3, 3), \"nil\", \"sick\")],(3, 4) => [CovidSim.Branch(8, 3, 0.776, (0, 0), \"severe\", \"recovered\"), CovidSim.Branch(8, 8, 0.206, (4, 4), \"severe\", \"severe\"), CovidSim.Branch(8, 4, 0.018, (0, 5), \"severe\", \"dead\")]…)), (dec_points = Dict(9 => [(2, 1), (2, 2), (2, 3)],14 => [(3, 2), (3, 3), (3, 4)],25 => [(5, 3), (5, 4)],19 => [(4, 4)],5 => [(1, 1)]), tree = Dict{Tuple{Int64,Int64},Array{Any,1}}((2, 3) => [CovidSim.Branch(7, 7, 0.78, (3, 3), \"sick\", \"sick\"), CovidSim.Branch(7, 8, 0.22, (3, 4), \"sick\", \"severe\")],(3, 2) => [CovidSim.Branch(6, 3, 1.0, (0, 0), \"mild\", \"recovered\")],(3, 3) => [CovidSim.Branch(7, 3, 0.8, (0, 0), \"sick\", \"recovered\"), CovidSim.Branch(7, 7, 0.1, (5, 3), \"sick\", \"sick\"), CovidSim.Branch(7, 8, 0.1, (4, 4), \"sick\", \"severe\")],(2, 2) => [CovidSim.Branch(6, 6, 1.0, (3, 2), \"mild\", \"mild\")],(1, 1) => [CovidSim.Branch(5, 5, 0.15, (2, 1), \"nil\", \"nil\"), CovidSim.Branch(5, 6, 0.6, (2, 2), \"nil\", \"mild\"), CovidSim.Branch(5, 7, 0.25, (2, 3), \"nil\", \"sick\")],(4, 4) => [CovidSim.Branch(8, 3, 0.81, (0, 0), \"severe\", \"recovered\"), CovidSim.Branch(8, 8, 0.13, (5, 4), \"severe\", \"severe\"), CovidSim.Branch(8, 4, 0.06, (0, 5), \"severe\", \"dead\")],(5, 3) => [CovidSim.Branch(7, 3, 0.76, (0, 0), \"sick\", \"recovered\"), CovidSim.Branch(7, 4, 0.24, (0, 5), \"sick\", \"dead\")],(5, 4) => [CovidSim.Branch(8, 3, 0.688, (0, 0), \"severe\", \"recovered\"), CovidSim.Branch(8, 4, 0.312, (0, 5), \"severe\", \"dead\")],(2, 1) => [CovidSim.Branch(5, 3, 0.62, (0, 0), \"nil\", \"recovered\"), CovidSim.Branch(5, 7, 0.38, (3, 3), \"nil\", \"sick\")],(3, 4) => [CovidSim.Branch(8, 3, 0.165, (0, 0), \"severe\", \"recovered\"), CovidSim.Branch(8, 8, 0.715, (4, 4), \"severe\", \"severe\"), CovidSim.Branch(8, 4, 0.12, (0, 5), \"severe\", \"dead\")]…)), (dec_points = Dict(9 => [(2, 1), (2, 2), (2, 3)],14 => [(3, 2), (3, 3), (3, 4)],25 => [(5, 3), (5, 4)],19 => [(4, 4)],5 => [(1, 1)]), tree = Dict{Tuple{Int64,Int64},Array{Any,1}}((2, 3) => [CovidSim.Branch(7, 7, 0.6, (3, 3), \"sick\", \"sick\"), CovidSim.Branch(7, 8, 0.4, (3, 4), \"sick\", \"severe\")],(3, 2) => [CovidSim.Branch(6, 3, 0.7, (0, 0), \"mild\", \"recovered\"), CovidSim.Branch(6, 7, 0.3, (5, 3), \"mild\", \"sick\")],(3, 3) => [CovidSim.Branch(7, 3, 0.7, (0, 0), \"sick\", \"recovered\"), CovidSim.Branch(7, 7, 0.1, (5, 3), \"sick\", \"sick\"), CovidSim.Branch(7, 8, 0.2, (4, 4), \"sick\", \"severe\")],(2, 2) => [CovidSim.Branch(6, 6, 0.4, (3, 2), \"mild\", \"mild\"), CovidSim.Branch(6, 7, 0.6, (3, 3), \"mild\", \"sick\")],(1, 1) => [CovidSim.Branch(5, 5, 0.1, (2, 1), \"nil\", \"nil\"), CovidSim.Branch(5, 6, 0.5, (2, 2), \"nil\", \"mild\"), CovidSim.Branch(5, 7, 0.4, (2, 3), \"nil\", \"sick\")],(4, 4) => [CovidSim.Branch(8, 3, 0.49, (0, 0), \"severe\", \"recovered\"), CovidSim.Branch(8, 8, 0.24, (5, 4), \"severe\", \"severe\"), CovidSim.Branch(8, 4, 0.27, (0, 5), \"severe\", \"dead\")],(5, 3) => [CovidSim.Branch(7, 3, 0.682, (0, 0), \"sick\", \"recovered\"), CovidSim.Branch(7, 4, 0.318, (0, 5), \"sick\", \"dead\")],(5, 4) => [CovidSim.Branch(8, 3, 0.676, (0, 0), \"severe\", \"recovered\"), CovidSim.Branch(8, 4, 0.324, (0, 5), \"severe\", \"dead\")],(2, 1) => [CovidSim.Branch(5, 3, 0.5, (0, 0), \"nil\", \"recovered\"), CovidSim.Branch(5, 7, 0.5, (3, 3), \"nil\", \"sick\")],(3, 4) => [CovidSim.Branch(8, 3, 0.12, (0, 0), \"severe\", \"recovered\"), CovidSim.Branch(8, 8, 0.67, (4, 4), \"severe\", \"severe\"), CovidSim.Branch(8, 4, 0.21, (0, 5), \"severe\", \"dead\")]…))], Dict(9 => [(2, 1), (2, 2), (2, 3)],14 => [(3, 2), (3, 3), (3, 4)],25 => [(5, 3), (5, 4)],19 => [(4, 4)],5 => [(1, 1)]))"
      ]
     },
     "execution_count": 6,
     "metadata": {},
     "output_type": "execute_result"
    }
   ],
   "source": [
    "dt, all_decpoints = CovidSim.setup_dt_old(dectreefilename)"
   ]
  },
  {
   "cell_type": "code",
   "execution_count": 7,
   "metadata": {},
   "outputs": [
    {
     "data": {
      "text/plain": [
       "Dict{String,Array{Any,1}} with 10 entries:\n",
       "  \"(5, 4)\" => Any[Branch(8, 3, 0.91, (0, 0), \"severe\", \"recovered\"), Branch(8, …\n",
       "  \"(3, 2)\" => Any[Branch(6, 3, 1.0, (0, 0), \"mild\", \"recovered\")]\n",
       "  \"(3, 3)\" => Any[Branch(7, 3, 0.85, (0, 0), \"sick\", \"recovered\"), Branch(7, 7,…\n",
       "  \"(2, 2)\" => Any[Branch(6, 6, 1.0, (3, 2), \"mild\", \"mild\")]\n",
       "  \"(1, 1)\" => Any[Branch(5, 5, 0.4, (2, 1), \"nil\", \"nil\"), Branch(5, 6, 0.5, (2…\n",
       "  \"(4, 4)\" => Any[Branch(8, 3, 0.891, (0, 0), \"severe\", \"recovered\"), Branch(8,…\n",
       "  \"(3, 4)\" => Any[Branch(8, 3, 0.692, (0, 0), \"severe\", \"recovered\"), Branch(8,…\n",
       "  \"(5, 3)\" => Any[Branch(7, 3, 0.976, (0, 0), \"sick\", \"recovered\"), Branch(7, 4…\n",
       "  \"(2, 1)\" => Any[Branch(5, 3, 0.9, (0, 0), \"nil\", \"recovered\"), Branch(5, 7, 0…\n",
       "  \"(2, 3)\" => Any[Branch(7, 7, 0.95, (3, 3), \"sick\", \"sick\"), Branch(7, 8, 0.05…"
      ]
     },
     "execution_count": 7,
     "metadata": {},
     "output_type": "execute_result"
    }
   ],
   "source": [
    "newdict1 = Dict(string(k) => dt[1].tree[k] for k in keys(dt[1].tree))"
   ]
  },
  {
   "cell_type": "code",
   "execution_count": 8,
   "metadata": {},
   "outputs": [
    {
     "data": {
      "text/plain": [
       "Base.KeySet for a Dict{Tuple{Int64,Int64},Array{Any,1}} with 10 entries. Keys:\n",
       "  (2, 3)\n",
       "  (3, 2)\n",
       "  (3, 3)\n",
       "  (2, 2)\n",
       "  (1, 1)\n",
       "  (4, 4)\n",
       "  (5, 3)\n",
       "  (5, 4)\n",
       "  (2, 1)\n",
       "  (3, 4)"
      ]
     },
     "execution_count": 8,
     "metadata": {},
     "output_type": "execute_result"
    }
   ],
   "source": [
    "keys(dt[1].tree)"
   ]
  },
  {
   "cell_type": "code",
   "execution_count": 9,
   "metadata": {},
   "outputs": [
    {
     "data": {
      "text/plain": [
       "\"{\\\"(2, 3)\\\":[{\\\"fromcond\\\":7,\\\"tocond\\\":7,\\\"pr\\\":0.95,\\\"next\\\":[3,3],\\\"fromcondname\\\":\\\"sick\\\",\\\"tocondname\\\":\\\"sick\\\"},{\\\"fromcond\\\":7,\\\"tocond\\\":8,\\\"pr\\\":0.05,\\\"next\\\":[3,4],\\\"fromcondname\\\":\\\"sick\\\",\\\"tocondname\\\":\\\"severe\\\"}],\\\"(3, 2)\\\":[{\\\"fromcond\\\":6,\\\"tocond\\\":3,\\\"pr\\\":1.0,\\\"next\\\":[0,0],\\\"fromcondname\\\":\\\"mild\\\",\\\"tocondname\\\":\\\"recovered\\\"}],\\\"(3, 3)\\\":[{\\\"fromcond\\\":7,\\\"tocond\\\":3,\\\"pr\\\":0.85,\\\"next\\\":[0,0],\\\"fromcondname\\\":\\\"sick\\\",\\\"tocondname\\\":\\\"recovered\\\"},{\\\"fromcond\\\":7,\\\"tocond\\\":7,\\\"pr\\\":0.12,\\\"next\\\":[5,3],\\\"fromcondname\\\":\\\"sick\\\",\\\"tocondname\\\":\\\"sick\\\"},{\\\"fromcond\\\":7,\\\"tocond\\\":8,\\\"pr\\\":0.03,\\\"next\\\":[4,4],\\\"fromcondname\\\":\\\"sick\\\",\\\"tocondname\\\":\\\"severe\\\"}],\\\"(2, 2)\\\":[{\\\"fromcond\\\":6,\\\"tocond\\\":6,\\\"pr\\\":1.0,\\\"next\\\":[3,2],\\\"fromcondname\\\":\\\"mild\\\",\\\"tocondname\\\":\\\"mild\\\"}],\\\"(1, 1)\\\":[{\\\"fromcond\\\":5,\\\"tocond\\\":5,\\\"pr\\\":0.4,\\\"next\\\":[2,1],\\\"fromcondname\\\":\\\"nil\\\",\\\"tocondname\\\":\\\"nil\\\"},{\\\"fromcond\\\":5,\\\"tocond\\\":6,\\\"pr\\\":0.5,\\\"next\\\":[2,2],\\\"fromcondname\\\":\\\"nil\\\",\\\"tocondname\\\":\\\"mild\\\"},{\\\"fromcond\\\":5,\\\"tocond\\\":7,\\\"pr\\\":0.1,\\\"next\\\":[2,3],\\\"fromcondname\\\":\\\"nil\\\",\\\"tocondname\\\":\\\"sick\\\"}],\\\"(4, 4)\\\":[{\\\"fromcond\\\":8,\\\"tocond\\\":3,\\\"pr\\\":0.891,\\\"next\\\":[0,0],\\\"fromcondname\\\":\\\"severe\\\",\\\"tocondname\\\":\\\"recovered\\\"},{\\\"fromcond\\\":8,\\\"tocond\\\":8,\\\"pr\\\":0.106,\\\"next\\\":[5,4],\\\"fromcondname\\\":\\\"severe\\\",\\\"tocondname\\\":\\\"severe\\\"},{\\\"fromcond\\\":8,\\\"tocond\\\":4,\\\"pr\\\":0.003,\\\"next\\\":[0,5],\\\"fromcondname\\\":\\\"severe\\\",\\\"tocondname\\\":\\\"dead\\\"}],\\\"(5, 3)\\\":[{\\\"fromcond\\\":7,\\\"tocond\\\":3,\\\"pr\\\":0.976,\\\"next\\\":[0,0],\\\"fromcondname\\\":\\\"sick\\\",\\\"tocondname\\\":\\\"recovered\\\"},{\\\"fromcond\\\":7,\\\"tocond\\\":4,\\\"pr\\\":0.024,\\\"next\\\":[0,5],\\\"fromcondname\\\":\\\"sick\\\",\\\"tocondname\\\":\\\"dead\\\"}],\\\"(5, 4)\\\":[{\\\"fromcond\\\":8,\\\"tocond\\\":3,\\\"pr\\\":0.91,\\\"next\\\":[0,0],\\\"fromcondname\\\":\\\"severe\\\",\\\"tocondname\\\":\\\"recovered\\\"},{\\\"fromcond\\\":8,\\\"tocond\\\":4,\\\"pr\\\":0.09,\\\"next\\\":[0,5],\\\"fromcondname\\\":\\\"severe\\\",\\\"tocondname\\\":\\\"dead\\\"}],\\\"(2, 1)\\\":[{\\\"fromcond\\\":5,\\\"tocond\\\":3,\\\"pr\\\":0.9,\\\"next\\\":[0,0],\\\"fromcondname\\\":\\\"nil\\\",\\\"tocondname\\\":\\\"recovered\\\"},{\\\"fromcond\\\":5,\\\"tocond\\\":7,\\\"pr\\\":0.1,\\\"next\\\":[3,3],\\\"fromcondname\\\":\\\"nil\\\",\\\"tocondname\\\":\\\"sick\\\"}],\\\"(3, 4)\\\":[{\\\"fromcond\\\":8,\\\"tocond\\\":3,\\\"pr\\\":0.692,\\\"next\\\":[0,0],\\\"fromcondname\\\":\\\"severe\\\",\\\"tocondname\\\":\\\"recovered\\\"},{\\\"fromcond\\\":8,\\\"tocond\\\":8,\\\"pr\\\":0.302,\\\"next\\\":[4,4],\\\"fromcondname\\\":\\\"severe\\\",\\\"tocondname\\\":\\\"severe\\\"},{\\\"fromcond\\\":8,\\\"tocond\\\":4,\\\"pr\\\":0.006,\\\"next\\\":[0,5],\\\"fromcondname\\\":\\\"severe\\\",\\\"tocondname\\\":\\\"dead\\\"}]}\""
      ]
     },
     "execution_count": 9,
     "metadata": {},
     "output_type": "execute_result"
    }
   ],
   "source": [
    "JSON.json(dt[1].tree)"
   ]
  },
  {
   "cell_type": "code",
   "execution_count": 10,
   "metadata": {},
   "outputs": [
    {
     "data": {
      "text/plain": [
       "\"[{\\\"dec_points\\\":{\\\"9\\\":[[2,1],[2,2],[2,3]],\\\"14\\\":[[3,2],[3,3],[3,4]],\\\"25\\\":[[5,3],[5,4]],\\\"19\\\":[[4,4]],\\\"5\\\":[[1,1]]},\\\"tree\\\":{\\\"(2, 3)\\\":[{\\\"fromcond\\\":7,\\\"tocond\\\":7,\\\"pr\\\":0.95,\\\"next\\\":[3,3],\\\"fromcondname\\\":\\\"sick\\\",\\\"tocondname\\\":\\\"sick\\\"},{\\\"fromcond\\\":7,\\\"tocond\\\":8,\\\"pr\\\":0.05,\\\"next\\\":[3,4],\\\"fromcondname\\\":\\\"sick\\\",\\\"tocondname\\\":\\\"severe\\\"}],\\\"(3, 2)\\\":[{\\\"fromcond\\\":6,\\\"tocond\\\":3,\\\"pr\\\":1.0,\\\"next\\\":[0,0],\\\"fromcondname\\\":\\\"mild\\\",\\\"tocondname\\\":\\\"recovered\\\"}],\\\"(3, 3)\\\":[{\\\"fromcond\\\":7,\\\"tocond\\\":3,\\\"pr\\\":0.85,\\\"next\\\":[0,0],\\\"fromcondname\\\":\\\"sick\\\",\\\"tocondname\\\":\\\"recovered\\\"},{\\\"fromcond\\\":7,\\\"tocond\\\":7,\\\"pr\\\":0.12,\\\"next\\\":[5,3],\\\"fromcondname\\\":\\\"sick\\\",\\\"tocondname\\\":\\\"sick\\\"},{\\\"fromcond\\\":7,\\\"tocond\\\":8,\\\"pr\\\":0.03,\\\"next\\\":[4,4],\\\"fromcondname\\\":\\\"sick\\\",\\\"tocondname\\\":\\\"severe\\\"}],\\\"(2, 2)\\\":[{\\\"fromcond\\\":6,\\\"tocond\\\":6,\\\"pr\\\":1.0,\\\"next\\\":[3,2],\\\"fromcondname\\\":\\\"mild\\\",\\\"tocondname\\\":\\\"mild\\\"}],\\\"(1, 1)\\\":[{\\\"fromcond\\\":5,\\\"tocond\\\":5,\\\"pr\\\":0.4,\\\"next\\\":[2,1],\\\"fromcondname\\\":\\\"nil\\\",\\\"tocondname\\\":\\\"nil\\\"},{\\\"fromcond\\\":5,\\\"tocond\\\":6,\\\"pr\\\":0.5,\\\"next\\\":[2,2],\\\"fromcondname\\\":\\\"nil\\\",\\\"tocondname\\\":\\\"mild\\\"},{\\\"fromcond\\\":5,\\\"tocond\\\":7,\\\"pr\\\":0.1,\\\"next\\\":[2,3],\\\"fromcondname\\\":\\\"nil\\\",\\\"tocondname\\\":\\\"sick\\\"}],\\\"(4, 4)\\\":[{\\\"fromcond\\\":8,\\\"tocond\\\":3,\\\"pr\\\":0.891,\\\"next\\\":[0,0],\\\"fromcondname\\\":\\\"severe\\\",\\\"tocondname\\\":\\\"recovered\\\"},{\\\"fromcond\\\":8,\\\"tocond\\\":8,\\\"pr\\\":0.106,\\\"next\\\":[5,4],\\\"fromcondname\\\":\\\"severe\\\",\\\"tocondname\\\":\\\"severe\\\"},{\\\"fromcond\\\":8,\\\"tocond\\\":4,\\\"pr\\\":0.003,\\\"next\\\":[0,5],\\\"fromcondname\\\":\\\"severe\\\",\\\"tocondname\\\":\\\"dead\\\"}],\\\"(5, 3)\\\":[{\\\"fromcond\\\":7,\\\"tocond\\\":3,\\\"pr\\\":0.976,\\\"next\\\":[0,0],\\\"fromcondname\\\":\\\"sick\\\",\\\"tocondname\\\":\\\"recovered\\\"},{\\\"fromcond\\\":7,\\\"tocond\\\":4,\\\"pr\\\":0.024,\\\"next\\\":[0,5],\\\"fromcondname\\\":\\\"sick\\\",\\\"tocondname\\\":\\\"dead\\\"}],\\\"(5, 4)\\\":[{\\\"fromcond\\\":8,\\\"tocond\\\":3,\\\"pr\\\":0.91,\\\"next\\\":[0,0],\\\"fromcondname\\\":\\\"severe\\\",\\\"tocondname\\\":\\\"recovered\\\"},{\\\"fromcond\\\":8,\\\"tocond\\\":4,\\\"pr\\\":0.09,\\\"next\\\":[0,5],\\\"fromcondname\\\":\\\"severe\\\",\\\"tocondname\\\":\\\"dead\\\"}],\\\"(2, 1)\\\":[{\\\"fromcond\\\":5,\\\"tocond\\\":3,\\\"pr\\\":0.9,\\\"next\\\":[0,0],\\\"fromcondname\\\":\\\"nil\\\",\\\"tocondname\\\":\\\"recovered\\\"},{\\\"fromcond\\\":5,\\\"tocond\\\":7,\\\"pr\\\":0.1,\\\"next\\\":[3,3],\\\"fromcondname\\\":\\\"nil\\\",\\\"tocondname\\\":\\\"sick\\\"}],\\\"(3, 4)\\\":[{\\\"fromcond\\\":8,\\\"tocond\\\":3,\\\"pr\\\":0.692,\\\"next\\\":[0,0],\\\"fromcondname\\\":\\\"severe\\\",\\\"tocondname\\\":\\\"recovered\\\"},{\\\"fromcond\\\":8,\\\"tocond\\\":8,\\\"pr\\\":0.302,\\\"next\\\":[4,4],\\\"fromcondname\\\":\\\"severe\\\",\\\"tocondname\\\":\\\"severe\\\"},{\\\"fromcond\\\":8,\\\"tocond\\\":4,\\\"pr\\\":0.006,\\\"next\\\":[0,5],\\\"fromcondname\\\":\\\"severe\\\",\\\"tocondname\\\":\\\"dead\\\"}]}},{\\\"dec_points\\\":{\\\"9\\\":[[2,1],[2,2],[2,3]],\\\"14\\\":[[3,2],[3,3],[3,4]],\\\"25\\\":[[5,3],[5,4]],\\\"19\\\":[[4,4]],\\\"5\\\":[[1,1]]},\\\"tree\\\":{\\\"(2, 3)\\\":[{\\\"fromcond\\\":7,\\\"tocond\\\":7,\\\"pr\\\":0.9,\\\"next\\\":[3,3],\\\"fromcondname\\\":\\\"sick\\\",\\\"tocondname\\\":\\\"sick\\\"},{\\\"fromcond\\\":7,\\\"tocond\\\":8,\\\"pr\\\":0.1,\\\"next\\\":[3,4],\\\"fromcondname\\\":\\\"sick\\\",\\\"tocondname\\\":\\\"severe\\\"}],\\\"(3, 2)\\\":[{\\\"fromcond\\\":6,\\\"tocond\\\":3,\\\"pr\\\":1.0,\\\"next\\\":[0,0],\\\"fromcondname\\\":\\\"mild\\\",\\\"tocondname\\\":\\\"recovered\\\"}],\\\"(3, 3)\\\":[{\\\"fromcond\\\":7,\\\"tocond\\\":3,\\\"pr\\\":0.83,\\\"next\\\":[0,0],\\\"fromcondname\\\":\\\"sick\\\",\\\"tocondname\\\":\\\"recovered\\\"},{\\\"fromcond\\\":7,\\\"tocond\\\":7,\\\"pr\\\":0.1,\\\"next\\\":[5,3],\\\"fromcondname\\\":\\\"sick\\\",\\\"tocondname\\\":\\\"sick\\\"},{\\\"fromcond\\\":7,\\\"tocond\\\":8,\\\"pr\\\":0.07,\\\"next\\\":[4,4],\\\"fromcondname\\\":\\\"sick\\\",\\\"tocondname\\\":\\\"severe\\\"}],\\\"(2, 2)\\\":[{\\\"fromcond\\\":6,\\\"tocond\\\":6,\\\"pr\\\":1.0,\\\"next\\\":[3,2],\\\"fromcondname\\\":\\\"mild\\\",\\\"tocondname\\\":\\\"mild\\\"}],\\\"(1, 1)\\\":[{\\\"fromcond\\\":5,\\\"tocond\\\":5,\\\"pr\\\":0.2,\\\"next\\\":[2,1],\\\"fromcondname\\\":\\\"nil\\\",\\\"tocondname\\\":\\\"nil\\\"},{\\\"fromcond\\\":5,\\\"tocond\\\":6,\\\"pr\\\":0.7,\\\"next\\\":[2,2],\\\"fromcondname\\\":\\\"nil\\\",\\\"tocondname\\\":\\\"mild\\\"},{\\\"fromcond\\\":5,\\\"tocond\\\":7,\\\"pr\\\":0.1,\\\"next\\\":[2,3],\\\"fromcondname\\\":\\\"nil\\\",\\\"tocondname\\\":\\\"sick\\\"}],\\\"(4, 4)\\\":[{\\\"fromcond\\\":8,\\\"tocond\\\":3,\\\"pr\\\":0.922,\\\"next\\\":[0,0],\\\"fromcondname\\\":\\\"severe\\\",\\\"tocondname\\\":\\\"recovered\\\"},{\\\"fromcond\\\":8,\\\"tocond\\\":8,\\\"pr\\\":0.072,\\\"next\\\":[5,4],\\\"fromcondname\\\":\\\"severe\\\",\\\"tocondname\\\":\\\"severe\\\"},{\\\"fromcond\\\":8,\\\"tocond\\\":4,\\\"pr\\\":0.006,\\\"next\\\":[0,5],\\\"fromcondname\\\":\\\"severe\\\",\\\"tocondname\\\":\\\"dead\\\"}],\\\"(5, 3)\\\":[{\\\"fromcond\\\":7,\\\"tocond\\\":3,\\\"pr\\\":0.964,\\\"next\\\":[0,0],\\\"fromcondname\\\":\\\"sick\\\",\\\"tocondname\\\":\\\"recovered\\\"},{\\\"fromcond\\\":7,\\\"tocond\\\":4,\\\"pr\\\":0.036,\\\"next\\\":[0,5],\\\"fromcondname\\\":\\\"sick\\\",\\\"tocondname\\\":\\\"dead\\\"}],\\\"(5, 4)\\\":[{\\\"fromcond\\\":8,\\\"tocond\\\":3,\\\"pr\\\":0.964,\\\"next\\\":[0,0],\\\"fromcondname\\\":\\\"severe\\\",\\\"tocondname\\\":\\\"recovered\\\"},{\\\"fromcond\\\":8,\\\"tocond\\\":4,\\\"pr\\\":0.036,\\\"next\\\":[0,5],\\\"fromcondname\\\":\\\"severe\\\",\\\"tocondname\\\":\\\"dead\\\"}],\\\"(2, 1)\\\":[{\\\"fromcond\\\":5,\\\"tocond\\\":3,\\\"pr\\\":0.85,\\\"next\\\":[0,0],\\\"fromcondname\\\":\\\"nil\\\",\\\"tocondname\\\":\\\"recovered\\\"},{\\\"fromcond\\\":5,\\\"tocond\\\":7,\\\"pr\\\":0.15,\\\"next\\\":[3,3],\\\"fromcondname\\\":\\\"nil\\\",\\\"tocondname\\\":\\\"sick\\\"}],\\\"(3, 4)\\\":[{\\\"fromcond\\\":8,\\\"tocond\\\":3,\\\"pr\\\":0.474,\\\"next\\\":[0,0],\\\"fromcondname\\\":\\\"severe\\\",\\\"tocondname\\\":\\\"recovered\\\"},{\\\"fromcond\\\":8,\\\"tocond\\\":8,\\\"pr\\\":0.514,\\\"next\\\":[4,4],\\\"fromcondname\\\":\\\"severe\\\",\\\"tocondname\\\":\\\"severe\\\"},{\\\"fromcond\\\":8,\\\"tocond\\\":4,\\\"pr\\\":0.012,\\\"next\\\":[0,5],\\\"fromcondname\\\":\\\"severe\\\",\\\"tocondname\\\":\\\"dead\\\"}]}},{\\\"dec_points\\\":{\\\"9\\\":[[2,1],[2,2],[2,3]],\\\"14\\\":[[3,2],[3,3],[3,4]],\\\"25\\\":[[5,3],[5,4]],\\\"19\\\":[[4,4]],\\\"5\\\":[[1,1]]},\\\"tree\\\":{\\\"(2, 3)\\\":[{\\\"fromcond\\\":7,\\\"tocond\\\":7,\\\"pr\\\":0.9,\\\"next\\\":[3,3],\\\"fromcondname\\\":\\\"sick\\\",\\\"tocondname\\\":\\\"sick\\\"},{\\\"fromcond\\\":7,\\\"tocond\\\":8,\\\"pr\\\":0.1,\\\"next\\\":[3,4],\\\"fromcondname\\\":\\\"sick\\\",\\\"tocondname\\\":\\\"severe\\\"}],\\\"(3, 2)\\\":[{\\\"fromcond\\\":6,\\\"tocond\\\":3,\\\"pr\\\":0.9,\\\"next\\\":[0,0],\\\"fromcondname\\\":\\\"mild\\\",\\\"tocondname\\\":\\\"recovered\\\"},{\\\"fromcond\\\":6,\\\"tocond\\\":7,\\\"pr\\\":0.1,\\\"next\\\":[5,3],\\\"fromcondname\\\":\\\"mild\\\",\\\"tocondname\\\":\\\"sick\\\"}],\\\"(3, 3)\\\":[{\\\"fromcond\\\":7,\\\"tocond\\\":3,\\\"pr\\\":0.85,\\\"next\\\":[0,0],\\\"fromcondname\\\":\\\"sick\\\",\\\"tocondname\\\":\\\"recovered\\\"},{\\\"fromcond\\\":7,\\\"tocond\\\":7,\\\"pr\\\":0.14,\\\"next\\\":[5,3],\\\"fromcondname\\\":\\\"sick\\\",\\\"tocondname\\\":\\\"sick\\\"},{\\\"fromcond\\\":7,\\\"tocond\\\":8,\\\"pr\\\":0.01,\\\"next\\\":[4,4],\\\"fromcondname\\\":\\\"sick\\\",\\\"tocondname\\\":\\\"severe\\\"}],\\\"(2, 2)\\\":[{\\\"fromcond\\\":6,\\\"tocond\\\":6,\\\"pr\\\":1.0,\\\"next\\\":[3,2],\\\"fromcondname\\\":\\\"mild\\\",\\\"tocondname\\\":\\\"mild\\\"}],\\\"(1, 1)\\\":[{\\\"fromcond\\\":5,\\\"tocond\\\":5,\\\"pr\\\":0.2,\\\"next\\\":[2,1],\\\"fromcondname\\\":\\\"nil\\\",\\\"tocondname\\\":\\\"nil\\\"},{\\\"fromcond\\\":5,\\\"tocond\\\":6,\\\"pr\\\":0.7,\\\"next\\\":[2,2],\\\"fromcondname\\\":\\\"nil\\\",\\\"tocondname\\\":\\\"mild\\\"},{\\\"fromcond\\\":5,\\\"tocond\\\":7,\\\"pr\\\":0.1,\\\"next\\\":[2,3],\\\"fromcondname\\\":\\\"nil\\\",\\\"tocondname\\\":\\\"sick\\\"}],\\\"(4, 4)\\\":[{\\\"fromcond\\\":8,\\\"tocond\\\":3,\\\"pr\\\":0.856,\\\"next\\\":[0,0],\\\"fromcondname\\\":\\\"severe\\\",\\\"tocondname\\\":\\\"recovered\\\"},{\\\"fromcond\\\":8,\\\"tocond\\\":8,\\\"pr\\\":0.126,\\\"next\\\":[5,4],\\\"fromcondname\\\":\\\"severe\\\",\\\"tocondname\\\":\\\"severe\\\"},{\\\"fromcond\\\":8,\\\"tocond\\\":4,\\\"pr\\\":0.018,\\\"next\\\":[0,5],\\\"fromcondname\\\":\\\"severe\\\",\\\"tocondname\\\":\\\"dead\\\"}],\\\"(5, 3)\\\":[{\\\"fromcond\\\":7,\\\"tocond\\\":3,\\\"pr\\\":0.958,\\\"next\\\":[0,0],\\\"fromcondname\\\":\\\"sick\\\",\\\"tocondname\\\":\\\"recovered\\\"},{\\\"fromcond\\\":7,\\\"tocond\\\":4,\\\"pr\\\":0.042,\\\"next\\\":[0,5],\\\"fromcondname\\\":\\\"sick\\\",\\\"tocondname\\\":\\\"dead\\\"}],\\\"(5, 4)\\\":[{\\\"fromcond\\\":8,\\\"tocond\\\":3,\\\"pr\\\":0.958,\\\"next\\\":[0,0],\\\"fromcondname\\\":\\\"severe\\\",\\\"tocondname\\\":\\\"recovered\\\"},{\\\"fromcond\\\":8,\\\"tocond\\\":4,\\\"pr\\\":0.042,\\\"next\\\":[0,5],\\\"fromcondname\\\":\\\"severe\\\",\\\"tocondname\\\":\\\"dead\\\"}],\\\"(2, 1)\\\":[{\\\"fromcond\\\":5,\\\"tocond\\\":3,\\\"pr\\\":0.9,\\\"next\\\":[0,0],\\\"fromcondname\\\":\\\"nil\\\",\\\"tocondname\\\":\\\"recovered\\\"},{\\\"fromcond\\\":5,\\\"tocond\\\":7,\\\"pr\\\":0.1,\\\"next\\\":[3,3],\\\"fromcondname\\\":\\\"nil\\\",\\\"tocondname\\\":\\\"sick\\\"}],\\\"(3, 4)\\\":[{\\\"fromcond\\\":8,\\\"tocond\\\":3,\\\"pr\\\":0.776,\\\"next\\\":[0,0],\\\"fromcondname\\\":\\\"severe\\\",\\\"tocondname\\\":\\\"recovered\\\"},{\\\"fromcond\\\":8,\\\"tocond\\\":8,\\\"pr\\\":0.206,\\\"next\\\":[4,4],\\\"fromcondname\\\":\\\"severe\\\",\\\"tocondname\\\":\\\"severe\\\"},{\\\"fromcond\\\":8,\\\"tocond\\\":4,\\\"pr\\\":0.018,\\\"next\\\":[0,5],\\\"fromcondname\\\":\\\"severe\\\",\\\"tocondname\\\":\\\"dead\\\"}]}},{\\\"dec_points\\\":{\\\"9\\\":[[2,1],[2,2],[2,3]],\\\"14\\\":[[3,2],[3,3],[3,4]],\\\"25\\\":[[5,3],[5,4]],\\\"19\\\":[[4,4]],\\\"5\\\":[[1,1]]},\\\"tree\\\":{\\\"(2, 3)\\\":[{\\\"fromcond\\\":7,\\\"tocond\\\":7,\\\"pr\\\":0.78,\\\"next\\\":[3,3],\\\"fromcondname\\\":\\\"sick\\\",\\\"tocondname\\\":\\\"sick\\\"},{\\\"fromcond\\\":7,\\\"tocond\\\":8,\\\"pr\\\":0.22,\\\"next\\\":[3,4],\\\"fromcondname\\\":\\\"sick\\\",\\\"tocondname\\\":\\\"severe\\\"}],\\\"(3, 2)\\\":[{\\\"fromcond\\\":6,\\\"tocond\\\":3,\\\"pr\\\":1.0,\\\"next\\\":[0,0],\\\"fromcondname\\\":\\\"mild\\\",\\\"tocondname\\\":\\\"recovered\\\"}],\\\"(3, 3)\\\":[{\\\"fromcond\\\":7,\\\"tocond\\\":3,\\\"pr\\\":0.8,\\\"next\\\":[0,0],\\\"fromcondname\\\":\\\"sick\\\",\\\"tocondname\\\":\\\"recovered\\\"},{\\\"fromcond\\\":7,\\\"tocond\\\":7,\\\"pr\\\":0.1,\\\"next\\\":[5,3],\\\"fromcondname\\\":\\\"sick\\\",\\\"tocondname\\\":\\\"sick\\\"},{\\\"fromcond\\\":7,\\\"tocond\\\":8,\\\"pr\\\":0.1,\\\"next\\\":[4,4],\\\"fromcondname\\\":\\\"sick\\\",\\\"tocondname\\\":\\\"severe\\\"}],\\\"(2, 2)\\\":[{\\\"fromcond\\\":6,\\\"tocond\\\":6,\\\"pr\\\":1.0,\\\"next\\\":[3,2],\\\"fromcondname\\\":\\\"mild\\\",\\\"tocondname\\\":\\\"mild\\\"}],\\\"(1, 1)\\\":[{\\\"fromcond\\\":5,\\\"tocond\\\":5,\\\"pr\\\":0.15,\\\"next\\\":[2,1],\\\"fromcondname\\\":\\\"nil\\\",\\\"tocondname\\\":\\\"nil\\\"},{\\\"fromcond\\\":5,\\\"tocond\\\":6,\\\"pr\\\":0.6,\\\"next\\\":[2,2],\\\"fromcondname\\\":\\\"nil\\\",\\\"tocondname\\\":\\\"mild\\\"},{\\\"fromcond\\\":5,\\\"tocond\\\":7,\\\"pr\\\":0.25,\\\"next\\\":[2,3],\\\"fromcondname\\\":\\\"nil\\\",\\\"tocondname\\\":\\\"sick\\\"}],\\\"(4, 4)\\\":[{\\\"fromcond\\\":8,\\\"tocond\\\":3,\\\"pr\\\":0.81,\\\"next\\\":[0,0],\\\"fromcondname\\\":\\\"severe\\\",\\\"tocondname\\\":\\\"recovered\\\"},{\\\"fromcond\\\":8,\\\"tocond\\\":8,\\\"pr\\\":0.13,\\\"next\\\":[5,4],\\\"fromcondname\\\":\\\"severe\\\",\\\"tocondname\\\":\\\"severe\\\"},{\\\"fromcond\\\":8,\\\"tocond\\\":4,\\\"pr\\\":0.06,\\\"next\\\":[0,5],\\\"fromcondname\\\":\\\"severe\\\",\\\"tocondname\\\":\\\"dead\\\"}],\\\"(5, 3)\\\":[{\\\"fromcond\\\":7,\\\"tocond\\\":3,\\\"pr\\\":0.76,\\\"next\\\":[0,0],\\\"fromcondname\\\":\\\"sick\\\",\\\"tocondname\\\":\\\"recovered\\\"},{\\\"fromcond\\\":7,\\\"tocond\\\":4,\\\"pr\\\":0.24,\\\"next\\\":[0,5],\\\"fromcondname\\\":\\\"sick\\\",\\\"tocondname\\\":\\\"dead\\\"}],\\\"(5, 4)\\\":[{\\\"fromcond\\\":8,\\\"tocond\\\":3,\\\"pr\\\":0.688,\\\"next\\\":[0,0],\\\"fromcondname\\\":\\\"severe\\\",\\\"tocondname\\\":\\\"recovered\\\"},{\\\"fromcond\\\":8,\\\"tocond\\\":4,\\\"pr\\\":0.312,\\\"next\\\":[0,5],\\\"fromcondname\\\":\\\"severe\\\",\\\"tocondname\\\":\\\"dead\\\"}],\\\"(2, 1)\\\":[{\\\"fromcond\\\":5,\\\"tocond\\\":3,\\\"pr\\\":0.62,\\\"next\\\":[0,0],\\\"fromcondname\\\":\\\"nil\\\",\\\"tocondname\\\":\\\"recovered\\\"},{\\\"fromcond\\\":5,\\\"tocond\\\":7,\\\"pr\\\":0.38,\\\"next\\\":[3,3],\\\"fromcondname\\\":\\\"nil\\\",\\\"tocondname\\\":\\\"sick\\\"}],\\\"(3, 4)\\\":[{\\\"fromcond\\\":8,\\\"tocond\\\":3,\\\"pr\\\":0.165,\\\"next\\\":[0,0],\\\"fromcondname\\\":\\\"severe\\\",\\\"tocondname\\\":\\\"recovered\\\"},{\\\"fromcond\\\":8,\\\"tocond\\\":8,\\\"pr\\\":0.715,\\\"next\\\":[4,4],\\\"fromcondname\\\":\\\"severe\\\",\\\"tocondname\\\":\\\"severe\\\"},{\\\"fromcond\\\":8,\\\"tocond\\\":4,\\\"pr\\\":0.12,\\\"next\\\":[0,5],\\\"fromcondname\\\":\\\"severe\\\",\\\"tocondname\\\":\\\"dead\\\"}]}},{\\\"dec_points\\\":{\\\"9\\\":[[2,1],[2,2],[2,3]],\\\"14\\\":[[3,2],[3,3],[3,4]],\\\"25\\\":[[5,3],[5,4]],\\\"19\\\":[[4,4]],\\\"5\\\":[[1,1]]},\\\"tree\\\":{\\\"(2, 3)\\\":[{\\\"fromcond\\\":7,\\\"tocond\\\":7,\\\"pr\\\":0.6,\\\"next\\\":[3,3],\\\"fromcondname\\\":\\\"sick\\\",\\\"tocondname\\\":\\\"sick\\\"},{\\\"fromcond\\\":7,\\\"tocond\\\":8,\\\"pr\\\":0.4,\\\"next\\\":[3,4],\\\"fromcondname\\\":\\\"sick\\\",\\\"tocondname\\\":\\\"severe\\\"}],\\\"(3, 2)\\\":[{\\\"fromcond\\\":6,\\\"tocond\\\":3,\\\"pr\\\":0.7,\\\"next\\\":[0,0],\\\"fromcondname\\\":\\\"mild\\\",\\\"tocondname\\\":\\\"recovered\\\"},{\\\"fromcond\\\":6,\\\"tocond\\\":7,\\\"pr\\\":0.3,\\\"next\\\":[5,3],\\\"fromcondname\\\":\\\"mild\\\",\\\"tocondname\\\":\\\"sick\\\"}],\\\"(3, 3)\\\":[{\\\"fromcond\\\":7,\\\"tocond\\\":3,\\\"pr\\\":0.7,\\\"next\\\":[0,0],\\\"fromcondname\\\":\\\"sick\\\",\\\"tocondname\\\":\\\"recovered\\\"},{\\\"fromcond\\\":7,\\\"tocond\\\":7,\\\"pr\\\":0.1,\\\"next\\\":[5,3],\\\"fromcondname\\\":\\\"sick\\\",\\\"tocondname\\\":\\\"sick\\\"},{\\\"fromcond\\\":7,\\\"tocond\\\":8,\\\"pr\\\":0.2,\\\"next\\\":[4,4],\\\"fromcondname\\\":\\\"sick\\\",\\\"tocondname\\\":\\\"severe\\\"}],\\\"(2, 2)\\\":[{\\\"fromcond\\\":6,\\\"tocond\\\":6,\\\"pr\\\":0.4,\\\"next\\\":[3,2],\\\"fromcondname\\\":\\\"mild\\\",\\\"tocondname\\\":\\\"mild\\\"},{\\\"fromcond\\\":6,\\\"tocond\\\":7,\\\"pr\\\":0.6,\\\"next\\\":[3,3],\\\"fromcondname\\\":\\\"mild\\\",\\\"tocondname\\\":\\\"sick\\\"}],\\\"(1, 1)\\\":[{\\\"fromcond\\\":5,\\\"tocond\\\":5,\\\"pr\\\":0.1,\\\"next\\\":[2,1],\\\"fromcondname\\\":\\\"nil\\\",\\\"tocondname\\\":\\\"nil\\\"},{\\\"fromcond\\\":5,\\\"tocond\\\":6,\\\"pr\\\":0.5,\\\"next\\\":[2,2],\\\"fromcondname\\\":\\\"nil\\\",\\\"tocondname\\\":\\\"mild\\\"},{\\\"fromcond\\\":5,\\\"tocond\\\":7,\\\"pr\\\":0.4,\\\"next\\\":[2,3],\\\"fromcondname\\\":\\\"nil\\\",\\\"tocondname\\\":\\\"sick\\\"}],\\\"(4, 4)\\\":[{\\\"fromcond\\\":8,\\\"tocond\\\":3,\\\"pr\\\":0.49,\\\"next\\\":[0,0],\\\"fromcondname\\\":\\\"severe\\\",\\\"tocondname\\\":\\\"recovered\\\"},{\\\"fromcond\\\":8,\\\"tocond\\\":8,\\\"pr\\\":0.24,\\\"next\\\":[5,4],\\\"fromcondname\\\":\\\"severe\\\",\\\"tocondname\\\":\\\"severe\\\"},{\\\"fromcond\\\":8,\\\"tocond\\\":4,\\\"pr\\\":0.27,\\\"next\\\":[0,5],\\\"fromcondname\\\":\\\"severe\\\",\\\"tocondname\\\":\\\"dead\\\"}],\\\"(5, 3)\\\":[{\\\"fromcond\\\":7,\\\"tocond\\\":3,\\\"pr\\\":0.682,\\\"next\\\":[0,0],\\\"fromcondname\\\":\\\"sick\\\",\\\"tocondname\\\":\\\"recovered\\\"},{\\\"fromcond\\\":7,\\\"tocond\\\":4,\\\"pr\\\":0.318,\\\"next\\\":[0,5],\\\"fromcondname\\\":\\\"sick\\\",\\\"tocondname\\\":\\\"dead\\\"}],\\\"(5, 4)\\\":[{\\\"fromcond\\\":8,\\\"tocond\\\":3,\\\"pr\\\":0.676,\\\"next\\\":[0,0],\\\"fromcondname\\\":\\\"severe\\\",\\\"tocondname\\\":\\\"recovered\\\"},{\\\"fromcond\\\":8,\\\"tocond\\\":4,\\\"pr\\\":0.324,\\\"next\\\":[0,5],\\\"fromcondname\\\":\\\"severe\\\",\\\"tocondname\\\":\\\"dead\\\"}],\\\"(2, 1)\\\":[{\\\"fromcond\\\":5,\\\"tocond\\\":3,\\\"pr\\\":0.5,\\\"next\\\":[0,0],\\\"fromcondname\\\":\\\"nil\\\",\\\"tocondname\\\":\\\"recovered\\\"},{\\\"fromcond\\\":5,\\\"tocond\\\":7,\\\"pr\\\":0.5,\\\"next\\\":[3,3],\\\"fromcondname\\\":\\\"nil\\\",\\\"tocondname\\\":\\\"sick\\\"}],\\\"(3, 4)\\\":[{\\\"fromcond\\\":8,\\\"tocond\\\":3,\\\"pr\\\":0.12,\\\"next\\\":[0,0],\\\"fromcondname\\\":\\\"severe\\\",\\\"tocondname\\\":\\\"recovered\\\"},{\\\"fromcond\\\":8,\\\"tocond\\\":8,\\\"pr\\\":0.67,\\\"next\\\":[4,4],\\\"fromcondname\\\":\\\"severe\\\",\\\"tocondname\\\":\\\"severe\\\"},{\\\"fromcond\\\":8,\\\"tocond\\\":4,\\\"pr\\\":0.21,\\\"next\\\":[0,5],\\\"fromcondname\\\":\\\"severe\\\",\\\"tocondname\\\":\\\"dead\\\"}]}}]\""
      ]
     },
     "execution_count": 10,
     "metadata": {},
     "output_type": "execute_result"
    }
   ],
   "source": [
    "JSON.json(dt)"
   ]
  },
  {
   "cell_type": "code",
   "execution_count": 11,
   "metadata": {},
   "outputs": [
    {
     "name": "stdout",
     "output_type": "stream",
     "text": [
      "\"(5, 4)\" = [\"CovidSim.Branch(8, 3, 0.91, (0, 0), \\\"severe\\\", \\\"recovered\\\")\", \"CovidSim.Branch(8, 4, 0.09, (0, 5), \\\"severe\\\", \\\"dead\\\")\"]\n",
      "\"(3, 2)\" = [\"CovidSim.Branch(6, 3, 1.0, (0, 0), \\\"mild\\\", \\\"recovered\\\")\"]\n",
      "\"(3, 3)\" = [\"CovidSim.Branch(7, 3, 0.85, (0, 0), \\\"sick\\\", \\\"recovered\\\")\", \"CovidSim.Branch(7, 7, 0.12, (5, 3), \\\"sick\\\", \\\"sick\\\")\", \"CovidSim.Branch(7, 8, 0.03, (4, 4), \\\"sick\\\", \\\"severe\\\")\"]\n",
      "\"(2, 2)\" = [\"CovidSim.Branch(6, 6, 1.0, (3, 2), \\\"mild\\\", \\\"mild\\\")\"]\n",
      "\"(1, 1)\" = [\"CovidSim.Branch(5, 5, 0.4, (2, 1), \\\"nil\\\", \\\"nil\\\")\", \"CovidSim.Branch(5, 6, 0.5, (2, 2), \\\"nil\\\", \\\"mild\\\")\", \"CovidSim.Branch(5, 7, 0.1, (2, 3), \\\"nil\\\", \\\"sick\\\")\"]\n",
      "\"(4, 4)\" = [\"CovidSim.Branch(8, 3, 0.891, (0, 0), \\\"severe\\\", \\\"recovered\\\")\", \"CovidSim.Branch(8, 8, 0.106, (5, 4), \\\"severe\\\", \\\"severe\\\")\", \"CovidSim.Branch(8, 4, 0.003, (0, 5), \\\"severe\\\", \\\"dead\\\")\"]\n",
      "\"(3, 4)\" = [\"CovidSim.Branch(8, 3, 0.692, (0, 0), \\\"severe\\\", \\\"recovered\\\")\", \"CovidSim.Branch(8, 8, 0.302, (4, 4), \\\"severe\\\", \\\"severe\\\")\", \"CovidSim.Branch(8, 4, 0.006, (0, 5), \\\"severe\\\", \\\"dead\\\")\"]\n",
      "\"(5, 3)\" = [\"CovidSim.Branch(7, 3, 0.976, (0, 0), \\\"sick\\\", \\\"recovered\\\")\", \"CovidSim.Branch(7, 4, 0.024, (0, 5), \\\"sick\\\", \\\"dead\\\")\"]\n",
      "\"(2, 1)\" = [\"CovidSim.Branch(5, 3, 0.9, (0, 0), \\\"nil\\\", \\\"recovered\\\")\", \"CovidSim.Branch(5, 7, 0.1, (3, 3), \\\"nil\\\", \\\"sick\\\")\"]\n",
      "\"(2, 3)\" = [\"CovidSim.Branch(7, 7, 0.95, (3, 3), \\\"sick\\\", \\\"sick\\\")\", \"CovidSim.Branch(7, 8, 0.05, (3, 4), \\\"sick\\\", \\\"severe\\\")\"]\n"
     ]
    }
   ],
   "source": [
    "TOML.print(newdict1)"
   ]
  },
  {
   "cell_type": "code",
   "execution_count": 12,
   "metadata": {},
   "outputs": [
    {
     "data": {
      "text/plain": [
       "\"[\\n  {\\n    \\\"nodes\\\": [\\n      {\\n        \\\"branches\\\": [\\n          {\\n            \\\"pr\\\": 1.0, \\n            \\\"tocond\\\": 7, \\n            \\\"id\\\": \\\"to 7\\\", \\n            \\\"next\\\": \\\"(0, 0)\\\"\\n          }, \\n          {\\n            \\\"pr\\\": 0.85, \\n            \\\"tocond\\\": 7, \\n            \\\"id\\\": \\\"to 7\\\", \\n            \\\"next\\\": \\\"(0, 0)\\\"\\n          }, \\n          {\\n            \\\"pr\\\": 0.15, \\n            \\\"tocond\\\": 8, \\n            \\\"id\\\": \\\"to 8\\\", \\n            \\\"next\\\": \\\"(4, 4)\\\"\\n          }\\n        ], \\n        \\\"id\\\": \\\"(14, 6)\\\"\\n      }\\n    ], \\n    \\\"agegrp\\\": 1\\n  }, \\n  {\\n    \\\"nodes\\\": [\\n      {\\n        \\\"branches\\\": [\\n          {\\n            \\\"pr\\\": 1.0, \\n            \\\"tocond\\\": 7, \\n            \\\"id\\\": \\\"to 7\\\", \\n            \\\"next\\\": \\\"(0, 0)\\\"\\n          }\\n        ], \\n        \\\"id\\\": \\\"(14, 6)\\\"\\n      }, \\n      {\\n        \\\"branches\\\": [\\n          {\\n            \\\"pr\\\": 0.85, \\n            \\\"tocond\\\": 7, \\n            \\\"id\\\": \\\"to 7\\\", \\n            \\\"next\\\": \\\"(0, 0)\\\"\\n          }, \\n          {\\n            \\\"pr\\\": 0.15, \\n            \\\"tocond\\\": 8, \\n            \\\"id\\\": \\\"to 8\\\", \\n            \\\"next\\\": \\\"(4, 4)\\\"\\n          }\\n        ], \\n        \\\"id\\\": \\\"(14, 7)\\\"\\n      }\\n    ], \\n    \\\"agegrp\\\": 2\\n  }\\n]\\n\""
      ]
     },
     "execution_count": 12,
     "metadata": {},
     "output_type": "execute_result"
    }
   ],
   "source": [
    "# this is json from the YAML\n",
    "jsontxt = \"\"\"\n",
    "[\n",
    "  {\n",
    "    \"nodes\": [\n",
    "      {\n",
    "        \"branches\": [\n",
    "          {\n",
    "            \"pr\": 1.0, \n",
    "            \"tocond\": 7, \n",
    "            \"id\": \"to 7\", \n",
    "            \"next\": \"(0, 0)\"\n",
    "          }, \n",
    "          {\n",
    "            \"pr\": 0.85, \n",
    "            \"tocond\": 7, \n",
    "            \"id\": \"to 7\", \n",
    "            \"next\": \"(0, 0)\"\n",
    "          }, \n",
    "          {\n",
    "            \"pr\": 0.15, \n",
    "            \"tocond\": 8, \n",
    "            \"id\": \"to 8\", \n",
    "            \"next\": \"(4, 4)\"\n",
    "          }\n",
    "        ], \n",
    "        \"id\": \"(14, 6)\"\n",
    "      }\n",
    "    ], \n",
    "    \"agegrp\": 1\n",
    "  }, \n",
    "  {\n",
    "    \"nodes\": [\n",
    "      {\n",
    "        \"branches\": [\n",
    "          {\n",
    "            \"pr\": 1.0, \n",
    "            \"tocond\": 7, \n",
    "            \"id\": \"to 7\", \n",
    "            \"next\": \"(0, 0)\"\n",
    "          }\n",
    "        ], \n",
    "        \"id\": \"(14, 6)\"\n",
    "      }, \n",
    "      {\n",
    "        \"branches\": [\n",
    "          {\n",
    "            \"pr\": 0.85, \n",
    "            \"tocond\": 7, \n",
    "            \"id\": \"to 7\", \n",
    "            \"next\": \"(0, 0)\"\n",
    "          }, \n",
    "          {\n",
    "            \"pr\": 0.15, \n",
    "            \"tocond\": 8, \n",
    "            \"id\": \"to 8\", \n",
    "            \"next\": \"(4, 4)\"\n",
    "          }\n",
    "        ], \n",
    "        \"id\": \"(14, 7)\"\n",
    "      }\n",
    "    ], \n",
    "    \"agegrp\": 2\n",
    "  }\n",
    "]\n",
    "\"\"\""
   ]
  },
  {
   "cell_type": "code",
   "execution_count": 13,
   "metadata": {},
   "outputs": [
    {
     "data": {
      "text/plain": [
       "2-element Array{Any,1}:\n",
       " Dict{String,Any}(\"nodes\" => Any[Dict{String,Any}(\"branches\" => Any[Dict{String,Any}(\"tocond\" => 7,\"next\" => \"(0, 0)\",\"id\" => \"to 7\",\"pr\" => 1.0), Dict{String,Any}(\"tocond\" => 7,\"next\" => \"(0, 0)\",\"id\" => \"to 7\",\"pr\" => 0.85), Dict{String,Any}(\"tocond\" => 8,\"next\" => \"(4, 4)\",\"id\" => \"to 8\",\"pr\" => 0.15)],\"id\" => \"(14, 6)\")],\"agegrp\" => 1)\n",
       " Dict{String,Any}(\"nodes\" => Any[Dict{String,Any}(\"branches\" => Any[Dict{String,Any}(\"tocond\" => 7,\"next\" => \"(0, 0)\",\"id\" => \"to 7\",\"pr\" => 1.0)],\"id\" => \"(14, 6)\"), Dict{String,Any}(\"branches\" => Any[Dict{String,Any}(\"tocond\" => 7,\"next\" => \"(0, 0)\",\"id\" => \"to 7\",\"pr\" => 0.85), Dict{String,Any}(\"tocond\" => 8,\"next\" => \"(4, 4)\",\"id\" => \"to 8\",\"pr\" => 0.15)],\"id\" => \"(14, 7)\")],\"agegrp\" => 2)"
      ]
     },
     "execution_count": 13,
     "metadata": {},
     "output_type": "execute_result"
    }
   ],
   "source": [
    "tst = JSON.parse(jsontxt)"
   ]
  },
  {
   "cell_type": "code",
   "execution_count": 14,
   "metadata": {},
   "outputs": [
    {
     "data": {
      "text/plain": [
       "Base.KeySet for a Dict{String,Any} with 2 entries. Keys:\n",
       "  \"nodes\"\n",
       "  \"agegrp\""
      ]
     },
     "execution_count": 14,
     "metadata": {},
     "output_type": "execute_result"
    }
   ],
   "source": [
    "keys(tst[2])"
   ]
  },
  {
   "cell_type": "code",
   "execution_count": 15,
   "metadata": {},
   "outputs": [
    {
     "data": {
      "text/plain": [
       "2-element Array{Any,1}:\n",
       " Dict{String,Any}(\"branches\" => Any[Dict{String,Any}(\"tocond\" => 7,\"next\" => \"(0, 0)\",\"id\" => \"to 7\",\"pr\" => 1.0)],\"id\" => \"(14, 6)\")\n",
       " Dict{String,Any}(\"branches\" => Any[Dict{String,Any}(\"tocond\" => 7,\"next\" => \"(0, 0)\",\"id\" => \"to 7\",\"pr\" => 0.85), Dict{String,Any}(\"tocond\" => 8,\"next\" => \"(4, 4)\",\"id\" => \"to 8\",\"pr\" => 0.15)],\"id\" => \"(14, 7)\")"
      ]
     },
     "execution_count": 15,
     "metadata": {},
     "output_type": "execute_result"
    }
   ],
   "source": [
    "tst[2][\"nodes\"]"
   ]
  },
  {
   "cell_type": "code",
   "execution_count": 16,
   "metadata": {},
   "outputs": [
    {
     "data": {
      "text/plain": [
       "2"
      ]
     },
     "execution_count": 16,
     "metadata": {},
     "output_type": "execute_result"
    }
   ],
   "source": [
    "tst[2][\"agegrp\"]"
   ]
  },
  {
   "cell_type": "code",
   "execution_count": 17,
   "metadata": {},
   "outputs": [
    {
     "data": {
      "text/plain": [
       "\"{\\n\\\"1\\\":{\\n      \\\"(5,5)\\\":[{\\\"tocond\\\":5,\\\"pr\\\":0.2,\\\"next\\\":[9,5]},\\n                {\\\"tocond\\\":6,\\\"pr\\\":0.65,\\\"next\\\":[9,6]},\\n                {\\\"tocond\\\":7,\\\"pr\\\":0.15,\\\"next\\\":[9,7]}],\\n      \\\"(9,5)\\\":[{\\\"tocond\\\":3,\\\"pr\\\":0.8,\\\"next\\\":[0,0]},\\n                {\\\"tocond\\\":7,\\\"pr\\\":0.2,\\\"next\\\":[14,7]}],\\n      \\\"(9,6)\\\":[{\\\"tocond\\\":6,\\\"pr\\\":1.0,\\\"next\\\":[14,6]}],\\n      \\\"(9,7)\\\":[{\\\"tocond\\\":7,\\\"pr\\\":0.85,\\\"next\\\":[14,7]},\\n                {\\\"tocond\\\":8,\\\"pr\\\":0.15,\\\"next\\\":[14,8]}],\\n      \\\"(14,6)\\\":[{\\\"tocond\\\":3,\\\"pr\\\":1.0,\\\"next\\\":[0,0]}],\\n      \\\"(14,7)\\\":[{\\\"tocond\\\":3,\\\"pr\\\":0.85,\\\"next\\\":[0,0]},\\n                {\\\"tocond\\\":8,\\\"pr\\\":0.15,\\\"next\\\":[19,8]}],\\n      \\\"(14,8)\\\":[{\\\"tocond\\\":3,\\\"pr\\\":0.45,\\\"next\\\":[0,0]},\\n                {\\\"tocond\\\":8,\\\"pr\\\":0.5,\\\"next\\\":[19,8]},\\n                {\\\"tocond\\\":4,\\\"pr\\\":0.05,\\\"next\\\":[0,5]}],\\n      \\\"(19,8)\\\":[{\\\"tocond\\\":3,\\\"pr\\\":0.9,\\\"next\\\":[0,0]},\\n                {\\\"tocond\\\":4,\\\"pr\\\":0.1,\\\"next\\\":[0,5]}]\\n    },\\n \\\"2\\\":{\\n      \\\"(5,5)\\\":[{\\\"tocond\\\":5,\\\"pr\\\":0.2,\\\"next\\\":[9,5]},\\n                {\\\"tocond\\\":6,\\\"pr\\\":0.65,\\\"next\\\":[9,6]},\\n                {\\\"tocond\\\":7,\\\"pr\\\":0.15,\\\"next\\\":[9,7]}],\\n      \\\"(9,5)\\\":[{\\\"tocond\\\":3,\\\"pr\\\":0.8,\\\"next\\\":[0,0]},\\n                {\\\"tocond\\\":7,\\\"pr\\\":0.2,\\\"next\\\":[14,7]}],\\n      \\\"(9,6)\\\":[{\\\"tocond\\\":6,\\\"pr\\\":1.0,\\\"next\\\":[14,6]}],\\n      \\\"(9,7)\\\":[{\\\"tocond\\\":7,\\\"pr\\\":0.85,\\\"next\\\":[14,7]},\\n                {\\\"tocond\\\":8,\\\"pr\\\":0.15,\\\"next\\\":[14,8]}],\\n      \\\"(14,6)\\\":[{\\\"tocond\\\":3,\\\"pr\\\":1.0,\\\"next\\\":[0,0]}],\\n      \\\"(14,7)\\\":[{\\\"tocond\\\":3,\\\"pr\\\":0.8,\\\"next\\\":[10,0]},\\n                {\\\"tocond\\\":8,\\\"pr\\\":0.2,\\\"next\\\":[19,8]}],\\n      \\\"(14,8)\\\":[{\\\"tocond\\\":3,\\\"pr\\\":0.35,\\\"next\\\":[0,0]},\\n                {\\\"tocond\\\":8,\\\"pr\\\":0.55,\\\"next\\\":[19,8]},\\n                {\\\"tocond\\\":4,\\\"pr\\\":0.1,\\\"next\\\":[0,5]}],\\n      \\\"(19,8)\\\":[{\\\"tocond\\\":3,\\\"pr\\\":0.85,\\\"next\\\":[0,0]},\\n                {\\\"tocond\\\":4,\\\"pr\\\":0.15,\\\"next\\\":[0,5]}]\\n      },\\n \\\"3\\\":{\\n      \\\"(5,5)\\\":[{\\\"tocond\\\":5,\\\"pr\\\":0.2,\\\"next\\\":[9,5]},\\n                {\\\"tocond\\\":6,\\\"pr\\\":0.6,\\\"next\\\":[9,6]},\\n                {\\\"tocond\\\":7,\\\"pr\\\":0.2,\\\"next\\\":[9,7]}],\\n      \\\"(9,5)\\\":[{\\\"tocond\\\":3,\\\"pr\\\":0.7,\\\"next\\\":[0,0]},\\n                {\\\"tocond\\\":7,\\\"pr\\\":0.3,\\\"next\\\":[14,7]}],\\n      \\\"(9,6)\\\":[{\\\"tocond\\\":6,\\\"pr\\\":1.0,\\\"next\\\":[14,6]}],\\n      \\\"(9,7)\\\":[{\\\"tocond\\\":7,\\\"pr\\\":0.85,\\\"next\\\":[14,7]},\\n                {\\\"tocond\\\":8,\\\"pr\\\":0.15,\\\"next\\\":[14,8]}],\\n      \\\"(14,6)\\\":[{\\\"tocond\\\":3,\\\"pr\\\":1.0,\\\"next\\\":[0,0]}],\\n      \\\"(14,7)\\\":[{\\\"tocond\\\":3,\\\"pr\\\":0.8,\\\"next\\\":[10,0]},\\n                {\\\"tocond\\\":8,\\\"pr\\\":0.2,\\\"next\\\":[19,8]}],\\n      \\\"(14,8)\\\":[{\\\"tocond\\\":3,\\\"pr\\\":0.35,\\\"next\\\":[0,0]},\\n                {\\\"tocond\\\":8,\\\"pr\\\":0.55,\\\"next\\\":[19,8]},\\n                {\\\"tocond\\\":4,\\\"pr\\\":0.1,\\\"next\\\":[0,5]}],\\n      \\\"(19,8)\\\":[{\\\"tocond\\\":3,\\\"pr\\\":0.85,\\\"next\\\":[0,0]},\\n                {\\\"tocond\\\":4,\\\"pr\\\":0.15,\\\"next\\\":[0,5]}]\\n      },\\n \\\"4\\\":{\\n      \\\"(5,5)\\\":[{\\\"tocond\\\":5,\\\"pr\\\":0.2,\\\"next\\\":[9,5]},\\n                {\\\"tocond\\\":6,\\\"pr\\\":0.65,\\\"next\\\":[9,6]},\\n                {\\\"tocond\\\":7,\\\"pr\\\":0.15,\\\"next\\\":[9,7]}],\\n      \\\"(9,5)\\\":[{\\\"tocond\\\":3,\\\"pr\\\":0.8,\\\"next\\\":[0,0]},\\n                {\\\"tocond\\\":7,\\\"pr\\\":0.2,\\\"next\\\":[14,7]}],\\n      \\\"(9,6)\\\":[{\\\"tocond\\\":6,\\\"pr\\\":1.0,\\\"next\\\":[14,6]}],\\n      \\\"(9,7)\\\":[{\\\"tocond\\\":7,\\\"pr\\\":0.85,\\\"next\\\":[14,7]},\\n                {\\\"tocond\\\":8,\\\"pr\\\":0.15,\\\"next\\\":[14,8]}],\\n      \\\"(14,6)\\\":[{\\\"tocond\\\":3,\\\"pr\\\":1.0,\\\"next\\\":[0,0]}],\\n      \\\"(14,7)\\\":[{\\\"tocond\\\":3,\\\"pr\\\":0.8,\\\"next\\\":[10,0]},\\n                {\\\"tocond\\\":8,\\\"pr\\\":0.2,\\\"next\\\":[19,8]}],\\n      \\\"(14,8)\\\":[{\\\"tocond\\\":3,\\\"pr\\\":0.35,\\\"next\\\":[0,0]},\\n                {\\\"tocond\\\":8,\\\"pr\\\":0.55,\\\"next\\\":[19,8]},\\n                {\\\"tocond\\\":4,\\\"pr\\\":0.1,\\\"next\\\":[0,5]}],\\n      \\\"(19,8)\\\":[{\\\"tocond\\\":3,\\\"pr\\\":0.85,\\\"next\\\":[0,0]},\\n                {\\\"tocond\\\":4,\\\"pr\\\":0.15,\\\"next\\\":[0,5]}]\\n      },\\n \\\"5\\\":{\\n      \\\"(5,5)\\\":[{\\\"tocond\\\":5,\\\"pr\\\":0.2,\\\"next\\\":[9,5]},\\n                {\\\"tocond\\\":6,\\\"pr\\\":0.65,\\\"next\\\":[9,6]},\\n                {\\\"tocond\\\":7,\\\"pr\\\":0.15,\\\"next\\\":[9,7]}],\\n      \\\"(9,5)\\\":[{\\\"tocond\\\":3,\\\"pr\\\":0.8,\\\"next\\\":[0,0]},\\n                {\\\"tocond\\\":7,\\\"pr\\\":0.2,\\\"next\\\":[14,7]}],\\n      \\\"(9,6)\\\":[{\\\"tocond\\\":6,\\\"pr\\\":1.0,\\\"next\\\":[14,6]}],\\n      \\\"(9,7)\\\":[{\\\"tocond\\\":7,\\\"pr\\\":0.85,\\\"next\\\":[14,7]},\\n                {\\\"tocond\\\":8,\\\"pr\\\":0.15,\\\"next\\\":[14,8]}],\\n      \\\"(14,6)\\\":[{\\\"tocond\\\":3,\\\"pr\\\":1.0,\\\"next\\\":[0,0]}],\\n      \\\"(14,7)\\\":[{\\\"tocond\\\":3,\\\"pr\\\":0.8,\\\"next\\\":[10,0]},\\n                {\\\"tocond\\\":8,\\\"pr\\\":0.2,\\\"next\\\":[19,8]}],\\n      \\\"(14,8)\\\":[{\\\"tocond\\\":3,\\\"pr\\\":0.35,\\\"next\\\":[0,0]},\\n                {\\\"tocond\\\":8,\\\"pr\\\":0.55,\\\"next\\\":[19,8]},\\n                {\\\"tocond\\\":4,\\\"pr\\\":0.1,\\\"next\\\":[0,5]}],\\n      \\\"(19,8)\\\":[{\\\"tocond\\\":3,\\\"pr\\\":0.85,\\\"next\\\":[0,0]},\\n                {\\\"tocond\\\":4,\\\"pr\\\":0.15,\\\"next\\\":[0,5]}]\\n      }\\n\\n}\\n\""
      ]
     },
     "execution_count": 17,
     "metadata": {},
     "output_type": "execute_result"
    }
   ],
   "source": [
    "# this is hand authored json\n",
    "jsonhand = \"\"\"\n",
    "{\n",
    "\"1\":{\n",
    "      \"(5,5)\":[{\"tocond\":5,\"pr\":0.2,\"next\":[9,5]},\n",
    "                {\"tocond\":6,\"pr\":0.65,\"next\":[9,6]},\n",
    "                {\"tocond\":7,\"pr\":0.15,\"next\":[9,7]}],\n",
    "      \"(9,5)\":[{\"tocond\":3,\"pr\":0.8,\"next\":[0,0]},\n",
    "                {\"tocond\":7,\"pr\":0.2,\"next\":[14,7]}],\n",
    "      \"(9,6)\":[{\"tocond\":6,\"pr\":1.0,\"next\":[14,6]}],\n",
    "      \"(9,7)\":[{\"tocond\":7,\"pr\":0.85,\"next\":[14,7]},\n",
    "                {\"tocond\":8,\"pr\":0.15,\"next\":[14,8]}],\n",
    "      \"(14,6)\":[{\"tocond\":3,\"pr\":1.0,\"next\":[0,0]}],\n",
    "      \"(14,7)\":[{\"tocond\":3,\"pr\":0.85,\"next\":[0,0]},\n",
    "                {\"tocond\":8,\"pr\":0.15,\"next\":[19,8]}],\n",
    "      \"(14,8)\":[{\"tocond\":3,\"pr\":0.45,\"next\":[0,0]},\n",
    "                {\"tocond\":8,\"pr\":0.5,\"next\":[19,8]},\n",
    "                {\"tocond\":4,\"pr\":0.05,\"next\":[0,5]}],\n",
    "      \"(19,8)\":[{\"tocond\":3,\"pr\":0.9,\"next\":[0,0]},\n",
    "                {\"tocond\":4,\"pr\":0.1,\"next\":[0,5]}]\n",
    "    },\n",
    " \"2\":{\n",
    "      \"(5,5)\":[{\"tocond\":5,\"pr\":0.2,\"next\":[9,5]},\n",
    "                {\"tocond\":6,\"pr\":0.65,\"next\":[9,6]},\n",
    "                {\"tocond\":7,\"pr\":0.15,\"next\":[9,7]}],\n",
    "      \"(9,5)\":[{\"tocond\":3,\"pr\":0.8,\"next\":[0,0]},\n",
    "                {\"tocond\":7,\"pr\":0.2,\"next\":[14,7]}],\n",
    "      \"(9,6)\":[{\"tocond\":6,\"pr\":1.0,\"next\":[14,6]}],\n",
    "      \"(9,7)\":[{\"tocond\":7,\"pr\":0.85,\"next\":[14,7]},\n",
    "                {\"tocond\":8,\"pr\":0.15,\"next\":[14,8]}],\n",
    "      \"(14,6)\":[{\"tocond\":3,\"pr\":1.0,\"next\":[0,0]}],\n",
    "      \"(14,7)\":[{\"tocond\":3,\"pr\":0.8,\"next\":[10,0]},\n",
    "                {\"tocond\":8,\"pr\":0.2,\"next\":[19,8]}],\n",
    "      \"(14,8)\":[{\"tocond\":3,\"pr\":0.35,\"next\":[0,0]},\n",
    "                {\"tocond\":8,\"pr\":0.55,\"next\":[19,8]},\n",
    "                {\"tocond\":4,\"pr\":0.1,\"next\":[0,5]}],\n",
    "      \"(19,8)\":[{\"tocond\":3,\"pr\":0.85,\"next\":[0,0]},\n",
    "                {\"tocond\":4,\"pr\":0.15,\"next\":[0,5]}]\n",
    "      },\n",
    " \"3\":{\n",
    "      \"(5,5)\":[{\"tocond\":5,\"pr\":0.2,\"next\":[9,5]},\n",
    "                {\"tocond\":6,\"pr\":0.6,\"next\":[9,6]},\n",
    "                {\"tocond\":7,\"pr\":0.2,\"next\":[9,7]}],\n",
    "      \"(9,5)\":[{\"tocond\":3,\"pr\":0.7,\"next\":[0,0]},\n",
    "                {\"tocond\":7,\"pr\":0.3,\"next\":[14,7]}],\n",
    "      \"(9,6)\":[{\"tocond\":6,\"pr\":1.0,\"next\":[14,6]}],\n",
    "      \"(9,7)\":[{\"tocond\":7,\"pr\":0.85,\"next\":[14,7]},\n",
    "                {\"tocond\":8,\"pr\":0.15,\"next\":[14,8]}],\n",
    "      \"(14,6)\":[{\"tocond\":3,\"pr\":1.0,\"next\":[0,0]}],\n",
    "      \"(14,7)\":[{\"tocond\":3,\"pr\":0.8,\"next\":[10,0]},\n",
    "                {\"tocond\":8,\"pr\":0.2,\"next\":[19,8]}],\n",
    "      \"(14,8)\":[{\"tocond\":3,\"pr\":0.35,\"next\":[0,0]},\n",
    "                {\"tocond\":8,\"pr\":0.55,\"next\":[19,8]},\n",
    "                {\"tocond\":4,\"pr\":0.1,\"next\":[0,5]}],\n",
    "      \"(19,8)\":[{\"tocond\":3,\"pr\":0.85,\"next\":[0,0]},\n",
    "                {\"tocond\":4,\"pr\":0.15,\"next\":[0,5]}]\n",
    "      },\n",
    " \"4\":{\n",
    "      \"(5,5)\":[{\"tocond\":5,\"pr\":0.2,\"next\":[9,5]},\n",
    "                {\"tocond\":6,\"pr\":0.65,\"next\":[9,6]},\n",
    "                {\"tocond\":7,\"pr\":0.15,\"next\":[9,7]}],\n",
    "      \"(9,5)\":[{\"tocond\":3,\"pr\":0.8,\"next\":[0,0]},\n",
    "                {\"tocond\":7,\"pr\":0.2,\"next\":[14,7]}],\n",
    "      \"(9,6)\":[{\"tocond\":6,\"pr\":1.0,\"next\":[14,6]}],\n",
    "      \"(9,7)\":[{\"tocond\":7,\"pr\":0.85,\"next\":[14,7]},\n",
    "                {\"tocond\":8,\"pr\":0.15,\"next\":[14,8]}],\n",
    "      \"(14,6)\":[{\"tocond\":3,\"pr\":1.0,\"next\":[0,0]}],\n",
    "      \"(14,7)\":[{\"tocond\":3,\"pr\":0.8,\"next\":[10,0]},\n",
    "                {\"tocond\":8,\"pr\":0.2,\"next\":[19,8]}],\n",
    "      \"(14,8)\":[{\"tocond\":3,\"pr\":0.35,\"next\":[0,0]},\n",
    "                {\"tocond\":8,\"pr\":0.55,\"next\":[19,8]},\n",
    "                {\"tocond\":4,\"pr\":0.1,\"next\":[0,5]}],\n",
    "      \"(19,8)\":[{\"tocond\":3,\"pr\":0.85,\"next\":[0,0]},\n",
    "                {\"tocond\":4,\"pr\":0.15,\"next\":[0,5]}]\n",
    "      },\n",
    " \"5\":{\n",
    "      \"(5,5)\":[{\"tocond\":5,\"pr\":0.2,\"next\":[9,5]},\n",
    "                {\"tocond\":6,\"pr\":0.65,\"next\":[9,6]},\n",
    "                {\"tocond\":7,\"pr\":0.15,\"next\":[9,7]}],\n",
    "      \"(9,5)\":[{\"tocond\":3,\"pr\":0.8,\"next\":[0,0]},\n",
    "                {\"tocond\":7,\"pr\":0.2,\"next\":[14,7]}],\n",
    "      \"(9,6)\":[{\"tocond\":6,\"pr\":1.0,\"next\":[14,6]}],\n",
    "      \"(9,7)\":[{\"tocond\":7,\"pr\":0.85,\"next\":[14,7]},\n",
    "                {\"tocond\":8,\"pr\":0.15,\"next\":[14,8]}],\n",
    "      \"(14,6)\":[{\"tocond\":3,\"pr\":1.0,\"next\":[0,0]}],\n",
    "      \"(14,7)\":[{\"tocond\":3,\"pr\":0.8,\"next\":[10,0]},\n",
    "                {\"tocond\":8,\"pr\":0.2,\"next\":[19,8]}],\n",
    "      \"(14,8)\":[{\"tocond\":3,\"pr\":0.35,\"next\":[0,0]},\n",
    "                {\"tocond\":8,\"pr\":0.55,\"next\":[19,8]},\n",
    "                {\"tocond\":4,\"pr\":0.1,\"next\":[0,5]}],\n",
    "      \"(19,8)\":[{\"tocond\":3,\"pr\":0.85,\"next\":[0,0]},\n",
    "                {\"tocond\":4,\"pr\":0.15,\"next\":[0,5]}]\n",
    "      }\n",
    "\n",
    "}\n",
    "\"\"\""
   ]
  },
  {
   "cell_type": "code",
   "execution_count": 18,
   "metadata": {
    "collapsed": true,
    "jupyter": {
     "outputs_hidden": true
    },
    "tags": []
   },
   "outputs": [
    {
     "data": {
      "text/plain": [
       "Dict{String,Any} with 5 entries:\n",
       "  \"4\" => Dict{String,Any}(\"(9,6)\"=>Any[Dict{String,Any}(\"tocond\"=>6,\"next\"=>Any…\n",
       "  \"1\" => Dict{String,Any}(\"(9,6)\"=>Any[Dict{String,Any}(\"tocond\"=>6,\"next\"=>Any…\n",
       "  \"5\" => Dict{String,Any}(\"(9,6)\"=>Any[Dict{String,Any}(\"tocond\"=>6,\"next\"=>Any…\n",
       "  \"2\" => Dict{String,Any}(\"(9,6)\"=>Any[Dict{String,Any}(\"tocond\"=>6,\"next\"=>Any…\n",
       "  \"3\" => Dict{String,Any}(\"(9,6)\"=>Any[Dict{String,Any}(\"tocond\"=>6,\"next\"=>Any…"
      ]
     },
     "execution_count": 18,
     "metadata": {},
     "output_type": "execute_result"
    }
   ],
   "source": [
    "hand = JSON.parse(jsonhand)"
   ]
  },
  {
   "cell_type": "code",
   "execution_count": 19,
   "metadata": {},
   "outputs": [
    {
     "data": {
      "text/plain": [
       "Dict{String,Any} with 8 entries:\n",
       "  \"(9,6)\"  => Any[Dict{String,Any}(\"tocond\"=>6,\"next\"=>Any[14, 6],\"pr\"=>1.0)]\n",
       "  \"(9,5)\"  => Any[Dict{String,Any}(\"tocond\"=>3,\"next\"=>Any[0, 0],\"pr\"=>0.8), Di…\n",
       "  \"(14,6)\" => Any[Dict{String,Any}(\"tocond\"=>3,\"next\"=>Any[0, 0],\"pr\"=>1.0)]\n",
       "  \"(9,7)\"  => Any[Dict{String,Any}(\"tocond\"=>7,\"next\"=>Any[14, 7],\"pr\"=>0.85), …\n",
       "  \"(5,5)\"  => Any[Dict{String,Any}(\"tocond\"=>5,\"next\"=>Any[9, 5],\"pr\"=>0.2), Di…\n",
       "  \"(14,8)\" => Any[Dict{String,Any}(\"tocond\"=>3,\"next\"=>Any[0, 0],\"pr\"=>0.45), D…\n",
       "  \"(14,7)\" => Any[Dict{String,Any}(\"tocond\"=>3,\"next\"=>Any[0, 0],\"pr\"=>0.85), D…\n",
       "  \"(19,8)\" => Any[Dict{String,Any}(\"tocond\"=>3,\"next\"=>Any[0, 0],\"pr\"=>0.9), Di…"
      ]
     },
     "execution_count": 19,
     "metadata": {},
     "output_type": "execute_result"
    }
   ],
   "source": [
    "hand[\"1\"]"
   ]
  },
  {
   "cell_type": "code",
   "execution_count": 20,
   "metadata": {},
   "outputs": [
    {
     "data": {
      "text/plain": [
       "3-element Array{Any,1}:\n",
       " Dict{String,Any}(\"tocond\" => 5,\"next\" => Any[9, 5],\"pr\" => 0.2)\n",
       " Dict{String,Any}(\"tocond\" => 6,\"next\" => Any[9, 6],\"pr\" => 0.65)\n",
       " Dict{String,Any}(\"tocond\" => 7,\"next\" => Any[9, 7],\"pr\" => 0.15)"
      ]
     },
     "execution_count": 20,
     "metadata": {},
     "output_type": "execute_result"
    }
   ],
   "source": [
    "hand[\"1\"][\"(5,5)\"]"
   ]
  },
  {
   "cell_type": "code",
   "execution_count": 21,
   "metadata": {},
   "outputs": [],
   "source": [
    "using YAML"
   ]
  },
  {
   "cell_type": "code",
   "execution_count": 22,
   "metadata": {},
   "outputs": [],
   "source": [
    "YAML.write_file(\"../parameters/test-output.yml\", hand)"
   ]
  },
  {
   "cell_type": "code",
   "execution_count": 23,
   "metadata": {},
   "outputs": [
    {
     "data": {
      "text/plain": [
       "\"4:\\n  (9,6):\\n    - tocond: 6\\n      next:\\n        - 14\\n        - 6\\n      pr: 1.0\\n  (9,5):\\n    - tocond: 3\\n      next:\\n        - 0\\n        - 0\\n      pr: 0.8\\n    - tocond: 7\\n      next:\\n        - 14\\n        - 7\\n      pr: 0.2\\n  (14,6):\\n    - tocond: 3\\n      next:\\n        - 0\\n        - 0\\n      pr: 1.0\\n  (9,7):\\n    - tocond: 7\\n      next:\\n        - 14\\n        - 7\\n      pr: 0.85\\n    - tocond: 8\\n      next:\\n        - 14\\n        - 8\\n      pr: 0.15\\n  (5,5):\\n    - tocond: 5\\n      next:\\n        - 9\\n        - 5\\n      pr: 0.2\\n    - tocond: 6\\n      next:\\n        - 9\\n        - 6\\n      pr: 0.65\\n    - tocond: 7\\n      next:\\n        - 9\\n        - 7\\n      pr: 0.15\\n  (14,8):\\n    - tocond: 3\\n      next:\\n        - 0\\n        - 0\\n      pr: 0.35\\n    - tocond: 8\\n      next:\\n        - 19\\n        - 8\\n      pr: 0.55\\n    - tocond: 4\\n      next:\\n        - 0\\n        - 5\\n      pr: 0.1\\n  (14,7):\\n    - tocond: 3\\n      next:\\n        - 10\\n        - 0\\n      pr: 0.8\\n    - tocond: 8\\n      next:\\n        - 19\\n        - 8\\n      pr: 0.2\\n  (19,8):\\n    - tocond: 3\\n      next:\\n        - 0\\n        - 0\\n      pr: 0.85\\n    - tocond: 4\\n      next:\\n        - 0\\n        - 5\\n      pr: 0.15\\n1:\\n  (9,6):\\n    - tocond: 6\\n      next:\\n        - 14\\n        - 6\\n      pr: 1.0\\n  (9,5):\\n    - tocond: 3\\n      next:\\n        - 0\\n        - 0\\n      pr: 0.8\\n    - tocond: 7\\n      next:\\n        - 14\\n        - 7\\n      pr: 0.2\\n  (14,6):\\n    - tocond: 3\\n      next:\\n        - 0\\n        - 0\\n      pr: 1.0\\n  (9,7):\\n    - tocond: 7\\n      next:\\n        - 14\\n        - 7\\n      pr: 0.85\\n    - tocond: 8\\n      next:\\n        - 14\\n        - 8\\n      pr: 0.15\\n  (5,5):\\n    - tocond: 5\\n      next:\\n        - 9\\n        - 5\\n      pr: 0.2\\n    - tocond: 6\\n      next:\\n        - 9\\n        - 6\\n      pr: 0.65\\n    - tocond: 7\\n      next:\\n        - 9\\n        - 7\\n      pr: 0.15\\n  (14,8):\\n    - tocond: 3\\n      next:\\n        - 0\\n        - 0\\n      pr: 0.45\\n    - tocond: 8\\n      next:\\n        - 19\\n        - 8\\n      pr: 0.5\\n    - tocond: 4\\n      next:\\n        - 0\\n        - 5\\n      pr: 0.05\\n  (14,7):\\n    - tocond: 3\\n      next:\\n        - 0\\n        - 0\\n      pr: 0.85\\n    - tocond: 8\\n      next:\\n        - 19\\n        - 8\\n      pr: 0.15\\n  (19,8):\\n    - tocond: 3\\n      next:\\n        - 0\\n        - 0\\n      pr: 0.9\\n    - tocond: 4\\n      next:\\n        - 0\\n        - 5\\n      pr: 0.1\\n5:\\n  (9,6):\\n    - tocond: 6\\n      next:\\n        - 14\\n        - 6\\n      pr: 1.0\\n  (9,5):\\n    - tocond: 3\\n      next:\\n        - 0\\n        - 0\\n      pr: 0.8\\n    - tocond: 7\\n      next:\\n        - 14\\n        - 7\\n      pr: 0.2\\n  (14,6):\\n    - tocond: 3\\n      next:\\n        - 0\\n        - 0\\n      pr: 1.0\\n  (9,7):\\n    - tocond: 7\\n      next:\\n        - 14\\n        - 7\\n      pr: 0.85\\n    - tocond: 8\\n      next:\\n        - 14\\n        - 8\\n      pr: 0.15\\n  (5,5):\\n    - tocond: 5\\n      next:\\n        - 9\\n        - 5\\n      pr: 0.2\\n    - tocond: 6\\n      next:\\n        - 9\\n        - 6\\n      pr: 0.65\\n    - tocond: 7\\n      next:\\n        - 9\\n        - 7\\n      pr: 0.15\\n  (14,8):\\n    - tocond: 3\\n      next:\\n        - 0\\n        - 0\\n      pr: 0.35\\n    - tocond: 8\\n      next:\\n        - 19\\n        - 8\\n      pr: 0.55\\n    - tocond: 4\\n      next:\\n        - 0\\n        - 5\\n      pr: 0.1\\n  (14,7):\\n    - tocond: 3\\n      next:\\n        - 10\\n        - 0\\n      pr: 0.8\\n    - tocond: 8\\n      next:\\n        - 19\\n        - 8\\n      pr: 0.2\\n  (19,8):\\n    - tocond: 3\\n      next:\\n        - 0\\n        - 0\\n      pr: 0.85\\n    - tocond: 4\\n      next:\\n        - 0\\n        - 5\\n      pr: 0.15\\n2:\\n  (9,6):\\n    - tocond: 6\\n      next:\\n        - 14\\n        - 6\\n      pr: 1.0\\n  (9,5):\\n    - tocond: 3\\n      next:\\n        - 0\\n        - 0\\n      pr: 0.8\\n    - tocond: 7\\n      next:\\n        - 14\\n        - 7\\n      pr: 0.2\\n  (14,6):\\n    - tocond: 3\\n      next:\\n        - 0\\n        - 0\\n      pr: 1.0\\n  (9,7):\\n    - tocond: 7\\n      next:\\n        - 14\\n        - 7\\n      pr: 0.85\\n    - tocond: 8\\n      next:\\n        - 14\\n        - 8\\n      pr: 0.15\\n  (5,5):\\n    - tocond: 5\\n      next:\\n        - 9\\n        - 5\\n      pr: 0.2\\n    - tocond: 6\\n      next:\\n        - 9\\n        - 6\\n      pr: 0.65\\n    - tocond: 7\\n      next:\\n        - 9\\n        - 7\\n      pr: 0.15\\n  (14,8):\\n    - tocond: 3\\n      next:\\n        - 0\\n        - 0\\n      pr: 0.35\\n    - tocond: 8\\n      next:\\n        - 19\\n        - 8\\n      pr: 0.55\\n    - tocond: 4\\n      next:\\n        - 0\\n        - 5\\n      pr: 0.1\\n  (14,7):\\n    - tocond: 3\\n      next:\\n        - 10\\n        - 0\\n      pr: 0.8\\n    - tocond: 8\\n      next:\\n        - 19\\n        - 8\\n      pr: 0.2\\n  (19,8):\\n    - tocond: 3\\n      next:\\n        - 0\\n        - 0\\n      pr: 0.85\\n    - tocond: 4\\n      next:\\n        - 0\\n        - 5\\n      pr: 0.15\\n3:\\n  (9,6):\\n    - tocond: 6\\n      next:\\n        - 14\\n        - 6\\n      pr: 1.0\\n  (9,5):\\n    - tocond: 3\\n      next:\\n        - 0\\n        - 0\\n      pr: 0.7\\n    - tocond: 7\\n      next:\\n        - 14\\n        - 7\\n      pr: 0.3\\n  (14,6):\\n    - tocond: 3\\n      next:\\n        - 0\\n        - 0\\n      pr: 1.0\\n  (9,7):\\n    - tocond: 7\\n      next:\\n        - 14\\n        - 7\\n      pr: 0.85\\n    - tocond: 8\\n      next:\\n        - 14\\n        - 8\\n      pr: 0.15\\n  (5,5):\\n    - tocond: 5\\n      next:\\n        - 9\\n        - 5\\n      pr: 0.2\\n    - tocond: 6\\n      next:\\n        - 9\\n        - 6\\n      pr: 0.6\\n    - tocond: 7\\n      next:\\n        - 9\\n        - 7\\n      pr: 0.2\\n  (14,8):\\n    - tocond: 3\\n      next:\\n        - 0\\n        - 0\\n      pr: 0.35\\n    - tocond: 8\\n      next:\\n        - 19\\n        - 8\\n      pr: 0.55\\n    - tocond: 4\\n      next:\\n        - 0\\n        - 5\\n      pr: 0.1\\n  (14,7):\\n    - tocond: 3\\n      next:\\n        - 10\\n        - 0\\n      pr: 0.8\\n    - tocond: 8\\n      next:\\n        - 19\\n        - 8\\n      pr: 0.2\\n  (19,8):\\n    - tocond: 3\\n      next:\\n        - 0\\n        - 0\\n      pr: 0.85\\n    - tocond: 4\\n      next:\\n        - 0\\n        - 5\\n      pr: 0.15\\n\""
      ]
     },
     "execution_count": 23,
     "metadata": {},
     "output_type": "execute_result"
    }
   ],
   "source": [
    "newyaml = \"\"\"\n",
    "4:\n",
    "  (9,6):\n",
    "    - tocond: 6\n",
    "      next:\n",
    "        - 14\n",
    "        - 6\n",
    "      pr: 1.0\n",
    "  (9,5):\n",
    "    - tocond: 3\n",
    "      next:\n",
    "        - 0\n",
    "        - 0\n",
    "      pr: 0.8\n",
    "    - tocond: 7\n",
    "      next:\n",
    "        - 14\n",
    "        - 7\n",
    "      pr: 0.2\n",
    "  (14,6):\n",
    "    - tocond: 3\n",
    "      next:\n",
    "        - 0\n",
    "        - 0\n",
    "      pr: 1.0\n",
    "  (9,7):\n",
    "    - tocond: 7\n",
    "      next:\n",
    "        - 14\n",
    "        - 7\n",
    "      pr: 0.85\n",
    "    - tocond: 8\n",
    "      next:\n",
    "        - 14\n",
    "        - 8\n",
    "      pr: 0.15\n",
    "  (5,5):\n",
    "    - tocond: 5\n",
    "      next:\n",
    "        - 9\n",
    "        - 5\n",
    "      pr: 0.2\n",
    "    - tocond: 6\n",
    "      next:\n",
    "        - 9\n",
    "        - 6\n",
    "      pr: 0.65\n",
    "    - tocond: 7\n",
    "      next:\n",
    "        - 9\n",
    "        - 7\n",
    "      pr: 0.15\n",
    "  (14,8):\n",
    "    - tocond: 3\n",
    "      next:\n",
    "        - 0\n",
    "        - 0\n",
    "      pr: 0.35\n",
    "    - tocond: 8\n",
    "      next:\n",
    "        - 19\n",
    "        - 8\n",
    "      pr: 0.55\n",
    "    - tocond: 4\n",
    "      next:\n",
    "        - 0\n",
    "        - 5\n",
    "      pr: 0.1\n",
    "  (14,7):\n",
    "    - tocond: 3\n",
    "      next:\n",
    "        - 10\n",
    "        - 0\n",
    "      pr: 0.8\n",
    "    - tocond: 8\n",
    "      next:\n",
    "        - 19\n",
    "        - 8\n",
    "      pr: 0.2\n",
    "  (19,8):\n",
    "    - tocond: 3\n",
    "      next:\n",
    "        - 0\n",
    "        - 0\n",
    "      pr: 0.85\n",
    "    - tocond: 4\n",
    "      next:\n",
    "        - 0\n",
    "        - 5\n",
    "      pr: 0.15\n",
    "1:\n",
    "  (9,6):\n",
    "    - tocond: 6\n",
    "      next:\n",
    "        - 14\n",
    "        - 6\n",
    "      pr: 1.0\n",
    "  (9,5):\n",
    "    - tocond: 3\n",
    "      next:\n",
    "        - 0\n",
    "        - 0\n",
    "      pr: 0.8\n",
    "    - tocond: 7\n",
    "      next:\n",
    "        - 14\n",
    "        - 7\n",
    "      pr: 0.2\n",
    "  (14,6):\n",
    "    - tocond: 3\n",
    "      next:\n",
    "        - 0\n",
    "        - 0\n",
    "      pr: 1.0\n",
    "  (9,7):\n",
    "    - tocond: 7\n",
    "      next:\n",
    "        - 14\n",
    "        - 7\n",
    "      pr: 0.85\n",
    "    - tocond: 8\n",
    "      next:\n",
    "        - 14\n",
    "        - 8\n",
    "      pr: 0.15\n",
    "  (5,5):\n",
    "    - tocond: 5\n",
    "      next:\n",
    "        - 9\n",
    "        - 5\n",
    "      pr: 0.2\n",
    "    - tocond: 6\n",
    "      next:\n",
    "        - 9\n",
    "        - 6\n",
    "      pr: 0.65\n",
    "    - tocond: 7\n",
    "      next:\n",
    "        - 9\n",
    "        - 7\n",
    "      pr: 0.15\n",
    "  (14,8):\n",
    "    - tocond: 3\n",
    "      next:\n",
    "        - 0\n",
    "        - 0\n",
    "      pr: 0.45\n",
    "    - tocond: 8\n",
    "      next:\n",
    "        - 19\n",
    "        - 8\n",
    "      pr: 0.5\n",
    "    - tocond: 4\n",
    "      next:\n",
    "        - 0\n",
    "        - 5\n",
    "      pr: 0.05\n",
    "  (14,7):\n",
    "    - tocond: 3\n",
    "      next:\n",
    "        - 0\n",
    "        - 0\n",
    "      pr: 0.85\n",
    "    - tocond: 8\n",
    "      next:\n",
    "        - 19\n",
    "        - 8\n",
    "      pr: 0.15\n",
    "  (19,8):\n",
    "    - tocond: 3\n",
    "      next:\n",
    "        - 0\n",
    "        - 0\n",
    "      pr: 0.9\n",
    "    - tocond: 4\n",
    "      next:\n",
    "        - 0\n",
    "        - 5\n",
    "      pr: 0.1\n",
    "5:\n",
    "  (9,6):\n",
    "    - tocond: 6\n",
    "      next:\n",
    "        - 14\n",
    "        - 6\n",
    "      pr: 1.0\n",
    "  (9,5):\n",
    "    - tocond: 3\n",
    "      next:\n",
    "        - 0\n",
    "        - 0\n",
    "      pr: 0.8\n",
    "    - tocond: 7\n",
    "      next:\n",
    "        - 14\n",
    "        - 7\n",
    "      pr: 0.2\n",
    "  (14,6):\n",
    "    - tocond: 3\n",
    "      next:\n",
    "        - 0\n",
    "        - 0\n",
    "      pr: 1.0\n",
    "  (9,7):\n",
    "    - tocond: 7\n",
    "      next:\n",
    "        - 14\n",
    "        - 7\n",
    "      pr: 0.85\n",
    "    - tocond: 8\n",
    "      next:\n",
    "        - 14\n",
    "        - 8\n",
    "      pr: 0.15\n",
    "  (5,5):\n",
    "    - tocond: 5\n",
    "      next:\n",
    "        - 9\n",
    "        - 5\n",
    "      pr: 0.2\n",
    "    - tocond: 6\n",
    "      next:\n",
    "        - 9\n",
    "        - 6\n",
    "      pr: 0.65\n",
    "    - tocond: 7\n",
    "      next:\n",
    "        - 9\n",
    "        - 7\n",
    "      pr: 0.15\n",
    "  (14,8):\n",
    "    - tocond: 3\n",
    "      next:\n",
    "        - 0\n",
    "        - 0\n",
    "      pr: 0.35\n",
    "    - tocond: 8\n",
    "      next:\n",
    "        - 19\n",
    "        - 8\n",
    "      pr: 0.55\n",
    "    - tocond: 4\n",
    "      next:\n",
    "        - 0\n",
    "        - 5\n",
    "      pr: 0.1\n",
    "  (14,7):\n",
    "    - tocond: 3\n",
    "      next:\n",
    "        - 10\n",
    "        - 0\n",
    "      pr: 0.8\n",
    "    - tocond: 8\n",
    "      next:\n",
    "        - 19\n",
    "        - 8\n",
    "      pr: 0.2\n",
    "  (19,8):\n",
    "    - tocond: 3\n",
    "      next:\n",
    "        - 0\n",
    "        - 0\n",
    "      pr: 0.85\n",
    "    - tocond: 4\n",
    "      next:\n",
    "        - 0\n",
    "        - 5\n",
    "      pr: 0.15\n",
    "2:\n",
    "  (9,6):\n",
    "    - tocond: 6\n",
    "      next:\n",
    "        - 14\n",
    "        - 6\n",
    "      pr: 1.0\n",
    "  (9,5):\n",
    "    - tocond: 3\n",
    "      next:\n",
    "        - 0\n",
    "        - 0\n",
    "      pr: 0.8\n",
    "    - tocond: 7\n",
    "      next:\n",
    "        - 14\n",
    "        - 7\n",
    "      pr: 0.2\n",
    "  (14,6):\n",
    "    - tocond: 3\n",
    "      next:\n",
    "        - 0\n",
    "        - 0\n",
    "      pr: 1.0\n",
    "  (9,7):\n",
    "    - tocond: 7\n",
    "      next:\n",
    "        - 14\n",
    "        - 7\n",
    "      pr: 0.85\n",
    "    - tocond: 8\n",
    "      next:\n",
    "        - 14\n",
    "        - 8\n",
    "      pr: 0.15\n",
    "  (5,5):\n",
    "    - tocond: 5\n",
    "      next:\n",
    "        - 9\n",
    "        - 5\n",
    "      pr: 0.2\n",
    "    - tocond: 6\n",
    "      next:\n",
    "        - 9\n",
    "        - 6\n",
    "      pr: 0.65\n",
    "    - tocond: 7\n",
    "      next:\n",
    "        - 9\n",
    "        - 7\n",
    "      pr: 0.15\n",
    "  (14,8):\n",
    "    - tocond: 3\n",
    "      next:\n",
    "        - 0\n",
    "        - 0\n",
    "      pr: 0.35\n",
    "    - tocond: 8\n",
    "      next:\n",
    "        - 19\n",
    "        - 8\n",
    "      pr: 0.55\n",
    "    - tocond: 4\n",
    "      next:\n",
    "        - 0\n",
    "        - 5\n",
    "      pr: 0.1\n",
    "  (14,7):\n",
    "    - tocond: 3\n",
    "      next:\n",
    "        - 10\n",
    "        - 0\n",
    "      pr: 0.8\n",
    "    - tocond: 8\n",
    "      next:\n",
    "        - 19\n",
    "        - 8\n",
    "      pr: 0.2\n",
    "  (19,8):\n",
    "    - tocond: 3\n",
    "      next:\n",
    "        - 0\n",
    "        - 0\n",
    "      pr: 0.85\n",
    "    - tocond: 4\n",
    "      next:\n",
    "        - 0\n",
    "        - 5\n",
    "      pr: 0.15\n",
    "3:\n",
    "  (9,6):\n",
    "    - tocond: 6\n",
    "      next:\n",
    "        - 14\n",
    "        - 6\n",
    "      pr: 1.0\n",
    "  (9,5):\n",
    "    - tocond: 3\n",
    "      next:\n",
    "        - 0\n",
    "        - 0\n",
    "      pr: 0.7\n",
    "    - tocond: 7\n",
    "      next:\n",
    "        - 14\n",
    "        - 7\n",
    "      pr: 0.3\n",
    "  (14,6):\n",
    "    - tocond: 3\n",
    "      next:\n",
    "        - 0\n",
    "        - 0\n",
    "      pr: 1.0\n",
    "  (9,7):\n",
    "    - tocond: 7\n",
    "      next:\n",
    "        - 14\n",
    "        - 7\n",
    "      pr: 0.85\n",
    "    - tocond: 8\n",
    "      next:\n",
    "        - 14\n",
    "        - 8\n",
    "      pr: 0.15\n",
    "  (5,5):\n",
    "    - tocond: 5\n",
    "      next:\n",
    "        - 9\n",
    "        - 5\n",
    "      pr: 0.2\n",
    "    - tocond: 6\n",
    "      next:\n",
    "        - 9\n",
    "        - 6\n",
    "      pr: 0.6\n",
    "    - tocond: 7\n",
    "      next:\n",
    "        - 9\n",
    "        - 7\n",
    "      pr: 0.2\n",
    "  (14,8):\n",
    "    - tocond: 3\n",
    "      next:\n",
    "        - 0\n",
    "        - 0\n",
    "      pr: 0.35\n",
    "    - tocond: 8\n",
    "      next:\n",
    "        - 19\n",
    "        - 8\n",
    "      pr: 0.55\n",
    "    - tocond: 4\n",
    "      next:\n",
    "        - 0\n",
    "        - 5\n",
    "      pr: 0.1\n",
    "  (14,7):\n",
    "    - tocond: 3\n",
    "      next:\n",
    "        - 10\n",
    "        - 0\n",
    "      pr: 0.8\n",
    "    - tocond: 8\n",
    "      next:\n",
    "        - 19\n",
    "        - 8\n",
    "      pr: 0.2\n",
    "  (19,8):\n",
    "    - tocond: 3\n",
    "      next:\n",
    "        - 0\n",
    "        - 0\n",
    "      pr: 0.85\n",
    "    - tocond: 4\n",
    "      next:\n",
    "        - 0\n",
    "        - 5\n",
    "      pr: 0.15\n",
    "\"\"\""
   ]
  },
  {
   "cell_type": "code",
   "execution_count": 24,
   "metadata": {},
   "outputs": [
    {
     "data": {
      "text/plain": [
       "Dict{Any,Any} with 5 entries:\n",
       "  4 => Dict{Any,Any}(\"(9,6)\"=>Dict{Any,Any}[Dict(\"tocond\"=>6,\"next\"=>[14, 6],\"p…\n",
       "  2 => Dict{Any,Any}(\"(9,6)\"=>Dict{Any,Any}[Dict(\"tocond\"=>6,\"next\"=>[14, 6],\"p…\n",
       "  3 => Dict{Any,Any}(\"(9,6)\"=>Dict{Any,Any}[Dict(\"tocond\"=>6,\"next\"=>[14, 6],\"p…\n",
       "  5 => Dict{Any,Any}(\"(9,6)\"=>Dict{Any,Any}[Dict(\"tocond\"=>6,\"next\"=>[14, 6],\"p…\n",
       "  1 => Dict{Any,Any}(\"(9,6)\"=>Dict{Any,Any}[Dict(\"tocond\"=>6,\"next\"=>[14, 6],\"p…"
      ]
     },
     "execution_count": 24,
     "metadata": {},
     "output_type": "execute_result"
    }
   ],
   "source": [
    "roundtrip_yaml = YAML.load(newyaml)"
   ]
  },
  {
   "cell_type": "code",
   "execution_count": 25,
   "metadata": {},
   "outputs": [
    {
     "data": {
      "text/plain": [
       "Dict{Any,Any} with 8 entries:\n",
       "  \"(9,6)\"  => Dict{Any,Any}[Dict(\"tocond\"=>6,\"next\"=>[14, 6],\"pr\"=>1.0)]\n",
       "  \"(9,5)\"  => Dict{Any,Any}[Dict(\"tocond\"=>3,\"next\"=>[0, 0],\"pr\"=>0.8), Dict(\"t…\n",
       "  \"(14,6)\" => Dict{Any,Any}[Dict(\"tocond\"=>3,\"next\"=>[0, 0],\"pr\"=>1.0)]\n",
       "  \"(9,7)\"  => Dict{Any,Any}[Dict(\"tocond\"=>7,\"next\"=>[14, 7],\"pr\"=>0.85), Dict(…\n",
       "  \"(5,5)\"  => Dict{Any,Any}[Dict(\"tocond\"=>5,\"next\"=>[9, 5],\"pr\"=>0.2), Dict(\"t…\n",
       "  \"(14,8)\" => Dict{Any,Any}[Dict(\"tocond\"=>3,\"next\"=>[0, 0],\"pr\"=>0.45), Dict(\"…\n",
       "  \"(14,7)\" => Dict{Any,Any}[Dict(\"tocond\"=>3,\"next\"=>[0, 0],\"pr\"=>0.85), Dict(\"…\n",
       "  \"(19,8)\" => Dict{Any,Any}[Dict(\"tocond\"=>3,\"next\"=>[0, 0],\"pr\"=>0.9), Dict(\"t…"
      ]
     },
     "execution_count": 25,
     "metadata": {},
     "output_type": "execute_result"
    }
   ],
   "source": [
    "roundtrip_yaml[1]"
   ]
  },
  {
   "cell_type": "code",
   "execution_count": 26,
   "metadata": {},
   "outputs": [
    {
     "data": {
      "text/plain": [
       "2-element Array{Dict{Any,Any},1}:\n",
       " Dict(\"tocond\" => 7,\"next\" => [14, 7],\"pr\" => 0.85)\n",
       " Dict(\"tocond\" => 8,\"next\" => [14, 8],\"pr\" => 0.15)"
      ]
     },
     "execution_count": 26,
     "metadata": {},
     "output_type": "execute_result"
    }
   ],
   "source": [
    "roundtrip_yaml[1][\"(9,7)\"]"
   ]
  },
  {
   "cell_type": "code",
   "execution_count": 28,
   "metadata": {},
   "outputs": [
    {
     "data": {
      "text/plain": [
       "\"4:\\n  (9,6):\\n    - {tocond: 6, next: [14,6], pr: 1.0}\\n  (9,5):\\n    - {tocond: 3, next: [0,0], pr: 0.8}\\n    - {tocond: 7, next: [14,7], pr: 0.2}\\n  (14,6):\\n    - {tocond: 3, next: [0,0], pr: 1.0}\\n  (9,7):\\n    - {tocond: 7, next: [14, 7], pr: 0.85}\\n    - {tocond: 8, next: [14, 8], pr: 0.15}\\n  (5,5):\\n    - {tocond: 5, next: [9, 5], pr: 0.2}\\n    - {tocond: 6, next: [9, 6], pr: 0.65}\\n    - {tocond: 7, next: [9, 7], pr: 0.15}\\n  (14,8):\\n    - {tocond: 3, next: [0,0], pr: 0.35}\\n    - {tocond: 8, next: [19, 8], pr: 0.55}\\n    - {tocond: 4, next: [0,5], pr: 0.1}\\n  (14,7):\\n    - {tocond: 3, next: [0, 0], pr: 0.8}\\n    - {tocond: 8, next: [19, 8], pr: 0.2}\\n  (19,8):\\n    - {tocond: 3, next: [0,0], pr: 0.85}\\n    - {tocond: 4, next: [0,5], pr: 0.15}\\n1:\\n  (9,6):\\n    - {tocond: 6, next: [14, 6], pr: 1.0}\\n  (9,5):\\n    - {tocond: 3, next: [0,0], pr: 0.8}\\n    - {tocond: 7, next: [14, 7], pr: 0.2}\\n  (14,6):\\n    - {tocond: 3, next: [0,0], pr: 1.0}\\n  (9,7):\\n    - {tocond: 7, next: [14, 7], pr: 0.85}\\n    - {tocond: 8, next: [14, 8], pr: 0.15}\\n  (5,5):\\n    - {tocond: 5, next: [9, 5], pr: 0.2}\\n    - {tocond: 6, next: [9, 6], pr: 0.65}\\n    - {tocond: 7, next: [9, 7], pr: 0.15}\\n  (14,8):\\n    - {tocond: 3, next: [0,0], pr: 0.45}\\n    - {tocond: 8, next: [19, 8], pr: 0.5}\\n    - {tocond: 4, next: [0,5], pr: 0.05}\\n  (14,7):\\n    - {tocond: 3, next: [0,0], pr: 0.85}\\n    - {tocond: 8, next: [19, 8], pr: 0.15}\\n  (19,8):\\n    - {tocond: 3, next: [0,0], pr: 0.9}\\n    - {tocond: 4, next: [0,5], pr: 0.1}\\n5:\\n  (9,6):\\n    - {tocond: 6, next: [14,6], pr: 1.0}\\n  (9,5):\\n    - {tocond: 3, next: [0,0], pr: 0.8}\\n    - {tocond: 7, next: [14,7], pr: 0.2}\\n  (14,6):\\n    - {tocond: 3, next: [0,0], pr: 1.0}\\n  (9,7):\\n    - {tocond: 7, next: [14, 7], pr: 0.85}\\n    - {tocond: 8, next: [14, 8], pr: 0.15}\\n  (5,5):\\n    - {tocond: 5, next: [9, 5], pr: 0.2}\\n    - {tocond: 6, next: [9, 6], pr: 0.65}\\n    - {tocond: 7, next: [9, 7], pr: 0.15}\\n  (14,8):\\n    - {tocond: 3, next: [0,0], pr: 0.35}\\n    - {tocond: 8, next: [19, 8], pr: 0.55}\\n    - {tocond: 4, next: [0,5], pr: 0.1}\\n  (14,7):\\n    - {tocond: 3, next: [0, 0], pr: 0.8}\\n    - {tocond: 8, next: [19, 8], pr: 0.2}\\n  (19,8):\\n    - {tocond: 3, next: [0,0], pr: 0.85}\\n    - {tocond: 4, next: [0,5], pr: 0.15}\\n2:\\n  (9,6):\\n    - {tocond: 6, next: [14,6], pr: 1.0}\\n  (9,5):\\n    - {tocond: 3, next: [0,0], pr: 0.8}\\n    - {tocond: 7, next: [14, 7], pr: 0.2}\\n  (14,6):\\n    - {tocond: 3, next: [0,0], pr: 1.0}\\n  (9,7):\\n    - {tocond: 7, next: [14, 7], pr: 0.85}\\n    - {tocond: 8, next: [14, 7], pr: 0.15}\\n  (5,5):\\n    - {tocond: 5, next: [9, 5], pr: 0.2}\\n    - {tocond: 6, next: [9, 6], pr: 0.65}\\n    - {tocond: 7, next: [9, 7], pr: 0.15}\\n  (14,8):\\n    - {tocond: 3, next: [0,0], pr: 0.35}\\n    - {tocond: 8, next: [19, 8], pr: 0.55}\\n    - {tocond: 4, next: [0,5], pr: 0.1}\\n  (14,7):\\n    - {tocond: 3, next: [0, 0], pr: 0.8}\\n    - {tocond: 8, next: [19, 8], pr: 0.2}\\n  (19,8):\\n    - {tocond: 3, next: [0,0], pr: 0.85}\\n    - {tocond: 4, next: [0,5], pr: 0.15}\\n3:\\n  (9,6):\\n    - {tocond: 6, next: [14,6], pr: 1.0}\\n  (9,5):\\n    - {tocond: 3, next: [0,0], pr: 0.8}\\n    - {tocond: 7, next: [14,7], pr: 0.2}\\n  (14,6):\\n    - {tocond: 3, next: [0,0], pr: 1.0}\\n  (9,7):\\n    - {tocond: 7, next: [14, 7], pr: 0.85}\\n    - {tocond: 8, next: [14, 8], pr: 0.15}\\n  (5,5):\\n    - {tocond: 5, next: [9, 5], pr: 0.2}\\n    - {tocond: 6, next: [9, 6], pr: 0.65}\\n    - {tocond: 7, next: [9, 7], pr: 0.15}\\n  (14,8):\\n    - {tocond: 3, next: [0,0], pr: 0.35}\\n    - {tocond: 8, next: [19, 8], pr: 0.55}\\n    - {tocond: 4, next: [0,5], pr: 0.1}\\n  (14,7):\\n    - {tocond: 3, next: [0, 0], pr: 0.8}\\n    - {tocond: 8, next: [19, 8], pr: 0.2}\\n  (19,8):\\n    - {tocond: 3, next: [0,0], pr: 0.85}\\n    - {tocond: 4, next: [0,5], pr: 0.15}\\n\""
      ]
     },
     "execution_count": 28,
     "metadata": {},
     "output_type": "execute_result"
    }
   ],
   "source": [
    "dense_yaml = \"\"\"\n",
    "4:\n",
    "  (9,6):\n",
    "    - {tocond: 6, next: [14,6], pr: 1.0}\n",
    "  (9,5):\n",
    "    - {tocond: 3, next: [0,0], pr: 0.8}\n",
    "    - {tocond: 7, next: [14,7], pr: 0.2}\n",
    "  (14,6):\n",
    "    - {tocond: 3, next: [0,0], pr: 1.0}\n",
    "  (9,7):\n",
    "    - {tocond: 7, next: [14, 7], pr: 0.85}\n",
    "    - {tocond: 8, next: [14, 8], pr: 0.15}\n",
    "  (5,5):\n",
    "    - {tocond: 5, next: [9, 5], pr: 0.2}\n",
    "    - {tocond: 6, next: [9, 6], pr: 0.65}\n",
    "    - {tocond: 7, next: [9, 7], pr: 0.15}\n",
    "  (14,8):\n",
    "    - {tocond: 3, next: [0,0], pr: 0.35}\n",
    "    - {tocond: 8, next: [19, 8], pr: 0.55}\n",
    "    - {tocond: 4, next: [0,5], pr: 0.1}\n",
    "  (14,7):\n",
    "    - {tocond: 3, next: [0, 0], pr: 0.8}\n",
    "    - {tocond: 8, next: [19, 8], pr: 0.2}\n",
    "  (19,8):\n",
    "    - {tocond: 3, next: [0,0], pr: 0.85}\n",
    "    - {tocond: 4, next: [0,5], pr: 0.15}\n",
    "1:\n",
    "  (9,6):\n",
    "    - {tocond: 6, next: [14, 6], pr: 1.0}\n",
    "  (9,5):\n",
    "    - {tocond: 3, next: [0,0], pr: 0.8}\n",
    "    - {tocond: 7, next: [14, 7], pr: 0.2}\n",
    "  (14,6):\n",
    "    - {tocond: 3, next: [0,0], pr: 1.0}\n",
    "  (9,7):\n",
    "    - {tocond: 7, next: [14, 7], pr: 0.85}\n",
    "    - {tocond: 8, next: [14, 8], pr: 0.15}\n",
    "  (5,5):\n",
    "    - {tocond: 5, next: [9, 5], pr: 0.2}\n",
    "    - {tocond: 6, next: [9, 6], pr: 0.65}\n",
    "    - {tocond: 7, next: [9, 7], pr: 0.15}\n",
    "  (14,8):\n",
    "    - {tocond: 3, next: [0,0], pr: 0.45}\n",
    "    - {tocond: 8, next: [19, 8], pr: 0.5}\n",
    "    - {tocond: 4, next: [0,5], pr: 0.05}\n",
    "  (14,7):\n",
    "    - {tocond: 3, next: [0,0], pr: 0.85}\n",
    "    - {tocond: 8, next: [19, 8], pr: 0.15}\n",
    "  (19,8):\n",
    "    - {tocond: 3, next: [0,0], pr: 0.9}\n",
    "    - {tocond: 4, next: [0,5], pr: 0.1}\n",
    "5:\n",
    "  (9,6):\n",
    "    - {tocond: 6, next: [14,6], pr: 1.0}\n",
    "  (9,5):\n",
    "    - {tocond: 3, next: [0,0], pr: 0.8}\n",
    "    - {tocond: 7, next: [14,7], pr: 0.2}\n",
    "  (14,6):\n",
    "    - {tocond: 3, next: [0,0], pr: 1.0}\n",
    "  (9,7):\n",
    "    - {tocond: 7, next: [14, 7], pr: 0.85}\n",
    "    - {tocond: 8, next: [14, 8], pr: 0.15}\n",
    "  (5,5):\n",
    "    - {tocond: 5, next: [9, 5], pr: 0.2}\n",
    "    - {tocond: 6, next: [9, 6], pr: 0.65}\n",
    "    - {tocond: 7, next: [9, 7], pr: 0.15}\n",
    "  (14,8):\n",
    "    - {tocond: 3, next: [0,0], pr: 0.35}\n",
    "    - {tocond: 8, next: [19, 8], pr: 0.55}\n",
    "    - {tocond: 4, next: [0,5], pr: 0.1}\n",
    "  (14,7):\n",
    "    - {tocond: 3, next: [0, 0], pr: 0.8}\n",
    "    - {tocond: 8, next: [19, 8], pr: 0.2}\n",
    "  (19,8):\n",
    "    - {tocond: 3, next: [0,0], pr: 0.85}\n",
    "    - {tocond: 4, next: [0,5], pr: 0.15}\n",
    "2:\n",
    "  (9,6):\n",
    "    - {tocond: 6, next: [14,6], pr: 1.0}\n",
    "  (9,5):\n",
    "    - {tocond: 3, next: [0,0], pr: 0.8}\n",
    "    - {tocond: 7, next: [14, 7], pr: 0.2}\n",
    "  (14,6):\n",
    "    - {tocond: 3, next: [0,0], pr: 1.0}\n",
    "  (9,7):\n",
    "    - {tocond: 7, next: [14, 7], pr: 0.85}\n",
    "    - {tocond: 8, next: [14, 7], pr: 0.15}\n",
    "  (5,5):\n",
    "    - {tocond: 5, next: [9, 5], pr: 0.2}\n",
    "    - {tocond: 6, next: [9, 6], pr: 0.65}\n",
    "    - {tocond: 7, next: [9, 7], pr: 0.15}\n",
    "  (14,8):\n",
    "    - {tocond: 3, next: [0,0], pr: 0.35}\n",
    "    - {tocond: 8, next: [19, 8], pr: 0.55}\n",
    "    - {tocond: 4, next: [0,5], pr: 0.1}\n",
    "  (14,7):\n",
    "    - {tocond: 3, next: [0, 0], pr: 0.8}\n",
    "    - {tocond: 8, next: [19, 8], pr: 0.2}\n",
    "  (19,8):\n",
    "    - {tocond: 3, next: [0,0], pr: 0.85}\n",
    "    - {tocond: 4, next: [0,5], pr: 0.15}\n",
    "3:\n",
    "  (9,6):\n",
    "    - {tocond: 6, next: [14,6], pr: 1.0}\n",
    "  (9,5):\n",
    "    - {tocond: 3, next: [0,0], pr: 0.8}\n",
    "    - {tocond: 7, next: [14,7], pr: 0.2}\n",
    "  (14,6):\n",
    "    - {tocond: 3, next: [0,0], pr: 1.0}\n",
    "  (9,7):\n",
    "    - {tocond: 7, next: [14, 7], pr: 0.85}\n",
    "    - {tocond: 8, next: [14, 8], pr: 0.15}\n",
    "  (5,5):\n",
    "    - {tocond: 5, next: [9, 5], pr: 0.2}\n",
    "    - {tocond: 6, next: [9, 6], pr: 0.65}\n",
    "    - {tocond: 7, next: [9, 7], pr: 0.15}\n",
    "  (14,8):\n",
    "    - {tocond: 3, next: [0,0], pr: 0.35}\n",
    "    - {tocond: 8, next: [19, 8], pr: 0.55}\n",
    "    - {tocond: 4, next: [0,5], pr: 0.1}\n",
    "  (14,7):\n",
    "    - {tocond: 3, next: [0, 0], pr: 0.8}\n",
    "    - {tocond: 8, next: [19, 8], pr: 0.2}\n",
    "  (19,8):\n",
    "    - {tocond: 3, next: [0,0], pr: 0.85}\n",
    "    - {tocond: 4, next: [0,5], pr: 0.15}\n",
    "\"\"\""
   ]
  },
  {
   "cell_type": "code",
   "execution_count": 29,
   "metadata": {},
   "outputs": [
    {
     "data": {
      "text/plain": [
       "Dict{Any,Any} with 5 entries:\n",
       "  4 => Dict{Any,Any}(\"(9,6)\"=>Dict{Any,Any}[Dict(\"tocond\"=>6,\"next\"=>[14, 6],\"p…\n",
       "  2 => Dict{Any,Any}(\"(9,6)\"=>Dict{Any,Any}[Dict(\"tocond\"=>6,\"next\"=>[14, 6],\"p…\n",
       "  3 => Dict{Any,Any}(\"(9,6)\"=>Dict{Any,Any}[Dict(\"tocond\"=>6,\"next\"=>[14, 6],\"p…\n",
       "  5 => Dict{Any,Any}(\"(9,6)\"=>Dict{Any,Any}[Dict(\"tocond\"=>6,\"next\"=>[14, 6],\"p…\n",
       "  1 => Dict{Any,Any}(\"(9,6)\"=>Dict{Any,Any}[Dict(\"tocond\"=>6,\"next\"=>[14, 6],\"p…"
      ]
     },
     "execution_count": 29,
     "metadata": {},
     "output_type": "execute_result"
    }
   ],
   "source": [
    "dense_literal_yaml = YAML.load(dense_yaml)"
   ]
  },
  {
   "cell_type": "code",
   "execution_count": 46,
   "metadata": {},
   "outputs": [
    {
     "data": {
      "text/plain": [
       "\"3:\\n  (5,5):\\n    - {tocond: 5, next: [9, 5], pr: 0.2}\\n    - {tocond: 6, next: [9, 6], pr: 0.7}\\n    - {tocond: 7, next: [9, 7], pr: 0.1}\\n  (9,5):\\n    - {tocond: 3, next: [0,0], pr: 0.85}\\n    - {tocond: 7, next: [14, 7], pr: 0.15}\\n  (9,6):\\n    - {tocond: 6, next: [14,6], pr: 1.0}\\n  (9,7):\\n    - {tocond: 7, next: [14, 7], pr: 0.9}\\n    - {tocond: 8, next: [14, 8], pr: 0.1}\\n  (14,6):\\n    - {tocond: 3, next: [0,0], pr: 1.0}\\n  (14,7):\\n    - {tocond: 3, next: [0, 0], pr: 0.83}\\n    - {tocond: 8, next: [19, 7], pr: 0.1}\\n    - {tocond: 8, next: [19, 8], pr: 0.07}\\n  (14,8):\\n    - {tocond: 3, next: [0,0], pr: 0.474}\\n    - {tocond: 8, next: [19, 8], pr: 0.514}\\n    - {tocond: 4, next: [0,5], pr: 0.012}\\n  (19,8):\\n    - {tocond: 3, next: [0,0], pr: 0.922}\\n    - {tocond: 8, next: [0,5], pr: 0.072}\\n    - {tocond: 4, next: [0,5], pr: 0.006}\\n  (25,7):\\n    - {tocond: 3, next: [0,0], pr: 0.964}\\n    - {tocond: 4, next: [0,5], pr: 0.036}\\n  (25,8):\\n    - {tocond: 3, next: [0,0], pr: 0.964}\\n    - {tocond: 4, next: [0,5], pr: 0.036}\\n\""
      ]
     },
     "execution_count": 46,
     "metadata": {},
     "output_type": "execute_result"
    }
   ],
   "source": [
    "hand_yaml = \"\"\"\n",
    "3:\n",
    "  (5,5):\n",
    "    - {tocond: 5, next: [9, 5], pr: 0.2}\n",
    "    - {tocond: 6, next: [9, 6], pr: 0.7}\n",
    "    - {tocond: 7, next: [9, 7], pr: 0.1}\n",
    "  (9,5):\n",
    "    - {tocond: 3, next: [0,0], pr: 0.85}\n",
    "    - {tocond: 7, next: [14, 7], pr: 0.15}\n",
    "  (9,6):\n",
    "    - {tocond: 6, next: [14,6], pr: 1.0}\n",
    "  (9,7):\n",
    "    - {tocond: 7, next: [14, 7], pr: 0.9}\n",
    "    - {tocond: 8, next: [14, 8], pr: 0.1}\n",
    "  (14,6):\n",
    "    - {tocond: 3, next: [0,0], pr: 1.0}\n",
    "  (14,7):\n",
    "    - {tocond: 3, next: [0, 0], pr: 0.83}\n",
    "    - {tocond: 8, next: [19, 7], pr: 0.1}\n",
    "    - {tocond: 8, next: [19, 8], pr: 0.07}\n",
    "  (14,8):\n",
    "    - {tocond: 3, next: [0,0], pr: 0.474}\n",
    "    - {tocond: 8, next: [19, 8], pr: 0.514}\n",
    "    - {tocond: 4, next: [0,5], pr: 0.012}\n",
    "  (19,8):\n",
    "    - {tocond: 3, next: [0,0], pr: 0.922}\n",
    "    - {tocond: 8, next: [0,5], pr: 0.072}\n",
    "    - {tocond: 4, next: [0,5], pr: 0.006}\n",
    "  (25,7):\n",
    "    - {tocond: 3, next: [0,0], pr: 0.964}\n",
    "    - {tocond: 4, next: [0,5], pr: 0.036}\n",
    "  (25,8):\n",
    "    - {tocond: 3, next: [0,0], pr: 0.964}\n",
    "    - {tocond: 4, next: [0,5], pr: 0.036}\n",
    "\"\"\""
   ]
  },
  {
   "cell_type": "code",
   "execution_count": 47,
   "metadata": {},
   "outputs": [
    {
     "data": {
      "text/plain": [
       "Dict{Any,Any} with 1 entry:\n",
       "  3 => Dict{Any,Any}(\"(9,6)\"=>Dict{Any,Any}[Dict(\"tocond\"=>6,\"next\"=>[14, 6],\"p…"
      ]
     },
     "execution_count": 47,
     "metadata": {},
     "output_type": "execute_result"
    }
   ],
   "source": [
    "hand_test = YAML.load(hand_yaml)"
   ]
  },
  {
   "cell_type": "code",
   "execution_count": 67,
   "metadata": {},
   "outputs": [
    {
     "data": {
      "text/plain": [
       "Dict{Any,Any} with 5 entries:\n",
       "  4 => Dict{Any,Any}([9, 5]=>Dict{Any,Any}[Dict(\"tocond\"=>3,\"next\"=>[0, 0],\"pr\"…\n",
       "  2 => Dict{Any,Any}([9, 5]=>Dict{Any,Any}[Dict(\"tocond\"=>3,\"next\"=>[0, 0],\"pr\"…\n",
       "  3 => Dict{Any,Any}([9, 5]=>Dict{Any,Any}[Dict(\"tocond\"=>3,\"next\"=>[0, 0],\"pr\"…\n",
       "  5 => Dict{Any,Any}([9, 5]=>Dict{Any,Any}[Dict(\"tocond\"=>3,\"next\"=>[0, 0],\"pr\"…\n",
       "  1 => Dict{Any,Any}([9, 5]=>Dict{Any,Any}[Dict(\"tocond\"=>3,\"next\"=>[0, 0],\"pr\"…"
      ]
     },
     "execution_count": 67,
     "metadata": {},
     "output_type": "execute_result"
    }
   ],
   "source": [
    "dense_test = YAML.load_file(\"../parameters/dec_tree_all_25.yml\")"
   ]
  },
  {
   "cell_type": "code",
   "execution_count": 62,
   "metadata": {},
   "outputs": [
    {
     "data": {
      "text/plain": [
       "Dict{Int64,Array{Int64,1}} with 5 entries:\n",
       "  4 => [9, 25, 14, 5, 19]\n",
       "  2 => [9, 25, 14, 5, 19]\n",
       "  3 => [9, 25, 14, 5, 19]\n",
       "  5 => [9, 25, 14, 5, 19]\n",
       "  1 => [9, 25, 14, 5, 19]"
      ]
     },
     "execution_count": 62,
     "metadata": {},
     "output_type": "execute_result"
    }
   ],
   "source": [
    "decpoints = Dict{Int,Array{Int, 1}}()\n",
    "for i in 1:5\n",
    "    decpoints[i] = unique([k[1] for k in keys(dense_test[i])])\n",
    "end\n",
    "decpoints"
   ]
  },
  {
   "cell_type": "code",
   "execution_count": 63,
   "metadata": {},
   "outputs": [
    {
     "name": "stdout",
     "output_type": "stream",
     "text": [
      "[5, 5]\n",
      "   Dict{Any,Any}(\"tocond\" => 5,\"next\" => [9, 5],\"pr\" => 0.4)\n",
      "   Dict{Any,Any}(\"tocond\" => 6,\"next\" => [9, 6],\"pr\" => 0.5)\n",
      "   Dict{Any,Any}(\"tocond\" => 7,\"next\" => [9, 7],\"pr\" => 0.1)\n",
      "[9, 5]\n",
      "   Dict{Any,Any}(\"tocond\" => 3,\"next\" => [0, 0],\"pr\" => 0.9)\n",
      "   Dict{Any,Any}(\"tocond\" => 7,\"next\" => [14, 7],\"pr\" => 0.1)\n",
      "[9, 6]\n",
      "   Dict{Any,Any}(\"tocond\" => 6,\"next\" => [14, 6],\"pr\" => 1.0)\n",
      "[9, 7]\n",
      "   Dict{Any,Any}(\"tocond\" => 7,\"next\" => [14, 7],\"pr\" => 0.95)\n",
      "   Dict{Any,Any}(\"tocond\" => 8,\"next\" => [14, 8],\"pr\" => 0.05)\n",
      "[14, 6]\n",
      "   Dict{Any,Any}(\"tocond\" => 3,\"next\" => [0, 0],\"pr\" => 1.0)\n",
      "[14, 7]\n",
      "   Dict{Any,Any}(\"tocond\" => 3,\"next\" => [0, 0],\"pr\" => 0.85)\n",
      "   Dict{Any,Any}(\"tocond\" => 7,\"next\" => [25, 7],\"pr\" => 0.12)\n",
      "   Dict{Any,Any}(\"tocond\" => 8,\"next\" => [19, 8],\"pr\" => 0.03)\n",
      "[14, 8]\n",
      "   Dict{Any,Any}(\"tocond\" => 3,\"next\" => [0, 0],\"pr\" => 0.692)\n",
      "   Dict{Any,Any}(\"tocond\" => 8,\"next\" => [19, 8],\"pr\" => 0.302)\n",
      "   Dict{Any,Any}(\"tocond\" => 4,\"next\" => [0, 5],\"pr\" => 0.006)\n",
      "[19, 8]\n",
      "   Dict{Any,Any}(\"tocond\" => 3,\"next\" => [0, 0],\"pr\" => 0.891)\n",
      "   Dict{Any,Any}(\"tocond\" => 8,\"next\" => [25, 8],\"pr\" => 0.106)\n",
      "   Dict{Any,Any}(\"tocond\" => 4,\"next\" => [0, 5],\"pr\" => 0.003)\n",
      "[25, 7]\n",
      "   Dict{Any,Any}(\"tocond\" => 3,\"next\" => [0, 0],\"pr\" => 0.976)\n",
      "   Dict{Any,Any}(\"tocond\" => 4,\"next\" => [0, 5],\"pr\" => 0.024)\n",
      "[25, 8]\n",
      "   Dict{Any,Any}(\"tocond\" => 3,\"next\" => [0, 0],\"pr\" => 0.91)\n",
      "   Dict{Any,Any}(\"tocond\" => 4,\"next\" => [0, 5],\"pr\" => 0.09)\n"
     ]
    }
   ],
   "source": [
    "display_tree(dense_test[1])"
   ]
  },
  {
   "cell_type": "code",
   "execution_count": 64,
   "metadata": {},
   "outputs": [
    {
     "data": {
      "text/plain": [
       "Dict{Any,Any} with 10 entries:\n",
       "  [9, 5]  => Dict{Any,Any}[Dict(\"tocond\"=>3,\"next\"=>[0, 0],\"pr\"=>0.62), Dict(\"t…\n",
       "  [25, 8] => Dict{Any,Any}[Dict(\"tocond\"=>3,\"next\"=>[0, 0],\"pr\"=>0.688), Dict(\"…\n",
       "  [9, 7]  => Dict{Any,Any}[Dict(\"tocond\"=>7,\"next\"=>[14, 7],\"pr\"=>0.78), Dict(\"…\n",
       "  [14, 7] => Dict{Any,Any}[Dict(\"tocond\"=>3,\"next\"=>[0, 0],\"pr\"=>0.8), Dict(\"to…\n",
       "  [5, 5]  => Dict{Any,Any}[Dict(\"tocond\"=>5,\"next\"=>[9, 5],\"pr\"=>0.15), Dict(\"t…\n",
       "  [9, 6]  => Dict{Any,Any}[Dict(\"tocond\"=>6,\"next\"=>[14, 6],\"pr\"=>1.0)]\n",
       "  [14, 8] => Dict{Any,Any}[Dict(\"tocond\"=>3,\"next\"=>[0, 0],\"pr\"=>0.165), Dict(\"…\n",
       "  [19, 8] => Dict{Any,Any}[Dict(\"tocond\"=>3,\"next\"=>[0, 0],\"pr\"=>0.81), Dict(\"t…\n",
       "  [25, 7] => Dict{Any,Any}[Dict(\"tocond\"=>3,\"next\"=>[0, 0],\"pr\"=>0.76), Dict(\"t…\n",
       "  [14, 6] => Dict{Any,Any}[Dict(\"tocond\"=>3,\"next\"=>[0, 0],\"pr\"=>1.0)]"
      ]
     },
     "execution_count": 64,
     "metadata": {},
     "output_type": "execute_result"
    }
   ],
   "source": [
    "dense_test[4]"
   ]
  },
  {
   "cell_type": "code",
   "execution_count": 65,
   "metadata": {},
   "outputs": [
    {
     "data": {
      "text/plain": [
       "5"
      ]
     },
     "execution_count": 65,
     "metadata": {},
     "output_type": "execute_result"
    }
   ],
   "source": [
    "length(dense_test)"
   ]
  },
  {
   "cell_type": "code",
   "execution_count": 66,
   "metadata": {},
   "outputs": [
    {
     "data": {
      "text/plain": [
       "5×4 Array{Float64,2}:\n",
       " 1.0  1.0  0.999511  0.000488522\n",
       " 2.0  1.0  0.999332  0.000668336\n",
       " 3.0  1.0  0.99616   0.0038404\n",
       " 4.0  1.0  0.980863  0.0191366\n",
       " 5.0  1.0  0.850242  0.149758"
      ]
     },
     "execution_count": 66,
     "metadata": {},
     "output_type": "execute_result"
    }
   ],
   "source": [
    "CovidSim.sanity_test_all(dense_test)"
   ]
  },
  {
   "cell_type": "code",
   "execution_count": 10,
   "metadata": {},
   "outputs": [
    {
     "data": {
      "text/plain": [
       "\"../parameters/dec_tree_all_25.yml\""
      ]
     },
     "execution_count": 10,
     "metadata": {},
     "output_type": "execute_result"
    }
   ],
   "source": [
    "std_file = \"../parameters/dec_tree_all_25.yml\""
   ]
  },
  {
   "cell_type": "code",
   "execution_count": 13,
   "metadata": {
    "collapsed": true,
    "jupyter": {
     "outputs_hidden": true
    }
   },
   "outputs": [
    {
     "data": {
      "text/plain": [
       "(Dict{Any,Any}(4 => Dict{Any,Any}([9, 5] => Dict{String,Array{T,1} where T}(\"probs\" => [0.62, 0.38],\"branches\" => Dict{Any,Any}[Dict(\"tocond\" => 3,\"next\" => [0, 0],\"pr\" => 0.62), Dict(\"tocond\" => 7,\"next\" => [14, 7],\"pr\" => 0.38)],\"outcomes\" => [3, 7]),[25, 8] => Dict{String,Array{T,1} where T}(\"probs\" => [0.688, 0.312],\"branches\" => Dict{Any,Any}[Dict(\"tocond\" => 3,\"next\" => [0, 0],\"pr\" => 0.688), Dict(\"tocond\" => 4,\"next\" => [0, 5],\"pr\" => 0.312)],\"outcomes\" => [3, 4]),[9, 7] => Dict{String,Array{T,1} where T}(\"probs\" => [0.78, 0.22],\"branches\" => Dict{Any,Any}[Dict(\"tocond\" => 7,\"next\" => [14, 7],\"pr\" => 0.78), Dict(\"tocond\" => 8,\"next\" => [14, 8],\"pr\" => 0.22)],\"outcomes\" => [7, 8]),[14, 7] => Dict{String,Array{T,1} where T}(\"probs\" => [0.8, 0.1, 0.1],\"branches\" => Dict{Any,Any}[Dict(\"tocond\" => 3,\"next\" => [0, 0],\"pr\" => 0.8), Dict(\"tocond\" => 8,\"next\" => [25, 7],\"pr\" => 0.1), Dict(\"tocond\" => 8,\"next\" => [19, 8],\"pr\" => 0.1)],\"outcomes\" => [3, 8, 8]),[5, 5] => Dict{String,Array{T,1} where T}(\"probs\" => [0.15, 0.6, 0.25],\"branches\" => Dict{Any,Any}[Dict(\"tocond\" => 5,\"next\" => [9, 5],\"pr\" => 0.15), Dict(\"tocond\" => 6,\"next\" => [9, 6],\"pr\" => 0.6), Dict(\"tocond\" => 7,\"next\" => [9, 7],\"pr\" => 0.25)],\"outcomes\" => [5, 6, 7]),[9, 6] => Dict{String,Array{T,1} where T}(\"probs\" => [1.0],\"branches\" => Dict{Any,Any}[Dict(\"tocond\" => 6,\"next\" => [14, 6],\"pr\" => 1.0)],\"outcomes\" => [6]),[14, 8] => Dict{String,Array{T,1} where T}(\"probs\" => [0.165, 0.715, 0.12],\"branches\" => Dict{Any,Any}[Dict(\"tocond\" => 3,\"next\" => [0, 0],\"pr\" => 0.165), Dict(\"tocond\" => 8,\"next\" => [19, 8],\"pr\" => 0.715), Dict(\"tocond\" => 4,\"next\" => [0, 5],\"pr\" => 0.12)],\"outcomes\" => [3, 8, 4]),[19, 8] => Dict{String,Array{T,1} where T}(\"probs\" => [0.81, 0.13, 0.06],\"branches\" => Dict{Any,Any}[Dict(\"tocond\" => 3,\"next\" => [0, 0],\"pr\" => 0.81), Dict(\"tocond\" => 4,\"next\" => [25, 8],\"pr\" => 0.13), Dict(\"tocond\" => 4,\"next\" => [0, 5],\"pr\" => 0.06)],\"outcomes\" => [3, 4, 4]),[25, 7] => Dict{String,Array{T,1} where T}(\"probs\" => [0.76, 0.24],\"branches\" => Dict{Any,Any}[Dict(\"tocond\" => 3,\"next\" => [0, 0],\"pr\" => 0.76), Dict(\"tocond\" => 4,\"next\" => [0, 5],\"pr\" => 0.24)],\"outcomes\" => [3, 4]),[14, 6] => Dict{String,Array{T,1} where T}(\"probs\" => [1.0],\"branches\" => Dict{Any,Any}[Dict(\"tocond\" => 3,\"next\" => [0, 0],\"pr\" => 1.0)],\"outcomes\" => [3])…),2 => Dict{Any,Any}([9, 5] => Dict{String,Array{T,1} where T}(\"probs\" => [0.85, 0.15],\"branches\" => Dict{Any,Any}[Dict(\"tocond\" => 3,\"next\" => [0, 0],\"pr\" => 0.85), Dict(\"tocond\" => 7,\"next\" => [14, 7],\"pr\" => 0.15)],\"outcomes\" => [3, 7]),[25, 8] => Dict{String,Array{T,1} where T}(\"probs\" => [0.964, 0.036],\"branches\" => Dict{Any,Any}[Dict(\"tocond\" => 3,\"next\" => [0, 0],\"pr\" => 0.964), Dict(\"tocond\" => 4,\"next\" => [0, 5],\"pr\" => 0.036)],\"outcomes\" => [3, 4]),[9, 7] => Dict{String,Array{T,1} where T}(\"probs\" => [0.9, 0.1],\"branches\" => Dict{Any,Any}[Dict(\"tocond\" => 7,\"next\" => [14, 7],\"pr\" => 0.9), Dict(\"tocond\" => 8,\"next\" => [14, 8],\"pr\" => 0.1)],\"outcomes\" => [7, 8]),[14, 7] => Dict{String,Array{T,1} where T}(\"probs\" => [0.83, 0.1, 0.07],\"branches\" => Dict{Any,Any}[Dict(\"tocond\" => 3,\"next\" => [0, 0],\"pr\" => 0.83), Dict(\"tocond\" => 8,\"next\" => [25, 7],\"pr\" => 0.1), Dict(\"tocond\" => 8,\"next\" => [19, 8],\"pr\" => 0.07)],\"outcomes\" => [3, 8, 8]),[5, 5] => Dict{String,Array{T,1} where T}(\"probs\" => [0.2, 0.7, 0.1],\"branches\" => Dict{Any,Any}[Dict(\"tocond\" => 5,\"next\" => [9, 5],\"pr\" => 0.2), Dict(\"tocond\" => 6,\"next\" => [9, 6],\"pr\" => 0.7), Dict(\"tocond\" => 7,\"next\" => [9, 7],\"pr\" => 0.1)],\"outcomes\" => [5, 6, 7]),[9, 6] => Dict{String,Array{T,1} where T}(\"probs\" => [1.0],\"branches\" => Dict{Any,Any}[Dict(\"tocond\" => 6,\"next\" => [14, 6],\"pr\" => 1.0)],\"outcomes\" => [6]),[14, 8] => Dict{String,Array{T,1} where T}(\"probs\" => [0.474, 0.514, 0.012],\"branches\" => Dict{Any,Any}[Dict(\"tocond\" => 3,\"next\" => [0, 0],\"pr\" => 0.474), Dict(\"tocond\" => 8,\"next\" => [19, 8],\"pr\" => 0.514), Dict(\"tocond\" => 4,\"next\" => [0, 5],\"pr\" => 0.012)],\"outcomes\" => [3, 8, 4]),[19, 8] => Dict{String,Array{T,1} where T}(\"probs\" => [0.922, 0.072, 0.006],\"branches\" => Dict{Any,Any}[Dict(\"tocond\" => 3,\"next\" => [0, 0],\"pr\" => 0.922), Dict(\"tocond\" => 8,\"next\" => [25, 8],\"pr\" => 0.072), Dict(\"tocond\" => 4,\"next\" => [0, 5],\"pr\" => 0.006)],\"outcomes\" => [3, 8, 4]),[25, 7] => Dict{String,Array{T,1} where T}(\"probs\" => [0.964, 0.036],\"branches\" => Dict{Any,Any}[Dict(\"tocond\" => 3,\"next\" => [0, 0],\"pr\" => 0.964), Dict(\"tocond\" => 4,\"next\" => [0, 5],\"pr\" => 0.036)],\"outcomes\" => [3, 4]),[14, 6] => Dict{String,Array{T,1} where T}(\"probs\" => [1.0],\"branches\" => Dict{Any,Any}[Dict(\"tocond\" => 3,\"next\" => [0, 0],\"pr\" => 1.0)],\"outcomes\" => [3])…),3 => Dict{Any,Any}([9, 5] => Dict{String,Array{T,1} where T}(\"probs\" => [0.9, 0.1],\"branches\" => Dict{Any,Any}[Dict(\"tocond\" => 3,\"next\" => [0, 0],\"pr\" => 0.9), Dict(\"tocond\" => 7,\"next\" => [14, 7],\"pr\" => 0.1)],\"outcomes\" => [3, 7]),[25, 8] => Dict{String,Array{T,1} where T}(\"probs\" => [0.958, 0.042],\"branches\" => Dict{Any,Any}[Dict(\"tocond\" => 3,\"next\" => [0, 0],\"pr\" => 0.958), Dict(\"tocond\" => 4,\"next\" => [0, 5],\"pr\" => 0.042)],\"outcomes\" => [3, 4]),[9, 7] => Dict{String,Array{T,1} where T}(\"probs\" => [0.9, 0.1],\"branches\" => Dict{Any,Any}[Dict(\"tocond\" => 7,\"next\" => [14, 7],\"pr\" => 0.9), Dict(\"tocond\" => 8,\"next\" => [14, 8],\"pr\" => 0.1)],\"outcomes\" => [7, 8]),[14, 7] => Dict{String,Array{T,1} where T}(\"probs\" => [0.85, 0.14, 0.01],\"branches\" => Dict{Any,Any}[Dict(\"tocond\" => 3,\"next\" => [0, 0],\"pr\" => 0.85), Dict(\"tocond\" => 7,\"next\" => [25, 7],\"pr\" => 0.14), Dict(\"tocond\" => 8,\"next\" => [19, 8],\"pr\" => 0.01)],\"outcomes\" => [3, 7, 8]),[5, 5] => Dict{String,Array{T,1} where T}(\"probs\" => [0.2, 0.7, 0.1],\"branches\" => Dict{Any,Any}[Dict(\"tocond\" => 5,\"next\" => [9, 5],\"pr\" => 0.2), Dict(\"tocond\" => 6,\"next\" => [9, 6],\"pr\" => 0.7), Dict(\"tocond\" => 7,\"next\" => [9, 7],\"pr\" => 0.1)],\"outcomes\" => [5, 6, 7]),[9, 6] => Dict{String,Array{T,1} where T}(\"probs\" => [1.0],\"branches\" => Dict{Any,Any}[Dict(\"tocond\" => 6,\"next\" => [14, 6],\"pr\" => 1.0)],\"outcomes\" => [6]),[14, 8] => Dict{String,Array{T,1} where T}(\"probs\" => [0.776, 0.206, 0.018],\"branches\" => Dict{Any,Any}[Dict(\"tocond\" => 3,\"next\" => [0, 0],\"pr\" => 0.776), Dict(\"tocond\" => 8,\"next\" => [19, 8],\"pr\" => 0.206), Dict(\"tocond\" => 4,\"next\" => [0, 5],\"pr\" => 0.018)],\"outcomes\" => [3, 8, 4]),[19, 8] => Dict{String,Array{T,1} where T}(\"probs\" => [0.856, 0.126, 0.018],\"branches\" => Dict{Any,Any}[Dict(\"tocond\" => 3,\"next\" => [0, 0],\"pr\" => 0.856), Dict(\"tocond\" => 8,\"next\" => [25, 8],\"pr\" => 0.126), Dict(\"tocond\" => 4,\"next\" => [0, 5],\"pr\" => 0.018)],\"outcomes\" => [3, 8, 4]),[25, 7] => Dict{String,Array{T,1} where T}(\"probs\" => [0.958, 0.042],\"branches\" => Dict{Any,Any}[Dict(\"tocond\" => 3,\"next\" => [0, 0],\"pr\" => 0.958), Dict(\"tocond\" => 4,\"next\" => [0, 5],\"pr\" => 0.042)],\"outcomes\" => [3, 4]),[14, 6] => Dict{String,Array{T,1} where T}(\"probs\" => [0.9, 0.1],\"branches\" => Dict{Any,Any}[Dict(\"tocond\" => 3,\"next\" => [0, 0],\"pr\" => 0.9), Dict(\"tocond\" => 7,\"next\" => [25, 7],\"pr\" => 0.1)],\"outcomes\" => [3, 7])…),5 => Dict{Any,Any}([9, 5] => Dict{String,Array{T,1} where T}(\"probs\" => [0.5, 0.5],\"branches\" => Dict{Any,Any}[Dict(\"tocond\" => 3,\"next\" => [0, 0],\"pr\" => 0.5), Dict(\"tocond\" => 7,\"next\" => [14, 7],\"pr\" => 0.5)],\"outcomes\" => [3, 7]),[25, 8] => Dict{String,Array{T,1} where T}(\"probs\" => [0.676, 0.324],\"branches\" => Dict{Any,Any}[Dict(\"tocond\" => 3,\"next\" => [0, 0],\"pr\" => 0.676), Dict(\"tocond\" => 4,\"next\" => [0, 5],\"pr\" => 0.324)],\"outcomes\" => [3, 4]),[9, 7] => Dict{String,Array{T,1} where T}(\"probs\" => [0.6, 0.4],\"branches\" => Dict{Any,Any}[Dict(\"tocond\" => 7,\"next\" => [14, 7],\"pr\" => 0.6), Dict(\"tocond\" => 8,\"next\" => [14, 8],\"pr\" => 0.4)],\"outcomes\" => [7, 8]),[14, 7] => Dict{String,Array{T,1} where T}(\"probs\" => [0.7, 0.1, 0.2],\"branches\" => Dict{Any,Any}[Dict(\"tocond\" => 3,\"next\" => [0, 0],\"pr\" => 0.7), Dict(\"tocond\" => 7,\"next\" => [25, 7],\"pr\" => 0.1), Dict(\"tocond\" => 8,\"next\" => [19, 8],\"pr\" => 0.2)],\"outcomes\" => [3, 7, 8]),[5, 5] => Dict{String,Array{T,1} where T}(\"probs\" => [0.1, 0.5, 0.4],\"branches\" => Dict{Any,Any}[Dict(\"tocond\" => 5,\"next\" => [9, 5],\"pr\" => 0.1), Dict(\"tocond\" => 6,\"next\" => [9, 6],\"pr\" => 0.5), Dict(\"tocond\" => 7,\"next\" => [9, 7],\"pr\" => 0.4)],\"outcomes\" => [5, 6, 7]),[9, 6] => Dict{String,Array{T,1} where T}(\"probs\" => [0.4, 0.6],\"branches\" => Dict{Any,Any}[Dict(\"tocond\" => 6,\"next\" => [14, 6],\"pr\" => 0.4), Dict(\"tocond\" => 6,\"next\" => [14, 7],\"pr\" => 0.6)],\"outcomes\" => [6, 6]),[14, 8] => Dict{String,Array{T,1} where T}(\"probs\" => [0.12, 0.67, 0.21],\"branches\" => Dict{Any,Any}[Dict(\"tocond\" => 3,\"next\" => [0, 0],\"pr\" => 0.12), Dict(\"tocond\" => 8,\"next\" => [19, 8],\"pr\" => 0.67), Dict(\"tocond\" => 4,\"next\" => [0, 5],\"pr\" => 0.21)],\"outcomes\" => [3, 8, 4]),[19, 8] => Dict{String,Array{T,1} where T}(\"probs\" => [0.49, 0.24, 0.27],\"branches\" => Dict{Any,Any}[Dict(\"tocond\" => 3,\"next\" => [0, 0],\"pr\" => 0.49), Dict(\"tocond\" => 4,\"next\" => [25, 8],\"pr\" => 0.24), Dict(\"tocond\" => 4,\"next\" => [0, 5],\"pr\" => 0.27)],\"outcomes\" => [3, 4, 4]),[25, 7] => Dict{String,Array{T,1} where T}(\"probs\" => [0.682, 0.318],\"branches\" => Dict{Any,Any}[Dict(\"tocond\" => 3,\"next\" => [0, 0],\"pr\" => 0.682), Dict(\"tocond\" => 4,\"next\" => [0, 5],\"pr\" => 0.318)],\"outcomes\" => [3, 4]),[14, 6] => Dict{String,Array{T,1} where T}(\"probs\" => [0.7, 0.3],\"branches\" => Dict{Any,Any}[Dict(\"tocond\" => 3,\"next\" => [0, 0],\"pr\" => 0.7), Dict(\"tocond\" => 3,\"next\" => [25, 7],\"pr\" => 0.3)],\"outcomes\" => [3, 3])…),1 => Dict{Any,Any}([9, 5] => Dict{String,Array{T,1} where T}(\"probs\" => [0.9, 0.1],\"branches\" => Dict{Any,Any}[Dict(\"tocond\" => 3,\"next\" => [0, 0],\"pr\" => 0.9), Dict(\"tocond\" => 7,\"next\" => [14, 7],\"pr\" => 0.1)],\"outcomes\" => [3, 7]),[25, 8] => Dict{String,Array{T,1} where T}(\"probs\" => [0.91, 0.09],\"branches\" => Dict{Any,Any}[Dict(\"tocond\" => 3,\"next\" => [0, 0],\"pr\" => 0.91), Dict(\"tocond\" => 4,\"next\" => [0, 5],\"pr\" => 0.09)],\"outcomes\" => [3, 4]),[9, 7] => Dict{String,Array{T,1} where T}(\"probs\" => [0.95, 0.05],\"branches\" => Dict{Any,Any}[Dict(\"tocond\" => 7,\"next\" => [14, 7],\"pr\" => 0.95), Dict(\"tocond\" => 8,\"next\" => [14, 8],\"pr\" => 0.05)],\"outcomes\" => [7, 8]),[14, 7] => Dict{String,Array{T,1} where T}(\"probs\" => [0.85, 0.12, 0.03],\"branches\" => Dict{Any,Any}[Dict(\"tocond\" => 3,\"next\" => [0, 0],\"pr\" => 0.85), Dict(\"tocond\" => 7,\"next\" => [25, 7],\"pr\" => 0.12), Dict(\"tocond\" => 8,\"next\" => [19, 8],\"pr\" => 0.03)],\"outcomes\" => [3, 7, 8]),[5, 5] => Dict{String,Array{T,1} where T}(\"probs\" => [0.4, 0.5, 0.1],\"branches\" => Dict{Any,Any}[Dict(\"tocond\" => 5,\"next\" => [9, 5],\"pr\" => 0.4), Dict(\"tocond\" => 6,\"next\" => [9, 6],\"pr\" => 0.5), Dict(\"tocond\" => 7,\"next\" => [9, 7],\"pr\" => 0.1)],\"outcomes\" => [5, 6, 7]),[9, 6] => Dict{String,Array{T,1} where T}(\"probs\" => [1.0],\"branches\" => Dict{Any,Any}[Dict(\"tocond\" => 6,\"next\" => [14, 6],\"pr\" => 1.0)],\"outcomes\" => [6]),[14, 8] => Dict{String,Array{T,1} where T}(\"probs\" => [0.692, 0.302, 0.006],\"branches\" => Dict{Any,Any}[Dict(\"tocond\" => 3,\"next\" => [0, 0],\"pr\" => 0.692), Dict(\"tocond\" => 8,\"next\" => [19, 8],\"pr\" => 0.302), Dict(\"tocond\" => 4,\"next\" => [0, 5],\"pr\" => 0.006)],\"outcomes\" => [3, 8, 4]),[19, 8] => Dict{String,Array{T,1} where T}(\"probs\" => [0.891, 0.106, 0.003],\"branches\" => Dict{Any,Any}[Dict(\"tocond\" => 3,\"next\" => [0, 0],\"pr\" => 0.891), Dict(\"tocond\" => 8,\"next\" => [25, 8],\"pr\" => 0.106), Dict(\"tocond\" => 4,\"next\" => [0, 5],\"pr\" => 0.003)],\"outcomes\" => [3, 8, 4]),[25, 7] => Dict{String,Array{T,1} where T}(\"probs\" => [0.976, 0.024],\"branches\" => Dict{Any,Any}[Dict(\"tocond\" => 3,\"next\" => [0, 0],\"pr\" => 0.976), Dict(\"tocond\" => 4,\"next\" => [0, 5],\"pr\" => 0.024)],\"outcomes\" => [3, 4]),[14, 6] => Dict{String,Array{T,1} where T}(\"probs\" => [1.0],\"branches\" => Dict{Any,Any}[Dict(\"tocond\" => 3,\"next\" => [0, 0],\"pr\" => 1.0)],\"outcomes\" => [3])…)), Dict(4 => [9, 25, 14, 5, 19],2 => [9, 25, 14, 5, 19],3 => [9, 25, 14, 5, 19],5 => [9, 25, 14, 5, 19],1 => [9, 25, 14, 5, 19]))"
      ]
     },
     "execution_count": 13,
     "metadata": {},
     "output_type": "execute_result"
    }
   ],
   "source": [
    "treedict, decpoints = setup_dt(std_file)"
   ]
  },
  {
   "cell_type": "code",
   "execution_count": 14,
   "metadata": {},
   "outputs": [
    {
     "data": {
      "text/plain": [
       "Dict{Any,Any} with 5 entries:\n",
       "  4 => Dict{Any,Any}([9, 5]=>Dict{String,Array{T,1} where T}(\"probs\"=>[0.62, 0.…\n",
       "  2 => Dict{Any,Any}([9, 5]=>Dict{String,Array{T,1} where T}(\"probs\"=>[0.85, 0.…\n",
       "  3 => Dict{Any,Any}([9, 5]=>Dict{String,Array{T,1} where T}(\"probs\"=>[0.9, 0.1…\n",
       "  5 => Dict{Any,Any}([9, 5]=>Dict{String,Array{T,1} where T}(\"probs\"=>[0.5, 0.5…\n",
       "  1 => Dict{Any,Any}([9, 5]=>Dict{String,Array{T,1} where T}(\"probs\"=>[0.9, 0.1…"
      ]
     },
     "execution_count": 14,
     "metadata": {},
     "output_type": "execute_result"
    }
   ],
   "source": [
    "treedict"
   ]
  },
  {
   "cell_type": "code",
   "execution_count": 16,
   "metadata": {},
   "outputs": [
    {
     "data": {
      "text/plain": [
       "Dict{String,Array{T,1} where T} with 3 entries:\n",
       "  \"probs\"    => [0.9, 0.1]\n",
       "  \"branches\" => Dict{Any,Any}[Dict(\"tocond\"=>3,\"next\"=>[0, 0],\"pr\"=>0.9), Dict(…\n",
       "  \"outcomes\" => [3, 7]"
      ]
     },
     "execution_count": 16,
     "metadata": {},
     "output_type": "execute_result"
    }
   ],
   "source": [
    "treedict[1][[9,5]]"
   ]
  },
  {
   "cell_type": "code",
   "execution_count": 17,
   "metadata": {},
   "outputs": [
    {
     "data": {
      "text/plain": [
       "Dict{Int64,Array{Int64,1}} with 5 entries:\n",
       "  4 => [9, 25, 14, 5, 19]\n",
       "  2 => [9, 25, 14, 5, 19]\n",
       "  3 => [9, 25, 14, 5, 19]\n",
       "  5 => [9, 25, 14, 5, 19]\n",
       "  1 => [9, 25, 14, 5, 19]"
      ]
     },
     "execution_count": 17,
     "metadata": {},
     "output_type": "execute_result"
    }
   ],
   "source": [
    "decpoints"
   ]
  },
  {
   "cell_type": "code",
   "execution_count": null,
   "metadata": {},
   "outputs": [],
   "source": []
  }
 ],
 "metadata": {
  "jupytext": {
   "formats": "ipynb,auto:percent"
  },
  "kernelspec": {
   "display_name": "Julia 1.6.0",
   "language": "julia",
   "name": "julia-1.6"
  },
  "language_info": {
   "file_extension": ".jl",
   "mimetype": "application/julia",
   "name": "julia",
   "version": "1.6.0"
  }
 },
 "nbformat": 4,
 "nbformat_minor": 4
}
