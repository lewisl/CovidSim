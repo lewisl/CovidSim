{
 "cells": [
  {
   "cell_type": "markdown",
   "metadata": {},
   "source": [
    "# Prototype Spread and Transition with ILM Approach"
   ]
  },
  {
   "cell_type": "code",
   "execution_count": 1,
   "metadata": {},
   "outputs": [],
   "source": [
    "using CovidSim"
   ]
  },
  {
   "cell_type": "code",
   "execution_count": 2,
   "metadata": {},
   "outputs": [],
   "source": [
    "using StatsBase\n",
    "using DelimitedFiles\n",
    "using Distributions"
   ]
  },
  {
   "cell_type": "code",
   "execution_count": 3,
   "metadata": {},
   "outputs": [
    {
     "data": {
      "text/plain": [
       "160000×4 Array{Int64,2}:\n",
       " 1  2  0   0\n",
       " 1  3  0   0\n",
       " 1  4  0   0\n",
       " 1  5  0   0\n",
       " 2  1  5   2\n",
       " 2  2  5   9\n",
       " 2  3  6   2\n",
       " 2  4  6   9\n",
       " 2  5  7   2\n",
       " 2  1  7   9\n",
       " 2  2  8   2\n",
       " 2  3  8   9\n",
       " 3  4  6   9\n",
       " ⋮        \n",
       " 2  1  5   2\n",
       " 2  2  5   9\n",
       " 2  3  6   2\n",
       " 2  4  6   9\n",
       " 2  5  7   2\n",
       " 2  1  7   9\n",
       " 2  2  8   2\n",
       " 2  3  8   9\n",
       " 3  4  6   9\n",
       " 3  5  6  15\n",
       " 4  3  8  15\n",
       " 4  4  8  19"
      ]
     },
     "execution_count": 3,
     "metadata": {},
     "output_type": "execute_result"
    }
   ],
   "source": [
    "ilmat = readdlm(\"../data/ilmtestdata.csv\", ',',Int, header=true)[1]\n",
    "ilmat = repeat(ilmat, 10_000)\n",
    "refresh = copy(ilmat)"
   ]
  },
  {
   "cell_type": "markdown",
   "metadata": {},
   "source": [
    "## New Approach to Decision Trees"
   ]
  },
  {
   "cell_type": "code",
   "execution_count": 4,
   "metadata": {},
   "outputs": [
    {
     "data": {
      "text/plain": [
       "\"../parameters/dec_tree_all.csv\""
      ]
     },
     "execution_count": 4,
     "metadata": {},
     "output_type": "execute_result"
    }
   ],
   "source": [
    "dectreefilename=\"../parameters/dec_tree_all.csv\""
   ]
  },
  {
   "cell_type": "code",
   "execution_count": 5,
   "metadata": {},
   "outputs": [],
   "source": [
    "using JSON\n",
    "using Pkg.TOML"
   ]
  },
  {
   "cell_type": "code",
   "execution_count": 6,
   "metadata": {},
   "outputs": [
    {
     "data": {
      "text/plain": [
       "(Any[(dec_points = Dict(9 => [(2, 1), (2, 2), (2, 3)],14 => [(3, 2), (3, 3), (3, 4)],19 => [(4, 4)],5 => [(1, 1)]), tree = Dict{Tuple{Int64,Int64},Array{Any,1}}((2, 3) => [CovidSim.Branch(7, 7, 0.85, (3, 3), \"sick\", \"sick\"), CovidSim.Branch(7, 8, 0.15, (3, 4), \"sick\", \"severe\")],(3, 2) => [CovidSim.Branch(6, 3, 1.0, (0, 0), \"mild\", \"recovered\")],(3, 3) => [CovidSim.Branch(7, 3, 0.85, (0, 0), \"sick\", \"recovered\"), CovidSim.Branch(7, 8, 0.15, (4, 4), \"sick\", \"severe\")],(2, 2) => [CovidSim.Branch(6, 6, 1.0, (3, 2), \"mild\", \"mild\")],(1, 1) => [CovidSim.Branch(5, 5, 0.2, (2, 1), \"nil\", \"nil\"), CovidSim.Branch(5, 6, 0.65, (2, 2), \"nil\", \"mild\"), CovidSim.Branch(5, 7, 0.15, (2, 3), \"nil\", \"sick\")],(4, 4) => [CovidSim.Branch(8, 3, 0.9, (0, 0), \"severe\", \"recovered\"), CovidSim.Branch(8, 4, 0.1, (0, 5), \"severe\", \"dead\")],(2, 1) => [CovidSim.Branch(5, 3, 0.8, (0, 0), \"nil\", \"recovered\"), CovidSim.Branch(5, 7, 0.2, (3, 3), \"nil\", \"sick\")],(3, 4) => [CovidSim.Branch(8, 3, 0.45, (0, 0), \"severe\", \"recovered\"), CovidSim.Branch(8, 8, 0.5, (4, 4), \"severe\", \"severe\"), CovidSim.Branch(8, 4, 0.05, (0, 5), \"severe\", \"dead\")])), (dec_points = Dict(9 => [(2, 1), (2, 2), (2, 3)],14 => [(3, 2), (3, 3), (3, 4)],19 => [(4, 4)],5 => [(1, 1)]), tree = Dict{Tuple{Int64,Int64},Array{Any,1}}((2, 3) => [CovidSim.Branch(7, 7, 0.85, (3, 3), \"sick\", \"sick\"), CovidSim.Branch(7, 8, 0.15, (3, 4), \"sick\", \"severe\")],(3, 2) => [CovidSim.Branch(6, 3, 1.0, (0, 0), \"mild\", \"recovered\")],(3, 3) => [CovidSim.Branch(7, 3, 0.8, (0, 0), \"sick\", \"recovered\"), CovidSim.Branch(7, 8, 0.2, (4, 4), \"sick\", \"severe\")],(2, 2) => [CovidSim.Branch(6, 6, 1.0, (3, 2), \"mild\", \"mild\")],(1, 1) => [CovidSim.Branch(5, 5, 0.2, (2, 1), \"nil\", \"nil\"), CovidSim.Branch(5, 6, 0.65, (2, 2), \"nil\", \"mild\"), CovidSim.Branch(5, 7, 0.15, (2, 3), \"nil\", \"sick\")],(4, 4) => [CovidSim.Branch(8, 3, 0.85, (0, 0), \"severe\", \"recovered\"), CovidSim.Branch(8, 4, 0.15, (0, 5), \"severe\", \"dead\")],(2, 1) => [CovidSim.Branch(5, 3, 0.8, (0, 0), \"nil\", \"recovered\"), CovidSim.Branch(5, 7, 0.2, (3, 3), \"nil\", \"sick\")],(3, 4) => [CovidSim.Branch(8, 3, 0.35, (0, 0), \"severe\", \"recovered\"), CovidSim.Branch(8, 8, 0.55, (4, 4), \"severe\", \"severe\"), CovidSim.Branch(8, 4, 0.1, (0, 5), \"severe\", \"dead\")])), (dec_points = Dict(9 => [(2, 1), (2, 2), (2, 3)],14 => [(3, 2), (3, 3), (3, 4)],19 => [(4, 4)],5 => [(1, 1)]), tree = Dict{Tuple{Int64,Int64},Array{Any,1}}((2, 3) => [CovidSim.Branch(7, 7, 0.75, (3, 3), \"sick\", \"sick\"), CovidSim.Branch(7, 8, 0.25, (3, 4), \"sick\", \"severe\")],(3, 2) => [CovidSim.Branch(6, 3, 1.0, (0, 0), \"mild\", \"recovered\")],(3, 3) => [CovidSim.Branch(7, 3, 0.65, (0, 0), \"sick\", \"recovered\"), CovidSim.Branch(7, 8, 0.35, (4, 4), \"sick\", \"severe\")],(2, 2) => [CovidSim.Branch(6, 6, 1.0, (3, 2), \"mild\", \"mild\")],(1, 1) => [CovidSim.Branch(5, 5, 0.2, (2, 1), \"nil\", \"nil\"), CovidSim.Branch(5, 6, 0.6, (2, 2), \"nil\", \"mild\"), CovidSim.Branch(5, 7, 0.2, (2, 3), \"nil\", \"sick\")],(4, 4) => [CovidSim.Branch(8, 3, 0.85, (0, 0), \"severe\", \"recovered\"), CovidSim.Branch(8, 4, 0.15, (0, 5), \"severe\", \"dead\")],(2, 1) => [CovidSim.Branch(5, 3, 0.7, (0, 0), \"nil\", \"recovered\"), CovidSim.Branch(5, 7, 0.3, (3, 3), \"nil\", \"sick\")],(3, 4) => [CovidSim.Branch(8, 3, 0.3, (0, 0), \"severe\", \"recovered\"), CovidSim.Branch(8, 8, 0.58, (4, 4), \"severe\", \"severe\"), CovidSim.Branch(8, 4, 0.12, (0, 5), \"severe\", \"dead\")])), (dec_points = Dict(9 => [(2, 1), (2, 2), (2, 3)],14 => [(3, 2), (3, 3), (3, 4)],19 => [(4, 4)],5 => [(1, 1)]), tree = Dict{Tuple{Int64,Int64},Array{Any,1}}((2, 3) => [CovidSim.Branch(7, 7, 0.72, (3, 3), \"sick\", \"sick\"), CovidSim.Branch(7, 8, 0.28, (3, 4), \"sick\", \"severe\")],(3, 2) => [CovidSim.Branch(6, 3, 1.0, (0, 0), \"mild\", \"recovered\")],(3, 3) => [CovidSim.Branch(7, 3, 0.62, (0, 0), \"sick\", \"recovered\"), CovidSim.Branch(7, 8, 0.38, (4, 4), \"sick\", \"severe\")],(2, 2) => [CovidSim.Branch(6, 6, 1.0, (3, 2), \"mild\", \"mild\")],(1, 1) => [CovidSim.Branch(5, 5, 0.15, (2, 1), \"nil\", \"nil\"), CovidSim.Branch(5, 6, 0.6, (2, 2), \"nil\", \"mild\"), CovidSim.Branch(5, 7, 0.25, (2, 3), \"nil\", \"sick\")],(4, 4) => [CovidSim.Branch(8, 3, 0.75, (0, 0), \"severe\", \"recovered\"), CovidSim.Branch(8, 4, 0.25, (0, 5), \"severe\", \"dead\")],(2, 1) => [CovidSim.Branch(5, 3, 0.6, (0, 0), \"nil\", \"recovered\"), CovidSim.Branch(5, 7, 0.4, (3, 3), \"nil\", \"sick\")],(3, 4) => [CovidSim.Branch(8, 3, 0.125, (0, 0), \"severe\", \"recovered\"), CovidSim.Branch(8, 8, 0.675, (4, 4), \"severe\", \"severe\"), CovidSim.Branch(8, 4, 0.2, (0, 5), \"severe\", \"dead\")])), (dec_points = Dict(9 => [(2, 1), (2, 2), (2, 3)],14 => [(3, 2), (3, 3), (3, 4)],19 => [(4, 4)],5 => [(1, 1)]), tree = Dict{Tuple{Int64,Int64},Array{Any,1}}((2, 3) => [CovidSim.Branch(7, 7, 0.7, (3, 3), \"sick\", \"sick\"), CovidSim.Branch(7, 8, 0.3, (3, 4), \"sick\", \"severe\")],(3, 2) => [CovidSim.Branch(6, 3, 1.0, (0, 0), \"mild\", \"recovered\")],(3, 3) => [CovidSim.Branch(7, 3, 0.6, (0, 0), \"sick\", \"recovered\"), CovidSim.Branch(7, 8, 0.4, (4, 4), \"sick\", \"severe\")],(2, 2) => [CovidSim.Branch(6, 6, 1.0, (3, 2), \"mild\", \"mild\")],(1, 1) => [CovidSim.Branch(5, 5, 0.15, (2, 1), \"nil\", \"nil\"), CovidSim.Branch(5, 6, 0.6, (2, 2), \"nil\", \"mild\"), CovidSim.Branch(5, 7, 0.25, (2, 3), \"nil\", \"sick\")],(4, 4) => [CovidSim.Branch(8, 3, 0.7, (0, 0), \"severe\", \"recovered\"), CovidSim.Branch(8, 4, 0.3, (0, 5), \"severe\", \"dead\")],(2, 1) => [CovidSim.Branch(5, 3, 0.5, (0, 0), \"nil\", \"recovered\"), CovidSim.Branch(5, 7, 0.5, (3, 3), \"nil\", \"sick\")],(3, 4) => [CovidSim.Branch(8, 3, 0.125, (0, 0), \"severe\", \"recovered\"), CovidSim.Branch(8, 8, 0.625, (4, 4), \"severe\", \"severe\"), CovidSim.Branch(8, 4, 0.25, (0, 5), \"severe\", \"dead\")]))], Dict(9 => [(2, 1), (2, 2), (2, 3)],14 => [(3, 2), (3, 3), (3, 4)],19 => [(4, 4)],5 => [(1, 1)]))"
      ]
     },
     "execution_count": 6,
     "metadata": {},
     "output_type": "execute_result"
    }
   ],
   "source": [
    "dt, all_decpoints = setup_dt(dectreefilename)"
   ]
  },
  {
   "cell_type": "code",
   "execution_count": 7,
   "metadata": {},
   "outputs": [
    {
     "data": {
      "text/plain": [
       "Dict{String,Array{Any,1}} with 8 entries:\n",
       "  \"(3, 2)\" => Any[Branch(6, 3, 1.0, (0, 0), \"mild\", \"recovered\")]\n",
       "  \"(3, 3)\" => Any[Branch(7, 3, 0.85, (0, 0), \"sick\", \"recovered\"), Branch(7, 8,…\n",
       "  \"(2, 2)\" => Any[Branch(6, 6, 1.0, (3, 2), \"mild\", \"mild\")]\n",
       "  \"(1, 1)\" => Any[Branch(5, 5, 0.2, (2, 1), \"nil\", \"nil\"), Branch(5, 6, 0.65, (…\n",
       "  \"(4, 4)\" => Any[Branch(8, 3, 0.9, (0, 0), \"severe\", \"recovered\"), Branch(8, 4…\n",
       "  \"(3, 4)\" => Any[Branch(8, 3, 0.45, (0, 0), \"severe\", \"recovered\"), Branch(8, …\n",
       "  \"(2, 1)\" => Any[Branch(5, 3, 0.8, (0, 0), \"nil\", \"recovered\"), Branch(5, 7, 0…\n",
       "  \"(2, 3)\" => Any[Branch(7, 7, 0.85, (3, 3), \"sick\", \"sick\"), Branch(7, 8, 0.15…"
      ]
     },
     "execution_count": 7,
     "metadata": {},
     "output_type": "execute_result"
    }
   ],
   "source": [
    "newdict1 = Dict(string(k) => dt[1].tree[k] for k in keys(dt[1].tree))"
   ]
  },
  {
   "cell_type": "code",
   "execution_count": 8,
   "metadata": {},
   "outputs": [
    {
     "data": {
      "text/plain": [
       "Base.KeySet for a Dict{Tuple{Int64,Int64},Array{Any,1}} with 8 entries. Keys:\n",
       "  (2, 3)\n",
       "  (3, 2)\n",
       "  (3, 3)\n",
       "  (2, 2)\n",
       "  (1, 1)\n",
       "  (4, 4)\n",
       "  (2, 1)\n",
       "  (3, 4)"
      ]
     },
     "execution_count": 8,
     "metadata": {},
     "output_type": "execute_result"
    }
   ],
   "source": [
    "keys(dt[1].tree)"
   ]
  },
  {
   "cell_type": "code",
   "execution_count": 9,
   "metadata": {},
   "outputs": [
    {
     "data": {
      "text/plain": [
       "\"{\\\"(2, 3)\\\":[{\\\"fromcond\\\":7,\\\"tocond\\\":7,\\\"pr\\\":0.85,\\\"next\\\":[3,3],\\\"fromcondname\\\":\\\"sick\\\",\\\"tocondname\\\":\\\"sick\\\"},{\\\"fromcond\\\":7,\\\"tocond\\\":8,\\\"pr\\\":0.15,\\\"next\\\":[3,4],\\\"fromcondname\\\":\\\"sick\\\",\\\"tocondname\\\":\\\"severe\\\"}],\\\"(3, 2)\\\":[{\\\"fromcond\\\":6,\\\"tocond\\\":3,\\\"pr\\\":1.0,\\\"next\\\":[0,0],\\\"fromcondname\\\":\\\"mild\\\",\\\"tocondname\\\":\\\"recovered\\\"}],\\\"(3, 3)\\\":[{\\\"fromcond\\\":7,\\\"tocond\\\":3,\\\"pr\\\":0.85,\\\"next\\\":[0,0],\\\"fromcondname\\\":\\\"sick\\\",\\\"tocondname\\\":\\\"recovered\\\"},{\\\"fromcond\\\":7,\\\"tocond\\\":8,\\\"pr\\\":0.15,\\\"next\\\":[4,4],\\\"fromcondname\\\":\\\"sick\\\",\\\"tocondname\\\":\\\"severe\\\"}],\\\"(2, 2)\\\":[{\\\"fromcond\\\":6,\\\"tocond\\\":6,\\\"pr\\\":1.0,\\\"next\\\":[3,2],\\\"fromcondname\\\":\\\"mild\\\",\\\"tocondname\\\":\\\"mild\\\"}],\\\"(1, 1)\\\":[{\\\"fromcond\\\":5,\\\"tocond\\\":5,\\\"pr\\\":0.2,\\\"next\\\":[2,1],\\\"fromcondname\\\":\\\"nil\\\",\\\"tocondname\\\":\\\"nil\\\"},{\\\"fromcond\\\":5,\\\"tocond\\\":6,\\\"pr\\\":0.65,\\\"next\\\":[2,2],\\\"fromcondname\\\":\\\"nil\\\",\\\"tocondname\\\":\\\"mild\\\"},{\\\"fromcond\\\":5,\\\"tocond\\\":7,\\\"pr\\\":0.15,\\\"next\\\":[2,3],\\\"fromcondname\\\":\\\"nil\\\",\\\"tocondname\\\":\\\"sick\\\"}],\\\"(4, 4)\\\":[{\\\"fromcond\\\":8,\\\"tocond\\\":3,\\\"pr\\\":0.9,\\\"next\\\":[0,0],\\\"fromcondname\\\":\\\"severe\\\",\\\"tocondname\\\":\\\"recovered\\\"},{\\\"fromcond\\\":8,\\\"tocond\\\":4,\\\"pr\\\":0.1,\\\"next\\\":[0,5],\\\"fromcondname\\\":\\\"severe\\\",\\\"tocondname\\\":\\\"dead\\\"}],\\\"(2, 1)\\\":[{\\\"fromcond\\\":5,\\\"tocond\\\":3,\\\"pr\\\":0.8,\\\"next\\\":[0,0],\\\"fromcondname\\\":\\\"nil\\\",\\\"tocondname\\\":\\\"recovered\\\"},{\\\"fromcond\\\":5,\\\"tocond\\\":7,\\\"pr\\\":0.2,\\\"next\\\":[3,3],\\\"fromcondname\\\":\\\"nil\\\",\\\"tocondname\\\":\\\"sick\\\"}],\\\"(3, 4)\\\":[{\\\"fromcond\\\":8,\\\"tocond\\\":3,\\\"pr\\\":0.45,\\\"next\\\":[0,0],\\\"fromcondname\\\":\\\"severe\\\",\\\"tocondname\\\":\\\"recovered\\\"},{\\\"fromcond\\\":8,\\\"tocond\\\":8,\\\"pr\\\":0.5,\\\"next\\\":[4,4],\\\"fromcondname\\\":\\\"severe\\\",\\\"tocondname\\\":\\\"severe\\\"},{\\\"fromcond\\\":8,\\\"tocond\\\":4,\\\"pr\\\":0.05,\\\"next\\\":[0,5],\\\"fromcondname\\\":\\\"severe\\\",\\\"tocondname\\\":\\\"dead\\\"}]}\""
      ]
     },
     "execution_count": 9,
     "metadata": {},
     "output_type": "execute_result"
    }
   ],
   "source": [
    "JSON.json(dt[1].tree)"
   ]
  },
  {
   "cell_type": "code",
   "execution_count": 10,
   "metadata": {},
   "outputs": [
    {
     "data": {
      "text/plain": [
       "\"[{\\\"dec_points\\\":{\\\"9\\\":[[2,1],[2,2],[2,3]],\\\"14\\\":[[3,2],[3,3],[3,4]],\\\"19\\\":[[4,4]],\\\"5\\\":[[1,1]]},\\\"tree\\\":{\\\"(2, 3)\\\":[{\\\"fromcond\\\":7,\\\"tocond\\\":7,\\\"pr\\\":0.85,\\\"next\\\":[3,3],\\\"fromcondname\\\":\\\"sick\\\",\\\"tocondname\\\":\\\"sick\\\"},{\\\"fromcond\\\":7,\\\"tocond\\\":8,\\\"pr\\\":0.15,\\\"next\\\":[3,4],\\\"fromcondname\\\":\\\"sick\\\",\\\"tocondname\\\":\\\"severe\\\"}],\\\"(3, 2)\\\":[{\\\"fromcond\\\":6,\\\"tocond\\\":3,\\\"pr\\\":1.0,\\\"next\\\":[0,0],\\\"fromcondname\\\":\\\"mild\\\",\\\"tocondname\\\":\\\"recovered\\\"}],\\\"(3, 3)\\\":[{\\\"fromcond\\\":7,\\\"tocond\\\":3,\\\"pr\\\":0.85,\\\"next\\\":[0,0],\\\"fromcondname\\\":\\\"sick\\\",\\\"tocondname\\\":\\\"recovered\\\"},{\\\"fromcond\\\":7,\\\"tocond\\\":8,\\\"pr\\\":0.15,\\\"next\\\":[4,4],\\\"fromcondname\\\":\\\"sick\\\",\\\"tocondname\\\":\\\"severe\\\"}],\\\"(2, 2)\\\":[{\\\"fromcond\\\":6,\\\"tocond\\\":6,\\\"pr\\\":1.0,\\\"next\\\":[3,2],\\\"fromcondname\\\":\\\"mild\\\",\\\"tocondname\\\":\\\"mild\\\"}],\\\"(1, 1)\\\":[{\\\"fromcond\\\":5,\\\"tocond\\\":5,\\\"pr\\\":0.2,\\\"next\\\":[2,1],\\\"fromcondname\\\":\\\"nil\\\",\\\"tocondname\\\":\\\"nil\\\"},{\\\"fromcond\\\":5,\\\"tocond\\\":6,\\\"pr\\\":0.65,\\\"next\\\":[2,2],\\\"fromcondname\\\":\\\"nil\\\",\\\"tocondname\\\":\\\"mild\\\"},{\\\"fromcond\\\":5,\\\"tocond\\\":7,\\\"pr\\\":0.15,\\\"next\\\":[2,3],\\\"fromcondname\\\":\\\"nil\\\",\\\"tocondname\\\":\\\"sick\\\"}],\\\"(4, 4)\\\":[{\\\"fromcond\\\":8,\\\"tocond\\\":3,\\\"pr\\\":0.9,\\\"next\\\":[0,0],\\\"fromcondname\\\":\\\"severe\\\",\\\"tocondname\\\":\\\"recovered\\\"},{\\\"fromcond\\\":8,\\\"tocond\\\":4,\\\"pr\\\":0.1,\\\"next\\\":[0,5],\\\"fromcondname\\\":\\\"severe\\\",\\\"tocondname\\\":\\\"dead\\\"}],\\\"(2, 1)\\\":[{\\\"fromcond\\\":5,\\\"tocond\\\":3,\\\"pr\\\":0.8,\\\"next\\\":[0,0],\\\"fromcondname\\\":\\\"nil\\\",\\\"tocondname\\\":\\\"recovered\\\"},{\\\"fromcond\\\":5,\\\"tocond\\\":7,\\\"pr\\\":0.2,\\\"next\\\":[3,3],\\\"fromcondname\\\":\\\"nil\\\",\\\"tocondname\\\":\\\"sick\\\"}],\\\"(3, 4)\\\":[{\\\"fromcond\\\":8,\\\"tocond\\\":3,\\\"pr\\\":0.45,\\\"next\\\":[0,0],\\\"fromcondname\\\":\\\"severe\\\",\\\"tocondname\\\":\\\"recovered\\\"},{\\\"fromcond\\\":8,\\\"tocond\\\":8,\\\"pr\\\":0.5,\\\"next\\\":[4,4],\\\"fromcondname\\\":\\\"severe\\\",\\\"tocondname\\\":\\\"severe\\\"},{\\\"fromcond\\\":8,\\\"tocond\\\":4,\\\"pr\\\":0.05,\\\"next\\\":[0,5],\\\"fromcondname\\\":\\\"severe\\\",\\\"tocondname\\\":\\\"dead\\\"}]}},{\\\"dec_points\\\":{\\\"9\\\":[[2,1],[2,2],[2,3]],\\\"14\\\":[[3,2],[3,3],[3,4]],\\\"19\\\":[[4,4]],\\\"5\\\":[[1,1]]},\\\"tree\\\":{\\\"(2, 3)\\\":[{\\\"fromcond\\\":7,\\\"tocond\\\":7,\\\"pr\\\":0.85,\\\"next\\\":[3,3],\\\"fromcondname\\\":\\\"sick\\\",\\\"tocondname\\\":\\\"sick\\\"},{\\\"fromcond\\\":7,\\\"tocond\\\":8,\\\"pr\\\":0.15,\\\"next\\\":[3,4],\\\"fromcondname\\\":\\\"sick\\\",\\\"tocondname\\\":\\\"severe\\\"}],\\\"(3, 2)\\\":[{\\\"fromcond\\\":6,\\\"tocond\\\":3,\\\"pr\\\":1.0,\\\"next\\\":[0,0],\\\"fromcondname\\\":\\\"mild\\\",\\\"tocondname\\\":\\\"recovered\\\"}],\\\"(3, 3)\\\":[{\\\"fromcond\\\":7,\\\"tocond\\\":3,\\\"pr\\\":0.8,\\\"next\\\":[0,0],\\\"fromcondname\\\":\\\"sick\\\",\\\"tocondname\\\":\\\"recovered\\\"},{\\\"fromcond\\\":7,\\\"tocond\\\":8,\\\"pr\\\":0.2,\\\"next\\\":[4,4],\\\"fromcondname\\\":\\\"sick\\\",\\\"tocondname\\\":\\\"severe\\\"}],\\\"(2, 2)\\\":[{\\\"fromcond\\\":6,\\\"tocond\\\":6,\\\"pr\\\":1.0,\\\"next\\\":[3,2],\\\"fromcondname\\\":\\\"mild\\\",\\\"tocondname\\\":\\\"mild\\\"}],\\\"(1, 1)\\\":[{\\\"fromcond\\\":5,\\\"tocond\\\":5,\\\"pr\\\":0.2,\\\"next\\\":[2,1],\\\"fromcondname\\\":\\\"nil\\\",\\\"tocondname\\\":\\\"nil\\\"},{\\\"fromcond\\\":5,\\\"tocond\\\":6,\\\"pr\\\":0.65,\\\"next\\\":[2,2],\\\"fromcondname\\\":\\\"nil\\\",\\\"tocondname\\\":\\\"mild\\\"},{\\\"fromcond\\\":5,\\\"tocond\\\":7,\\\"pr\\\":0.15,\\\"next\\\":[2,3],\\\"fromcondname\\\":\\\"nil\\\",\\\"tocondname\\\":\\\"sick\\\"}],\\\"(4, 4)\\\":[{\\\"fromcond\\\":8,\\\"tocond\\\":3,\\\"pr\\\":0.85,\\\"next\\\":[0,0],\\\"fromcondname\\\":\\\"severe\\\",\\\"tocondname\\\":\\\"recovered\\\"},{\\\"fromcond\\\":8,\\\"tocond\\\":4,\\\"pr\\\":0.15,\\\"next\\\":[0,5],\\\"fromcondname\\\":\\\"severe\\\",\\\"tocondname\\\":\\\"dead\\\"}],\\\"(2, 1)\\\":[{\\\"fromcond\\\":5,\\\"tocond\\\":3,\\\"pr\\\":0.8,\\\"next\\\":[0,0],\\\"fromcondname\\\":\\\"nil\\\",\\\"tocondname\\\":\\\"recovered\\\"},{\\\"fromcond\\\":5,\\\"tocond\\\":7,\\\"pr\\\":0.2,\\\"next\\\":[3,3],\\\"fromcondname\\\":\\\"nil\\\",\\\"tocondname\\\":\\\"sick\\\"}],\\\"(3, 4)\\\":[{\\\"fromcond\\\":8,\\\"tocond\\\":3,\\\"pr\\\":0.35,\\\"next\\\":[0,0],\\\"fromcondname\\\":\\\"severe\\\",\\\"tocondname\\\":\\\"recovered\\\"},{\\\"fromcond\\\":8,\\\"tocond\\\":8,\\\"pr\\\":0.55,\\\"next\\\":[4,4],\\\"fromcondname\\\":\\\"severe\\\",\\\"tocondname\\\":\\\"severe\\\"},{\\\"fromcond\\\":8,\\\"tocond\\\":4,\\\"pr\\\":0.1,\\\"next\\\":[0,5],\\\"fromcondname\\\":\\\"severe\\\",\\\"tocondname\\\":\\\"dead\\\"}]}},{\\\"dec_points\\\":{\\\"9\\\":[[2,1],[2,2],[2,3]],\\\"14\\\":[[3,2],[3,3],[3,4]],\\\"19\\\":[[4,4]],\\\"5\\\":[[1,1]]},\\\"tree\\\":{\\\"(2, 3)\\\":[{\\\"fromcond\\\":7,\\\"tocond\\\":7,\\\"pr\\\":0.75,\\\"next\\\":[3,3],\\\"fromcondname\\\":\\\"sick\\\",\\\"tocondname\\\":\\\"sick\\\"},{\\\"fromcond\\\":7,\\\"tocond\\\":8,\\\"pr\\\":0.25,\\\"next\\\":[3,4],\\\"fromcondname\\\":\\\"sick\\\",\\\"tocondname\\\":\\\"severe\\\"}],\\\"(3, 2)\\\":[{\\\"fromcond\\\":6,\\\"tocond\\\":3,\\\"pr\\\":1.0,\\\"next\\\":[0,0],\\\"fromcondname\\\":\\\"mild\\\",\\\"tocondname\\\":\\\"recovered\\\"}],\\\"(3, 3)\\\":[{\\\"fromcond\\\":7,\\\"tocond\\\":3,\\\"pr\\\":0.65,\\\"next\\\":[0,0],\\\"fromcondname\\\":\\\"sick\\\",\\\"tocondname\\\":\\\"recovered\\\"},{\\\"fromcond\\\":7,\\\"tocond\\\":8,\\\"pr\\\":0.35,\\\"next\\\":[4,4],\\\"fromcondname\\\":\\\"sick\\\",\\\"tocondname\\\":\\\"severe\\\"}],\\\"(2, 2)\\\":[{\\\"fromcond\\\":6,\\\"tocond\\\":6,\\\"pr\\\":1.0,\\\"next\\\":[3,2],\\\"fromcondname\\\":\\\"mild\\\",\\\"tocondname\\\":\\\"mild\\\"}],\\\"(1, 1)\\\":[{\\\"fromcond\\\":5,\\\"tocond\\\":5,\\\"pr\\\":0.2,\\\"next\\\":[2,1],\\\"fromcondname\\\":\\\"nil\\\",\\\"tocondname\\\":\\\"nil\\\"},{\\\"fromcond\\\":5,\\\"tocond\\\":6,\\\"pr\\\":0.6,\\\"next\\\":[2,2],\\\"fromcondname\\\":\\\"nil\\\",\\\"tocondname\\\":\\\"mild\\\"},{\\\"fromcond\\\":5,\\\"tocond\\\":7,\\\"pr\\\":0.2,\\\"next\\\":[2,3],\\\"fromcondname\\\":\\\"nil\\\",\\\"tocondname\\\":\\\"sick\\\"}],\\\"(4, 4)\\\":[{\\\"fromcond\\\":8,\\\"tocond\\\":3,\\\"pr\\\":0.85,\\\"next\\\":[0,0],\\\"fromcondname\\\":\\\"severe\\\",\\\"tocondname\\\":\\\"recovered\\\"},{\\\"fromcond\\\":8,\\\"tocond\\\":4,\\\"pr\\\":0.15,\\\"next\\\":[0,5],\\\"fromcondname\\\":\\\"severe\\\",\\\"tocondname\\\":\\\"dead\\\"}],\\\"(2, 1)\\\":[{\\\"fromcond\\\":5,\\\"tocond\\\":3,\\\"pr\\\":0.7,\\\"next\\\":[0,0],\\\"fromcondname\\\":\\\"nil\\\",\\\"tocondname\\\":\\\"recovered\\\"},{\\\"fromcond\\\":5,\\\"tocond\\\":7,\\\"pr\\\":0.3,\\\"next\\\":[3,3],\\\"fromcondname\\\":\\\"nil\\\",\\\"tocondname\\\":\\\"sick\\\"}],\\\"(3, 4)\\\":[{\\\"fromcond\\\":8,\\\"tocond\\\":3,\\\"pr\\\":0.3,\\\"next\\\":[0,0],\\\"fromcondname\\\":\\\"severe\\\",\\\"tocondname\\\":\\\"recovered\\\"},{\\\"fromcond\\\":8,\\\"tocond\\\":8,\\\"pr\\\":0.58,\\\"next\\\":[4,4],\\\"fromcondname\\\":\\\"severe\\\",\\\"tocondname\\\":\\\"severe\\\"},{\\\"fromcond\\\":8,\\\"tocond\\\":4,\\\"pr\\\":0.12,\\\"next\\\":[0,5],\\\"fromcondname\\\":\\\"severe\\\",\\\"tocondname\\\":\\\"dead\\\"}]}},{\\\"dec_points\\\":{\\\"9\\\":[[2,1],[2,2],[2,3]],\\\"14\\\":[[3,2],[3,3],[3,4]],\\\"19\\\":[[4,4]],\\\"5\\\":[[1,1]]},\\\"tree\\\":{\\\"(2, 3)\\\":[{\\\"fromcond\\\":7,\\\"tocond\\\":7,\\\"pr\\\":0.72,\\\"next\\\":[3,3],\\\"fromcondname\\\":\\\"sick\\\",\\\"tocondname\\\":\\\"sick\\\"},{\\\"fromcond\\\":7,\\\"tocond\\\":8,\\\"pr\\\":0.28,\\\"next\\\":[3,4],\\\"fromcondname\\\":\\\"sick\\\",\\\"tocondname\\\":\\\"severe\\\"}],\\\"(3, 2)\\\":[{\\\"fromcond\\\":6,\\\"tocond\\\":3,\\\"pr\\\":1.0,\\\"next\\\":[0,0],\\\"fromcondname\\\":\\\"mild\\\",\\\"tocondname\\\":\\\"recovered\\\"}],\\\"(3, 3)\\\":[{\\\"fromcond\\\":7,\\\"tocond\\\":3,\\\"pr\\\":0.62,\\\"next\\\":[0,0],\\\"fromcondname\\\":\\\"sick\\\",\\\"tocondname\\\":\\\"recovered\\\"},{\\\"fromcond\\\":7,\\\"tocond\\\":8,\\\"pr\\\":0.38,\\\"next\\\":[4,4],\\\"fromcondname\\\":\\\"sick\\\",\\\"tocondname\\\":\\\"severe\\\"}],\\\"(2, 2)\\\":[{\\\"fromcond\\\":6,\\\"tocond\\\":6,\\\"pr\\\":1.0,\\\"next\\\":[3,2],\\\"fromcondname\\\":\\\"mild\\\",\\\"tocondname\\\":\\\"mild\\\"}],\\\"(1, 1)\\\":[{\\\"fromcond\\\":5,\\\"tocond\\\":5,\\\"pr\\\":0.15,\\\"next\\\":[2,1],\\\"fromcondname\\\":\\\"nil\\\",\\\"tocondname\\\":\\\"nil\\\"},{\\\"fromcond\\\":5,\\\"tocond\\\":6,\\\"pr\\\":0.6,\\\"next\\\":[2,2],\\\"fromcondname\\\":\\\"nil\\\",\\\"tocondname\\\":\\\"mild\\\"},{\\\"fromcond\\\":5,\\\"tocond\\\":7,\\\"pr\\\":0.25,\\\"next\\\":[2,3],\\\"fromcondname\\\":\\\"nil\\\",\\\"tocondname\\\":\\\"sick\\\"}],\\\"(4, 4)\\\":[{\\\"fromcond\\\":8,\\\"tocond\\\":3,\\\"pr\\\":0.75,\\\"next\\\":[0,0],\\\"fromcondname\\\":\\\"severe\\\",\\\"tocondname\\\":\\\"recovered\\\"},{\\\"fromcond\\\":8,\\\"tocond\\\":4,\\\"pr\\\":0.25,\\\"next\\\":[0,5],\\\"fromcondname\\\":\\\"severe\\\",\\\"tocondname\\\":\\\"dead\\\"}],\\\"(2, 1)\\\":[{\\\"fromcond\\\":5,\\\"tocond\\\":3,\\\"pr\\\":0.6,\\\"next\\\":[0,0],\\\"fromcondname\\\":\\\"nil\\\",\\\"tocondname\\\":\\\"recovered\\\"},{\\\"fromcond\\\":5,\\\"tocond\\\":7,\\\"pr\\\":0.4,\\\"next\\\":[3,3],\\\"fromcondname\\\":\\\"nil\\\",\\\"tocondname\\\":\\\"sick\\\"}],\\\"(3, 4)\\\":[{\\\"fromcond\\\":8,\\\"tocond\\\":3,\\\"pr\\\":0.125,\\\"next\\\":[0,0],\\\"fromcondname\\\":\\\"severe\\\",\\\"tocondname\\\":\\\"recovered\\\"},{\\\"fromcond\\\":8,\\\"tocond\\\":8,\\\"pr\\\":0.675,\\\"next\\\":[4,4],\\\"fromcondname\\\":\\\"severe\\\",\\\"tocondname\\\":\\\"severe\\\"},{\\\"fromcond\\\":8,\\\"tocond\\\":4,\\\"pr\\\":0.2,\\\"next\\\":[0,5],\\\"fromcondname\\\":\\\"severe\\\",\\\"tocondname\\\":\\\"dead\\\"}]}},{\\\"dec_points\\\":{\\\"9\\\":[[2,1],[2,2],[2,3]],\\\"14\\\":[[3,2],[3,3],[3,4]],\\\"19\\\":[[4,4]],\\\"5\\\":[[1,1]]},\\\"tree\\\":{\\\"(2, 3)\\\":[{\\\"fromcond\\\":7,\\\"tocond\\\":7,\\\"pr\\\":0.7,\\\"next\\\":[3,3],\\\"fromcondname\\\":\\\"sick\\\",\\\"tocondname\\\":\\\"sick\\\"},{\\\"fromcond\\\":7,\\\"tocond\\\":8,\\\"pr\\\":0.3,\\\"next\\\":[3,4],\\\"fromcondname\\\":\\\"sick\\\",\\\"tocondname\\\":\\\"severe\\\"}],\\\"(3, 2)\\\":[{\\\"fromcond\\\":6,\\\"tocond\\\":3,\\\"pr\\\":1.0,\\\"next\\\":[0,0],\\\"fromcondname\\\":\\\"mild\\\",\\\"tocondname\\\":\\\"recovered\\\"}],\\\"(3, 3)\\\":[{\\\"fromcond\\\":7,\\\"tocond\\\":3,\\\"pr\\\":0.6,\\\"next\\\":[0,0],\\\"fromcondname\\\":\\\"sick\\\",\\\"tocondname\\\":\\\"recovered\\\"},{\\\"fromcond\\\":7,\\\"tocond\\\":8,\\\"pr\\\":0.4,\\\"next\\\":[4,4],\\\"fromcondname\\\":\\\"sick\\\",\\\"tocondname\\\":\\\"severe\\\"}],\\\"(2, 2)\\\":[{\\\"fromcond\\\":6,\\\"tocond\\\":6,\\\"pr\\\":1.0,\\\"next\\\":[3,2],\\\"fromcondname\\\":\\\"mild\\\",\\\"tocondname\\\":\\\"mild\\\"}],\\\"(1, 1)\\\":[{\\\"fromcond\\\":5,\\\"tocond\\\":5,\\\"pr\\\":0.15,\\\"next\\\":[2,1],\\\"fromcondname\\\":\\\"nil\\\",\\\"tocondname\\\":\\\"nil\\\"},{\\\"fromcond\\\":5,\\\"tocond\\\":6,\\\"pr\\\":0.6,\\\"next\\\":[2,2],\\\"fromcondname\\\":\\\"nil\\\",\\\"tocondname\\\":\\\"mild\\\"},{\\\"fromcond\\\":5,\\\"tocond\\\":7,\\\"pr\\\":0.25,\\\"next\\\":[2,3],\\\"fromcondname\\\":\\\"nil\\\",\\\"tocondname\\\":\\\"sick\\\"}],\\\"(4, 4)\\\":[{\\\"fromcond\\\":8,\\\"tocond\\\":3,\\\"pr\\\":0.7,\\\"next\\\":[0,0],\\\"fromcondname\\\":\\\"severe\\\",\\\"tocondname\\\":\\\"recovered\\\"},{\\\"fromcond\\\":8,\\\"tocond\\\":4,\\\"pr\\\":0.3,\\\"next\\\":[0,5],\\\"fromcondname\\\":\\\"severe\\\",\\\"tocondname\\\":\\\"dead\\\"}],\\\"(2, 1)\\\":[{\\\"fromcond\\\":5,\\\"tocond\\\":3,\\\"pr\\\":0.5,\\\"next\\\":[0,0],\\\"fromcondname\\\":\\\"nil\\\",\\\"tocondname\\\":\\\"recovered\\\"},{\\\"fromcond\\\":5,\\\"tocond\\\":7,\\\"pr\\\":0.5,\\\"next\\\":[3,3],\\\"fromcondname\\\":\\\"nil\\\",\\\"tocondname\\\":\\\"sick\\\"}],\\\"(3, 4)\\\":[{\\\"fromcond\\\":8,\\\"tocond\\\":3,\\\"pr\\\":0.125,\\\"next\\\":[0,0],\\\"fromcondname\\\":\\\"severe\\\",\\\"tocondname\\\":\\\"recovered\\\"},{\\\"fromcond\\\":8,\\\"tocond\\\":8,\\\"pr\\\":0.625,\\\"next\\\":[4,4],\\\"fromcondname\\\":\\\"severe\\\",\\\"tocondname\\\":\\\"severe\\\"},{\\\"fromcond\\\":8,\\\"tocond\\\":4,\\\"pr\\\":0.25,\\\"next\\\":[0,5],\\\"fromcondname\\\":\\\"severe\\\",\\\"tocondname\\\":\\\"dead\\\"}]}}]\""
      ]
     },
     "execution_count": 10,
     "metadata": {},
     "output_type": "execute_result"
    }
   ],
   "source": [
    "JSON.json(dt)"
   ]
  },
  {
   "cell_type": "code",
   "execution_count": 11,
   "metadata": {},
   "outputs": [
    {
     "name": "stdout",
     "output_type": "stream",
     "text": [
      "\"(3, 2)\" = [\"CovidSim.Branch(6, 3, 1.0, (0, 0), \\\"mild\\\", \\\"recovered\\\")\"]\n",
      "\"(3, 3)\" = [\"CovidSim.Branch(7, 3, 0.85, (0, 0), \\\"sick\\\", \\\"recovered\\\")\", \"CovidSim.Branch(7, 8, 0.15, (4, 4), \\\"sick\\\", \\\"severe\\\")\"]\n",
      "\"(2, 2)\" = [\"CovidSim.Branch(6, 6, 1.0, (3, 2), \\\"mild\\\", \\\"mild\\\")\"]\n",
      "\"(1, 1)\" = [\"CovidSim.Branch(5, 5, 0.2, (2, 1), \\\"nil\\\", \\\"nil\\\")\", \"CovidSim.Branch(5, 6, 0.65, (2, 2), \\\"nil\\\", \\\"mild\\\")\", \"CovidSim.Branch(5, 7, 0.15, (2, 3), \\\"nil\\\", \\\"sick\\\")\"]\n",
      "\"(4, 4)\" = [\"CovidSim.Branch(8, 3, 0.9, (0, 0), \\\"severe\\\", \\\"recovered\\\")\", \"CovidSim.Branch(8, 4, 0.1, (0, 5), \\\"severe\\\", \\\"dead\\\")\"]\n",
      "\"(3, 4)\" = [\"CovidSim.Branch(8, 3, 0.45, (0, 0), \\\"severe\\\", \\\"recovered\\\")\", \"CovidSim.Branch(8, 8, 0.5, (4, 4), \\\"severe\\\", \\\"severe\\\")\", \"CovidSim.Branch(8, 4, 0.05, (0, 5), \\\"severe\\\", \\\"dead\\\")\"]\n",
      "\"(2, 1)\" = [\"CovidSim.Branch(5, 3, 0.8, (0, 0), \\\"nil\\\", \\\"recovered\\\")\", \"CovidSim.Branch(5, 7, 0.2, (3, 3), \\\"nil\\\", \\\"sick\\\")\"]\n",
      "\"(2, 3)\" = [\"CovidSim.Branch(7, 7, 0.85, (3, 3), \\\"sick\\\", \\\"sick\\\")\", \"CovidSim.Branch(7, 8, 0.15, (3, 4), \\\"sick\\\", \\\"severe\\\")\"]\n"
     ]
    }
   ],
   "source": [
    "TOML.print(newdict1)"
   ]
  },
  {
   "cell_type": "code",
   "execution_count": 12,
   "metadata": {},
   "outputs": [
    {
     "data": {
      "text/plain": [
       "\"[\\n  {\\n    \\\"nodes\\\": [\\n      {\\n        \\\"branches\\\": [\\n          {\\n            \\\"pr\\\": 1.0, \\n            \\\"tocond\\\": 7, \\n            \\\"id\\\": \\\"to 7\\\", \\n            \\\"next\\\": \\\"(0, 0)\\\"\\n          }, \\n          {\\n            \\\"pr\\\": 0.85, \\n            \\\"tocond\\\": 7, \\n            \\\"id\\\": \\\"to 7\\\", \\n            \\\"next\\\": \\\"(0, 0)\\\"\\n          }, \\n          {\\n            \\\"pr\\\": 0.15, \\n            \\\"tocond\\\": 8, \\n            \\\"id\\\": \\\"to 8\\\", \\n            \\\"next\\\": \\\"(4, 4)\\\"\\n          }\\n        ], \\n        \\\"id\\\": \\\"(14, 6)\\\"\\n      }\\n    ], \\n    \\\"agegrp\\\": 1\\n  }, \\n  {\\n    \\\"nodes\\\": [\\n      {\\n        \\\"branches\\\": [\\n          {\\n            \\\"pr\\\": 1.0, \\n            \\\"tocond\\\": 7, \\n            \\\"id\\\": \\\"to 7\\\", \\n            \\\"next\\\": \\\"(0, 0)\\\"\\n          }\\n        ], \\n        \\\"id\\\": \\\"(14, 6)\\\"\\n      }, \\n      {\\n        \\\"branches\\\": [\\n          {\\n            \\\"pr\\\": 0.85, \\n            \\\"tocond\\\": 7, \\n            \\\"id\\\": \\\"to 7\\\", \\n            \\\"next\\\": \\\"(0, 0)\\\"\\n          }, \\n          {\\n            \\\"pr\\\": 0.15, \\n            \\\"tocond\\\": 8, \\n            \\\"id\\\": \\\"to 8\\\", \\n            \\\"next\\\": \\\"(4, 4)\\\"\\n          }\\n        ], \\n        \\\"id\\\": \\\"(14, 7)\\\"\\n      }\\n    ], \\n    \\\"agegrp\\\": 2\\n  }\\n]\\n\""
      ]
     },
     "execution_count": 12,
     "metadata": {},
     "output_type": "execute_result"
    }
   ],
   "source": [
    "# this is json from the YAML\n",
    "jsontxt = \"\"\"\n",
    "[\n",
    "  {\n",
    "    \"nodes\": [\n",
    "      {\n",
    "        \"branches\": [\n",
    "          {\n",
    "            \"pr\": 1.0, \n",
    "            \"tocond\": 7, \n",
    "            \"id\": \"to 7\", \n",
    "            \"next\": \"(0, 0)\"\n",
    "          }, \n",
    "          {\n",
    "            \"pr\": 0.85, \n",
    "            \"tocond\": 7, \n",
    "            \"id\": \"to 7\", \n",
    "            \"next\": \"(0, 0)\"\n",
    "          }, \n",
    "          {\n",
    "            \"pr\": 0.15, \n",
    "            \"tocond\": 8, \n",
    "            \"id\": \"to 8\", \n",
    "            \"next\": \"(4, 4)\"\n",
    "          }\n",
    "        ], \n",
    "        \"id\": \"(14, 6)\"\n",
    "      }\n",
    "    ], \n",
    "    \"agegrp\": 1\n",
    "  }, \n",
    "  {\n",
    "    \"nodes\": [\n",
    "      {\n",
    "        \"branches\": [\n",
    "          {\n",
    "            \"pr\": 1.0, \n",
    "            \"tocond\": 7, \n",
    "            \"id\": \"to 7\", \n",
    "            \"next\": \"(0, 0)\"\n",
    "          }\n",
    "        ], \n",
    "        \"id\": \"(14, 6)\"\n",
    "      }, \n",
    "      {\n",
    "        \"branches\": [\n",
    "          {\n",
    "            \"pr\": 0.85, \n",
    "            \"tocond\": 7, \n",
    "            \"id\": \"to 7\", \n",
    "            \"next\": \"(0, 0)\"\n",
    "          }, \n",
    "          {\n",
    "            \"pr\": 0.15, \n",
    "            \"tocond\": 8, \n",
    "            \"id\": \"to 8\", \n",
    "            \"next\": \"(4, 4)\"\n",
    "          }\n",
    "        ], \n",
    "        \"id\": \"(14, 7)\"\n",
    "      }\n",
    "    ], \n",
    "    \"agegrp\": 2\n",
    "  }\n",
    "]\n",
    "\"\"\""
   ]
  },
  {
   "cell_type": "code",
   "execution_count": 13,
   "metadata": {},
   "outputs": [
    {
     "data": {
      "text/plain": [
       "2-element Array{Any,1}:\n",
       " Dict{String,Any}(\"nodes\" => Any[Dict{String,Any}(\"branches\" => Any[Dict{String,Any}(\"tocond\" => 7,\"next\" => \"(0, 0)\",\"id\" => \"to 7\",\"pr\" => 1.0), Dict{String,Any}(\"tocond\" => 7,\"next\" => \"(0, 0)\",\"id\" => \"to 7\",\"pr\" => 0.85), Dict{String,Any}(\"tocond\" => 8,\"next\" => \"(4, 4)\",\"id\" => \"to 8\",\"pr\" => 0.15)],\"id\" => \"(14, 6)\")],\"agegrp\" => 1)\n",
       " Dict{String,Any}(\"nodes\" => Any[Dict{String,Any}(\"branches\" => Any[Dict{String,Any}(\"tocond\" => 7,\"next\" => \"(0, 0)\",\"id\" => \"to 7\",\"pr\" => 1.0)],\"id\" => \"(14, 6)\"), Dict{String,Any}(\"branches\" => Any[Dict{String,Any}(\"tocond\" => 7,\"next\" => \"(0, 0)\",\"id\" => \"to 7\",\"pr\" => 0.85), Dict{String,Any}(\"tocond\" => 8,\"next\" => \"(4, 4)\",\"id\" => \"to 8\",\"pr\" => 0.15)],\"id\" => \"(14, 7)\")],\"agegrp\" => 2)"
      ]
     },
     "execution_count": 13,
     "metadata": {},
     "output_type": "execute_result"
    }
   ],
   "source": [
    "tst = JSON.parse(jsontxt)"
   ]
  },
  {
   "cell_type": "code",
   "execution_count": 14,
   "metadata": {},
   "outputs": [
    {
     "data": {
      "text/plain": [
       "Base.KeySet for a Dict{String,Any} with 2 entries. Keys:\n",
       "  \"nodes\"\n",
       "  \"agegrp\""
      ]
     },
     "execution_count": 14,
     "metadata": {},
     "output_type": "execute_result"
    }
   ],
   "source": [
    "keys(tst[2])"
   ]
  },
  {
   "cell_type": "code",
   "execution_count": 15,
   "metadata": {},
   "outputs": [
    {
     "data": {
      "text/plain": [
       "2-element Array{Any,1}:\n",
       " Dict{String,Any}(\"branches\" => Any[Dict{String,Any}(\"tocond\" => 7,\"next\" => \"(0, 0)\",\"id\" => \"to 7\",\"pr\" => 1.0)],\"id\" => \"(14, 6)\")\n",
       " Dict{String,Any}(\"branches\" => Any[Dict{String,Any}(\"tocond\" => 7,\"next\" => \"(0, 0)\",\"id\" => \"to 7\",\"pr\" => 0.85), Dict{String,Any}(\"tocond\" => 8,\"next\" => \"(4, 4)\",\"id\" => \"to 8\",\"pr\" => 0.15)],\"id\" => \"(14, 7)\")"
      ]
     },
     "execution_count": 15,
     "metadata": {},
     "output_type": "execute_result"
    }
   ],
   "source": [
    "tst[2][\"nodes\"]"
   ]
  },
  {
   "cell_type": "code",
   "execution_count": 16,
   "metadata": {},
   "outputs": [
    {
     "data": {
      "text/plain": [
       "2"
      ]
     },
     "execution_count": 16,
     "metadata": {},
     "output_type": "execute_result"
    }
   ],
   "source": [
    "tst[2][\"agegrp\"]"
   ]
  },
  {
   "cell_type": "code",
   "execution_count": 17,
   "metadata": {},
   "outputs": [
    {
     "data": {
      "text/plain": [
       "\"{\\n\\\"1\\\":{\\n      \\\"(5,5)\\\":[{\\\"tocond\\\":5,\\\"pr\\\":0.2,\\\"next\\\":[9,5]},\\n                {\\\"tocond\\\":6,\\\"pr\\\":0.65,\\\"next\\\":[9,6]},\\n                {\\\"tocond\\\":7,\\\"pr\\\":0.15,\\\"next\\\":[9,7]}],\\n      \\\"(9,5)\\\":[{\\\"tocond\\\":3,\\\"pr\\\":0.8,\\\"next\\\":[0,0]},\\n                {\\\"tocond\\\":7,\\\"pr\\\":0.2,\\\"next\\\":[14,7]}],\\n      \\\"(9,6)\\\":[{\\\"tocond\\\":6,\\\"pr\\\":1.0,\\\"next\\\":[14,6]}],\\n      \\\"(9,7)\\\":[{\\\"tocond\\\":7,\\\"pr\\\":0.85,\\\"next\\\":[14,7]},\\n                {\\\"tocond\\\":8,\\\"pr\\\":0.15,\\\"next\\\":[14,8]}],\\n      \\\"(14,6)\\\":[{\\\"tocond\\\":3,\\\"pr\\\":1.0,\\\"next\\\":[0,0]}],\\n      \\\"(14,7)\\\":[{\\\"tocond\\\":3,\\\"pr\\\":0.85,\\\"next\\\":[0,0]},\\n                {\\\"tocond\\\":8,\\\"pr\\\":0.15,\\\"next\\\":[19,8]}],\\n      \\\"(14,8)\\\":[{\\\"tocond\\\":3,\\\"pr\\\":0.45,\\\"next\\\":[0,0]},\\n                {\\\"tocond\\\":8,\\\"pr\\\":0.5,\\\"next\\\":[19,8]},\\n                {\\\"tocond\\\":4,\\\"pr\\\":0.05,\\\"next\\\":[0,5]}],\\n      \\\"(19,8)\\\":[{\\\"tocond\\\":3,\\\"pr\\\":0.9,\\\"next\\\":[0,0]},\\n                {\\\"tocond\\\":4,\\\"pr\\\":0.1,\\\"next\\\":[0,5]}]\\n    },\\n \\\"2\\\":{\\n      \\\"(5,5)\\\":[{\\\"tocond\\\":5,\\\"pr\\\":0.2,\\\"next\\\":[9,5]},\\n                {\\\"tocond\\\":6,\\\"pr\\\":0.65,\\\"next\\\":[9,6]},\\n                {\\\"tocond\\\":7,\\\"pr\\\":0.15,\\\"next\\\":[9,7]}],\\n      \\\"(9,5)\\\":[{\\\"tocond\\\":3,\\\"pr\\\":0.8,\\\"next\\\":[0,0]},\\n                {\\\"tocond\\\":7,\\\"pr\\\":0.2,\\\"next\\\":[14,7]}],\\n      \\\"(9,6)\\\":[{\\\"tocond\\\":6,\\\"pr\\\":1.0,\\\"next\\\":[14,6]}],\\n      \\\"(9,7)\\\":[{\\\"tocond\\\":7,\\\"pr\\\":0.85,\\\"next\\\":[14,7]},\\n                {\\\"tocond\\\":8,\\\"pr\\\":0.15,\\\"next\\\":[14,8]}],\\n      \\\"(14,6)\\\":[{\\\"tocond\\\":3,\\\"pr\\\":1.0,\\\"next\\\":[0,0]}],\\n      \\\"(14,7)\\\":[{\\\"tocond\\\":3,\\\"pr\\\":0.8,\\\"next\\\":[10,0]},\\n                {\\\"tocond\\\":8,\\\"pr\\\":0.2,\\\"next\\\":[19,8]}],\\n      \\\"(14,8)\\\":[{\\\"tocond\\\":3,\\\"pr\\\":0.35,\\\"next\\\":[0,0]},\\n                {\\\"tocond\\\":8,\\\"pr\\\":0.55,\\\"next\\\":[19,8]},\\n                {\\\"tocond\\\":4,\\\"pr\\\":0.1,\\\"next\\\":[0,5]}],\\n      \\\"(19,8)\\\":[{\\\"tocond\\\":3,\\\"pr\\\":0.85,\\\"next\\\":[0,0]},\\n                {\\\"tocond\\\":4,\\\"pr\\\":0.15,\\\"next\\\":[0,5]}]\\n      },\\n \\\"3\\\":{\\n      \\\"(5,5)\\\":[{\\\"tocond\\\":5,\\\"pr\\\":0.2,\\\"next\\\":[9,5]},\\n                {\\\"tocond\\\":6,\\\"pr\\\":0.6,\\\"next\\\":[9,6]},\\n                {\\\"tocond\\\":7,\\\"pr\\\":0.2,\\\"next\\\":[9,7]}],\\n      \\\"(9,5)\\\":[{\\\"tocond\\\":3,\\\"pr\\\":0.7,\\\"next\\\":[0,0]},\\n                {\\\"tocond\\\":7,\\\"pr\\\":0.3,\\\"next\\\":[14,7]}],\\n      \\\"(9,6)\\\":[{\\\"tocond\\\":6,\\\"pr\\\":1.0,\\\"next\\\":[14,6]}],\\n      \\\"(9,7)\\\":[{\\\"tocond\\\":7,\\\"pr\\\":0.85,\\\"next\\\":[14,7]},\\n                {\\\"tocond\\\":8,\\\"pr\\\":0.15,\\\"next\\\":[14,8]}],\\n      \\\"(14,6)\\\":[{\\\"tocond\\\":3,\\\"pr\\\":1.0,\\\"next\\\":[0,0]}],\\n      \\\"(14,7)\\\":[{\\\"tocond\\\":3,\\\"pr\\\":0.8,\\\"next\\\":[10,0]},\\n                {\\\"tocond\\\":8,\\\"pr\\\":0.2,\\\"next\\\":[19,8]}],\\n      \\\"(14,8)\\\":[{\\\"tocond\\\":3,\\\"pr\\\":0.35,\\\"next\\\":[0,0]},\\n                {\\\"tocond\\\":8,\\\"pr\\\":0.55,\\\"next\\\":[19,8]},\\n                {\\\"tocond\\\":4,\\\"pr\\\":0.1,\\\"next\\\":[0,5]}],\\n      \\\"(19,8)\\\":[{\\\"tocond\\\":3,\\\"pr\\\":0.85,\\\"next\\\":[0,0]},\\n                {\\\"tocond\\\":4,\\\"pr\\\":0.15,\\\"next\\\":[0,5]}]\\n      },\\n \\\"4\\\":{\\n      \\\"(5,5)\\\":[{\\\"tocond\\\":5,\\\"pr\\\":0.2,\\\"next\\\":[9,5]},\\n                {\\\"tocond\\\":6,\\\"pr\\\":0.65,\\\"next\\\":[9,6]},\\n                {\\\"tocond\\\":7,\\\"pr\\\":0.15,\\\"next\\\":[9,7]}],\\n      \\\"(9,5)\\\":[{\\\"tocond\\\":3,\\\"pr\\\":0.8,\\\"next\\\":[0,0]},\\n                {\\\"tocond\\\":7,\\\"pr\\\":0.2,\\\"next\\\":[14,7]}],\\n      \\\"(9,6)\\\":[{\\\"tocond\\\":6,\\\"pr\\\":1.0,\\\"next\\\":[14,6]}],\\n      \\\"(9,7)\\\":[{\\\"tocond\\\":7,\\\"pr\\\":0.85,\\\"next\\\":[14,7]},\\n                {\\\"tocond\\\":8,\\\"pr\\\":0.15,\\\"next\\\":[14,8]}],\\n      \\\"(14,6)\\\":[{\\\"tocond\\\":3,\\\"pr\\\":1.0,\\\"next\\\":[0,0]}],\\n      \\\"(14,7)\\\":[{\\\"tocond\\\":3,\\\"pr\\\":0.8,\\\"next\\\":[10,0]},\\n                {\\\"tocond\\\":8,\\\"pr\\\":0.2,\\\"next\\\":[19,8]}],\\n      \\\"(14,8)\\\":[{\\\"tocond\\\":3,\\\"pr\\\":0.35,\\\"next\\\":[0,0]},\\n                {\\\"tocond\\\":8,\\\"pr\\\":0.55,\\\"next\\\":[19,8]},\\n                {\\\"tocond\\\":4,\\\"pr\\\":0.1,\\\"next\\\":[0,5]}],\\n      \\\"(19,8)\\\":[{\\\"tocond\\\":3,\\\"pr\\\":0.85,\\\"next\\\":[0,0]},\\n                {\\\"tocond\\\":4,\\\"pr\\\":0.15,\\\"next\\\":[0,5]}]\\n      },\\n \\\"5\\\":{\\n      \\\"(5,5)\\\":[{\\\"tocond\\\":5,\\\"pr\\\":0.2,\\\"next\\\":[9,5]},\\n                {\\\"tocond\\\":6,\\\"pr\\\":0.65,\\\"next\\\":[9,6]},\\n                {\\\"tocond\\\":7,\\\"pr\\\":0.15,\\\"next\\\":[9,7]}],\\n      \\\"(9,5)\\\":[{\\\"tocond\\\":3,\\\"pr\\\":0.8,\\\"next\\\":[0,0]},\\n                {\\\"tocond\\\":7,\\\"pr\\\":0.2,\\\"next\\\":[14,7]}],\\n      \\\"(9,6)\\\":[{\\\"tocond\\\":6,\\\"pr\\\":1.0,\\\"next\\\":[14,6]}],\\n      \\\"(9,7)\\\":[{\\\"tocond\\\":7,\\\"pr\\\":0.85,\\\"next\\\":[14,7]},\\n                {\\\"tocond\\\":8,\\\"pr\\\":0.15,\\\"next\\\":[14,8]}],\\n      \\\"(14,6)\\\":[{\\\"tocond\\\":3,\\\"pr\\\":1.0,\\\"next\\\":[0,0]}],\\n      \\\"(14,7)\\\":[{\\\"tocond\\\":3,\\\"pr\\\":0.8,\\\"next\\\":[10,0]},\\n                {\\\"tocond\\\":8,\\\"pr\\\":0.2,\\\"next\\\":[19,8]}],\\n      \\\"(14,8)\\\":[{\\\"tocond\\\":3,\\\"pr\\\":0.35,\\\"next\\\":[0,0]},\\n                {\\\"tocond\\\":8,\\\"pr\\\":0.55,\\\"next\\\":[19,8]},\\n                {\\\"tocond\\\":4,\\\"pr\\\":0.1,\\\"next\\\":[0,5]}],\\n      \\\"(19,8)\\\":[{\\\"tocond\\\":3,\\\"pr\\\":0.85,\\\"next\\\":[0,0]},\\n                {\\\"tocond\\\":4,\\\"pr\\\":0.15,\\\"next\\\":[0,5]}]\\n      }\\n\\n}\\n\""
      ]
     },
     "execution_count": 17,
     "metadata": {},
     "output_type": "execute_result"
    }
   ],
   "source": [
    "# this is hand authored json\n",
    "jsonhand = \"\"\"\n",
    "{\n",
    "\"1\":{\n",
    "      \"(5,5)\":[{\"tocond\":5,\"pr\":0.2,\"next\":[9,5]},\n",
    "                {\"tocond\":6,\"pr\":0.65,\"next\":[9,6]},\n",
    "                {\"tocond\":7,\"pr\":0.15,\"next\":[9,7]}],\n",
    "      \"(9,5)\":[{\"tocond\":3,\"pr\":0.8,\"next\":[0,0]},\n",
    "                {\"tocond\":7,\"pr\":0.2,\"next\":[14,7]}],\n",
    "      \"(9,6)\":[{\"tocond\":6,\"pr\":1.0,\"next\":[14,6]}],\n",
    "      \"(9,7)\":[{\"tocond\":7,\"pr\":0.85,\"next\":[14,7]},\n",
    "                {\"tocond\":8,\"pr\":0.15,\"next\":[14,8]}],\n",
    "      \"(14,6)\":[{\"tocond\":3,\"pr\":1.0,\"next\":[0,0]}],\n",
    "      \"(14,7)\":[{\"tocond\":3,\"pr\":0.85,\"next\":[0,0]},\n",
    "                {\"tocond\":8,\"pr\":0.15,\"next\":[19,8]}],\n",
    "      \"(14,8)\":[{\"tocond\":3,\"pr\":0.45,\"next\":[0,0]},\n",
    "                {\"tocond\":8,\"pr\":0.5,\"next\":[19,8]},\n",
    "                {\"tocond\":4,\"pr\":0.05,\"next\":[0,5]}],\n",
    "      \"(19,8)\":[{\"tocond\":3,\"pr\":0.9,\"next\":[0,0]},\n",
    "                {\"tocond\":4,\"pr\":0.1,\"next\":[0,5]}]\n",
    "    },\n",
    " \"2\":{\n",
    "      \"(5,5)\":[{\"tocond\":5,\"pr\":0.2,\"next\":[9,5]},\n",
    "                {\"tocond\":6,\"pr\":0.65,\"next\":[9,6]},\n",
    "                {\"tocond\":7,\"pr\":0.15,\"next\":[9,7]}],\n",
    "      \"(9,5)\":[{\"tocond\":3,\"pr\":0.8,\"next\":[0,0]},\n",
    "                {\"tocond\":7,\"pr\":0.2,\"next\":[14,7]}],\n",
    "      \"(9,6)\":[{\"tocond\":6,\"pr\":1.0,\"next\":[14,6]}],\n",
    "      \"(9,7)\":[{\"tocond\":7,\"pr\":0.85,\"next\":[14,7]},\n",
    "                {\"tocond\":8,\"pr\":0.15,\"next\":[14,8]}],\n",
    "      \"(14,6)\":[{\"tocond\":3,\"pr\":1.0,\"next\":[0,0]}],\n",
    "      \"(14,7)\":[{\"tocond\":3,\"pr\":0.8,\"next\":[10,0]},\n",
    "                {\"tocond\":8,\"pr\":0.2,\"next\":[19,8]}],\n",
    "      \"(14,8)\":[{\"tocond\":3,\"pr\":0.35,\"next\":[0,0]},\n",
    "                {\"tocond\":8,\"pr\":0.55,\"next\":[19,8]},\n",
    "                {\"tocond\":4,\"pr\":0.1,\"next\":[0,5]}],\n",
    "      \"(19,8)\":[{\"tocond\":3,\"pr\":0.85,\"next\":[0,0]},\n",
    "                {\"tocond\":4,\"pr\":0.15,\"next\":[0,5]}]\n",
    "      },\n",
    " \"3\":{\n",
    "      \"(5,5)\":[{\"tocond\":5,\"pr\":0.2,\"next\":[9,5]},\n",
    "                {\"tocond\":6,\"pr\":0.6,\"next\":[9,6]},\n",
    "                {\"tocond\":7,\"pr\":0.2,\"next\":[9,7]}],\n",
    "      \"(9,5)\":[{\"tocond\":3,\"pr\":0.7,\"next\":[0,0]},\n",
    "                {\"tocond\":7,\"pr\":0.3,\"next\":[14,7]}],\n",
    "      \"(9,6)\":[{\"tocond\":6,\"pr\":1.0,\"next\":[14,6]}],\n",
    "      \"(9,7)\":[{\"tocond\":7,\"pr\":0.85,\"next\":[14,7]},\n",
    "                {\"tocond\":8,\"pr\":0.15,\"next\":[14,8]}],\n",
    "      \"(14,6)\":[{\"tocond\":3,\"pr\":1.0,\"next\":[0,0]}],\n",
    "      \"(14,7)\":[{\"tocond\":3,\"pr\":0.8,\"next\":[10,0]},\n",
    "                {\"tocond\":8,\"pr\":0.2,\"next\":[19,8]}],\n",
    "      \"(14,8)\":[{\"tocond\":3,\"pr\":0.35,\"next\":[0,0]},\n",
    "                {\"tocond\":8,\"pr\":0.55,\"next\":[19,8]},\n",
    "                {\"tocond\":4,\"pr\":0.1,\"next\":[0,5]}],\n",
    "      \"(19,8)\":[{\"tocond\":3,\"pr\":0.85,\"next\":[0,0]},\n",
    "                {\"tocond\":4,\"pr\":0.15,\"next\":[0,5]}]\n",
    "      },\n",
    " \"4\":{\n",
    "      \"(5,5)\":[{\"tocond\":5,\"pr\":0.2,\"next\":[9,5]},\n",
    "                {\"tocond\":6,\"pr\":0.65,\"next\":[9,6]},\n",
    "                {\"tocond\":7,\"pr\":0.15,\"next\":[9,7]}],\n",
    "      \"(9,5)\":[{\"tocond\":3,\"pr\":0.8,\"next\":[0,0]},\n",
    "                {\"tocond\":7,\"pr\":0.2,\"next\":[14,7]}],\n",
    "      \"(9,6)\":[{\"tocond\":6,\"pr\":1.0,\"next\":[14,6]}],\n",
    "      \"(9,7)\":[{\"tocond\":7,\"pr\":0.85,\"next\":[14,7]},\n",
    "                {\"tocond\":8,\"pr\":0.15,\"next\":[14,8]}],\n",
    "      \"(14,6)\":[{\"tocond\":3,\"pr\":1.0,\"next\":[0,0]}],\n",
    "      \"(14,7)\":[{\"tocond\":3,\"pr\":0.8,\"next\":[10,0]},\n",
    "                {\"tocond\":8,\"pr\":0.2,\"next\":[19,8]}],\n",
    "      \"(14,8)\":[{\"tocond\":3,\"pr\":0.35,\"next\":[0,0]},\n",
    "                {\"tocond\":8,\"pr\":0.55,\"next\":[19,8]},\n",
    "                {\"tocond\":4,\"pr\":0.1,\"next\":[0,5]}],\n",
    "      \"(19,8)\":[{\"tocond\":3,\"pr\":0.85,\"next\":[0,0]},\n",
    "                {\"tocond\":4,\"pr\":0.15,\"next\":[0,5]}]\n",
    "      },\n",
    " \"5\":{\n",
    "      \"(5,5)\":[{\"tocond\":5,\"pr\":0.2,\"next\":[9,5]},\n",
    "                {\"tocond\":6,\"pr\":0.65,\"next\":[9,6]},\n",
    "                {\"tocond\":7,\"pr\":0.15,\"next\":[9,7]}],\n",
    "      \"(9,5)\":[{\"tocond\":3,\"pr\":0.8,\"next\":[0,0]},\n",
    "                {\"tocond\":7,\"pr\":0.2,\"next\":[14,7]}],\n",
    "      \"(9,6)\":[{\"tocond\":6,\"pr\":1.0,\"next\":[14,6]}],\n",
    "      \"(9,7)\":[{\"tocond\":7,\"pr\":0.85,\"next\":[14,7]},\n",
    "                {\"tocond\":8,\"pr\":0.15,\"next\":[14,8]}],\n",
    "      \"(14,6)\":[{\"tocond\":3,\"pr\":1.0,\"next\":[0,0]}],\n",
    "      \"(14,7)\":[{\"tocond\":3,\"pr\":0.8,\"next\":[10,0]},\n",
    "                {\"tocond\":8,\"pr\":0.2,\"next\":[19,8]}],\n",
    "      \"(14,8)\":[{\"tocond\":3,\"pr\":0.35,\"next\":[0,0]},\n",
    "                {\"tocond\":8,\"pr\":0.55,\"next\":[19,8]},\n",
    "                {\"tocond\":4,\"pr\":0.1,\"next\":[0,5]}],\n",
    "      \"(19,8)\":[{\"tocond\":3,\"pr\":0.85,\"next\":[0,0]},\n",
    "                {\"tocond\":4,\"pr\":0.15,\"next\":[0,5]}]\n",
    "      }\n",
    "\n",
    "}\n",
    "\"\"\""
   ]
  },
  {
   "cell_type": "code",
   "execution_count": 18,
   "metadata": {},
   "outputs": [
    {
     "data": {
      "text/plain": [
       "Dict{String,Any} with 5 entries:\n",
       "  \"4\" => Dict{String,Any}(\"(9,6)\"=>Any[Dict{String,Any}(\"tocond\"=>6,\"next\"=>Any…\n",
       "  \"1\" => Dict{String,Any}(\"(9,6)\"=>Any[Dict{String,Any}(\"tocond\"=>6,\"next\"=>Any…\n",
       "  \"5\" => Dict{String,Any}(\"(9,6)\"=>Any[Dict{String,Any}(\"tocond\"=>6,\"next\"=>Any…\n",
       "  \"2\" => Dict{String,Any}(\"(9,6)\"=>Any[Dict{String,Any}(\"tocond\"=>6,\"next\"=>Any…\n",
       "  \"3\" => Dict{String,Any}(\"(9,6)\"=>Any[Dict{String,Any}(\"tocond\"=>6,\"next\"=>Any…"
      ]
     },
     "execution_count": 18,
     "metadata": {},
     "output_type": "execute_result"
    }
   ],
   "source": [
    "hand = JSON.parse(jsonhand)"
   ]
  },
  {
   "cell_type": "code",
   "execution_count": 19,
   "metadata": {},
   "outputs": [
    {
     "data": {
      "text/plain": [
       "Dict{String,Any} with 8 entries:\n",
       "  \"(9,6)\"  => Any[Dict{String,Any}(\"tocond\"=>6,\"next\"=>Any[14, 6],\"pr\"=>1.0)]\n",
       "  \"(9,5)\"  => Any[Dict{String,Any}(\"tocond\"=>3,\"next\"=>Any[0, 0],\"pr\"=>0.8), Di…\n",
       "  \"(14,6)\" => Any[Dict{String,Any}(\"tocond\"=>3,\"next\"=>Any[0, 0],\"pr\"=>1.0)]\n",
       "  \"(9,7)\"  => Any[Dict{String,Any}(\"tocond\"=>7,\"next\"=>Any[14, 7],\"pr\"=>0.85), …\n",
       "  \"(5,5)\"  => Any[Dict{String,Any}(\"tocond\"=>5,\"next\"=>Any[9, 5],\"pr\"=>0.2), Di…\n",
       "  \"(14,8)\" => Any[Dict{String,Any}(\"tocond\"=>3,\"next\"=>Any[0, 0],\"pr\"=>0.45), D…\n",
       "  \"(14,7)\" => Any[Dict{String,Any}(\"tocond\"=>3,\"next\"=>Any[0, 0],\"pr\"=>0.85), D…\n",
       "  \"(19,8)\" => Any[Dict{String,Any}(\"tocond\"=>3,\"next\"=>Any[0, 0],\"pr\"=>0.9), Di…"
      ]
     },
     "execution_count": 19,
     "metadata": {},
     "output_type": "execute_result"
    }
   ],
   "source": [
    "hand[\"1\"]"
   ]
  },
  {
   "cell_type": "code",
   "execution_count": 20,
   "metadata": {},
   "outputs": [
    {
     "data": {
      "text/plain": [
       "3-element Array{Any,1}:\n",
       " Dict{String,Any}(\"tocond\" => 5,\"next\" => Any[9, 5],\"pr\" => 0.2)\n",
       " Dict{String,Any}(\"tocond\" => 6,\"next\" => Any[9, 6],\"pr\" => 0.65)\n",
       " Dict{String,Any}(\"tocond\" => 7,\"next\" => Any[9, 7],\"pr\" => 0.15)"
      ]
     },
     "execution_count": 20,
     "metadata": {},
     "output_type": "execute_result"
    }
   ],
   "source": [
    "hand[\"1\"][\"(5,5)\"]"
   ]
  },
  {
   "cell_type": "code",
   "execution_count": 21,
   "metadata": {},
   "outputs": [],
   "source": [
    "using YAML"
   ]
  },
  {
   "cell_type": "code",
   "execution_count": 22,
   "metadata": {},
   "outputs": [],
   "source": [
    "YAML.write_file(\"../parameters/test-output.yml\", hand)"
   ]
  },
  {
   "cell_type": "code",
   "execution_count": 23,
   "metadata": {},
   "outputs": [
    {
     "data": {
      "text/plain": [
       "\"4:\\n  (9,6):\\n    - tocond: 6\\n      next:\\n        - 14\\n        - 6\\n      pr: 1.0\\n  (9,5):\\n    - tocond: 3\\n      next:\\n        - 0\\n        - 0\\n      pr: 0.8\\n    - tocond: 7\\n      next:\\n        - 14\\n        - 7\\n      pr: 0.2\\n  (14,6):\\n    - tocond: 3\\n      next:\\n        - 0\\n        - 0\\n      pr: 1.0\\n  (9,7):\\n    - tocond: 7\\n      next:\\n        - 14\\n        - 7\\n      pr: 0.85\\n    - tocond: 8\\n      next:\\n        - 14\\n        - 8\\n      pr: 0.15\\n  (5,5):\\n    - tocond: 5\\n      next:\\n        - 9\\n        - 5\\n      pr: 0.2\\n    - tocond: 6\\n      next:\\n        - 9\\n        - 6\\n      pr: 0.65\\n    - tocond: 7\\n      next:\\n        - 9\\n        - 7\\n      pr: 0.15\\n  (14,8):\\n    - tocond: 3\\n      next:\\n        - 0\\n        - 0\\n      pr: 0.35\\n    - tocond: 8\\n      next:\\n        - 19\\n        - 8\\n      pr: 0.55\\n    - tocond: 4\\n      next:\\n        - 0\\n        - 5\\n      pr: 0.1\\n  (14,7):\\n    - tocond: 3\\n      next:\\n        - 10\\n        - 0\\n      pr: 0.8\\n    - tocond: 8\\n      next:\\n        - 19\\n        - 8\\n      pr: 0.2\\n  (19,8):\\n    - tocond: 3\\n      next:\\n        - 0\\n        - 0\\n      pr: 0.85\\n    - tocond: 4\\n      next:\\n        - 0\\n        - 5\\n      pr: 0.15\\n1:\\n  (9,6):\\n    - tocond: 6\\n      next:\\n        - 14\\n        - 6\\n      pr: 1.0\\n  (9,5):\\n    - tocond: 3\\n      next:\\n        - 0\\n        - 0\\n      pr: 0.8\\n    - tocond: 7\\n      next:\\n        - 14\\n        - 7\\n      pr: 0.2\\n  (14,6):\\n    - tocond: 3\\n      next:\\n        - 0\\n        - 0\\n      pr: 1.0\\n  (9,7):\\n    - tocond: 7\\n      next:\\n        - 14\\n        - 7\\n      pr: 0.85\\n    - tocond: 8\\n      next:\\n        - 14\\n        - 8\\n      pr: 0.15\\n  (5,5):\\n    - tocond: 5\\n      next:\\n        - 9\\n        - 5\\n      pr: 0.2\\n    - tocond: 6\\n      next:\\n        - 9\\n        - 6\\n      pr: 0.65\\n    - tocond: 7\\n      next:\\n        - 9\\n        - 7\\n      pr: 0.15\\n  (14,8):\\n    - tocond: 3\\n      next:\\n        - 0\\n        - 0\\n      pr: 0.45\\n    - tocond: 8\\n      next:\\n        - 19\\n        - 8\\n      pr: 0.5\\n    - tocond: 4\\n      next:\\n        - 0\\n        - 5\\n      pr: 0.05\\n  (14,7):\\n    - tocond: 3\\n      next:\\n        - 0\\n        - 0\\n      pr: 0.85\\n    - tocond: 8\\n      next:\\n        - 19\\n        - 8\\n      pr: 0.15\\n  (19,8):\\n    - tocond: 3\\n      next:\\n        - 0\\n        - 0\\n      pr: 0.9\\n    - tocond: 4\\n      next:\\n        - 0\\n        - 5\\n      pr: 0.1\\n5:\\n  (9,6):\\n    - tocond: 6\\n      next:\\n        - 14\\n        - 6\\n      pr: 1.0\\n  (9,5):\\n    - tocond: 3\\n      next:\\n        - 0\\n        - 0\\n      pr: 0.8\\n    - tocond: 7\\n      next:\\n        - 14\\n        - 7\\n      pr: 0.2\\n  (14,6):\\n    - tocond: 3\\n      next:\\n        - 0\\n        - 0\\n      pr: 1.0\\n  (9,7):\\n    - tocond: 7\\n      next:\\n        - 14\\n        - 7\\n      pr: 0.85\\n    - tocond: 8\\n      next:\\n        - 14\\n        - 8\\n      pr: 0.15\\n  (5,5):\\n    - tocond: 5\\n      next:\\n        - 9\\n        - 5\\n      pr: 0.2\\n    - tocond: 6\\n      next:\\n        - 9\\n        - 6\\n      pr: 0.65\\n    - tocond: 7\\n      next:\\n        - 9\\n        - 7\\n      pr: 0.15\\n  (14,8):\\n    - tocond: 3\\n      next:\\n        - 0\\n        - 0\\n      pr: 0.35\\n    - tocond: 8\\n      next:\\n        - 19\\n        - 8\\n      pr: 0.55\\n    - tocond: 4\\n      next:\\n        - 0\\n        - 5\\n      pr: 0.1\\n  (14,7):\\n    - tocond: 3\\n      next:\\n        - 10\\n        - 0\\n      pr: 0.8\\n    - tocond: 8\\n      next:\\n        - 19\\n        - 8\\n      pr: 0.2\\n  (19,8):\\n    - tocond: 3\\n      next:\\n        - 0\\n        - 0\\n      pr: 0.85\\n    - tocond: 4\\n      next:\\n        - 0\\n        - 5\\n      pr: 0.15\\n2:\\n  (9,6):\\n    - tocond: 6\\n      next:\\n        - 14\\n        - 6\\n      pr: 1.0\\n  (9,5):\\n    - tocond: 3\\n      next:\\n        - 0\\n        - 0\\n      pr: 0.8\\n    - tocond: 7\\n      next:\\n        - 14\\n        - 7\\n      pr: 0.2\\n  (14,6):\\n    - tocond: 3\\n      next:\\n        - 0\\n        - 0\\n      pr: 1.0\\n  (9,7):\\n    - tocond: 7\\n      next:\\n        - 14\\n        - 7\\n      pr: 0.85\\n    - tocond: 8\\n      next:\\n        - 14\\n        - 8\\n      pr: 0.15\\n  (5,5):\\n    - tocond: 5\\n      next:\\n        - 9\\n        - 5\\n      pr: 0.2\\n    - tocond: 6\\n      next:\\n        - 9\\n        - 6\\n      pr: 0.65\\n    - tocond: 7\\n      next:\\n        - 9\\n        - 7\\n      pr: 0.15\\n  (14,8):\\n    - tocond: 3\\n      next:\\n        - 0\\n        - 0\\n      pr: 0.35\\n    - tocond: 8\\n      next:\\n        - 19\\n        - 8\\n      pr: 0.55\\n    - tocond: 4\\n      next:\\n        - 0\\n        - 5\\n      pr: 0.1\\n  (14,7):\\n    - tocond: 3\\n      next:\\n        - 10\\n        - 0\\n      pr: 0.8\\n    - tocond: 8\\n      next:\\n        - 19\\n        - 8\\n      pr: 0.2\\n  (19,8):\\n    - tocond: 3\\n      next:\\n        - 0\\n        - 0\\n      pr: 0.85\\n    - tocond: 4\\n      next:\\n        - 0\\n        - 5\\n      pr: 0.15\\n3:\\n  (9,6):\\n    - tocond: 6\\n      next:\\n        - 14\\n        - 6\\n      pr: 1.0\\n  (9,5):\\n    - tocond: 3\\n      next:\\n        - 0\\n        - 0\\n      pr: 0.7\\n    - tocond: 7\\n      next:\\n        - 14\\n        - 7\\n      pr: 0.3\\n  (14,6):\\n    - tocond: 3\\n      next:\\n        - 0\\n        - 0\\n      pr: 1.0\\n  (9,7):\\n    - tocond: 7\\n      next:\\n        - 14\\n        - 7\\n      pr: 0.85\\n    - tocond: 8\\n      next:\\n        - 14\\n        - 8\\n      pr: 0.15\\n  (5,5):\\n    - tocond: 5\\n      next:\\n        - 9\\n        - 5\\n      pr: 0.2\\n    - tocond: 6\\n      next:\\n        - 9\\n        - 6\\n      pr: 0.6\\n    - tocond: 7\\n      next:\\n        - 9\\n        - 7\\n      pr: 0.2\\n  (14,8):\\n    - tocond: 3\\n      next:\\n        - 0\\n        - 0\\n      pr: 0.35\\n    - tocond: 8\\n      next:\\n        - 19\\n        - 8\\n      pr: 0.55\\n    - tocond: 4\\n      next:\\n        - 0\\n        - 5\\n      pr: 0.1\\n  (14,7):\\n    - tocond: 3\\n      next:\\n        - 10\\n        - 0\\n      pr: 0.8\\n    - tocond: 8\\n      next:\\n        - 19\\n        - 8\\n      pr: 0.2\\n  (19,8):\\n    - tocond: 3\\n      next:\\n        - 0\\n        - 0\\n      pr: 0.85\\n    - tocond: 4\\n      next:\\n        - 0\\n        - 5\\n      pr: 0.15\\n\""
      ]
     },
     "execution_count": 23,
     "metadata": {},
     "output_type": "execute_result"
    }
   ],
   "source": [
    "newyaml = \"\"\"\n",
    "4:\n",
    "  (9,6):\n",
    "    - tocond: 6\n",
    "      next:\n",
    "        - 14\n",
    "        - 6\n",
    "      pr: 1.0\n",
    "  (9,5):\n",
    "    - tocond: 3\n",
    "      next:\n",
    "        - 0\n",
    "        - 0\n",
    "      pr: 0.8\n",
    "    - tocond: 7\n",
    "      next:\n",
    "        - 14\n",
    "        - 7\n",
    "      pr: 0.2\n",
    "  (14,6):\n",
    "    - tocond: 3\n",
    "      next:\n",
    "        - 0\n",
    "        - 0\n",
    "      pr: 1.0\n",
    "  (9,7):\n",
    "    - tocond: 7\n",
    "      next:\n",
    "        - 14\n",
    "        - 7\n",
    "      pr: 0.85\n",
    "    - tocond: 8\n",
    "      next:\n",
    "        - 14\n",
    "        - 8\n",
    "      pr: 0.15\n",
    "  (5,5):\n",
    "    - tocond: 5\n",
    "      next:\n",
    "        - 9\n",
    "        - 5\n",
    "      pr: 0.2\n",
    "    - tocond: 6\n",
    "      next:\n",
    "        - 9\n",
    "        - 6\n",
    "      pr: 0.65\n",
    "    - tocond: 7\n",
    "      next:\n",
    "        - 9\n",
    "        - 7\n",
    "      pr: 0.15\n",
    "  (14,8):\n",
    "    - tocond: 3\n",
    "      next:\n",
    "        - 0\n",
    "        - 0\n",
    "      pr: 0.35\n",
    "    - tocond: 8\n",
    "      next:\n",
    "        - 19\n",
    "        - 8\n",
    "      pr: 0.55\n",
    "    - tocond: 4\n",
    "      next:\n",
    "        - 0\n",
    "        - 5\n",
    "      pr: 0.1\n",
    "  (14,7):\n",
    "    - tocond: 3\n",
    "      next:\n",
    "        - 10\n",
    "        - 0\n",
    "      pr: 0.8\n",
    "    - tocond: 8\n",
    "      next:\n",
    "        - 19\n",
    "        - 8\n",
    "      pr: 0.2\n",
    "  (19,8):\n",
    "    - tocond: 3\n",
    "      next:\n",
    "        - 0\n",
    "        - 0\n",
    "      pr: 0.85\n",
    "    - tocond: 4\n",
    "      next:\n",
    "        - 0\n",
    "        - 5\n",
    "      pr: 0.15\n",
    "1:\n",
    "  (9,6):\n",
    "    - tocond: 6\n",
    "      next:\n",
    "        - 14\n",
    "        - 6\n",
    "      pr: 1.0\n",
    "  (9,5):\n",
    "    - tocond: 3\n",
    "      next:\n",
    "        - 0\n",
    "        - 0\n",
    "      pr: 0.8\n",
    "    - tocond: 7\n",
    "      next:\n",
    "        - 14\n",
    "        - 7\n",
    "      pr: 0.2\n",
    "  (14,6):\n",
    "    - tocond: 3\n",
    "      next:\n",
    "        - 0\n",
    "        - 0\n",
    "      pr: 1.0\n",
    "  (9,7):\n",
    "    - tocond: 7\n",
    "      next:\n",
    "        - 14\n",
    "        - 7\n",
    "      pr: 0.85\n",
    "    - tocond: 8\n",
    "      next:\n",
    "        - 14\n",
    "        - 8\n",
    "      pr: 0.15\n",
    "  (5,5):\n",
    "    - tocond: 5\n",
    "      next:\n",
    "        - 9\n",
    "        - 5\n",
    "      pr: 0.2\n",
    "    - tocond: 6\n",
    "      next:\n",
    "        - 9\n",
    "        - 6\n",
    "      pr: 0.65\n",
    "    - tocond: 7\n",
    "      next:\n",
    "        - 9\n",
    "        - 7\n",
    "      pr: 0.15\n",
    "  (14,8):\n",
    "    - tocond: 3\n",
    "      next:\n",
    "        - 0\n",
    "        - 0\n",
    "      pr: 0.45\n",
    "    - tocond: 8\n",
    "      next:\n",
    "        - 19\n",
    "        - 8\n",
    "      pr: 0.5\n",
    "    - tocond: 4\n",
    "      next:\n",
    "        - 0\n",
    "        - 5\n",
    "      pr: 0.05\n",
    "  (14,7):\n",
    "    - tocond: 3\n",
    "      next:\n",
    "        - 0\n",
    "        - 0\n",
    "      pr: 0.85\n",
    "    - tocond: 8\n",
    "      next:\n",
    "        - 19\n",
    "        - 8\n",
    "      pr: 0.15\n",
    "  (19,8):\n",
    "    - tocond: 3\n",
    "      next:\n",
    "        - 0\n",
    "        - 0\n",
    "      pr: 0.9\n",
    "    - tocond: 4\n",
    "      next:\n",
    "        - 0\n",
    "        - 5\n",
    "      pr: 0.1\n",
    "5:\n",
    "  (9,6):\n",
    "    - tocond: 6\n",
    "      next:\n",
    "        - 14\n",
    "        - 6\n",
    "      pr: 1.0\n",
    "  (9,5):\n",
    "    - tocond: 3\n",
    "      next:\n",
    "        - 0\n",
    "        - 0\n",
    "      pr: 0.8\n",
    "    - tocond: 7\n",
    "      next:\n",
    "        - 14\n",
    "        - 7\n",
    "      pr: 0.2\n",
    "  (14,6):\n",
    "    - tocond: 3\n",
    "      next:\n",
    "        - 0\n",
    "        - 0\n",
    "      pr: 1.0\n",
    "  (9,7):\n",
    "    - tocond: 7\n",
    "      next:\n",
    "        - 14\n",
    "        - 7\n",
    "      pr: 0.85\n",
    "    - tocond: 8\n",
    "      next:\n",
    "        - 14\n",
    "        - 8\n",
    "      pr: 0.15\n",
    "  (5,5):\n",
    "    - tocond: 5\n",
    "      next:\n",
    "        - 9\n",
    "        - 5\n",
    "      pr: 0.2\n",
    "    - tocond: 6\n",
    "      next:\n",
    "        - 9\n",
    "        - 6\n",
    "      pr: 0.65\n",
    "    - tocond: 7\n",
    "      next:\n",
    "        - 9\n",
    "        - 7\n",
    "      pr: 0.15\n",
    "  (14,8):\n",
    "    - tocond: 3\n",
    "      next:\n",
    "        - 0\n",
    "        - 0\n",
    "      pr: 0.35\n",
    "    - tocond: 8\n",
    "      next:\n",
    "        - 19\n",
    "        - 8\n",
    "      pr: 0.55\n",
    "    - tocond: 4\n",
    "      next:\n",
    "        - 0\n",
    "        - 5\n",
    "      pr: 0.1\n",
    "  (14,7):\n",
    "    - tocond: 3\n",
    "      next:\n",
    "        - 10\n",
    "        - 0\n",
    "      pr: 0.8\n",
    "    - tocond: 8\n",
    "      next:\n",
    "        - 19\n",
    "        - 8\n",
    "      pr: 0.2\n",
    "  (19,8):\n",
    "    - tocond: 3\n",
    "      next:\n",
    "        - 0\n",
    "        - 0\n",
    "      pr: 0.85\n",
    "    - tocond: 4\n",
    "      next:\n",
    "        - 0\n",
    "        - 5\n",
    "      pr: 0.15\n",
    "2:\n",
    "  (9,6):\n",
    "    - tocond: 6\n",
    "      next:\n",
    "        - 14\n",
    "        - 6\n",
    "      pr: 1.0\n",
    "  (9,5):\n",
    "    - tocond: 3\n",
    "      next:\n",
    "        - 0\n",
    "        - 0\n",
    "      pr: 0.8\n",
    "    - tocond: 7\n",
    "      next:\n",
    "        - 14\n",
    "        - 7\n",
    "      pr: 0.2\n",
    "  (14,6):\n",
    "    - tocond: 3\n",
    "      next:\n",
    "        - 0\n",
    "        - 0\n",
    "      pr: 1.0\n",
    "  (9,7):\n",
    "    - tocond: 7\n",
    "      next:\n",
    "        - 14\n",
    "        - 7\n",
    "      pr: 0.85\n",
    "    - tocond: 8\n",
    "      next:\n",
    "        - 14\n",
    "        - 8\n",
    "      pr: 0.15\n",
    "  (5,5):\n",
    "    - tocond: 5\n",
    "      next:\n",
    "        - 9\n",
    "        - 5\n",
    "      pr: 0.2\n",
    "    - tocond: 6\n",
    "      next:\n",
    "        - 9\n",
    "        - 6\n",
    "      pr: 0.65\n",
    "    - tocond: 7\n",
    "      next:\n",
    "        - 9\n",
    "        - 7\n",
    "      pr: 0.15\n",
    "  (14,8):\n",
    "    - tocond: 3\n",
    "      next:\n",
    "        - 0\n",
    "        - 0\n",
    "      pr: 0.35\n",
    "    - tocond: 8\n",
    "      next:\n",
    "        - 19\n",
    "        - 8\n",
    "      pr: 0.55\n",
    "    - tocond: 4\n",
    "      next:\n",
    "        - 0\n",
    "        - 5\n",
    "      pr: 0.1\n",
    "  (14,7):\n",
    "    - tocond: 3\n",
    "      next:\n",
    "        - 10\n",
    "        - 0\n",
    "      pr: 0.8\n",
    "    - tocond: 8\n",
    "      next:\n",
    "        - 19\n",
    "        - 8\n",
    "      pr: 0.2\n",
    "  (19,8):\n",
    "    - tocond: 3\n",
    "      next:\n",
    "        - 0\n",
    "        - 0\n",
    "      pr: 0.85\n",
    "    - tocond: 4\n",
    "      next:\n",
    "        - 0\n",
    "        - 5\n",
    "      pr: 0.15\n",
    "3:\n",
    "  (9,6):\n",
    "    - tocond: 6\n",
    "      next:\n",
    "        - 14\n",
    "        - 6\n",
    "      pr: 1.0\n",
    "  (9,5):\n",
    "    - tocond: 3\n",
    "      next:\n",
    "        - 0\n",
    "        - 0\n",
    "      pr: 0.7\n",
    "    - tocond: 7\n",
    "      next:\n",
    "        - 14\n",
    "        - 7\n",
    "      pr: 0.3\n",
    "  (14,6):\n",
    "    - tocond: 3\n",
    "      next:\n",
    "        - 0\n",
    "        - 0\n",
    "      pr: 1.0\n",
    "  (9,7):\n",
    "    - tocond: 7\n",
    "      next:\n",
    "        - 14\n",
    "        - 7\n",
    "      pr: 0.85\n",
    "    - tocond: 8\n",
    "      next:\n",
    "        - 14\n",
    "        - 8\n",
    "      pr: 0.15\n",
    "  (5,5):\n",
    "    - tocond: 5\n",
    "      next:\n",
    "        - 9\n",
    "        - 5\n",
    "      pr: 0.2\n",
    "    - tocond: 6\n",
    "      next:\n",
    "        - 9\n",
    "        - 6\n",
    "      pr: 0.6\n",
    "    - tocond: 7\n",
    "      next:\n",
    "        - 9\n",
    "        - 7\n",
    "      pr: 0.2\n",
    "  (14,8):\n",
    "    - tocond: 3\n",
    "      next:\n",
    "        - 0\n",
    "        - 0\n",
    "      pr: 0.35\n",
    "    - tocond: 8\n",
    "      next:\n",
    "        - 19\n",
    "        - 8\n",
    "      pr: 0.55\n",
    "    - tocond: 4\n",
    "      next:\n",
    "        - 0\n",
    "        - 5\n",
    "      pr: 0.1\n",
    "  (14,7):\n",
    "    - tocond: 3\n",
    "      next:\n",
    "        - 10\n",
    "        - 0\n",
    "      pr: 0.8\n",
    "    - tocond: 8\n",
    "      next:\n",
    "        - 19\n",
    "        - 8\n",
    "      pr: 0.2\n",
    "  (19,8):\n",
    "    - tocond: 3\n",
    "      next:\n",
    "        - 0\n",
    "        - 0\n",
    "      pr: 0.85\n",
    "    - tocond: 4\n",
    "      next:\n",
    "        - 0\n",
    "        - 5\n",
    "      pr: 0.15\n",
    "\"\"\""
   ]
  },
  {
   "cell_type": "code",
   "execution_count": 24,
   "metadata": {},
   "outputs": [
    {
     "data": {
      "text/plain": [
       "Dict{Any,Any} with 5 entries:\n",
       "  4 => Dict{Any,Any}(\"(9,6)\"=>Dict{Any,Any}[Dict(\"tocond\"=>6,\"next\"=>[14, 6],\"p…\n",
       "  2 => Dict{Any,Any}(\"(9,6)\"=>Dict{Any,Any}[Dict(\"tocond\"=>6,\"next\"=>[14, 6],\"p…\n",
       "  3 => Dict{Any,Any}(\"(9,6)\"=>Dict{Any,Any}[Dict(\"tocond\"=>6,\"next\"=>[14, 6],\"p…\n",
       "  5 => Dict{Any,Any}(\"(9,6)\"=>Dict{Any,Any}[Dict(\"tocond\"=>6,\"next\"=>[14, 6],\"p…\n",
       "  1 => Dict{Any,Any}(\"(9,6)\"=>Dict{Any,Any}[Dict(\"tocond\"=>6,\"next\"=>[14, 6],\"p…"
      ]
     },
     "execution_count": 24,
     "metadata": {},
     "output_type": "execute_result"
    }
   ],
   "source": [
    "roundtrip_yaml = YAML.load(newyaml)"
   ]
  },
  {
   "cell_type": "code",
   "execution_count": 25,
   "metadata": {},
   "outputs": [
    {
     "data": {
      "text/plain": [
       "Dict{Any,Any} with 8 entries:\n",
       "  \"(9,6)\"  => Dict{Any,Any}[Dict(\"tocond\"=>6,\"next\"=>[14, 6],\"pr\"=>1.0)]\n",
       "  \"(9,5)\"  => Dict{Any,Any}[Dict(\"tocond\"=>3,\"next\"=>[0, 0],\"pr\"=>0.8), Dict(\"t…\n",
       "  \"(14,6)\" => Dict{Any,Any}[Dict(\"tocond\"=>3,\"next\"=>[0, 0],\"pr\"=>1.0)]\n",
       "  \"(9,7)\"  => Dict{Any,Any}[Dict(\"tocond\"=>7,\"next\"=>[14, 7],\"pr\"=>0.85), Dict(…\n",
       "  \"(5,5)\"  => Dict{Any,Any}[Dict(\"tocond\"=>5,\"next\"=>[9, 5],\"pr\"=>0.2), Dict(\"t…\n",
       "  \"(14,8)\" => Dict{Any,Any}[Dict(\"tocond\"=>3,\"next\"=>[0, 0],\"pr\"=>0.45), Dict(\"…\n",
       "  \"(14,7)\" => Dict{Any,Any}[Dict(\"tocond\"=>3,\"next\"=>[0, 0],\"pr\"=>0.85), Dict(\"…\n",
       "  \"(19,8)\" => Dict{Any,Any}[Dict(\"tocond\"=>3,\"next\"=>[0, 0],\"pr\"=>0.9), Dict(\"t…"
      ]
     },
     "execution_count": 25,
     "metadata": {},
     "output_type": "execute_result"
    }
   ],
   "source": [
    "roundtrip_yaml[1]"
   ]
  },
  {
   "cell_type": "code",
   "execution_count": 26,
   "metadata": {},
   "outputs": [
    {
     "data": {
      "text/plain": [
       "2-element Array{Dict{Any,Any},1}:\n",
       " Dict(\"tocond\" => 7,\"next\" => [14, 7],\"pr\" => 0.85)\n",
       " Dict(\"tocond\" => 8,\"next\" => [14, 8],\"pr\" => 0.15)"
      ]
     },
     "execution_count": 26,
     "metadata": {},
     "output_type": "execute_result"
    }
   ],
   "source": [
    "roundtrip_yaml[1][\"(9,7)\"]"
   ]
  },
  {
   "cell_type": "code",
   "execution_count": 27,
   "metadata": {},
   "outputs": [
    {
     "data": {
      "text/plain": [
       "\"4:\\n  (9,6):\\n    - {tocond: 6, next: [14,6], pr: 1.0}\\n  (9,5):\\n    - {tocond: 3, next: [0,0], pr: 0.8}\\n    - {tocond: 7, next: [14,7], pr: 0.2}\\n  (14,6):\\n    - {tocond: 3, next: [0,0], pr: 1.0}\\n  (9,7):\\n    - {tocond: 7, next: [14, 7], pr: 0.85}\\n    - {tocond: 8, next: [14, 8], pr: 0.15}\\n  (5,5):\\n    - {tocond: 5, next: [9, 5], pr: 0.2}\\n    - {tocond: 6, next: [9, 6], pr: 0.65}\\n    - {tocond: 7, next: [9, 7], pr: 0.15}\\n  (14,8):\\n    - {tocond: 3, next: [0,0], pr: 0.35}\\n    - {tocond: 8, next: [19, 8], pr: 0.55}\\n    - {tocond: 4, next: [0,5], pr: 0.1}\\n  (14,7):\\n    - {tocond: 3, next: [0, 0], pr: 0.8}\\n    - {tocond: 8, next: [19, 8], pr: 0.2}\\n  (19,8):\\n    - {tocond: 3, next: [0,0], pr: 0.85}\\n    - {tocond: 4, next: [0,5], pr: 0.15}\\n1:\\n  (9,6):\\n    - {tocond: 6, next: [14, 6], pr: 1.0}\\n  (9,5):\\n    - {tocond: 3, next: [0,0], pr: 0.8}\\n    - {tocond: 7, next: [14, 7], pr: 0.2}\\n  (14,6):\\n    - {tocond: 3, next: [0,0], pr: 1.0}\\n  (9,7):\\n    - {tocond: 7, next: [14, 7], pr: 0.85}\\n    - {tocond: 8, next: [14, 8], pr: 0.15}\\n  (5,5):\\n    - {tocond: 5, next: [9, 5], pr: 0.2}\\n    - {tocond: 6, next: [9, 6], pr: 0.65}\\n    - {tocond: 7, next: [9, 7], pr: 0.15}\\n  (14,8):\\n    - {tocond: 3, next: [0,0], pr: 0.45}\\n    - {tocond: 8, next: [19, 8], pr: 0.5}\\n    - {tocond: 4, next: [0,5], pr: 0.05}\\n  (14,7):\\n    - {tocond: 3, next: [0,0], pr: 0.85}\\n    - {tocond: 8, next: [19, 8], pr: 0.15}\\n  (19,8):\\n    - {tocond: 3, next: [0,0], pr: 0.9}\\n    - {tocond: 4, next: [0,5], pr: 0.1}\\n5:\\n  (9,6):\\n    - {tocond: 6, next: [14,6], pr: 1.0}\\n  (9,5):\\n    - {tocond: 3, next: [0,0], pr: 0.8}\\n    - {tocond: 7, next: [14,7], pr: 0.2}\\n  (14,6):\\n    - {tocond: 3, next: [0,0], pr: 1.0}\\n  (9,7):\\n    - {tocond: 7, next: [14, 7], pr: 0.85}\\n    - {tocond: 8, next: [14, 8], pr: 0.15}\\n  (5,5):\\n    - {tocond: 5, next: [9, 5], pr: 0.2}\\n    - {tocond: 6, next: [9, 6], pr: 0.65}\\n    - {tocond: 7, next: [9, 7], pr: 0.15}\\n  (14,8):\\n    - {tocond: 3, next: [0,0], pr: 0.35}\\n    - {tocond: 8, next: [19, 8], pr: 0.55}\\n    - {tocond: 4, next: [0,5], pr: 0.1}\\n  (14,7):\\n    - {tocond: 3, next: [0, 0], pr: 0.8}\\n    - {tocond: 8, next: [19, 8], pr: 0.2}\\n  (19,8):\\n    - {tocond: 3, next: [0,0], pr: 0.85}\\n    - {tocond: 4, next: [0,5], pr: 0.15}\\n2:\\n  (9,6):\\n    - {tocond: 6, next: [14,6], pr: 1.0}\\n  (9,5):\\n    - {tocond: 3, next: [0,0], pr: 0.8}\\n    - {tocond: 7, next: [14, 7], pr: 0.2}\\n  (14,6):\\n    - {tocond: 3, next: [0,0], pr: 1.0}\\n  (9,7):\\n    - {tocond: 7, next: [14, 7], pr: 0.85}\\n    - {tocond: 8, next: [14, 7], pr: 0.15}\\n  (5,5):\\n    - {tocond: 5, next: [9, 5], pr: 0.2}\\n    - {tocond: 6, next: [9, 6], pr: 0.65}\\n    - {tocond: 7, next: [9, 7], pr: 0.15}\\n  (14,8):\\n    - {tocond: 3, next: [0,0], pr: 0.35}\\n    - {tocond: 8, next: [19, 8], pr: 0.55}\\n    - {tocond: 4, next: [0,5], pr: 0.1}\\n  (14,7):\\n    - {tocond: 3, next: [0, 0], pr: 0.8}\\n    - {tocond: 8, next: [19, 8], pr: 0.2}\\n  (19,8):\\n    - {tocond: 3, next: [0,0], pr: 0.85}\\n    - {tocond: 4, next: [0,5], pr: 0.15}\\n3:\\n  (9,6):\\n    - {tocond: 6, next: [14,6], pr: 1.0}\\n  (9,5):\\n    - {tocond: 3, next: [0,0], pr: 0.8}\\n    - {tocond: 7, next: [14,7], pr: 0.2}\\n  (14,6):\\n    - {tocond: 3, next: [0,0], pr: 1.0}\\n  (9,7):\\n    - {tocond: 7, next: [14, 7], pr: 0.85}\\n    - {tocond: 8, next: [14, 8], pr: 0.15}\\n  (5,5):\\n    - {tocond: 5, next: [9, 5], pr: 0.2}\\n    - {tocond: 6, next: [9, 6], pr: 0.65}\\n    - {tocond: 7, next: [9, 7], pr: 0.15}\\n  (14,8):\\n    - {tocond: 3, next: [0,0], pr: 0.35}\\n    - {tocond: 8, next: [19, 8], pr: 0.55}\\n    - {tocond: 4, next: [0,5], pr: 0.1}\\n  (14,7):\\n    - {tocond: 3, next: [0, 0], pr: 0.8}\\n    - {tocond: 8, next: [19, 8], pr: 0.2}\\n  (19,8):\\n    - {tocond: 3, next: [0,0], pr: 0.85}\\n    - {tocond: 4, next: [0,5], pr: 0.15}\\n\""
      ]
     },
     "execution_count": 27,
     "metadata": {},
     "output_type": "execute_result"
    }
   ],
   "source": [
    "dense_yaml = \"\"\"\n",
    "4:\n",
    "  (9,6):\n",
    "    - {tocond: 6, next: [14,6], pr: 1.0}\n",
    "  (9,5):\n",
    "    - {tocond: 3, next: [0,0], pr: 0.8}\n",
    "    - {tocond: 7, next: [14,7], pr: 0.2}\n",
    "  (14,6):\n",
    "    - {tocond: 3, next: [0,0], pr: 1.0}\n",
    "  (9,7):\n",
    "    - {tocond: 7, next: [14, 7], pr: 0.85}\n",
    "    - {tocond: 8, next: [14, 8], pr: 0.15}\n",
    "  (5,5):\n",
    "    - {tocond: 5, next: [9, 5], pr: 0.2}\n",
    "    - {tocond: 6, next: [9, 6], pr: 0.65}\n",
    "    - {tocond: 7, next: [9, 7], pr: 0.15}\n",
    "  (14,8):\n",
    "    - {tocond: 3, next: [0,0], pr: 0.35}\n",
    "    - {tocond: 8, next: [19, 8], pr: 0.55}\n",
    "    - {tocond: 4, next: [0,5], pr: 0.1}\n",
    "  (14,7):\n",
    "    - {tocond: 3, next: [0, 0], pr: 0.8}\n",
    "    - {tocond: 8, next: [19, 8], pr: 0.2}\n",
    "  (19,8):\n",
    "    - {tocond: 3, next: [0,0], pr: 0.85}\n",
    "    - {tocond: 4, next: [0,5], pr: 0.15}\n",
    "1:\n",
    "  (9,6):\n",
    "    - {tocond: 6, next: [14, 6], pr: 1.0}\n",
    "  (9,5):\n",
    "    - {tocond: 3, next: [0,0], pr: 0.8}\n",
    "    - {tocond: 7, next: [14, 7], pr: 0.2}\n",
    "  (14,6):\n",
    "    - {tocond: 3, next: [0,0], pr: 1.0}\n",
    "  (9,7):\n",
    "    - {tocond: 7, next: [14, 7], pr: 0.85}\n",
    "    - {tocond: 8, next: [14, 8], pr: 0.15}\n",
    "  (5,5):\n",
    "    - {tocond: 5, next: [9, 5], pr: 0.2}\n",
    "    - {tocond: 6, next: [9, 6], pr: 0.65}\n",
    "    - {tocond: 7, next: [9, 7], pr: 0.15}\n",
    "  (14,8):\n",
    "    - {tocond: 3, next: [0,0], pr: 0.45}\n",
    "    - {tocond: 8, next: [19, 8], pr: 0.5}\n",
    "    - {tocond: 4, next: [0,5], pr: 0.05}\n",
    "  (14,7):\n",
    "    - {tocond: 3, next: [0,0], pr: 0.85}\n",
    "    - {tocond: 8, next: [19, 8], pr: 0.15}\n",
    "  (19,8):\n",
    "    - {tocond: 3, next: [0,0], pr: 0.9}\n",
    "    - {tocond: 4, next: [0,5], pr: 0.1}\n",
    "5:\n",
    "  (9,6):\n",
    "    - {tocond: 6, next: [14,6], pr: 1.0}\n",
    "  (9,5):\n",
    "    - {tocond: 3, next: [0,0], pr: 0.8}\n",
    "    - {tocond: 7, next: [14,7], pr: 0.2}\n",
    "  (14,6):\n",
    "    - {tocond: 3, next: [0,0], pr: 1.0}\n",
    "  (9,7):\n",
    "    - {tocond: 7, next: [14, 7], pr: 0.85}\n",
    "    - {tocond: 8, next: [14, 8], pr: 0.15}\n",
    "  (5,5):\n",
    "    - {tocond: 5, next: [9, 5], pr: 0.2}\n",
    "    - {tocond: 6, next: [9, 6], pr: 0.65}\n",
    "    - {tocond: 7, next: [9, 7], pr: 0.15}\n",
    "  (14,8):\n",
    "    - {tocond: 3, next: [0,0], pr: 0.35}\n",
    "    - {tocond: 8, next: [19, 8], pr: 0.55}\n",
    "    - {tocond: 4, next: [0,5], pr: 0.1}\n",
    "  (14,7):\n",
    "    - {tocond: 3, next: [0, 0], pr: 0.8}\n",
    "    - {tocond: 8, next: [19, 8], pr: 0.2}\n",
    "  (19,8):\n",
    "    - {tocond: 3, next: [0,0], pr: 0.85}\n",
    "    - {tocond: 4, next: [0,5], pr: 0.15}\n",
    "2:\n",
    "  (9,6):\n",
    "    - {tocond: 6, next: [14,6], pr: 1.0}\n",
    "  (9,5):\n",
    "    - {tocond: 3, next: [0,0], pr: 0.8}\n",
    "    - {tocond: 7, next: [14, 7], pr: 0.2}\n",
    "  (14,6):\n",
    "    - {tocond: 3, next: [0,0], pr: 1.0}\n",
    "  (9,7):\n",
    "    - {tocond: 7, next: [14, 7], pr: 0.85}\n",
    "    - {tocond: 8, next: [14, 7], pr: 0.15}\n",
    "  (5,5):\n",
    "    - {tocond: 5, next: [9, 5], pr: 0.2}\n",
    "    - {tocond: 6, next: [9, 6], pr: 0.65}\n",
    "    - {tocond: 7, next: [9, 7], pr: 0.15}\n",
    "  (14,8):\n",
    "    - {tocond: 3, next: [0,0], pr: 0.35}\n",
    "    - {tocond: 8, next: [19, 8], pr: 0.55}\n",
    "    - {tocond: 4, next: [0,5], pr: 0.1}\n",
    "  (14,7):\n",
    "    - {tocond: 3, next: [0, 0], pr: 0.8}\n",
    "    - {tocond: 8, next: [19, 8], pr: 0.2}\n",
    "  (19,8):\n",
    "    - {tocond: 3, next: [0,0], pr: 0.85}\n",
    "    - {tocond: 4, next: [0,5], pr: 0.15}\n",
    "3:\n",
    "  (9,6):\n",
    "    - {tocond: 6, next: [14,6], pr: 1.0}\n",
    "  (9,5):\n",
    "    - {tocond: 3, next: [0,0], pr: 0.8}\n",
    "    - {tocond: 7, next: [14,7], pr: 0.2}\n",
    "  (14,6):\n",
    "    - {tocond: 3, next: [0,0], pr: 1.0}\n",
    "  (9,7):\n",
    "    - {tocond: 7, next: [14, 7], pr: 0.85}\n",
    "    - {tocond: 8, next: [14, 8], pr: 0.15}\n",
    "  (5,5):\n",
    "    - {tocond: 5, next: [9, 5], pr: 0.2}\n",
    "    - {tocond: 6, next: [9, 6], pr: 0.65}\n",
    "    - {tocond: 7, next: [9, 7], pr: 0.15}\n",
    "  (14,8):\n",
    "    - {tocond: 3, next: [0,0], pr: 0.35}\n",
    "    - {tocond: 8, next: [19, 8], pr: 0.55}\n",
    "    - {tocond: 4, next: [0,5], pr: 0.1}\n",
    "  (14,7):\n",
    "    - {tocond: 3, next: [0, 0], pr: 0.8}\n",
    "    - {tocond: 8, next: [19, 8], pr: 0.2}\n",
    "  (19,8):\n",
    "    - {tocond: 3, next: [0,0], pr: 0.85}\n",
    "    - {tocond: 4, next: [0,5], pr: 0.15}\n",
    "\"\"\""
   ]
  },
  {
   "cell_type": "code",
   "execution_count": 129,
   "metadata": {},
   "outputs": [
    {
     "data": {
      "text/plain": [
       "Dict{Any,Any} with 8 entries:\n",
       "  [9, 5]  => Dict{Any,Any}[Dict(\"tocond\"=>3,\"next\"=>[0, 0],\"pr\"=>0.8), Dict(\"to…\n",
       "  [9, 7]  => Dict{Any,Any}[Dict(\"tocond\"=>7,\"next\"=>[14, 7],\"pr\"=>0.85), Dict(\"…\n",
       "  [14, 8] => Dict{Any,Any}[Dict(\"tocond\"=>3,\"next\"=>[0, 0],\"pr\"=>0.45), Dict(\"t…\n",
       "  [9, 6]  => Dict{Any,Any}[Dict(\"tocond\"=>6,\"next\"=>[14, 6],\"pr\"=>1.0)]\n",
       "  [5, 5]  => Dict{Any,Any}[Dict(\"tocond\"=>5,\"next\"=>[9, 5],\"pr\"=>0.2), Dict(\"to…\n",
       "  [14, 7] => Dict{Any,Any}[Dict(\"tocond\"=>3,\"next\"=>[0, 0],\"pr\"=>0.85), Dict(\"t…\n",
       "  [19, 8] => Dict{Any,Any}[Dict(\"tocond\"=>3,\"next\"=>[0, 0],\"pr\"=>0.9), Dict(\"to…\n",
       "  [14, 6] => Dict{Any,Any}[Dict(\"tocond\"=>3,\"next\"=>[0, 0],\"pr\"=>1.0)]"
      ]
     },
     "execution_count": 129,
     "metadata": {},
     "output_type": "execute_result"
    }
   ],
   "source": [
    "dense_test = YAML.load_file(\"../parameters/yaml_dense.yml\")\n",
    "dense_test[1]"
   ]
  },
  {
   "cell_type": "code",
   "execution_count": 130,
   "metadata": {},
   "outputs": [
    {
     "data": {
      "text/plain": [
       "Dict{Int64,Array{Int64,1}} with 5 entries:\n",
       "  4 => [9, 14, 5, 19]\n",
       "  2 => [9, 14, 5, 19]\n",
       "  3 => [9, 14, 5, 19]\n",
       "  5 => [9, 14, 5, 19]\n",
       "  1 => [9, 14, 5, 19]"
      ]
     },
     "execution_count": 130,
     "metadata": {},
     "output_type": "execute_result"
    }
   ],
   "source": [
    "decpoints = Dict{Int,Array{Int, 1}}()\n",
    "for i in 1:5\n",
    "    decpoints[i] = unique([k[1] for k in keys(dense_test[i])])\n",
    "end\n",
    "decpoints"
   ]
  },
  {
   "cell_type": "code",
   "execution_count": 131,
   "metadata": {},
   "outputs": [
    {
     "name": "stdout",
     "output_type": "stream",
     "text": [
      "[5, 5]\n",
      "   Dict{Any,Any}(\"tocond\" => 5,\"next\" => [9, 5],\"pr\" => 0.2)\n",
      "   Dict{Any,Any}(\"tocond\" => 6,\"next\" => [9, 6],\"pr\" => 0.65)\n",
      "   Dict{Any,Any}(\"tocond\" => 7,\"next\" => [9, 7],\"pr\" => 0.15)\n",
      "[9, 5]\n",
      "   Dict{Any,Any}(\"tocond\" => 3,\"next\" => [0, 0],\"pr\" => 0.8)\n",
      "   Dict{Any,Any}(\"tocond\" => 7,\"next\" => [14, 7],\"pr\" => 0.2)\n",
      "[9, 6]\n",
      "   Dict{Any,Any}(\"tocond\" => 6,\"next\" => [14, 6],\"pr\" => 1.0)\n",
      "[9, 7]\n",
      "   Dict{Any,Any}(\"tocond\" => 7,\"next\" => [14, 7],\"pr\" => 0.85)\n",
      "   Dict{Any,Any}(\"tocond\" => 8,\"next\" => [14, 8],\"pr\" => 0.15)\n",
      "[14, 6]\n",
      "   Dict{Any,Any}(\"tocond\" => 3,\"next\" => [0, 0],\"pr\" => 1.0)\n",
      "[14, 7]\n",
      "   Dict{Any,Any}(\"tocond\" => 3,\"next\" => [0, 0],\"pr\" => 0.85)\n",
      "   Dict{Any,Any}(\"tocond\" => 8,\"next\" => [19, 8],\"pr\" => 0.15)\n",
      "[14, 8]\n",
      "   Dict{Any,Any}(\"tocond\" => 3,\"next\" => [0, 0],\"pr\" => 0.45)\n",
      "   Dict{Any,Any}(\"tocond\" => 8,\"next\" => [19, 8],\"pr\" => 0.5)\n",
      "   Dict{Any,Any}(\"tocond\" => 4,\"next\" => [0, 5],\"pr\" => 0.05)\n",
      "[19, 8]\n",
      "   Dict{Any,Any}(\"tocond\" => 3,\"next\" => [0, 0],\"pr\" => 0.9)\n",
      "   Dict{Any,Any}(\"tocond\" => 4,\"next\" => [0, 5],\"pr\" => 0.1)\n"
     ]
    }
   ],
   "source": [
    "display_tree(dense_test[1])"
   ]
  },
  {
   "cell_type": "code",
   "execution_count": 132,
   "metadata": {},
   "outputs": [
    {
     "data": {
      "text/plain": [
       "Dict{Any,Any} with 8 entries:\n",
       "  [9, 5]  => Dict{Any,Any}[Dict(\"tocond\"=>3,\"next\"=>[0, 0],\"pr\"=>0.6), Dict(\"to…\n",
       "  [9, 7]  => Dict{Any,Any}[Dict(\"tocond\"=>7,\"next\"=>[14, 7],\"pr\"=>0.72), Dict(\"…\n",
       "  [14, 8] => Dict{Any,Any}[Dict(\"tocond\"=>3,\"next\"=>[0, 0],\"pr\"=>0.125), Dict(\"…\n",
       "  [9, 6]  => Dict{Any,Any}[Dict(\"tocond\"=>6,\"next\"=>[14, 6],\"pr\"=>1.0)]\n",
       "  [5, 5]  => Dict{Any,Any}[Dict(\"tocond\"=>5,\"next\"=>[9, 5],\"pr\"=>0.15), Dict(\"t…\n",
       "  [14, 7] => Dict{Any,Any}[Dict(\"tocond\"=>3,\"next\"=>[0, 0],\"pr\"=>0.62), Dict(\"t…\n",
       "  [19, 8] => Dict{Any,Any}[Dict(\"tocond\"=>3,\"next\"=>[0, 0],\"pr\"=>0.75), Dict(\"t…\n",
       "  [14, 6] => Dict{Any,Any}[Dict(\"tocond\"=>3,\"next\"=>[0, 0],\"pr\"=>1.0)]"
      ]
     },
     "execution_count": 132,
     "metadata": {},
     "output_type": "execute_result"
    }
   ],
   "source": [
    "dense_test[4]"
   ]
  },
  {
   "cell_type": "code",
   "execution_count": 133,
   "metadata": {},
   "outputs": [
    {
     "data": {
      "text/plain": [
       "5"
      ]
     },
     "execution_count": 133,
     "metadata": {},
     "output_type": "execute_result"
    }
   ],
   "source": [
    "length(dense_test)"
   ]
  },
  {
   "cell_type": "code",
   "execution_count": 134,
   "metadata": {},
   "outputs": [
    {
     "data": {
      "text/plain": [
       "5×4 Array{Float64,2}:\n",
       " 1.0  1.0  0.995238  0.0047625\n",
       " 2.0  1.0  0.990869  0.00913125\n",
       " 3.0  1.0  0.978625  0.021375\n",
       " 4.0  1.0  0.951388  0.0486125\n",
       " 5.0  1.0  0.937188  0.0628125"
      ]
     },
     "execution_count": 134,
     "metadata": {},
     "output_type": "execute_result"
    }
   ],
   "source": [
    "CovidSim.sanity_test_all(dense_test)"
   ]
  },
  {
   "cell_type": "code",
   "execution_count": null,
   "metadata": {},
   "outputs": [],
   "source": []
  }
 ],
 "metadata": {
  "kernelspec": {
   "display_name": "Julia 1.5.0",
   "language": "julia",
   "name": "julia-1.5.0-1.5"
  },
  "language_info": {
   "file_extension": ".jl",
   "mimetype": "application/julia",
   "name": "julia",
   "version": "1.5.0"
  }
 },
 "nbformat": 4,
 "nbformat_minor": 4
}
