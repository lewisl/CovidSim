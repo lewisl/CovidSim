{
 "cells": [
  {
   "cell_type": "code",
   "execution_count": 1,
   "metadata": {},
   "outputs": [
    {
     "name": "stderr",
     "output_type": "stream",
     "text": [
      "┌ Info: Precompiling CovidSim_ilm [top-level]\n",
      "└ @ Base loading.jl:1278\n"
     ]
    }
   ],
   "source": [
    "using CovidSim_ilm"
   ]
  },
  {
   "cell_type": "code",
   "execution_count": 13,
   "metadata": {},
   "outputs": [],
   "source": [
    "using StatsBase"
   ]
  },
  {
   "cell_type": "code",
   "execution_count": 5,
   "metadata": {},
   "outputs": [],
   "source": [
    "cd(\"ilm-src\")"
   ]
  },
  {
   "cell_type": "markdown",
   "metadata": {},
   "source": [
    "# Test setup"
   ]
  },
  {
   "cell_type": "code",
   "execution_count": 27,
   "metadata": {},
   "outputs": [
    {
     "data": {
      "text/plain": [
       "Dict{String,Any} with 5 entries:\n",
       "  \"geo\"       => 15×10 DataFrame. Omitted printing of 4 columns…\n",
       "  \"sp\"        => Dict{Symbol,Array{Float64,N} where N}(:touch_factors=>[0.55 0.…\n",
       "  \"dat\"       => Dict{String,Dict{Int64,V} where V}(\"openmx\"=>Dict{Int64,Array{…\n",
       "  \"decpoints\" => Dict(4=>[9, 25, 14, 5, 19],2=>[9, 25, 14, 5, 19],3=>[9, 25, 14…\n",
       "  \"dt\"        => Dict{Any,Any}(4=>Dict{Any,Any}([9, 5]=>Dict{String,Array{T,1} …"
      ]
     },
     "execution_count": 27,
     "metadata": {},
     "output_type": "execute_result"
    }
   ],
   "source": [
    "alldict = setup(150, [38015])"
   ]
  },
  {
   "cell_type": "code",
   "execution_count": 11,
   "metadata": {},
   "outputs": [
    {
     "data": {
      "text/plain": [
       "95626×13 Array{Int16,2}:\n",
       " 1  1  0  0  0  0  0  0  0  0  0  0  0\n",
       " 1  3  0  0  0  0  0  0  0  0  0  0  0\n",
       " 1  2  0  0  0  0  0  0  0  0  0  0  0\n",
       " 1  2  0  0  0  0  0  0  0  0  0  0  0\n",
       " 1  1  0  0  0  0  0  0  0  0  0  0  0\n",
       " 1  4  0  0  0  0  0  0  0  0  0  0  0\n",
       " 1  3  0  0  0  0  0  0  0  0  0  0  0\n",
       " 1  4  0  0  0  0  0  0  0  0  0  0  0\n",
       " 1  3  0  0  0  0  0  0  0  0  0  0  0\n",
       " 1  1  0  0  0  0  0  0  0  0  0  0  0\n",
       " 1  1  0  0  0  0  0  0  0  0  0  0  0\n",
       " 1  2  0  0  0  0  0  0  0  0  0  0  0\n",
       " 1  2  0  0  0  0  0  0  0  0  0  0  0\n",
       " ⋮              ⋮              ⋮     \n",
       " 1  3  0  0  0  0  0  0  0  0  0  0  0\n",
       " 1  1  0  0  0  0  0  0  0  0  0  0  0\n",
       " 1  2  0  0  0  0  0  0  0  0  0  0  0\n",
       " 1  3  0  0  0  0  0  0  0  0  0  0  0\n",
       " 1  3  0  0  0  0  0  0  0  0  0  0  0\n",
       " 1  2  0  0  0  0  0  0  0  0  0  0  0\n",
       " 1  2  0  0  0  0  0  0  0  0  0  0  0\n",
       " 1  3  0  0  0  0  0  0  0  0  0  0  0\n",
       " 1  2  0  0  0  0  0  0  0  0  0  0  0\n",
       " 1  3  0  0  0  0  0  0  0  0  0  0  0\n",
       " 1  1  0  0  0  0  0  0  0  0  0  0  0\n",
       " 1  1  0  0  0  0  0  0  0  0  0  0  0"
      ]
     },
     "execution_count": 11,
     "metadata": {},
     "output_type": "execute_result"
    }
   ],
   "source": [
    "ilmat = alldict[\"dat\"][\"openmx\"][38015]"
   ]
  },
  {
   "cell_type": "code",
   "execution_count": 14,
   "metadata": {},
   "outputs": [
    {
     "data": {
      "text/plain": [
       "Dict{Int16,Int64} with 5 entries:\n",
       "  4 => 17663\n",
       "  2 => 25953\n",
       "  3 => 24201\n",
       "  5 => 3654\n",
       "  1 => 24155"
      ]
     },
     "execution_count": 14,
     "metadata": {},
     "output_type": "execute_result"
    }
   ],
   "source": [
    "countmap(ilmat[:,2])"
   ]
  },
  {
   "cell_type": "code",
   "execution_count": 15,
   "metadata": {},
   "outputs": [
    {
     "data": {
      "text/plain": [
       "95626"
      ]
     },
     "execution_count": 15,
     "metadata": {},
     "output_type": "execute_result"
    }
   ],
   "source": [
    "sum(ilmat[:,cpop_status])  # everyone begins as unexposed"
   ]
  },
  {
   "cell_type": "code",
   "execution_count": 28,
   "metadata": {},
   "outputs": [
    {
     "data": {
      "text/html": [
       "<table class=\"data-frame\"><thead><tr><th></th><th>fips</th><th>county</th><th>city</th><th>state</th><th>sizecat</th><th>pop</th><th>density</th><th>density_factor</th></tr><tr><th></th><th>Int64</th><th>String</th><th>String</th><th>String</th><th>Int64</th><th>Int64</th><th>Int64</th><th>Float64</th></tr></thead><tbody><p>15 rows × 10 columns (omitted printing of 2 columns)</p><tr><th>1</th><td>6075</td><td>San Francisco</td><td>San Francisco</td><td>CA</td><td>2</td><td>881549</td><td>17255</td><td>1.04109</td></tr><tr><th>2</th><td>53033</td><td>Seattle</td><td>Seattle</td><td>WA</td><td>2</td><td>2252782</td><td>5175</td><td>0.931603</td></tr><tr><th>3</th><td>36061</td><td>New York</td><td>New York</td><td>NY</td><td>1</td><td>8336817</td><td>40306</td><td>1.25</td></tr><tr><th>4</th><td>39035</td><td>Cuyahoga</td><td>Cleveland</td><td>OH</td><td>2</td><td>1235072</td><td>3063</td><td>0.912462</td></tr><tr><th>5</th><td>48113</td><td>Dallas</td><td>Dallas</td><td>TX</td><td>2</td><td>2635516</td><td>4000</td><td>0.920954</td></tr><tr><th>6</th><td>39151</td><td>Stark</td><td>Canton</td><td>OH</td><td>3</td><td>370606</td><td>1688</td><td>0.9</td></tr><tr><th>7</th><td>34013</td><td>Essex</td><td>Newark</td><td>NJ</td><td>3</td><td>798975</td><td>6396</td><td>0.942669</td></tr><tr><th>8</th><td>13089</td><td>DeKalb</td><td>Atlanta</td><td>GA</td><td>2</td><td>1063937</td><td>2708</td><td>0.909244</td></tr><tr><th>9</th><td>17167</td><td>Sangamon</td><td>Springfield</td><td>IL</td><td>3</td><td>194672</td><td>1747</td><td>0.900535</td></tr><tr><th>10</th><td>38015</td><td>Burleigh</td><td>Bismarck</td><td>ND</td><td>3</td><td>95626</td><td>2157</td><td>0.904251</td></tr><tr><th>11</th><td>4013</td><td>Maricopa</td><td>Phoenix</td><td>AZ</td><td>1</td><td>4485414</td><td>2798</td><td>0.91006</td></tr><tr><th>12</th><td>42003</td><td>Allegheny</td><td>Pittsburgh</td><td>PA</td><td>2</td><td>1216045</td><td>5461</td><td>0.934195</td></tr><tr><th>13</th><td>27053</td><td>Hennepin</td><td>Minneapolis</td><td>MN</td><td>2</td><td>1265843</td><td>7821</td><td>0.955584</td></tr><tr><th>14</th><td>31055</td><td>Douglas</td><td>Omaha</td><td>NE</td><td>2</td><td>571327</td><td>3378</td><td>0.915317</td></tr><tr><th>15</th><td>8031</td><td>Denver</td><td>Denver</td><td>CO</td><td>2</td><td>727211</td><td>4520</td><td>0.925667</td></tr></tbody></table>"
      ],
      "text/latex": [
       "\\begin{tabular}{r|ccccccccc}\n",
       "\t& fips & county & city & state & sizecat & pop & density & density\\_factor & \\\\\n",
       "\t\\hline\n",
       "\t& Int64 & String & String & String & Int64 & Int64 & Int64 & Float64 & \\\\\n",
       "\t\\hline\n",
       "\t1 & 6075 & San Francisco & San Francisco & CA & 2 & 881549 & 17255 & 1.04109 & $\\dots$ \\\\\n",
       "\t2 & 53033 & Seattle & Seattle & WA & 2 & 2252782 & 5175 & 0.931603 & $\\dots$ \\\\\n",
       "\t3 & 36061 & New York & New York & NY & 1 & 8336817 & 40306 & 1.25 & $\\dots$ \\\\\n",
       "\t4 & 39035 & Cuyahoga & Cleveland & OH & 2 & 1235072 & 3063 & 0.912462 & $\\dots$ \\\\\n",
       "\t5 & 48113 & Dallas & Dallas & TX & 2 & 2635516 & 4000 & 0.920954 & $\\dots$ \\\\\n",
       "\t6 & 39151 & Stark & Canton & OH & 3 & 370606 & 1688 & 0.9 & $\\dots$ \\\\\n",
       "\t7 & 34013 & Essex & Newark & NJ & 3 & 798975 & 6396 & 0.942669 & $\\dots$ \\\\\n",
       "\t8 & 13089 & DeKalb & Atlanta & GA & 2 & 1063937 & 2708 & 0.909244 & $\\dots$ \\\\\n",
       "\t9 & 17167 & Sangamon & Springfield & IL & 3 & 194672 & 1747 & 0.900535 & $\\dots$ \\\\\n",
       "\t10 & 38015 & Burleigh & Bismarck & ND & 3 & 95626 & 2157 & 0.904251 & $\\dots$ \\\\\n",
       "\t11 & 4013 & Maricopa & Phoenix & AZ & 1 & 4485414 & 2798 & 0.91006 & $\\dots$ \\\\\n",
       "\t12 & 42003 & Allegheny & Pittsburgh & PA & 2 & 1216045 & 5461 & 0.934195 & $\\dots$ \\\\\n",
       "\t13 & 27053 & Hennepin & Minneapolis & MN & 2 & 1265843 & 7821 & 0.955584 & $\\dots$ \\\\\n",
       "\t14 & 31055 & Douglas & Omaha & NE & 2 & 571327 & 3378 & 0.915317 & $\\dots$ \\\\\n",
       "\t15 & 8031 & Denver & Denver & CO & 2 & 727211 & 4520 & 0.925667 & $\\dots$ \\\\\n",
       "\\end{tabular}\n"
      ],
      "text/plain": [
       "15×10 DataFrame. Omitted printing of 4 columns\n",
       "│ Row │ fips  │ county        │ city          │ state  │ sizecat │ pop     │\n",
       "│     │ \u001b[90mInt64\u001b[39m │ \u001b[90mString\u001b[39m        │ \u001b[90mString\u001b[39m        │ \u001b[90mString\u001b[39m │ \u001b[90mInt64\u001b[39m   │ \u001b[90mInt64\u001b[39m   │\n",
       "├─────┼───────┼───────────────┼───────────────┼────────┼─────────┼─────────┤\n",
       "│ 1   │ 6075  │ San Francisco │ San Francisco │ CA     │ 2       │ 881549  │\n",
       "│ 2   │ 53033 │ Seattle       │ Seattle       │ WA     │ 2       │ 2252782 │\n",
       "│ 3   │ 36061 │ New York      │ New York      │ NY     │ 1       │ 8336817 │\n",
       "│ 4   │ 39035 │ Cuyahoga      │ Cleveland     │ OH     │ 2       │ 1235072 │\n",
       "│ 5   │ 48113 │ Dallas        │ Dallas        │ TX     │ 2       │ 2635516 │\n",
       "│ 6   │ 39151 │ Stark         │ Canton        │ OH     │ 3       │ 370606  │\n",
       "│ 7   │ 34013 │ Essex         │ Newark        │ NJ     │ 3       │ 798975  │\n",
       "│ 8   │ 13089 │ DeKalb        │ Atlanta       │ GA     │ 2       │ 1063937 │\n",
       "│ 9   │ 17167 │ Sangamon      │ Springfield   │ IL     │ 3       │ 194672  │\n",
       "│ 10  │ 38015 │ Burleigh      │ Bismarck      │ ND     │ 3       │ 95626   │\n",
       "│ 11  │ 4013  │ Maricopa      │ Phoenix       │ AZ     │ 1       │ 4485414 │\n",
       "│ 12  │ 42003 │ Allegheny     │ Pittsburgh    │ PA     │ 2       │ 1216045 │\n",
       "│ 13  │ 27053 │ Hennepin      │ Minneapolis   │ MN     │ 2       │ 1265843 │\n",
       "│ 14  │ 31055 │ Douglas       │ Omaha         │ NE     │ 2       │ 571327  │\n",
       "│ 15  │ 8031  │ Denver        │ Denver        │ CO     │ 2       │ 727211  │"
      ]
     },
     "execution_count": 28,
     "metadata": {},
     "output_type": "execute_result"
    }
   ],
   "source": [
    "geodf = alldict[\"geo\"]   # the date for all locales has been read into a dataframe"
   ]
  },
  {
   "cell_type": "code",
   "execution_count": 30,
   "metadata": {},
   "outputs": [
    {
     "data": {
      "text/plain": [
       "0.9042506085245222"
      ]
     },
     "execution_count": 30,
     "metadata": {},
     "output_type": "execute_result"
    }
   ],
   "source": [
    "density_factor = geodf[geodf[:fips] .== 38015, :density_factor][]"
   ]
  },
  {
   "cell_type": "code",
   "execution_count": 17,
   "metadata": {},
   "outputs": [
    {
     "data": {
      "text/plain": [
       "Dict{Symbol,Array{Float64,N} where N} with 4 entries:\n",
       "  :touch_factors   => [0.55 0.62 … 0.4 0.35; 0.55 0.62 … 0.4 0.35; … ; 0.28 0.3…\n",
       "  :send_risk       => [0.0, 0.3, 0.65, 0.75, 0.85, 0.85, 0.75, 0.7, 0.65, 0.6  …\n",
       "  :contact_factors => [1.1 2.0 … 1.6 1.0; 1.1 1.9 … 1.5 0.9; 0.7 1.0 … 0.7 0.6;…\n",
       "  :recv_risk       => [0.1, 0.39, 0.44, 0.54, 0.56]"
      ]
     },
     "execution_count": 17,
     "metadata": {},
     "output_type": "execute_result"
    }
   ],
   "source": [
    "alldict[\"sp\"]  # the spread parameters are loaded as a dict of float arrays"
   ]
  },
  {
   "cell_type": "code",
   "execution_count": 18,
   "metadata": {},
   "outputs": [
    {
     "data": {
      "text/plain": [
       "Dict{Any,Any} with 5 entries:\n",
       "  4 => Dict{Any,Any}([9, 5]=>Dict{String,Array{T,1} where T}(\"probs\"=>[0.62, 0.…\n",
       "  2 => Dict{Any,Any}([9, 5]=>Dict{String,Array{T,1} where T}(\"probs\"=>[0.85, 0.…\n",
       "  3 => Dict{Any,Any}([9, 5]=>Dict{String,Array{T,1} where T}(\"probs\"=>[0.9, 0.1…\n",
       "  5 => Dict{Any,Any}([9, 5]=>Dict{String,Array{T,1} where T}(\"probs\"=>[0.5, 0.5…\n",
       "  1 => Dict{Any,Any}([9, 5]=>Dict{String,Array{T,1} where T}(\"probs\"=>[0.9, 0.1…"
      ]
     },
     "execution_count": 18,
     "metadata": {},
     "output_type": "execute_result"
    }
   ],
   "source": [
    "alldict[\"dt\"] # the decision trees for all age groups are loaded"
   ]
  },
  {
   "cell_type": "code",
   "execution_count": 19,
   "metadata": {},
   "outputs": [
    {
     "data": {
      "text/plain": [
       "Dict{Int64,Array{Int64,1}} with 5 entries:\n",
       "  4 => [9, 25, 14, 5, 19]\n",
       "  2 => [9, 25, 14, 5, 19]\n",
       "  3 => [9, 25, 14, 5, 19]\n",
       "  5 => [9, 25, 14, 5, 19]\n",
       "  1 => [9, 25, 14, 5, 19]"
      ]
     },
     "execution_count": 19,
     "metadata": {},
     "output_type": "execute_result"
    }
   ],
   "source": [
    "alldict[\"decpoints\"]  # the decpoints for all agegrps are loaded as array of day values"
   ]
  },
  {
   "cell_type": "markdown",
   "metadata": {},
   "source": [
    "# Create a seed case"
   ]
  },
  {
   "cell_type": "code",
   "execution_count": 20,
   "metadata": {},
   "outputs": [
    {
     "data": {
      "text/plain": [
       "(::CovidSim_ilm.var\"#scase#100\"{Int64,Array{Int64,1},Int64,Int64,UnitRange{Int64}}) (generic function with 1 method)"
      ]
     },
     "execution_count": 20,
     "metadata": {},
     "output_type": "execute_result"
    }
   ],
   "source": [
    "seed_1_6 = seed_case_gen(1, [0,3,3,0,0], 1, nil, agegrps)"
   ]
  },
  {
   "cell_type": "markdown",
   "metadata": {},
   "source": [
    "# Run a sim without any summary tracking"
   ]
  },
  {
   "cell_type": "code",
   "execution_count": 33,
   "metadata": {},
   "outputs": [
    {
     "name": "stdout",
     "output_type": "stream",
     "text": [
      "*** seed day 1 locale 38015....\n",
      "(sptime, trtime) = (0.7399187100000002, 3.0850038089999985)\n"
     ]
    }
   ],
   "source": [
    "alldict = run_a_sim(180, 38015, showr0=false, silent=true, spreadcases=[], runcases=[seed_1_6]);"
   ]
  },
  {
   "cell_type": "code",
   "execution_count": null,
   "metadata": {},
   "outputs": [],
   "source": []
  }
 ],
 "metadata": {
  "kernelspec": {
   "display_name": "Julia 1.5.1",
   "language": "julia",
   "name": "julia-1.5"
  },
  "language_info": {
   "file_extension": ".jl",
   "mimetype": "application/julia",
   "name": "julia",
   "version": "1.5.1"
  }
 },
 "nbformat": 4,
 "nbformat_minor": 4
}
