{
 "cells": [
  {
   "cell_type": "code",
   "execution_count": 1,
   "metadata": {},
   "outputs": [],
   "source": [
    "using CovidSim_ilm"
   ]
  },
  {
   "cell_type": "code",
   "execution_count": 2,
   "metadata": {},
   "outputs": [],
   "source": [
    "using StatsBase\n",
    "using TypedTables"
   ]
  },
  {
   "cell_type": "code",
   "execution_count": 3,
   "metadata": {},
   "outputs": [],
   "source": [
    "cd(\"/Users/lewislevin/Dropbox/Online Coursework/Covid/ilm-src\")"
   ]
  },
  {
   "cell_type": "markdown",
   "metadata": {},
   "source": [
    "# Test setup and population matrix"
   ]
  },
  {
   "cell_type": "code",
   "execution_count": 4,
   "metadata": {},
   "outputs": [
    {
     "data": {
      "text/plain": [
       "Dict{String, Any} with 4 entries:\n",
       "  \"geo\"     => \u001b[1m15×10 DataFrame\u001b[0m…\n",
       "  \"sp\"      => Dict{Symbol, Any}(:touch_factors=>[0.55 0.63 … 0.41 0.35; 0.55 0…\n",
       "  \"dat\"     => Dict{String, Dict{Int64, V} where V}(\"agegrp_idx\"=>Dict(38015=>D…\n",
       "  \"dt_dict\" => Dict{String, Dict{Int64, V} where V}(\"lags\"=>Dict(5=>[5, 9, 14, …"
      ]
     },
     "execution_count": 4,
     "metadata": {},
     "output_type": "execute_result"
    }
   ],
   "source": [
    "alldict = setup(150, [38015])"
   ]
  },
  {
   "cell_type": "code",
   "execution_count": 5,
   "metadata": {},
   "outputs": [
    {
     "data": {
      "text/plain": [
       "Dict{String, Dict{Int64, V} where V} with 4 entries:\n",
       "  \"agegrp_idx\" => Dict(38015=>Dict(5=>[91898, 91899, 91900, 91901, 91902, 91903…\n",
       "  \"newhistmx\"  => Dict{Int64, Array{Int64, N} where N}(38015=>[0 0 … 0 0; 0 0 ……\n",
       "  \"popdat\"     => Dict{Int64, Table{NamedTuple{(:status, :agegrp, :cond, :lag, …\n",
       "  \"cumhistmx\"  => Dict{Int64, Array{Int64, N} where N}(38015=>[0 0 … 0 0; 0 0 ……"
      ]
     },
     "execution_count": 5,
     "metadata": {},
     "output_type": "execute_result"
    }
   ],
   "source": [
    "alldict[\"dat\"]"
   ]
  },
  {
   "cell_type": "code",
   "execution_count": 6,
   "metadata": {},
   "outputs": [
    {
     "data": {
      "text/plain": [
       "Table with 13 columns and 95626 rows:\n",
       "      status  agegrp  cond  lag  recov_day  dead_day  cluster  vax    vax_day  ⋯\n",
       "    ┌───────────────────────────────────────────────────────────────────────────\n",
       " 1  │ 1       1       0     0    0          0         0        false  0        ⋯\n",
       " 2  │ 1       1       0     0    0          0         0        false  0        ⋯\n",
       " 3  │ 1       1       0     0    0          0         0        false  0        ⋯\n",
       " 4  │ 1       1       0     0    0          0         0        false  0        ⋯\n",
       " 5  │ 1       1       0     0    0          0         0        false  0        ⋯\n",
       " 6  │ 1       1       0     0    0          0         0        false  0        ⋯\n",
       " 7  │ 1       1       0     0    0          0         0        false  0        ⋯\n",
       " 8  │ 1       1       0     0    0          0         0        false  0        ⋯\n",
       " 9  │ 1       1       0     0    0          0         0        false  0        ⋯\n",
       " 10 │ 1       1       0     0    0          0         0        false  0        ⋯\n",
       " 11 │ 1       1       0     0    0          0         0        false  0        ⋯\n",
       " 12 │ 1       1       0     0    0          0         0        false  0        ⋯\n",
       " 13 │ 1       1       0     0    0          0         0        false  0        ⋯\n",
       " 14 │ 1       1       0     0    0          0         0        false  0        ⋯\n",
       " 15 │ 1       1       0     0    0          0         0        false  0        ⋯\n",
       " 16 │ 1       1       0     0    0          0         0        false  0        ⋯\n",
       " 17 │ 1       1       0     0    0          0         0        false  0        ⋯\n",
       " 18 │ 1       1       0     0    0          0         0        false  0        ⋯\n",
       " 19 │ 1       1       0     0    0          0         0        false  0        ⋯\n",
       " 20 │ 1       1       0     0    0          0         0        false  0        ⋯\n",
       " 21 │ 1       1       0     0    0          0         0        false  0        ⋯\n",
       " 22 │ 1       1       0     0    0          0         0        false  0        ⋯\n",
       " 23 │ 1       1       0     0    0          0         0        false  0        ⋯\n",
       " ⋮  │   ⋮       ⋮      ⋮     ⋮       ⋮         ⋮         ⋮       ⋮       ⋮     ⋱"
      ]
     },
     "execution_count": 6,
     "metadata": {},
     "output_type": "execute_result"
    }
   ],
   "source": [
    "ilmat = alldict[\"dat\"][\"popdat\"][38015]"
   ]
  },
  {
   "cell_type": "code",
   "execution_count": 7,
   "metadata": {},
   "outputs": [
    {
     "data": {
      "text/plain": [
       "(:status, :agegrp, :cond, :lag, :recov_day, :dead_day, :cluster, :vax, :vax_day, :test, :test_day, :quar, :quar_day)"
      ]
     },
     "execution_count": 7,
     "metadata": {},
     "output_type": "execute_result"
    }
   ],
   "source": [
    "columnnames(ilmat)"
   ]
  },
  {
   "cell_type": "code",
   "execution_count": 8,
   "metadata": {},
   "outputs": [
    {
     "data": {
      "text/plain": [
       "Dict{Int64, Int64} with 5 entries:\n",
       "  5 => 3729\n",
       "  4 => 17595\n",
       "  2 => 25915\n",
       "  3 => 24385\n",
       "  1 => 24002"
      ]
     },
     "execution_count": 8,
     "metadata": {},
     "output_type": "execute_result"
    }
   ],
   "source": [
    "countmap(ilmat.agegrp)"
   ]
  },
  {
   "cell_type": "code",
   "execution_count": 9,
   "metadata": {},
   "outputs": [
    {
     "data": {
      "text/plain": [
       "95626"
      ]
     },
     "execution_count": 9,
     "metadata": {},
     "output_type": "execute_result"
    }
   ],
   "source": [
    "sum(ilmat.status)  # everyone begins as unexposed"
   ]
  },
  {
   "cell_type": "code",
   "execution_count": 10,
   "metadata": {},
   "outputs": [
    {
     "data": {
      "text/html": [
       "<table class=\"data-frame\"><thead><tr><th></th><th>fips</th><th>county</th><th>city</th><th>state</th><th>sizecat</th><th>pop</th><th>density</th><th>density_factor</th></tr><tr><th></th><th>Int64</th><th>String</th><th>String</th><th>String</th><th>Int64</th><th>Int64</th><th>Int64</th><th>Float64</th></tr></thead><tbody><p>15 rows × 10 columns (omitted printing of 2 columns)</p><tr><th>1</th><td>6075</td><td>San Francisco</td><td>San Francisco</td><td>CA</td><td>2</td><td>881549</td><td>17255</td><td>1.04109</td></tr><tr><th>2</th><td>53033</td><td>Seattle</td><td>Seattle</td><td>WA</td><td>2</td><td>2252782</td><td>5175</td><td>0.931603</td></tr><tr><th>3</th><td>36061</td><td>New York</td><td>New York</td><td>NY</td><td>1</td><td>8336817</td><td>40306</td><td>1.25</td></tr><tr><th>4</th><td>39035</td><td>Cuyahoga</td><td>Cleveland</td><td>OH</td><td>2</td><td>1235072</td><td>3063</td><td>0.912462</td></tr><tr><th>5</th><td>48113</td><td>Dallas</td><td>Dallas</td><td>TX</td><td>2</td><td>2635516</td><td>4000</td><td>0.920954</td></tr><tr><th>6</th><td>39151</td><td>Stark</td><td>Canton</td><td>OH</td><td>3</td><td>370606</td><td>1688</td><td>0.9</td></tr><tr><th>7</th><td>34013</td><td>Essex</td><td>Newark</td><td>NJ</td><td>3</td><td>798975</td><td>6396</td><td>0.942669</td></tr><tr><th>8</th><td>13089</td><td>DeKalb</td><td>Atlanta</td><td>GA</td><td>2</td><td>1063937</td><td>2708</td><td>0.909244</td></tr><tr><th>9</th><td>17167</td><td>Sangamon</td><td>Springfield</td><td>IL</td><td>3</td><td>194672</td><td>1747</td><td>0.900535</td></tr><tr><th>10</th><td>38015</td><td>Burleigh</td><td>Bismarck</td><td>ND</td><td>3</td><td>95626</td><td>2157</td><td>0.904251</td></tr><tr><th>11</th><td>4013</td><td>Maricopa</td><td>Phoenix</td><td>AZ</td><td>1</td><td>4485414</td><td>2798</td><td>0.91006</td></tr><tr><th>12</th><td>42003</td><td>Allegheny</td><td>Pittsburgh</td><td>PA</td><td>2</td><td>1216045</td><td>5461</td><td>0.934195</td></tr><tr><th>13</th><td>27053</td><td>Hennepin</td><td>Minneapolis</td><td>MN</td><td>2</td><td>1265843</td><td>7821</td><td>0.955584</td></tr><tr><th>14</th><td>31055</td><td>Douglas</td><td>Omaha</td><td>NE</td><td>2</td><td>571327</td><td>3378</td><td>0.915317</td></tr><tr><th>15</th><td>8031</td><td>Denver</td><td>Denver</td><td>CO</td><td>2</td><td>727211</td><td>4520</td><td>0.925667</td></tr></tbody></table>"
      ],
      "text/latex": [
       "\\begin{tabular}{r|ccccccccc}\n",
       "\t& fips & county & city & state & sizecat & pop & density & density\\_factor & \\\\\n",
       "\t\\hline\n",
       "\t& Int64 & String & String & String & Int64 & Int64 & Int64 & Float64 & \\\\\n",
       "\t\\hline\n",
       "\t1 & 6075 & San Francisco & San Francisco & CA & 2 & 881549 & 17255 & 1.04109 & $\\dots$ \\\\\n",
       "\t2 & 53033 & Seattle & Seattle & WA & 2 & 2252782 & 5175 & 0.931603 & $\\dots$ \\\\\n",
       "\t3 & 36061 & New York & New York & NY & 1 & 8336817 & 40306 & 1.25 & $\\dots$ \\\\\n",
       "\t4 & 39035 & Cuyahoga & Cleveland & OH & 2 & 1235072 & 3063 & 0.912462 & $\\dots$ \\\\\n",
       "\t5 & 48113 & Dallas & Dallas & TX & 2 & 2635516 & 4000 & 0.920954 & $\\dots$ \\\\\n",
       "\t6 & 39151 & Stark & Canton & OH & 3 & 370606 & 1688 & 0.9 & $\\dots$ \\\\\n",
       "\t7 & 34013 & Essex & Newark & NJ & 3 & 798975 & 6396 & 0.942669 & $\\dots$ \\\\\n",
       "\t8 & 13089 & DeKalb & Atlanta & GA & 2 & 1063937 & 2708 & 0.909244 & $\\dots$ \\\\\n",
       "\t9 & 17167 & Sangamon & Springfield & IL & 3 & 194672 & 1747 & 0.900535 & $\\dots$ \\\\\n",
       "\t10 & 38015 & Burleigh & Bismarck & ND & 3 & 95626 & 2157 & 0.904251 & $\\dots$ \\\\\n",
       "\t11 & 4013 & Maricopa & Phoenix & AZ & 1 & 4485414 & 2798 & 0.91006 & $\\dots$ \\\\\n",
       "\t12 & 42003 & Allegheny & Pittsburgh & PA & 2 & 1216045 & 5461 & 0.934195 & $\\dots$ \\\\\n",
       "\t13 & 27053 & Hennepin & Minneapolis & MN & 2 & 1265843 & 7821 & 0.955584 & $\\dots$ \\\\\n",
       "\t14 & 31055 & Douglas & Omaha & NE & 2 & 571327 & 3378 & 0.915317 & $\\dots$ \\\\\n",
       "\t15 & 8031 & Denver & Denver & CO & 2 & 727211 & 4520 & 0.925667 & $\\dots$ \\\\\n",
       "\\end{tabular}\n"
      ],
      "text/plain": [
       "\u001b[1m15×10 DataFrame\u001b[0m\n",
       "\u001b[1m Row \u001b[0m│\u001b[1m fips  \u001b[0m\u001b[1m county        \u001b[0m\u001b[1m city          \u001b[0m\u001b[1m state  \u001b[0m\u001b[1m sizecat \u001b[0m\u001b[1m pop     \u001b[0m\u001b[1m density \u001b[0m\u001b[1m\u001b[0m ⋯\n",
       "\u001b[1m     \u001b[0m│\u001b[90m Int64 \u001b[0m\u001b[90m String        \u001b[0m\u001b[90m String        \u001b[0m\u001b[90m String \u001b[0m\u001b[90m Int64   \u001b[0m\u001b[90m Int64   \u001b[0m\u001b[90m Int64   \u001b[0m\u001b[90m\u001b[0m ⋯\n",
       "─────┼──────────────────────────────────────────────────────────────────────────\n",
       "   1 │  6075  San Francisco  San Francisco  CA            2   881549    17255  ⋯\n",
       "   2 │ 53033  Seattle        Seattle        WA            2  2252782     5175\n",
       "   3 │ 36061  New York       New York       NY            1  8336817    40306\n",
       "   4 │ 39035  Cuyahoga       Cleveland      OH            2  1235072     3063\n",
       "   5 │ 48113  Dallas         Dallas         TX            2  2635516     4000  ⋯\n",
       "   6 │ 39151  Stark          Canton         OH            3   370606     1688\n",
       "   7 │ 34013  Essex          Newark         NJ            3   798975     6396\n",
       "   8 │ 13089  DeKalb         Atlanta        GA            2  1063937     2708\n",
       "   9 │ 17167  Sangamon       Springfield    IL            3   194672     1747  ⋯\n",
       "  10 │ 38015  Burleigh       Bismarck       ND            3    95626     2157\n",
       "  11 │  4013  Maricopa       Phoenix        AZ            1  4485414     2798\n",
       "  12 │ 42003  Allegheny      Pittsburgh     PA            2  1216045     5461\n",
       "  13 │ 27053  Hennepin       Minneapolis    MN            2  1265843     7821  ⋯\n",
       "  14 │ 31055  Douglas        Omaha          NE            2   571327     3378\n",
       "  15 │  8031  Denver         Denver         CO            2   727211     4520\n",
       "\u001b[36m                                                               3 columns omitted\u001b[0m"
      ]
     },
     "execution_count": 10,
     "metadata": {},
     "output_type": "execute_result"
    }
   ],
   "source": [
    "geodf = alldict[\"geo\"]   # the date for all locales has been read into a dataframe"
   ]
  },
  {
   "cell_type": "code",
   "execution_count": 11,
   "metadata": {},
   "outputs": [
    {
     "data": {
      "text/plain": [
       "0.9042506085245222"
      ]
     },
     "execution_count": 11,
     "metadata": {},
     "output_type": "execute_result"
    }
   ],
   "source": [
    "density_factor = geodf[geodf[!, :fips] .== 38015, :density_factor][]"
   ]
  },
  {
   "cell_type": "code",
   "execution_count": 12,
   "metadata": {},
   "outputs": [
    {
     "data": {
      "text/plain": [
       "Dict{Symbol, Any} with 5 entries:\n",
       "  :touch_factors   => [0.55 0.63 … 0.41 0.35; 0.55 0.63 … 0.41 0.35; … ; 0.28 0…\n",
       "  :send_risk       => [0.0, 0.3, 0.65, 0.75, 0.85, 0.85, 0.75, 0.7, 0.65, 0.6  …\n",
       "  :contact_factors => [1.1 2.1 … 1.7 1.0; 1.1 2.0 … 1.6 0.9; 0.7 1.0 … 0.7 0.6;…\n",
       "  :recv_risk       => [0.1, 0.39, 0.44, 0.54, 0.56]\n",
       "  :shape           => 1.0"
      ]
     },
     "execution_count": 12,
     "metadata": {},
     "output_type": "execute_result"
    }
   ],
   "source": [
    "alldict[\"sp\"]  # the spread parameters are loaded as a dict of float arrays"
   ]
  },
  {
   "cell_type": "code",
   "execution_count": 13,
   "metadata": {},
   "outputs": [
    {
     "data": {
      "text/plain": [
       "Dict{Int64, OrderedCollections.OrderedDict{Any, Any}} with 5 entries:\n",
       "  5 => OrderedCollections.OrderedDict((25, 8)=>Dict{String, Vector{T} where T}(…\n",
       "  4 => OrderedCollections.OrderedDict((25, 8)=>Dict{String, Vector{T} where T}(…\n",
       "  2 => OrderedCollections.OrderedDict((25, 8)=>Dict{String, Vector{T} where T}(…\n",
       "  3 => OrderedCollections.OrderedDict((25, 8)=>Dict{String, Vector{T} where T}(…\n",
       "  1 => OrderedCollections.OrderedDict((25, 8)=>Dict{String, Vector{T} where T}(…"
      ]
     },
     "execution_count": 13,
     "metadata": {},
     "output_type": "execute_result"
    }
   ],
   "source": [
    "alldict[\"dt_dict\"][\"dt\"] # the decision trees for all age groups are loaded"
   ]
  },
  {
   "cell_type": "code",
   "execution_count": 14,
   "metadata": {},
   "outputs": [
    {
     "data": {
      "text/plain": [
       "Dict{Int64, Vector{Int64}} with 5 entries:\n",
       "  5 => [5, 9, 14, 25, 19]\n",
       "  4 => [5, 9, 14, 25, 19]\n",
       "  2 => [5, 9, 14, 25, 19]\n",
       "  3 => [5, 9, 14, 25, 19]\n",
       "  1 => [5, 9, 14, 25, 19]"
      ]
     },
     "execution_count": 14,
     "metadata": {},
     "output_type": "execute_result"
    }
   ],
   "source": [
    "alldict[\"dt_dict\"][\"decpoints\"]  # the decpoints for all agegrps are loaded as array of day values"
   ]
  },
  {
   "cell_type": "markdown",
   "metadata": {},
   "source": [
    "# Create a seed case"
   ]
  },
  {
   "cell_type": "code",
   "execution_count": 15,
   "metadata": {},
   "outputs": [
    {
     "data": {
      "text/plain": [
       "(::CovidSim_ilm.var\"#scase#59\"{Int64, Vector{Int64}, Int64, Int64, Vector{Int64}}) (generic function with 1 method)"
      ]
     },
     "execution_count": 15,
     "metadata": {},
     "output_type": "execute_result"
    }
   ],
   "source": [
    "seed_1_6 = seed_case_gen(1, [0,3,3,0,0], 1, nil, agegrps)"
   ]
  },
  {
   "cell_type": "markdown",
   "metadata": {},
   "source": [
    "# Run a simulation"
   ]
  },
  {
   "cell_type": "code",
   "execution_count": 16,
   "metadata": {},
   "outputs": [
    {
     "name": "stdout",
     "output_type": "stream",
     "text": [
      "*** seed day 1 locale 38015....\n",
      "(sprtime, trtime, histtime) = (1.4058978580000001, 0.7320670309999995, 0.5758038779999999)\n"
     ]
    }
   ],
   "source": [
    "result_dict, env, series = run_a_sim(180, 38015, showr0=false, silent=true, spreadcases=[], runcases=[seed_1_6]);"
   ]
  },
  {
   "cell_type": "code",
   "execution_count": 17,
   "metadata": {},
   "outputs": [
    {
     "data": {
      "text/plain": [
       "Dict{String, Any} with 4 entries:\n",
       "  \"geo\"     => \u001b[1m15×10 DataFrame\u001b[0m…\n",
       "  \"sp\"      => Dict{Symbol, Any}(:touch_factors=>[0.55 0.63 … 0.41 0.35; 0.55 0…\n",
       "  \"dat\"     => Dict{String, Dict{Int64, V} where V}(\"agegrp_idx\"=>Dict(38015=>D…\n",
       "  \"dt_dict\" => Dict{String, Dict{Int64, V} where V}(\"lags\"=>Dict(5=>[5, 9, 14, …"
      ]
     },
     "execution_count": 17,
     "metadata": {},
     "output_type": "execute_result"
    }
   ],
   "source": [
    "result_dict"
   ]
  },
  {
   "cell_type": "code",
   "execution_count": 18,
   "metadata": {},
   "outputs": [
    {
     "data": {
      "text/plain": [
       "Dict{String, Float64} with 4 entries:\n",
       "  \"unexposed\"  => 0.421499\n",
       "  \"infectious\" => 0.0\n",
       "  \"dead\"       => 0.011328\n",
       "  \"recovered\"  => 0.988761"
      ]
     },
     "execution_count": 18,
     "metadata": {},
     "output_type": "execute_result"
    }
   ],
   "source": [
    "virus_outcome(series, 38015)"
   ]
  },
  {
   "cell_type": "markdown",
   "metadata": {},
   "source": [
    "# Plotted results"
   ]
  },
  {
   "cell_type": "code",
   "execution_count": 19,
   "metadata": {},
   "outputs": [
    {
     "data": {
      "image/png": "[encoded data removed]"
     },
     "execution_count": 19,
     "metadata": {},
     "output_type": "execute_result"
    }
   ],
   "source": [
    "cumplot(series, 38015)"
   ]
  },
  {
   "cell_type": "markdown",
   "metadata": {},
   "source": [
    "Note that the orangle line labeled Infectious that shows the number of infected people is *not* what you see in newspaper accounts. In this plot Infectious shows the net infected people: Some people got sick today. Some people get better: they're not infectious any more--they recovered and are on the blue line. Sadly, some people died--they're not infectious either--they're dead and are on the green line. Newspaper tracking shows the new active infections of each day--who got sick today? The next day, if no one new got sick the line would be at zero--even though the people who got sick aren't better yet. So, the newspaper line goes up and down faster. Yet another approach is to show the cumulative number of infected people: This keeps going up until no one new gets infected--then the line is high but levels off. This is the least common way to show the data."
   ]
  }
 ],
 "metadata": {
  "jupytext": {
   "formats": "ipynb,jl:percent"
  },
  "kernelspec": {
   "display_name": "Julia 1.6.0",
   "language": "julia",
   "name": "julia-1.6"
  },
  "language_info": {
   "file_extension": ".jl",
   "mimetype": "application/julia",
   "name": "julia",
   "version": "1.6.0"
  }
 },
 "nbformat": 4,
 "nbformat_minor": 4
}
