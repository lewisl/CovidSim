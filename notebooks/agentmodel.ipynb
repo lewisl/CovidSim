{
 "cells": [
  {
   "cell_type": "code",
   "execution_count": 196,
   "metadata": {},
   "outputs": [
    {
     "name": "stdout",
     "output_type": "stream",
     "text": [
      "1200040\n"
     ]
    }
   ],
   "source": [
    "n1 = 100_000\n",
    "#poparr = Array{Union{Int8, Int16},2}(undef, n1, 6)\n",
    "\n",
    "poparr = zeros(Int16,n1,6)\n",
    "println(Base.summarysize(poparr))"
   ]
  },
  {
   "cell_type": "code",
   "execution_count": 183,
   "metadata": {},
   "outputs": [
    {
     "data": {
      "text/plain": [
       "5-element Array{Float64,1}:\n",
       " 0.251\n",
       " 0.271\n",
       " 0.255\n",
       " 0.184\n",
       " 0.039"
      ]
     },
     "execution_count": 183,
     "metadata": {},
     "output_type": "execute_result"
    }
   ],
   "source": [
    "age_dist = [0.251, 0.271,   0.255,   0.184,   0.039]"
   ]
  },
  {
   "cell_type": "code",
   "execution_count": 184,
   "metadata": {},
   "outputs": [],
   "source": [
    "using Distributions\n",
    "using IndexedTables\n",
    "using CategoricalArrays"
   ]
  },
  {
   "cell_type": "code",
   "execution_count": 185,
   "metadata": {},
   "outputs": [
    {
     "data": {
      "text/plain": [
       "DiscreteNonParametric{Int64,Float64,Base.OneTo{Int64},Array{Float64,1}}(\n",
       "support: Base.OneTo(5)\n",
       "p: [0.251, 0.271, 0.255, 0.184, 0.039]\n",
       ")\n"
      ]
     },
     "execution_count": 185,
     "metadata": {},
     "output_type": "execute_result"
    }
   ],
   "source": [
    "dcat = Categorical(age_dist)"
   ]
  },
  {
   "cell_type": "code",
   "execution_count": 214,
   "metadata": {},
   "outputs": [
    {
     "name": "stdout",
     "output_type": "stream",
     "text": [
      "  0.011201 seconds (7 allocations: 304 bytes)\n"
     ]
    }
   ],
   "source": [
    "poparr[:,1] = rand(dcat,n1);\n",
    "poparr[:,3] = ones(n1);\n",
    "@time sort!(poparr,dims=1);"
   ]
  },
  {
   "cell_type": "code",
   "execution_count": 202,
   "metadata": {},
   "outputs": [
    {
     "name": "stdout",
     "output_type": "stream",
     "text": [
      "  0.095655 seconds (76.17 k allocations: 4.905 MiB)\n"
     ]
    },
    {
     "data": {
      "text/plain": [
       "1-element Array{Array{Float64,1},1}:\n",
       " [0.25385, 0.2719, 0.25232, 0.18417, 0.03776]"
      ]
     },
     "execution_count": 202,
     "metadata": {},
     "output_type": "execute_result"
    }
   ],
   "source": [
    "@time [count.(poparr[:,1] .== i for i in 1:5)] ./ n1"
   ]
  },
  {
   "cell_type": "code",
   "execution_count": 191,
   "metadata": {},
   "outputs": [
    {
     "name": "stdout",
     "output_type": "stream",
     "text": [
      "Array{Int16,2}\n"
     ]
    },
    {
     "data": {
      "text/plain": [
       "1200040"
      ]
     },
     "execution_count": 191,
     "metadata": {},
     "output_type": "execute_result"
    }
   ],
   "source": [
    "println(typeof(poparr))\n",
    "Base.summarysize(poparr)"
   ]
  },
  {
   "cell_type": "code",
   "execution_count": 215,
   "metadata": {},
   "outputs": [],
   "source": [
    "n = 500_000\n",
    "poptable = table(zeros(Int8,n),zeros(Int8,n),zeros(Int8,n),zeros(Int16,n),zeros(Int16,n),zeros(Int8,n),\n",
    "    names=[:agegrp,:sick,:status,:tested,:isolated,:lag], pkey=[:agegrp,:sick,:status,:tested,:isolated,:lag]);"
   ]
  },
  {
   "cell_type": "code",
   "execution_count": 216,
   "metadata": {},
   "outputs": [
    {
     "data": {
      "text/plain": [
       "4000854"
      ]
     },
     "execution_count": 216,
     "metadata": {},
     "output_type": "execute_result"
    }
   ],
   "source": [
    "Base.summarysize(poptable)"
   ]
  },
  {
   "cell_type": "code",
   "execution_count": 217,
   "metadata": {},
   "outputs": [],
   "source": [
    "select(poptable, 1) .= Int8.(rand(dcat,n));\n",
    "select(poptable, 3) .= ones(Int8, n);"
   ]
  },
  {
   "cell_type": "code",
   "execution_count": 219,
   "metadata": {},
   "outputs": [
    {
     "name": "stdout",
     "output_type": "stream",
     "text": [
      "  0.030394 seconds (500.14 k allocations: 26.711 MiB)\n"
     ]
    },
    {
     "data": {
      "text/plain": [
       "Table with 500000 rows, 6 columns:\n",
       "\u001b[1magegrp  \u001b[22m\u001b[1msick  \u001b[22m\u001b[1mstatus  \u001b[22m\u001b[1mtested  \u001b[22m\u001b[1misolated  \u001b[22m\u001b[1mlag\u001b[22m\n",
       "───────────────────────────────────────────\n",
       "1       0     1       0       0         0\n",
       "1       0     1       0       0         0\n",
       "1       0     1       0       0         0\n",
       "1       0     1       0       0         0\n",
       "1       0     1       0       0         0\n",
       "1       0     1       0       0         0\n",
       "1       0     1       0       0         0\n",
       "1       0     1       0       0         0\n",
       "1       0     1       0       0         0\n",
       "1       0     1       0       0         0\n",
       "1       0     1       0       0         0\n",
       "1       0     1       0       0         0\n",
       "⋮\n",
       "5       0     1       0       0         0\n",
       "5       0     1       0       0         0\n",
       "5       0     1       0       0         0\n",
       "5       0     1       0       0         0\n",
       "5       0     1       0       0         0\n",
       "5       0     1       0       0         0\n",
       "5       0     1       0       0         0\n",
       "5       0     1       0       0         0\n",
       "5       0     1       0       0         0\n",
       "5       0     1       0       0         0\n",
       "5       0     1       0       0         0"
      ]
     },
     "execution_count": 219,
     "metadata": {},
     "output_type": "execute_result"
    }
   ],
   "source": [
    "@time poptable = table(sort(poptable, :agegrp), pkey=[:agegrp,:sick,:status,:tested,:isolated,:lag])"
   ]
  },
  {
   "cell_type": "code",
   "execution_count": 220,
   "metadata": {},
   "outputs": [
    {
     "name": "stdout",
     "output_type": "stream",
     "text": [
      "  0.000631 seconds (218 allocations: 8.953 KiB)\n"
     ]
    },
    {
     "data": {
      "text/plain": [
       "5-element Array{Float64,1}:\n",
       " 0.25075\n",
       " 0.270716\n",
       " 0.255372\n",
       " 0.184374\n",
       " 0.038788"
      ]
     },
     "execution_count": 220,
     "metadata": {},
     "output_type": "execute_result"
    }
   ],
   "source": [
    "@time select(groupby(length, poptable, :agegrp), :length) ./ n"
   ]
  },
  {
   "cell_type": "code",
   "execution_count": 180,
   "metadata": {},
   "outputs": [],
   "source": [
    "filter(r->r.agegrp == 5, poptable);"
   ]
  },
  {
   "cell_type": "code",
   "execution_count": null,
   "metadata": {},
   "outputs": [],
   "source": []
  }
 ],
 "metadata": {
  "jupytext": {
   "formats": "ipynb,auto:percent"
  },
  "kernelspec": {
   "display_name": "Julia 1.6.0",
   "language": "julia",
   "name": "julia-1.6"
  },
  "language_info": {
   "file_extension": ".jl",
   "mimetype": "application/julia",
   "name": "julia",
   "version": "1.6.0"
  }
 },
 "nbformat": 4,
 "nbformat_minor": 4
}
