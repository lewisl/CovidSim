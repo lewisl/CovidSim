{
 "cells": [
  {
   "cell_type": "code",
   "execution_count": 41,
   "id": "84ff3340",
   "metadata": {},
   "outputs": [],
   "source": [
    "using BenchmarkTools\n",
    "using Distributions"
   ]
  },
  {
   "cell_type": "code",
   "execution_count": 6,
   "id": "96b8ae3b",
   "metadata": {},
   "outputs": [
    {
     "data": {
      "text/plain": [
       "50-element Vector{Float64}:\n",
       " 0.33959611337026185\n",
       " 0.8884829577297646\n",
       " 0.3836183444461614\n",
       " 0.06263498107906096\n",
       " 0.19516408762220583\n",
       " 0.42298413801378887\n",
       " 0.19721024009085242\n",
       " 0.9454048193662887\n",
       " 0.7373093736451208\n",
       " 0.1919988012490863\n",
       " 0.04970234091614101\n",
       " 0.033076423540270294\n",
       " 0.40366457789193566\n",
       " ⋮\n",
       " 0.05409739392305224\n",
       " 0.8148807897618382\n",
       " 0.6133895219991359\n",
       " 0.036466318660509645\n",
       " 0.2936774113594254\n",
       " 0.581653448718388\n",
       " 0.23583397567618536\n",
       " 0.19172020179762694\n",
       " 0.7870685403113349\n",
       " 0.8491332768701467\n",
       " 0.7734152780652828\n",
       " 0.861183119622035"
      ]
     },
     "execution_count": 6,
     "metadata": {},
     "output_type": "execute_result"
    }
   ],
   "source": [
    "rs = rand(50)"
   ]
  },
  {
   "cell_type": "code",
   "execution_count": 9,
   "id": "a0cea6da",
   "metadata": {},
   "outputs": [
    {
     "data": {
      "text/plain": [
       "0.20553025015208992"
      ]
     },
     "execution_count": 9,
     "metadata": {},
     "output_type": "execute_result"
    }
   ],
   "source": [
    "rand()"
   ]
  },
  {
   "cell_type": "code",
   "execution_count": 8,
   "id": "33c188eb",
   "metadata": {},
   "outputs": [
    {
     "data": {
      "text/plain": [
       "Dict{Symbol, Vector{T} where T} with 2 entries:\n",
       "  :out => [1, 5, 7]\n",
       "  :pr  => [0.1, 0.7, 0.2]"
      ]
     },
     "execution_count": 8,
     "metadata": {},
     "output_type": "execute_result"
    }
   ],
   "source": [
    "catdist = Dict(:out=>[1,5,7], :pr=>[.1, .7, .2])"
   ]
  },
  {
   "cell_type": "code",
   "execution_count": null,
   "id": "8794446f",
   "metadata": {},
   "outputs": [],
   "source": [
    "function catsim(catdist, rands=[])\n",
    "    if isempty(rands)\n",
    "        return rand()\n",
    "            \n",
    "            "
   ]
  },
  {
   "cell_type": "code",
   "execution_count": 10,
   "id": "1cfbe348",
   "metadata": {},
   "outputs": [
    {
     "data": {
      "text/plain": [
       "3-element Vector{Float64}:\n",
       " 0.1\n",
       " 0.7\n",
       " 0.2"
      ]
     },
     "execution_count": 10,
     "metadata": {},
     "output_type": "execute_result"
    }
   ],
   "source": [
    "prs = catdist[:pr]"
   ]
  },
  {
   "cell_type": "code",
   "execution_count": 20,
   "id": "f3229e58",
   "metadata": {},
   "outputs": [
    {
     "name": "stdout",
     "output_type": "stream",
     "text": [
      "  101.929 ns (3 allocations: 240 bytes)\n"
     ]
    },
    {
     "data": {
      "text/plain": [
       "3-element Vector{Float64}:\n",
       " 0.1\n",
       " 0.7999999999999999\n",
       " 0.8999999999999999"
      ]
     },
     "execution_count": 20,
     "metadata": {},
     "output_type": "execute_result"
    }
   ],
   "source": [
    "@btime append!([$prs[1]],[$prs[i] + $prs[i-1] for i = 2:length($prs)])"
   ]
  },
  {
   "cell_type": "code",
   "execution_count": 153,
   "id": "f2c2ba2e",
   "metadata": {},
   "outputs": [
    {
     "data": {
      "text/plain": [
       "categorical_sim (generic function with 8 methods)"
      ]
     },
     "execution_count": 153,
     "metadata": {},
     "output_type": "execute_result"
    }
   ],
   "source": [
    "function categorical_sim(prs::Vector{Float64}, do_assert=true)\n",
    "    do_assert && @assert isapprox(sum(prs), 1.0)\n",
    "    x = rand()\n",
    "    cumpr = 0.0\n",
    "    i = 0\n",
    "    for pr in prs\n",
    "        cumpr += pr\n",
    "        i += 1\n",
    "        if x <= cumpr \n",
    "            break\n",
    "        end\n",
    "    end\n",
    "    i\n",
    "end\n",
    "\n",
    "function categorical_sim(prs::Vector{Float64}, n::Int, do_assert=true)\n",
    "    do_assert && @assert isapprox(sum(prs), 1.0)\n",
    "    ret = Vector{Int}(undef, n)\n",
    "    \n",
    "    @inbounds for i in 1:n\n",
    "        ret[i] = categorical_sim(prs, false)\n",
    "    end\n",
    "    ret\n",
    "end\n",
    "        \n",
    "        \n",
    "    "
   ]
  },
  {
   "cell_type": "code",
   "execution_count": 156,
   "id": "5f802a42",
   "metadata": {},
   "outputs": [
    {
     "name": "stdout",
     "output_type": "stream",
     "text": [
      "  23.790 ns (0 allocations: 0 bytes)\n"
     ]
    }
   ],
   "source": [
    "@btime categorical_sim($catdist[:pr], false);"
   ]
  },
  {
   "cell_type": "code",
   "execution_count": 154,
   "id": "8c97c5f2",
   "metadata": {},
   "outputs": [
    {
     "data": {
      "text/plain": [
       "2"
      ]
     },
     "execution_count": 154,
     "metadata": {},
     "output_type": "execute_result"
    }
   ],
   "source": [
    "categorical_sim(catdist[:pr])"
   ]
  },
  {
   "cell_type": "code",
   "execution_count": 155,
   "id": "97365701",
   "metadata": {},
   "outputs": [
    {
     "name": "stdout",
     "output_type": "stream",
     "text": [
      "  203.290 ns (2 allocations: 144 bytes)\n"
     ]
    }
   ],
   "source": [
    "@btime rand(Categorical(catdist[:pr]));"
   ]
  },
  {
   "cell_type": "code",
   "execution_count": 157,
   "id": "2f3f8998",
   "metadata": {},
   "outputs": [
    {
     "data": {
      "text/plain": [
       "0.11594202898550725"
      ]
     },
     "execution_count": 157,
     "metadata": {},
     "output_type": "execute_result"
    }
   ],
   "source": [
    "24/207"
   ]
  },
  {
   "cell_type": "code",
   "execution_count": 104,
   "id": "2b7963fa",
   "metadata": {},
   "outputs": [
    {
     "data": {
      "text/plain": [
       "Vector{Int64} (alias for Array{Int64, 1})"
      ]
     },
     "execution_count": 104,
     "metadata": {},
     "output_type": "execute_result"
    }
   ],
   "source": [
    "typeof(Int[1,2,3])"
   ]
  },
  {
   "cell_type": "code",
   "execution_count": 108,
   "id": "1caa1747",
   "metadata": {},
   "outputs": [
    {
     "name": "stdout",
     "output_type": "stream",
     "text": [
      "1\n",
      "2\n"
     ]
    }
   ],
   "source": [
    "for l in eachindex([10,20])\n",
    "    println(l)\n",
    "end"
   ]
  },
  {
   "cell_type": "code",
   "execution_count": 148,
   "id": "fea27f7d",
   "metadata": {},
   "outputs": [
    {
     "name": "stdout",
     "output_type": "stream",
     "text": [
      "  43.983 μs (7 allocations: 16.33 KiB)\n"
     ]
    }
   ],
   "source": [
    "@btime rand(Categorical($catdist[:pr]),2000);"
   ]
  },
  {
   "cell_type": "code",
   "execution_count": 149,
   "id": "71d69839",
   "metadata": {},
   "outputs": [
    {
     "name": "stdout",
     "output_type": "stream",
     "text": [
      "  23.889 μs (1 allocation: 15.75 KiB)\n"
     ]
    }
   ],
   "source": [
    "@btime categorical_sim($catdist[:pr],2000);"
   ]
  },
  {
   "cell_type": "code",
   "execution_count": 150,
   "id": "9bd67dba",
   "metadata": {},
   "outputs": [
    {
     "name": "stdout",
     "output_type": "stream",
     "text": [
      "  891.600 ns (1 allocation: 15.75 KiB)\n"
     ]
    }
   ],
   "source": [
    "@btime zeros(Int, 2000);"
   ]
  },
  {
   "cell_type": "code",
   "execution_count": 151,
   "id": "c968b125",
   "metadata": {},
   "outputs": [
    {
     "name": "stdout",
     "output_type": "stream",
     "text": [
      "  174.480 ns (1 allocation: 15.75 KiB)\n"
     ]
    }
   ],
   "source": [
    "@btime Vector{Int}(undef, 2000);"
   ]
  },
  {
   "cell_type": "code",
   "execution_count": null,
   "id": "69da3bc6",
   "metadata": {},
   "outputs": [],
   "source": []
  }
 ],
 "metadata": {
  "jupytext": {
   "formats": "ipynb,auto:percent"
  },
  "kernelspec": {
   "display_name": "Julia 1.6.0",
   "language": "julia",
   "name": "julia-1.6"
  },
  "language_info": {
   "file_extension": ".jl",
   "mimetype": "application/julia",
   "name": "julia",
   "version": "1.6.0"
  }
 },
 "nbformat": 4,
 "nbformat_minor": 5
}
