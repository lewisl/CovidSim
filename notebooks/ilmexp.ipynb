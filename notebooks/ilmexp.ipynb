{
 "cells": [
  {
   "cell_type": "markdown",
   "metadata": {},
   "source": [
    "# Prototype Spread and Transition with ILM Approach"
   ]
  },
  {
   "cell_type": "code",
   "execution_count": 1,
   "metadata": {},
   "outputs": [
    {
     "name": "stderr",
     "output_type": "stream",
     "text": [
      "┌ Info: Precompiling CovidSim [top-level]\n",
      "└ @ Base loading.jl:1278\n"
     ]
    }
   ],
   "source": [
    "using CovidSim"
   ]
  },
  {
   "cell_type": "code",
   "execution_count": 2,
   "metadata": {},
   "outputs": [],
   "source": [
    "using StatsBase\n",
    "using DelimitedFiles\n",
    "using Distributions"
   ]
  },
  {
   "cell_type": "code",
   "execution_count": 3,
   "metadata": {},
   "outputs": [
    {
     "data": {
      "text/plain": [
       "160000×4 Array{Int64,2}:\n",
       " 1  2  0   0\n",
       " 1  3  0   0\n",
       " 1  4  0   0\n",
       " 1  5  0   0\n",
       " 2  1  5   2\n",
       " 2  2  5   9\n",
       " 2  3  6   2\n",
       " 2  4  6   9\n",
       " 2  5  7   2\n",
       " 2  1  7   9\n",
       " 2  2  8   2\n",
       " 2  3  8   9\n",
       " 3  4  6   9\n",
       " ⋮        \n",
       " 2  1  5   2\n",
       " 2  2  5   9\n",
       " 2  3  6   2\n",
       " 2  4  6   9\n",
       " 2  5  7   2\n",
       " 2  1  7   9\n",
       " 2  2  8   2\n",
       " 2  3  8   9\n",
       " 3  4  6   9\n",
       " 3  5  6  15\n",
       " 4  3  8  15\n",
       " 4  4  8  19"
      ]
     },
     "execution_count": 3,
     "metadata": {},
     "output_type": "execute_result"
    }
   ],
   "source": [
    "ilmat = readdlm(\"../data/ilmtestdata.csv\", ',',Int, header=true)[1]\n",
    "ilmat = repeat(ilmat, 10_000)\n",
    "refresh = copy(ilmat)"
   ]
  },
  {
   "cell_type": "markdown",
   "metadata": {},
   "source": [
    "## Spread"
   ]
  },
  {
   "cell_type": "code",
   "execution_count": 4,
   "metadata": {},
   "outputs": [],
   "source": [
    "spfilename=\"../parameters/spread_params.toml\"\n",
    "spread_params = CovidSim.read_spread_params(spfilename)\n",
    "contact_factors = spread_params[:contact_factors]\n",
    "touch_factors = spread_params[:touch_factors]\n",
    "send_risk = spread_params[:send_risk]\n",
    "recv_risk = spread_params[:recv_risk]\n",
    "riskmx = CovidSim.send_risk_by_recv_risk(send_risk, recv_risk) # (lags, agegrp);"
   ]
  },
  {
   "cell_type": "code",
   "execution_count": 5,
   "metadata": {},
   "outputs": [
    {
     "data": {
      "text/plain": [
       "80000"
      ]
     },
     "execution_count": 5,
     "metadata": {},
     "output_type": "execute_result"
    }
   ],
   "source": [
    "spreadidx = ilmat[:,1] .== 2\n",
    "count(spreadidx)"
   ]
  },
  {
   "cell_type": "code",
   "execution_count": 6,
   "metadata": {},
   "outputs": [],
   "source": [
    "# for this test case lets have fewer people who are infected\n",
    "resetidx = sample(findall(spreadidx),72000, replace=false)\n",
    "ilmat[resetidx,1] .= 1\n",
    "# index of all spreaders\n",
    "spreadidx = findall(ilmat[:, cpop_status] .== 2)\n",
    "n_spreaders = size(spreadidx, 1);"
   ]
  },
  {
   "cell_type": "code",
   "execution_count": 7,
   "metadata": {},
   "outputs": [
    {
     "name": "stdout",
     "output_type": "stream",
     "text": [
      "n_spreaders = 8000\n",
      "n_contacts = 8523\n",
      "n_contactable = 140000\n",
      "n_touched = 3911\n",
      "n_newly_infected = 579\n"
     ]
    },
    {
     "data": {
      "text/plain": [
       "579"
      ]
     },
     "execution_count": 7,
     "metadata": {},
     "output_type": "execute_result"
    }
   ],
   "source": [
    "# no of contacts for each spreader\n",
    "@show n_spreaders\n",
    "\n",
    "contacts = zeros(Int, size(spreadidx,1),2) # second column for lag of the spreader\n",
    "for i in 1:size(contacts, 1)  # cond, agegrp\n",
    "    scale = contact_factors[ilmat[spreadidx[i], cpop_cond]-4, ilmat[spreadidx[i], cpop_agegrp]]\n",
    "    contacts[i, 1] = round(Int,rand(Gamma(1.0,scale))) # assume density_factor = 1.0\n",
    "    contacts[i, 2] = ilmat[spreadidx[i], cpop_lag]   # lag of the spreader who made this contact\n",
    "end\n",
    "n_contacts = sum(contacts[:,1])\n",
    "@show n_contacts\n",
    "\n",
    "# assign the contacts \n",
    "contactidx = findall(ilmat[:, cpop_status] .!= dead)\n",
    "n_contactable = size(contactidx, 1)\n",
    "@show n_contactable\n",
    "choose_contacts = sample(contactidx, min(n_contacts, n_contactable), replace=false)\n",
    "\n",
    "# determine contacts are consequential touches and if newly infected\n",
    "n_touched = 0\n",
    "n_newly_infected = 0\n",
    "\n",
    "for i in 1:size(contacts,1)\n",
    "    person = choose_contacts[i]\n",
    "    status = ilmat[person, cpop_status]\n",
    "    characteristic =  status in [1,3] ? [1,0,2][status] : max(0,ilmat[person, cpop_cond]-2)\n",
    "    agegrp = ilmat[person, cpop_agegrp]\n",
    "    touched = rand(Binomial(1, touch_factors[characteristic, agegrp]))\n",
    "    # println(status, \" \", characteristic, \" \", agegrp, \" \", touched)\n",
    "    n_touched += touched\n",
    "    if touched == 1 && characteristic == 1\n",
    "        prob = riskmx[contacts[i, 2], agegrp]\n",
    "        newly_infected = rand(Binomial(1, prob))\n",
    "        # println(prob, \" \", newly_infected)\n",
    "        if newly_infected == 1\n",
    "            ilmat[person, cpop_cond] = nil # nil === asymptomatic or pre-symptomatic\n",
    "            ilmat[person, cpop_status] = infectious\n",
    "        end\n",
    "        n_newly_infected += newly_infected\n",
    "    end\n",
    "end\n",
    "\n",
    "\n",
    "@show n_touched\n",
    "@show n_newly_infected"
   ]
  },
  {
   "cell_type": "code",
   "execution_count": 8,
   "metadata": {},
   "outputs": [
    {
     "data": {
      "text/plain": [
       "8579"
      ]
     },
     "execution_count": 8,
     "metadata": {},
     "output_type": "execute_result"
    }
   ],
   "source": [
    "spreadidx = findall(ilmat[:, cpop_status] .== 2)\n",
    "size(spreadidx,1)"
   ]
  },
  {
   "cell_type": "markdown",
   "metadata": {},
   "source": [
    "## Transition"
   ]
  },
  {
   "cell_type": "code",
   "execution_count": null,
   "metadata": {},
   "outputs": [],
   "source": []
  }
 ],
 "metadata": {
  "kernelspec": {
   "display_name": "Julia 1.5.0",
   "language": "julia",
   "name": "julia-1.5.0-1.5"
  },
  "language_info": {
   "file_extension": ".jl",
   "mimetype": "application/julia",
   "name": "julia",
   "version": "1.5.0"
  }
 },
 "nbformat": 4,
 "nbformat_minor": 4
}
