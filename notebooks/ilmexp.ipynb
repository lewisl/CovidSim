{
 "cells": [
  {
   "cell_type": "markdown",
   "metadata": {},
   "source": [
    "# Prototype Spread and Transition with ILM Approach"
   ]
  },
  {
   "cell_type": "code",
   "execution_count": 8,
   "metadata": {},
   "outputs": [],
   "source": [
    "using CovidSim"
   ]
  },
  {
   "cell_type": "code",
   "execution_count": 9,
   "metadata": {},
   "outputs": [],
   "source": [
    "using StatsBase\n",
    "using DelimitedFiles\n",
    "using Distributions\n",
    "using YAML"
   ]
  },
  {
   "cell_type": "code",
   "execution_count": 10,
   "metadata": {},
   "outputs": [
    {
     "data": {
      "text/plain": [
       "160000×4 Array{Int64,2}:\n",
       " 1  2  0   0\n",
       " 1  3  0   0\n",
       " 1  4  0   0\n",
       " 1  5  0   0\n",
       " 2  1  5   2\n",
       " 2  2  5   9\n",
       " 2  3  6   2\n",
       " 2  4  6   9\n",
       " 2  5  7   2\n",
       " 2  1  7   9\n",
       " 2  2  8   2\n",
       " 2  3  8   9\n",
       " 3  4  6   9\n",
       " ⋮        \n",
       " 2  1  5   2\n",
       " 2  2  5   9\n",
       " 2  3  6   2\n",
       " 2  4  6   9\n",
       " 2  5  7   2\n",
       " 2  1  7   9\n",
       " 2  2  8   2\n",
       " 2  3  8   9\n",
       " 3  4  6   9\n",
       " 3  5  6  15\n",
       " 4  3  8  15\n",
       " 4  4  8  19"
      ]
     },
     "execution_count": 10,
     "metadata": {},
     "output_type": "execute_result"
    }
   ],
   "source": [
    "ilmat = readdlm(\"../data/ilmtestdata.csv\", ',',Int, header=true)[1]\n",
    "ilmat = repeat(ilmat, 10_000)\n",
    "refresh = copy(ilmat)"
   ]
  },
  {
   "cell_type": "markdown",
   "metadata": {},
   "source": [
    "## Spread"
   ]
  },
  {
   "cell_type": "code",
   "execution_count": 11,
   "metadata": {},
   "outputs": [],
   "source": [
    "spfilename=\"../parameters/spread_params.yml\"\n",
    "spread_params = CovidSim.read_spread_params(spfilename)\n",
    "contact_factors = spread_params[:contact_factors]\n",
    "touch_factors = spread_params[:touch_factors]\n",
    "send_risk = spread_params[:send_risk]\n",
    "recv_risk = spread_params[:recv_risk]\n",
    "riskmx = CovidSim.send_risk_by_recv_risk(send_risk, recv_risk) # (lags, agegrp);"
   ]
  },
  {
   "cell_type": "code",
   "execution_count": 12,
   "metadata": {},
   "outputs": [
    {
     "name": "stdout",
     "output_type": "stream",
     "text": [
      "size(filt_spread_idx, 1) == count(filt_spread_bit) = true\n"
     ]
    },
    {
     "data": {
      "text/plain": [
       "80000"
      ]
     },
     "execution_count": 12,
     "metadata": {},
     "output_type": "execute_result"
    }
   ],
   "source": [
    "filt_spread_bit = ilmat[:,1] .== 2\n",
    "filt_spread_idx = findall(filt_spread_bit)\n",
    "@show size(filt_spread_idx,1) == count(filt_spread_bit)\n",
    "size(filt_spread_idx,1)"
   ]
  },
  {
   "cell_type": "code",
   "execution_count": 15,
   "metadata": {},
   "outputs": [],
   "source": [
    "# for this test case lets have fewer people who are infected\n",
    "# resetidx = sample(findall(spreadidx),72000, replace=false)\n",
    "# ilmat[resetidx,1] .= 1\n",
    "# index of all spreaders\n",
    "filt_spread_idx = findall(ilmat[:, cpop_status] .== 2)\n",
    "n_spreaders = size(filt_spread_idx, 1);"
   ]
  },
  {
   "cell_type": "code",
   "execution_count": 26,
   "metadata": {},
   "outputs": [
    {
     "name": "stdout",
     "output_type": "stream",
     "text": [
      "time_it = 0.133434379\n",
      "n_touched = 45249\n",
      "n_newly_infected = 4174\n"
     ]
    },
    {
     "data": {
      "text/plain": [
       "4174"
      ]
     },
     "execution_count": 26,
     "metadata": {},
     "output_type": "execute_result"
    }
   ],
   "source": [
    "# no of contacts for each spreader\n",
    "time_it = @elapsed begin\n",
    "    n_spreaders = size(filt_spread_idx, 1);\n",
    "#     @show n_spreaders\n",
    "\n",
    "    contacts_per_spreader = zeros(Int, size(filt_spread_idx,1),2) # second column for lag of the spreader\n",
    "    for i in 1:size(contacts_per_spreader, 1)  # cond, agegrp\n",
    "        scale = contact_factors[ilmat[filt_spread_idx[i], cpop_cond]-4, ilmat[filt_spread_idx[i], cpop_agegrp]]\n",
    "        contacts_per_spreader[i, 1] = round(Int,rand(Gamma(1.3,scale))) # assume density_factor = 1.0\n",
    "        contacts_per_spreader[i, 2] = ilmat[filt_spread_idx[i], cpop_lag]   # lag of the spreader who made this contact\n",
    "    end\n",
    "    n_contacts = sum(contacts_per_spreader[:,1])\n",
    "#     @show n_contacts\n",
    "\n",
    "    # assign the contacts \n",
    "    filt_contactable_idx = findall(ilmat[:, cpop_status] .!= dead)\n",
    "    n_contactable = size(filt_contactable_idx, 1)\n",
    "#     @show n_contactable\n",
    "    choose_contacts = sample(filt_contactable_idx, min(n_contacts, n_contactable), replace=false)\n",
    "    n_contacts = size(choose_contacts,1)\n",
    "#     @show n_contacts, \"2nd time\"\n",
    "\n",
    "    # determine contacts are consequential touches and if newly infected\n",
    "    n_touched = 0\n",
    "    n_newly_infected = 0\n",
    "\n",
    "    contact_ptr = 0\n",
    "    for spr in 1:n_spreaders\n",
    "        nc = contacts_per_spreader[spr,1]\n",
    "        lag_spr = contacts_per_spreader[spr, 2]\n",
    "        # who are the contacts for this spreader?\n",
    "            contact_selector = (contact_ptr+1):(contact_ptr+nc)\n",
    "            contact_ptr += nc\n",
    "        contact_persons = choose_contacts[contact_selector]\n",
    "#         spr > 50 && break\n",
    "        for contact_person in contact_persons\n",
    "#             @show spr,contact_person\n",
    "\n",
    "            status = ilmat[contact_person, cpop_status]\n",
    "            characteristic =  status in [1,3] ? [1,0,2][status] : ilmat[contact_person, cpop_cond]-2 # max(0,ilmat[person, cpop_cond]-2\n",
    "            @debug characteristic < 1 && error(\"bad characteristic value\")\n",
    "            agegrp = ilmat[contact_person, cpop_agegrp]\n",
    "            touched = rand(Binomial(1, touch_factors[characteristic, agegrp]))\n",
    "            n_touched += touched\n",
    "            if touched == 1 && characteristic == unexposed\n",
    "                prob = riskmx[lag_spr, agegrp]\n",
    "                newly_infected = rand(Binomial(1, prob))\n",
    "                if newly_infected == 1\n",
    "                    ilmat[contact_person, cpop_cond] = nil # nil === asymptomatic or pre-symptomatic\n",
    "                    ilmat[contact_person, cpop_status] = infectious\n",
    "                end\n",
    "                n_newly_infected += newly_infected\n",
    "            end\n",
    "        end\n",
    "    end\n",
    "    \n",
    "end\n",
    "\n",
    "@show time_it\n",
    "@show n_touched\n",
    "@show n_newly_infected"
   ]
  },
  {
   "cell_type": "code",
   "execution_count": 17,
   "metadata": {},
   "outputs": [
    {
     "data": {
      "text/plain": [
       "83700"
      ]
     },
     "execution_count": 17,
     "metadata": {},
     "output_type": "execute_result"
    }
   ],
   "source": [
    "spreadidx = findall(ilmat[:, cpop_status] .== 2)\n",
    "size(spreadidx,1)"
   ]
  },
  {
   "cell_type": "code",
   "execution_count": 18,
   "metadata": {},
   "outputs": [
    {
     "data": {
      "text/plain": [
       "160000×4 Array{Int64,2}:\n",
       " 1  2  0   0\n",
       " 1  3  0   0\n",
       " 1  4  0   0\n",
       " 1  5  0   0\n",
       " 2  1  5   2\n",
       " 2  2  5   9\n",
       " 2  3  6   2\n",
       " 2  4  6   9\n",
       " 2  5  7   2\n",
       " 2  1  7   9\n",
       " 2  2  8   2\n",
       " 2  3  8   9\n",
       " 3  4  6   9\n",
       " ⋮        \n",
       " 2  1  5   2\n",
       " 2  2  5   9\n",
       " 2  3  6   2\n",
       " 2  4  6   9\n",
       " 2  5  7   2\n",
       " 2  1  7   9\n",
       " 2  2  8   2\n",
       " 2  3  8   9\n",
       " 3  4  6   9\n",
       " 3  5  6  15\n",
       " 4  3  8  15\n",
       " 4  4  8  19"
      ]
     },
     "execution_count": 18,
     "metadata": {},
     "output_type": "execute_result"
    }
   ],
   "source": [
    "ilmat"
   ]
  },
  {
   "cell_type": "markdown",
   "metadata": {},
   "source": [
    "## Transition"
   ]
  },
  {
   "cell_type": "code",
   "execution_count": 19,
   "metadata": {},
   "outputs": [
    {
     "data": {
      "text/plain": [
       "Dict{Any,Any} with 5 entries:\n",
       "  4 => Dict{Any,Any}([9, 5]=>Dict{String,Array{T,1} where T}(\"probs\"=>[0.62, 0.…\n",
       "  2 => Dict{Any,Any}([9, 5]=>Dict{String,Array{T,1} where T}(\"probs\"=>[0.85, 0.…\n",
       "  3 => Dict{Any,Any}([9, 5]=>Dict{String,Array{T,1} where T}(\"probs\"=>[0.9, 0.1…\n",
       "  5 => Dict{Any,Any}([9, 5]=>Dict{String,Array{T,1} where T}(\"probs\"=>[0.5, 0.5…\n",
       "  1 => Dict{Any,Any}([9, 5]=>Dict{String,Array{T,1} where T}(\"probs\"=>[0.9, 0.1…"
      ]
     },
     "execution_count": 19,
     "metadata": {},
     "output_type": "execute_result"
    }
   ],
   "source": [
    "std_file = \"../parameters/dec_tree_all_25.yml\"\n",
    "treedict, decpoints = setup_dt(std_file)\n",
    "treedict"
   ]
  },
  {
   "cell_type": "code",
   "execution_count": 20,
   "metadata": {},
   "outputs": [
    {
     "data": {
      "text/plain": [
       "Dict{String,Array{T,1} where T} with 3 entries:\n",
       "  \"probs\"    => [0.976, 0.024]\n",
       "  \"branches\" => Dict{Any,Any}[Dict(\"tocond\"=>3,\"next\"=>[0, 0],\"pr\"=>0.976), Dic…\n",
       "  \"outcomes\" => [3, 4]"
      ]
     },
     "execution_count": 20,
     "metadata": {},
     "output_type": "execute_result"
    }
   ],
   "source": [
    "treedict[1][[25,7]]"
   ]
  },
  {
   "cell_type": "code",
   "execution_count": 21,
   "metadata": {},
   "outputs": [],
   "source": [
    "function precalc_agegrp_filt(dat)\n",
    "    agegrp_filt_bit = Dict(agegrp => dat[:, cpop_agegrp] .== agegrp for agegrp in agegrps)\n",
    "    agegrp_filt_idx = Dict(agegrp => findall(agegrp_filt_bit[agegrp]) for agegrp in agegrps)\n",
    "    return agegrp_filt_bit, agegrp_filt_idx\n",
    "end\n",
    "agegrp_filt_bit, agegrp_filt_idx = precalc_agegrp_filt(ilmat);"
   ]
  },
  {
   "cell_type": "code",
   "execution_count": 22,
   "metadata": {},
   "outputs": [
    {
     "data": {
      "text/plain": [
       "160000×4 Array{Int64,2}:\n",
       " 1  2  0   0\n",
       " 1  3  0   0\n",
       " 1  4  0   0\n",
       " 1  5  0   0\n",
       " 2  1  5   3\n",
       " 3  2  5   9\n",
       " 2  3  6   3\n",
       " 2  4  6  10\n",
       " 2  5  7   3\n",
       " 2  1  7  10\n",
       " 2  2  8   3\n",
       " 2  3  8  10\n",
       " 3  4  6   9\n",
       " ⋮        \n",
       " 2  1  5   3\n",
       " 3  2  5   9\n",
       " 2  3  6   3\n",
       " 2  4  6  10\n",
       " 2  5  7   3\n",
       " 2  1  7  10\n",
       " 2  2  8   3\n",
       " 2  3  8  10\n",
       " 3  4  6   9\n",
       " 3  5  6  15\n",
       " 4  3  8  15\n",
       " 4  4  8  19"
      ]
     },
     "execution_count": 22,
     "metadata": {},
     "output_type": "execute_result"
    }
   ],
   "source": [
    "function transition!(dt, all_decpoints, locale, dat)  \n",
    "\n",
    "    # @assert (length(locale) == 1 || typeof(locale) <: NamedTuple) \"locale must be a single integer or NamedTuple\"\n",
    "    \n",
    "    for agegrp in agegrps\n",
    "        tree = dt[agegrp]\n",
    "        for node in keys(tree)\n",
    "            nodelag, fromcond = node\n",
    "            for branch in tree[node][\"branches\"]\n",
    "                filt = ( (dat[agegrp_filt_idx[agegrp],cpop_cond] .== fromcond) .& \n",
    "                         (dat[agegrp_filt_idx[agegrp],cpop_status] .== infectious) .&\n",
    "                         (dat[agegrp_filt_idx[agegrp], cpop_lag] .== nodelag)  )\n",
    "                \n",
    "                    # boolean filt = ( (dat[:,cpop_cond] .== fromcond) .& \n",
    "                    #                  (dat[:,cpop_status] .== infectious) .&\n",
    "                    #                  (dat[:, cpop_lag] .== nodelag) .&\n",
    "                    #                  (agegrp_filt_bit[agegrp])  )\n",
    "\n",
    "                filt = agegrp_filt_idx[agegrp][filt]\n",
    "                cnt_transition = size(filt, 1)  \n",
    "                \n",
    "                if cnt_transition > 0\n",
    "                    \n",
    "                    probs = tree[node][\"probs\"]\n",
    "                    outcomes = tree[node][\"outcomes\"]\n",
    "                    \n",
    "                    choices = rand(Categorical(probs), cnt_transition) \n",
    "                                        \n",
    "                    for (idx, person) in enumerate(filt)   # findall(filt)                       \n",
    "                        new_stat_cond = outcomes[choices[idx]]\n",
    "                        if new_stat_cond in (dead, recovered)  # change status\n",
    "                            dat[person, cpop_status] = new_stat_cond\n",
    "                        else   # change disease condition\n",
    "                            dat[person, cpop_cond] = new_stat_cond\n",
    "                        end  # if/else\n",
    "                    end  # for (idx, person)\n",
    "                    \n",
    "                end  # if cnt_transition\n",
    "            end  # for branch\n",
    "        end  # for node\n",
    "    end  #for agegrp\n",
    "\n",
    "    # bump everyone who is still infectious all at once in one go\n",
    "    filt = (dat[:,cpop_status] .== infectious)\n",
    "    dat[filt, cpop_lag] .+= 1   \n",
    "end  \n",
    "    \n",
    "\n",
    "transition!(treedict, decpoints, 38015, ilmat);   \n",
    "ilmat\n"
   ]
  },
  {
   "cell_type": "code",
   "execution_count": 23,
   "metadata": {},
   "outputs": [
    {
     "data": {
      "text/plain": [
       "93592"
      ]
     },
     "execution_count": 23,
     "metadata": {},
     "output_type": "execute_result"
    }
   ],
   "source": [
    "count((ilmat - refresh) .!= 0)"
   ]
  },
  {
   "cell_type": "markdown",
   "metadata": {},
   "source": [
    "# Seed"
   ]
  },
  {
   "cell_type": "code",
   "execution_count": 24,
   "metadata": {},
   "outputs": [],
   "source": [
    "CovidSim.make_sick!(ilmat; cnt=[3,3], fromage=[2,3], tocond=nil)\n",
    "\n",
    "#=\n",
    "function seed!(day, cnt, lag, cond, agegrps, dat)  #  locale,\n",
    "    if day == ctr[:day] ]\n",
    "        \n",
    "        make_sick!(dat; cnt, fromage, tocond, tolag=1)\n",
    "        \n",
    "    end \n",
    "end\n",
    "=#"
   ]
  },
  {
   "cell_type": "code",
   "execution_count": 25,
   "metadata": {},
   "outputs": [
    {
     "data": {
      "text/plain": [
       "93610"
      ]
     },
     "execution_count": 25,
     "metadata": {},
     "output_type": "execute_result"
    }
   ],
   "source": [
    "count((ilmat - refresh) .!= 0)"
   ]
  },
  {
   "cell_type": "code",
   "execution_count": null,
   "metadata": {},
   "outputs": [],
   "source": []
  }
 ],
 "metadata": {
  "kernelspec": {
   "display_name": "Julia 1.5.1",
   "language": "julia",
   "name": "julia-1.5"
  },
  "language_info": {
   "file_extension": ".jl",
   "mimetype": "application/julia",
   "name": "julia",
   "version": "1.5.1"
  }
 },
 "nbformat": 4,
 "nbformat_minor": 4
}
